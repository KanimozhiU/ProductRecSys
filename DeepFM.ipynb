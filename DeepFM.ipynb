{
 "cells": [
  {
   "cell_type": "code",
   "execution_count": null,
   "metadata": {
    "colab": {
     "base_uri": "https://localhost:8080/",
     "height": 158
    },
    "colab_type": "code",
    "id": "zcmoniPer8_R",
    "outputId": "0f8a6a82-2d67-471c-8525-5d29454dc24e"
   },
   "outputs": [
    {
     "name": "stdout",
     "output_type": "stream",
     "text": [
      "Requirement already satisfied: mxnet in /usr/local/lib/python3.6/dist-packages (1.6.0)\n",
      "Requirement already satisfied: requests<3,>=2.20.0 in /usr/local/lib/python3.6/dist-packages (from mxnet) (2.23.0)\n",
      "Requirement already satisfied: graphviz<0.9.0,>=0.8.1 in /usr/local/lib/python3.6/dist-packages (from mxnet) (0.8.4)\n",
      "Requirement already satisfied: numpy<2.0.0,>1.16.0 in /usr/local/lib/python3.6/dist-packages (from mxnet) (1.18.5)\n",
      "Requirement already satisfied: certifi>=2017.4.17 in /usr/local/lib/python3.6/dist-packages (from requests<3,>=2.20.0->mxnet) (2020.6.20)\n",
      "Requirement already satisfied: urllib3!=1.25.0,!=1.25.1,<1.26,>=1.21.1 in /usr/local/lib/python3.6/dist-packages (from requests<3,>=2.20.0->mxnet) (1.24.3)\n",
      "Requirement already satisfied: idna<3,>=2.5 in /usr/local/lib/python3.6/dist-packages (from requests<3,>=2.20.0->mxnet) (2.9)\n",
      "Requirement already satisfied: chardet<4,>=3.0.2 in /usr/local/lib/python3.6/dist-packages (from requests<3,>=2.20.0->mxnet) (3.0.4)\n"
     ]
    }
   ],
   "source": [
    "!pip install mxnet"
   ]
  },
  {
   "cell_type": "code",
   "execution_count": null,
   "metadata": {
    "colab": {
     "base_uri": "https://localhost:8080/",
     "height": 90
    },
    "colab_type": "code",
    "id": "A4DxYHT3rX-_",
    "outputId": "9b1265cf-ecbd-4ab4-eb18-4adf5853232c"
   },
   "outputs": [
    {
     "name": "stdout",
     "output_type": "stream",
     "text": [
      "Populating the interactive namespace from numpy and matplotlib\n"
     ]
    },
    {
     "name": "stderr",
     "output_type": "stream",
     "text": [
      "/usr/local/lib/python3.6/dist-packages/statsmodels/tools/_testing.py:19: FutureWarning: pandas.util.testing is deprecated. Use the functions in the public API at pandas.testing instead.\n",
      "  import pandas.util.testing as tm\n"
     ]
    }
   ],
   "source": [
    "%pylab inline\n",
    "import mxnet as mx\n",
    "import pandas as pd\n",
    "import sys\n",
    "import seaborn; seaborn.set_style('whitegrid')\n",
    "import logging\n",
    "logger = logging.getLogger()\n",
    "logger.setLevel(logging.DEBUG)"
   ]
  },
  {
   "cell_type": "code",
   "execution_count": null,
   "metadata": {
    "colab": {},
    "colab_type": "code",
    "id": "iGdOqNYyrlbH"
   },
   "outputs": [],
   "source": [
    "from google.colab import files\n",
    "from google.colab import drive"
   ]
  },
  {
   "cell_type": "code",
   "execution_count": null,
   "metadata": {
    "colab": {
     "base_uri": "https://localhost:8080/",
     "height": 34
    },
    "colab_type": "code",
    "id": "coWR72bCrz2j",
    "outputId": "a20b39d6-0201-44fa-d965-809c790116ca"
   },
   "outputs": [
    {
     "name": "stdout",
     "output_type": "stream",
     "text": [
      "Mounted at /content/gdrive\n"
     ]
    }
   ],
   "source": [
    "drive.mount('/content/gdrive', force_remount=True)\n",
    "root_dir = \"/content/gdrive/My Drive/\""
   ]
  },
  {
   "cell_type": "code",
   "execution_count": null,
   "metadata": {
    "colab": {
     "base_uri": "https://localhost:8080/",
     "height": 36
    },
    "colab_type": "code",
    "id": "1fuM1yP90abC",
    "outputId": "b15983a4-ef87-46f6-9b18-43cb1e4161fb"
   },
   "outputs": [
    {
     "data": {
      "application/vnd.google.colaboratory.intrinsic": {
       "type": "string"
      },
      "text/plain": [
       "'/content'"
      ]
     },
     "execution_count": 5,
     "metadata": {
      "tags": []
     },
     "output_type": "execute_result"
    }
   ],
   "source": [
    "import os\n",
    "os.getcwd()"
   ]
  },
  {
   "cell_type": "code",
   "execution_count": null,
   "metadata": {
    "colab": {},
    "colab_type": "code",
    "id": "fKsNebg10cO3"
   },
   "outputs": [],
   "source": [
    "data_path = '/content/gdrive/My Drive/transaction_all2_with_merch.csv'"
   ]
  },
  {
   "cell_type": "code",
   "execution_count": null,
   "metadata": {
    "colab": {
     "base_uri": "https://localhost:8080/",
     "height": 195
    },
    "colab_type": "code",
    "id": "Wt2AHJkv0kyH",
    "outputId": "6c19c1a1-c711-49a9-8144-901457c61fa3"
   },
   "outputs": [
    {
     "data": {
      "text/html": [
       "<div>\n",
       "<style scoped>\n",
       "    .dataframe tbody tr th:only-of-type {\n",
       "        vertical-align: middle;\n",
       "    }\n",
       "\n",
       "    .dataframe tbody tr th {\n",
       "        vertical-align: top;\n",
       "    }\n",
       "\n",
       "    .dataframe thead th {\n",
       "        text-align: right;\n",
       "    }\n",
       "</style>\n",
       "<table border=\"1\" class=\"dataframe\">\n",
       "  <thead>\n",
       "    <tr style=\"text-align: right;\">\n",
       "      <th></th>\n",
       "      <th>customer_id</th>\n",
       "      <th>merchant_id</th>\n",
       "      <th>rating</th>\n",
       "      <th>timestamp</th>\n",
       "      <th>merchant_name_new</th>\n",
       "      <th>behav_category</th>\n",
       "      <th>customer_id_map</th>\n",
       "      <th>mechant_id_map</th>\n",
       "    </tr>\n",
       "  </thead>\n",
       "  <tbody>\n",
       "    <tr>\n",
       "      <th>0</th>\n",
       "      <td>1000000</td>\n",
       "      <td>1000004</td>\n",
       "      <td>1.0</td>\n",
       "      <td>1559779200</td>\n",
       "      <td>13thcuptealounge</td>\n",
       "      <td>dining</td>\n",
       "      <td>1</td>\n",
       "      <td>1</td>\n",
       "    </tr>\n",
       "    <tr>\n",
       "      <th>1</th>\n",
       "      <td>1000010</td>\n",
       "      <td>1000004</td>\n",
       "      <td>1.0</td>\n",
       "      <td>1565395200</td>\n",
       "      <td>13thcuptealounge</td>\n",
       "      <td>dining</td>\n",
       "      <td>1</td>\n",
       "      <td>2</td>\n",
       "    </tr>\n",
       "    <tr>\n",
       "      <th>2</th>\n",
       "      <td>1000041</td>\n",
       "      <td>1000004</td>\n",
       "      <td>1.0</td>\n",
       "      <td>1577059200</td>\n",
       "      <td>13thcuptealounge</td>\n",
       "      <td>dining</td>\n",
       "      <td>1</td>\n",
       "      <td>3</td>\n",
       "    </tr>\n",
       "    <tr>\n",
       "      <th>3</th>\n",
       "      <td>1000111</td>\n",
       "      <td>1000004</td>\n",
       "      <td>1.0</td>\n",
       "      <td>1550016000</td>\n",
       "      <td>13thcuptealounge</td>\n",
       "      <td>dining</td>\n",
       "      <td>1</td>\n",
       "      <td>4</td>\n",
       "    </tr>\n",
       "    <tr>\n",
       "      <th>4</th>\n",
       "      <td>1000135</td>\n",
       "      <td>1000004</td>\n",
       "      <td>1.0</td>\n",
       "      <td>1559520000</td>\n",
       "      <td>13thcuptealounge</td>\n",
       "      <td>dining</td>\n",
       "      <td>1</td>\n",
       "      <td>5</td>\n",
       "    </tr>\n",
       "  </tbody>\n",
       "</table>\n",
       "</div>"
      ],
      "text/plain": [
       "   customer_id  merchant_id  ...  customer_id_map  mechant_id_map\n",
       "0      1000000      1000004  ...                1               1\n",
       "1      1000010      1000004  ...                1               2\n",
       "2      1000041      1000004  ...                1               3\n",
       "3      1000111      1000004  ...                1               4\n",
       "4      1000135      1000004  ...                1               5\n",
       "\n",
       "[5 rows x 8 columns]"
      ]
     },
     "execution_count": 7,
     "metadata": {
      "tags": []
     },
     "output_type": "execute_result"
    }
   ],
   "source": [
    "data = pd.read_csv(data_path, sep=',')\n",
    "data.head()"
   ]
  },
  {
   "cell_type": "code",
   "execution_count": null,
   "metadata": {
    "colab": {
     "base_uri": "https://localhost:8080/",
     "height": 140
    },
    "colab_type": "code",
    "id": "F2ebIEZ48aXs",
    "outputId": "5056d330-2a21-43f7-b3e5-da1b4c9cd3d7"
   },
   "outputs": [
    {
     "data": {
      "text/plain": [
       "array([1.        , 1.12195122, 1.36585366, 1.24390244, 1.48780488,\n",
       "       1.6097561 , 1.73170732, 1.85365854, 1.97560976, 2.09756098,\n",
       "       2.2195122 , 2.34146342, 2.46341463, 2.95121951, 2.58536585,\n",
       "       2.70731707, 3.07317073, 3.31707317, 3.56097561, 2.82926829,\n",
       "       3.43902439, 4.04878049, 3.80487805, 3.19512195, 3.92682927,\n",
       "       4.41463415, 4.53658537, 5.        , 4.7804878 , 4.17073171,\n",
       "       3.68292683, 4.29268293, 4.90243902])"
      ]
     },
     "execution_count": 8,
     "metadata": {
      "tags": []
     },
     "output_type": "execute_result"
    }
   ],
   "source": [
    "data['rating'].unique()"
   ]
  },
  {
   "cell_type": "code",
   "execution_count": null,
   "metadata": {
    "colab": {},
    "colab_type": "code",
    "id": "DlYSPnCsrX_M"
   },
   "outputs": [],
   "source": [
    "#data = pd.read_csv('transaction_all2_2.csv', sep=',', usecols=(2, 4, 5))\n",
    "\n",
    "#data = pd.read_csv('/content/gdrive/My Drive/Colab Notebooks/DeepFM/transaction_all2_with_merch.csv', sep=',')\n",
    "#data.head()"
   ]
  },
  {
   "cell_type": "code",
   "execution_count": null,
   "metadata": {
    "colab": {},
    "colab_type": "code",
    "id": "WJTWlhqErX_X"
   },
   "outputs": [],
   "source": [
    "#data.rename(columns={\"customer_id_map\": \"userId\", \"mechant_id_map\": \"merchantId\", \"merchant_name_new\": \"merchantname\",\"behav_category\": \"category\"})"
   ]
  },
  {
   "cell_type": "code",
   "execution_count": null,
   "metadata": {
    "colab": {
     "base_uri": "https://localhost:8080/",
     "height": 195
    },
    "colab_type": "code",
    "id": "GdREZUg1rX_f",
    "outputId": "f92d1c45-adf5-4d2a-b272-c120beb5c94e"
   },
   "outputs": [
    {
     "data": {
      "text/html": [
       "<div>\n",
       "<style scoped>\n",
       "    .dataframe tbody tr th:only-of-type {\n",
       "        vertical-align: middle;\n",
       "    }\n",
       "\n",
       "    .dataframe tbody tr th {\n",
       "        vertical-align: top;\n",
       "    }\n",
       "\n",
       "    .dataframe thead th {\n",
       "        text-align: right;\n",
       "    }\n",
       "</style>\n",
       "<table border=\"1\" class=\"dataframe\">\n",
       "  <thead>\n",
       "    <tr style=\"text-align: right;\">\n",
       "      <th></th>\n",
       "      <th>customer_id</th>\n",
       "      <th>merchant_id</th>\n",
       "      <th>rating</th>\n",
       "      <th>timestamp</th>\n",
       "      <th>merchantname</th>\n",
       "      <th>category</th>\n",
       "      <th>userId</th>\n",
       "      <th>merchantId</th>\n",
       "    </tr>\n",
       "  </thead>\n",
       "  <tbody>\n",
       "    <tr>\n",
       "      <th>0</th>\n",
       "      <td>1000000</td>\n",
       "      <td>1000004</td>\n",
       "      <td>1.0</td>\n",
       "      <td>1559779200</td>\n",
       "      <td>13thcuptealounge</td>\n",
       "      <td>dining</td>\n",
       "      <td>1</td>\n",
       "      <td>1</td>\n",
       "    </tr>\n",
       "    <tr>\n",
       "      <th>1</th>\n",
       "      <td>1000010</td>\n",
       "      <td>1000004</td>\n",
       "      <td>1.0</td>\n",
       "      <td>1565395200</td>\n",
       "      <td>13thcuptealounge</td>\n",
       "      <td>dining</td>\n",
       "      <td>1</td>\n",
       "      <td>2</td>\n",
       "    </tr>\n",
       "    <tr>\n",
       "      <th>2</th>\n",
       "      <td>1000041</td>\n",
       "      <td>1000004</td>\n",
       "      <td>1.0</td>\n",
       "      <td>1577059200</td>\n",
       "      <td>13thcuptealounge</td>\n",
       "      <td>dining</td>\n",
       "      <td>1</td>\n",
       "      <td>3</td>\n",
       "    </tr>\n",
       "    <tr>\n",
       "      <th>3</th>\n",
       "      <td>1000111</td>\n",
       "      <td>1000004</td>\n",
       "      <td>1.0</td>\n",
       "      <td>1550016000</td>\n",
       "      <td>13thcuptealounge</td>\n",
       "      <td>dining</td>\n",
       "      <td>1</td>\n",
       "      <td>4</td>\n",
       "    </tr>\n",
       "    <tr>\n",
       "      <th>4</th>\n",
       "      <td>1000135</td>\n",
       "      <td>1000004</td>\n",
       "      <td>1.0</td>\n",
       "      <td>1559520000</td>\n",
       "      <td>13thcuptealounge</td>\n",
       "      <td>dining</td>\n",
       "      <td>1</td>\n",
       "      <td>5</td>\n",
       "    </tr>\n",
       "  </tbody>\n",
       "</table>\n",
       "</div>"
      ],
      "text/plain": [
       "   customer_id  merchant_id  rating  ...  category userId merchantId\n",
       "0      1000000      1000004     1.0  ...    dining      1          1\n",
       "1      1000010      1000004     1.0  ...    dining      1          2\n",
       "2      1000041      1000004     1.0  ...    dining      1          3\n",
       "3      1000111      1000004     1.0  ...    dining      1          4\n",
       "4      1000135      1000004     1.0  ...    dining      1          5\n",
       "\n",
       "[5 rows x 8 columns]"
      ]
     },
     "execution_count": 11,
     "metadata": {
      "tags": []
     },
     "output_type": "execute_result"
    }
   ],
   "source": [
    "data = data.rename(columns={\"customer_id_map\": \"userId\", \"mechant_id_map\": \"merchantId\", \"merchant_name_new\": \"merchantname\",\"behav_category\": \"category\"})\n",
    "data.head()"
   ]
  },
  {
   "cell_type": "code",
   "execution_count": null,
   "metadata": {
    "colab": {
     "base_uri": "https://localhost:8080/",
     "height": 300
    },
    "colab_type": "code",
    "id": "7Wzn1udBrX_p",
    "outputId": "05e17ea7-f5ca-43d3-e7d7-bc0599c14e1a"
   },
   "outputs": [
    {
     "data": {
      "image/png": "[encoded data removed]",
      "text/plain": [
       "<Figure size 432x288 with 1 Axes>"
      ]
     },
     "metadata": {
      "tags": []
     },
     "output_type": "display_data"
    }
   ],
   "source": [
    "plt.hist(data['rating'])\n",
    "plt.xlabel(\"Rating\", fontsize=14)\n",
    "plt.ylabel(\"Count\", fontsize=14)\n",
    "plt.title(\"Distribution of Ratings in Transaction Data\", fontsize=14)\n",
    "plt.show()"
   ]
  },
  {
   "cell_type": "markdown",
   "metadata": {
    "colab_type": "text",
    "id": "rIxuC7rIrmZW"
   },
   "source": [
    "### Looks Ratings \n",
    "- Ratings has only 2 value s- 1.0 and 1.5"
   ]
  },
  {
   "cell_type": "code",
   "execution_count": null,
   "metadata": {
    "colab": {},
    "colab_type": "code",
    "id": "w-__xEV7rX_8"
   },
   "outputs": [],
   "source": [
    "n_users, n_merchants = 8699, 8540\n",
    "batch_size = 2500"
   ]
  },
  {
   "cell_type": "code",
   "execution_count": null,
   "metadata": {
    "colab": {
     "base_uri": "https://localhost:8080/",
     "height": 34
    },
    "colab_type": "code",
    "id": "g7NpMgkpsSH2",
    "outputId": "7fa5c23d-4687-4b4f-c8c4-672c1f813aed"
   },
   "outputs": [
    {
     "data": {
      "text/plain": [
       "(403046, 8)"
      ]
     },
     "execution_count": 15,
     "metadata": {
      "tags": []
     },
     "output_type": "execute_result"
    }
   ],
   "source": [
    "data.shape"
   ]
  },
  {
   "cell_type": "code",
   "execution_count": null,
   "metadata": {
    "colab": {},
    "colab_type": "code",
    "id": "HMporJInrYAG"
   },
   "outputs": [],
   "source": [
    "n = 303046\n",
    "\n",
    "data = data.sample(frac=1).reset_index(drop=True) # Shuffle the data in place row-wise\n",
    "\n",
    "# Use the first 19M samples to train the model\n",
    "train_users = data['userId'].values[:n] - 1 # Offset by 1 so that the IDs start at 0\n",
    "train_merchants = data['merchantId'].values[:n] - 1 # Offset by 1 so that the IDs start at 0\n",
    "train_ratings = data['rating'].values[:n]\n",
    "\n",
    "# Use the remaining ~1M samples for validation of the model\n",
    "valid_users = data['userId'].values[n:] - 1 # Offset by 1 so that the IDs start at 0\n",
    "valid_merchants = data['merchantId'].values[n:] - 1 # Offset by 1 so that the IDs start at 0\n",
    "valid_ratings = data['rating'].values[n:]"
   ]
  },
  {
   "cell_type": "code",
   "execution_count": null,
   "metadata": {
    "colab": {
     "base_uri": "https://localhost:8080/",
     "height": 52
    },
    "colab_type": "code",
    "id": "Q97PN04V10rW",
    "outputId": "4e4ae182-8be5-48fe-bb44-0758908c90b8"
   },
   "outputs": [
    {
     "data": {
      "text/plain": [
       "array([1.12195122, 1.        , 1.        , ..., 1.24390244, 1.        ,\n",
       "       1.12195122])"
      ]
     },
     "execution_count": 17,
     "metadata": {
      "tags": []
     },
     "output_type": "execute_result"
    }
   ],
   "source": [
    "valid_ratings"
   ]
  },
  {
   "cell_type": "code",
   "execution_count": null,
   "metadata": {
    "colab": {
     "base_uri": "https://localhost:8080/",
     "height": 87
    },
    "colab_type": "code",
    "id": "rkkmei_8139o",
    "outputId": "e4a06f9a-5f3a-4aab-9fbe-bb2d9d148060"
   },
   "outputs": [
    {
     "data": {
      "text/plain": [
       "(array([2480,  148, 1823, ..., 7203,  526, 2511]),\n",
       " array([1.12195122, 1.        , 1.        , ..., 1.24390244, 1.        ,\n",
       "        1.12195122]),\n",
       " array([ 304, 7511,  535, ..., 1688, 2815, 1821]))"
      ]
     },
     "execution_count": 18,
     "metadata": {
      "tags": []
     },
     "output_type": "execute_result"
    }
   ],
   "source": [
    "valid_merchants,valid_ratings,valid_users"
   ]
  },
  {
   "cell_type": "code",
   "execution_count": null,
   "metadata": {
    "colab": {
     "base_uri": "https://localhost:8080/",
     "height": 34
    },
    "colab_type": "code",
    "id": "jw5BufLv154C",
    "outputId": "61c75b90-6918-438d-f407-858852a55e34"
   },
   "outputs": [
    {
     "data": {
      "text/plain": [
       "array([ 304, 7511,  535, ..., 1688, 2815, 1821])"
      ]
     },
     "execution_count": 19,
     "metadata": {
      "tags": []
     },
     "output_type": "execute_result"
    }
   ],
   "source": [
    "valid_users"
   ]
  },
  {
   "cell_type": "code",
   "execution_count": null,
   "metadata": {
    "colab": {
     "base_uri": "https://localhost:8080/",
     "height": 34
    },
    "colab_type": "code",
    "id": "WrmN_Xbr16ub",
    "outputId": "8a6bfd38-f817-40f9-903d-7800eb728eb8"
   },
   "outputs": [
    {
     "data": {
      "text/plain": [
       "array([ 767, 2876,  318, ..., 7982, 3231, 1284])"
      ]
     },
     "execution_count": 20,
     "metadata": {
      "tags": []
     },
     "output_type": "execute_result"
    }
   ],
   "source": [
    "train_users"
   ]
  },
  {
   "cell_type": "code",
   "execution_count": null,
   "metadata": {
    "colab": {
     "base_uri": "https://localhost:8080/",
     "height": 34
    },
    "colab_type": "code",
    "id": "ipk4gV_0174N",
    "outputId": "191d0f37-3b08-4bef-dce0-0e5ee4550161"
   },
   "outputs": [
    {
     "data": {
      "text/plain": [
       "array([ 448,  276, 4616, ...,  705, 3469, 2366])"
      ]
     },
     "execution_count": 21,
     "metadata": {
      "tags": []
     },
     "output_type": "execute_result"
    }
   ],
   "source": [
    "train_merchants"
   ]
  },
  {
   "cell_type": "code",
   "execution_count": null,
   "metadata": {
    "colab": {
     "base_uri": "https://localhost:8080/",
     "height": 52
    },
    "colab_type": "code",
    "id": "qcwyU9Dm188T",
    "outputId": "3f323d94-a66a-4bf9-e82b-a7b172ba279a"
   },
   "outputs": [
    {
     "data": {
      "text/plain": [
       "array([1.12195122, 1.        , 1.12195122, ..., 1.        , 1.36585366,\n",
       "       1.        ])"
      ]
     },
     "execution_count": 22,
     "metadata": {
      "tags": []
     },
     "output_type": "execute_result"
    }
   ],
   "source": [
    "train_ratings"
   ]
  },
  {
   "cell_type": "code",
   "execution_count": null,
   "metadata": {
    "colab": {},
    "colab_type": "code",
    "id": "FR6Gj9-31-NT"
   },
   "outputs": [],
   "source": []
  },
  {
   "cell_type": "code",
   "execution_count": null,
   "metadata": {
    "colab": {
     "base_uri": "https://localhost:8080/",
     "height": 281
    },
    "colab_type": "code",
    "id": "4Dop_LY4rYAO",
    "outputId": "a350f990-2e50-4699-b17d-dc9c52f2596a"
   },
   "outputs": [
    {
     "name": "stderr",
     "output_type": "stream",
     "text": [
      "INFO:root:Epoch[0] Train-rmse=0.485840\n",
      "INFO:root:Epoch[0] Time cost=2.031\n",
      "INFO:root:Epoch[0] Validation-rmse=0.138382\n",
      "INFO:root:Epoch[1] Train-rmse=0.128530\n",
      "INFO:root:Epoch[1] Time cost=2.020\n",
      "INFO:root:Epoch[1] Validation-rmse=0.127894\n",
      "INFO:root:Epoch[2] Train-rmse=0.124793\n",
      "INFO:root:Epoch[2] Time cost=2.026\n",
      "INFO:root:Epoch[2] Validation-rmse=0.127387\n",
      "INFO:root:Epoch[3] Train-rmse=0.124401\n",
      "INFO:root:Epoch[3] Time cost=2.016\n",
      "INFO:root:Epoch[3] Validation-rmse=0.127418\n",
      "INFO:root:Epoch[4] Train-rmse=0.124211\n",
      "INFO:root:Epoch[4] Time cost=2.051\n",
      "INFO:root:Epoch[4] Validation-rmse=0.127396\n"
     ]
    }
   ],
   "source": [
    "#Deep matrix factorization\n",
    "X_train = mx.io.NDArrayIter({'user': train_users, 'merchant': train_merchants}, \n",
    "                            label=train_ratings, batch_size=batch_size)\n",
    "X_eval = mx.io.NDArrayIter({'user': valid_users, 'merchant': valid_merchants}, \n",
    "                           label=valid_ratings, batch_size=batch_size)\n",
    "\n",
    "user = mx.symbol.Variable(\"user\")\n",
    "user = mx.symbol.Embedding(data=user, input_dim=n_users, output_dim=25)\n",
    "\n",
    "merchant = mx.symbol.Variable(\"merchant\")\n",
    "merchant = mx.symbol.Embedding(data=merchant, input_dim=n_merchants, output_dim=25)\n",
    "\n",
    "y_true = mx.symbol.Variable(\"softmax_label\")\n",
    "\n",
    "nn = mx.symbol.concat(user, merchant)\n",
    "nn = mx.symbol.flatten(nn)\n",
    "\n",
    "# Since we are using a two layer neural network here, we will create two FullyConnected layers\n",
    "# with activation functions before the output layer\n",
    "nn = mx.symbol.FullyConnected(data=nn, num_hidden=64)\n",
    "nn = mx.symbol.Activation(data=nn, act_type='relu')\n",
    "nn = mx.symbol.FullyConnected(data=nn, num_hidden=64)\n",
    "nn = mx.symbol.Activation(data=nn, act_type='relu')\n",
    "nn = mx.symbol.FullyConnected(data=nn, num_hidden=1)\n",
    "\n",
    "y_pred = mx.symbol.LinearRegressionOutput(data=nn, label=y_true)\n",
    "\n",
    "model = mx.module.Module(context=mx.cpu(0), data_names=('user', 'merchant'), symbol=y_pred)\n",
    "model.fit(X_train, num_epoch=5, optimizer='adam', optimizer_params=(('learning_rate', 0.001),),\n",
    "          eval_metric='rmse', eval_data=X_eval, batch_end_callback=mx.callback.Speedometer(batch_size, 250))"
   ]
  },
  {
   "cell_type": "code",
   "execution_count": null,
   "metadata": {
    "colab": {
     "base_uri": "https://localhost:8080/",
     "height": 195
    },
    "colab_type": "code",
    "id": "haCh6nPOrYAV",
    "outputId": "c4a2192b-56b1-4041-bdee-ac4fe4f94c60"
   },
   "outputs": [
    {
     "data": {
      "text/html": [
       "<div>\n",
       "<style scoped>\n",
       "    .dataframe tbody tr th:only-of-type {\n",
       "        vertical-align: middle;\n",
       "    }\n",
       "\n",
       "    .dataframe tbody tr th {\n",
       "        vertical-align: top;\n",
       "    }\n",
       "\n",
       "    .dataframe thead th {\n",
       "        text-align: right;\n",
       "    }\n",
       "</style>\n",
       "<table border=\"1\" class=\"dataframe\">\n",
       "  <thead>\n",
       "    <tr style=\"text-align: right;\">\n",
       "      <th></th>\n",
       "      <th>customer_id</th>\n",
       "      <th>merchant_id</th>\n",
       "      <th>rating</th>\n",
       "      <th>timestamp</th>\n",
       "      <th>merchantname</th>\n",
       "      <th>category</th>\n",
       "      <th>userId</th>\n",
       "      <th>merchantId</th>\n",
       "    </tr>\n",
       "  </thead>\n",
       "  <tbody>\n",
       "    <tr>\n",
       "      <th>0</th>\n",
       "      <td>1004586</td>\n",
       "      <td>1002565</td>\n",
       "      <td>1.121951</td>\n",
       "      <td>1553644800</td>\n",
       "      <td>frankautocarspacentre</td>\n",
       "      <td>miscellaneous stores</td>\n",
       "      <td>768</td>\n",
       "      <td>449</td>\n",
       "    </tr>\n",
       "    <tr>\n",
       "      <th>1</th>\n",
       "      <td>1004486</td>\n",
       "      <td>1005088</td>\n",
       "      <td>1.000000</td>\n",
       "      <td>1553385600</td>\n",
       "      <td>orraspa</td>\n",
       "      <td>apparel and accessories</td>\n",
       "      <td>2877</td>\n",
       "      <td>277</td>\n",
       "    </tr>\n",
       "    <tr>\n",
       "      <th>2</th>\n",
       "      <td>1003016</td>\n",
       "      <td>1008199</td>\n",
       "      <td>1.121951</td>\n",
       "      <td>1555545600</td>\n",
       "      <td>vishnuclothstore</td>\n",
       "      <td>apparel and accessories</td>\n",
       "      <td>319</td>\n",
       "      <td>4617</td>\n",
       "    </tr>\n",
       "    <tr>\n",
       "      <th>3</th>\n",
       "      <td>1000093</td>\n",
       "      <td>1002127</td>\n",
       "      <td>1.000000</td>\n",
       "      <td>1547942400</td>\n",
       "      <td>eatindiacompany</td>\n",
       "      <td>dining</td>\n",
       "      <td>3353</td>\n",
       "      <td>387</td>\n",
       "    </tr>\n",
       "    <tr>\n",
       "      <th>4</th>\n",
       "      <td>1007841</td>\n",
       "      <td>1003733</td>\n",
       "      <td>1.000000</td>\n",
       "      <td>1547942400</td>\n",
       "      <td>kholanis</td>\n",
       "      <td>dining</td>\n",
       "      <td>5109</td>\n",
       "      <td>479</td>\n",
       "    </tr>\n",
       "  </tbody>\n",
       "</table>\n",
       "</div>"
      ],
      "text/plain": [
       "   customer_id  merchant_id  ...  userId  merchantId\n",
       "0      1004586      1002565  ...     768         449\n",
       "1      1004486      1005088  ...    2877         277\n",
       "2      1003016      1008199  ...     319        4617\n",
       "3      1000093      1002127  ...    3353         387\n",
       "4      1007841      1003733  ...    5109         479\n",
       "\n",
       "[5 rows x 8 columns]"
      ]
     },
     "execution_count": 24,
     "metadata": {
      "tags": []
     },
     "output_type": "execute_result"
    }
   ],
   "source": [
    "category = data\n",
    "category.head()"
   ]
  },
  {
   "cell_type": "code",
   "execution_count": null,
   "metadata": {
    "colab": {
     "base_uri": "https://localhost:8080/",
     "height": 140
    },
    "colab_type": "code",
    "id": "VyGnHwfKrYAe",
    "outputId": "5782d7a9-f281-4278-df1e-2253290be890"
   },
   "outputs": [
    {
     "data": {
      "text/plain": [
       "{'apparel and accessories': 0,\n",
       " 'dining': 1,\n",
       " 'entertainment': 2,\n",
       " 'miscellaneous stores': 3,\n",
       " 'personal service providers': 4,\n",
       " 'retail stores': 5,\n",
       " 'travel': 6}"
      ]
     },
     "execution_count": 25,
     "metadata": {
      "tags": []
     },
     "output_type": "execute_result"
    }
   ],
   "source": [
    "labels_str = [label for label in category['category']]\n",
    "label_set = numpy.unique(labels_str)\n",
    "label_idxs = {l: i for i, l in enumerate(label_set)}\n",
    "label_idxs"
   ]
  },
  {
   "cell_type": "code",
   "execution_count": null,
   "metadata": {
    "colab": {
     "base_uri": "https://localhost:8080/",
     "height": 34
    },
    "colab_type": "code",
    "id": "51rkXoIcrYAl",
    "outputId": "d1cfd575-5184-485f-8bf1-308271203e30"
   },
   "outputs": [
    {
     "data": {
      "text/plain": [
       "array([2., 5., 1., 1., 1., 1., 2., 1., 6., 3.])"
      ]
     },
     "execution_count": 26,
     "metadata": {
      "tags": []
     },
     "output_type": "execute_result"
    }
   ],
   "source": [
    "labels = np.empty(n_merchants)\n",
    "for merchantId, label in zip(category['merchantId'], labels_str):\n",
    "    labels[merchantId-1] = label_idxs[label]\n",
    "\n",
    "train_category = np.array([labels[int(j)] for j in train_merchants])\n",
    "valid_category = np.array([labels[int(j)] for j in valid_merchants])\n",
    "train_category[:10]"
   ]
  },
  {
   "cell_type": "code",
   "execution_count": null,
   "metadata": {
    "colab": {
     "base_uri": "https://localhost:8080/",
     "height": 281
    },
    "colab_type": "code",
    "id": "dZWDI3-ErYAt",
    "outputId": "2ce964fa-db4a-4331-ad1a-38587857b680"
   },
   "outputs": [
    {
     "name": "stderr",
     "output_type": "stream",
     "text": [
      "INFO:root:Epoch[0] Train-rmse=0.466198\n",
      "INFO:root:Epoch[0] Time cost=2.079\n",
      "INFO:root:Epoch[0] Validation-rmse=0.138440\n",
      "INFO:root:Epoch[1] Train-rmse=0.128558\n",
      "INFO:root:Epoch[1] Time cost=2.077\n",
      "INFO:root:Epoch[1] Validation-rmse=0.127987\n",
      "INFO:root:Epoch[2] Train-rmse=0.124106\n",
      "INFO:root:Epoch[2] Time cost=2.109\n",
      "INFO:root:Epoch[2] Validation-rmse=0.126899\n",
      "INFO:root:Epoch[3] Train-rmse=0.123410\n",
      "INFO:root:Epoch[3] Time cost=2.113\n",
      "INFO:root:Epoch[3] Validation-rmse=0.126790\n",
      "INFO:root:Epoch[4] Train-rmse=0.123104\n",
      "INFO:root:Epoch[4] Time cost=2.112\n",
      "INFO:root:Epoch[4] Validation-rmse=0.126736\n"
     ]
    }
   ],
   "source": [
    "X_train = mx.io.NDArrayIter({'user': train_users, 'merchant': train_merchants, 'merchant_category': train_category}, \n",
    "                            label=train_ratings, batch_size=batch_size)\n",
    "X_eval = mx.io.NDArrayIter({'user': valid_users, 'merchant': valid_merchants, 'merchant_category': valid_category}, \n",
    "                           label=valid_ratings, batch_size=batch_size)\n",
    "\n",
    "user = mx.symbol.Variable(\"user\")\n",
    "user = mx.symbol.Embedding(data=user, input_dim=n_users, output_dim=15)\n",
    "\n",
    "merchant = mx.symbol.Variable(\"merchant\")\n",
    "merchant = mx.symbol.Embedding(data=merchant, input_dim=n_merchants, output_dim=20) # Reduce from 25 to 20\n",
    "\n",
    "# We need to add in a third embedding layer for genre\n",
    "merchant_category = mx.symbol.Variable(\"merchant_category\")\n",
    "merchant_category = mx.symbol.Embedding(data=merchant_category, input_dim=20, output_dim=5) # Set to 5\n",
    "\n",
    "y_true = mx.symbol.Variable(\"softmax_label\")\n",
    "\n",
    "nn = mx.symbol.concat(user, merchant, merchant_category)\n",
    "nn = mx.symbol.flatten(nn)\n",
    "nn = mx.symbol.FullyConnected(data=nn, num_hidden=64)\n",
    "nn = mx.symbol.Activation(data=nn, act_type='relu')\n",
    "nn = mx.symbol.FullyConnected(data=nn, num_hidden=64)\n",
    "nn = mx.symbol.Activation(data=nn, act_type='relu')\n",
    "nn = mx.symbol.FullyConnected(data=nn, num_hidden=1)\n",
    "\n",
    "y_pred = mx.symbol.LinearRegressionOutput(data=nn, label=y_true)\n",
    "\n",
    "model = mx.module.Module(context=mx.cpu(0), data_names=('user', 'merchant', 'merchant_category'), symbol=y_pred)\n",
    "model.fit(X_train, num_epoch=5, optimizer='adam', optimizer_params=(('learning_rate', 0.001),),\n",
    "          eval_metric='rmse', eval_data=X_eval, batch_end_callback=mx.callback.Speedometer(batch_size, 250))"
   ]
  },
  {
   "cell_type": "markdown",
   "metadata": {
    "colab_type": "text",
    "id": "sFZ4MmjO07GC"
   },
   "source": [
    "### Inferenec Experiment"
   ]
  },
  {
   "cell_type": "code",
   "execution_count": null,
   "metadata": {
    "colab": {},
    "colab_type": "code",
    "id": "n6ZJbrKf4YAU"
   },
   "outputs": [],
   "source": [
    "all_category = np.array([labels[int(j)] for j in train_merchants] + [labels[int(j)] for j in valid_merchants])\n"
   ]
  },
  {
   "cell_type": "code",
   "execution_count": null,
   "metadata": {
    "colab": {
     "base_uri": "https://localhost:8080/",
     "height": 34
    },
    "colab_type": "code",
    "id": "G4ezzFtN4fsM",
    "outputId": "c025b02c-b7be-431a-ba75-f141fc8de815"
   },
   "outputs": [
    {
     "data": {
      "text/plain": [
       "(403046,)"
      ]
     },
     "execution_count": 29,
     "metadata": {
      "tags": []
     },
     "output_type": "execute_result"
    }
   ],
   "source": [
    "all_category.shape"
   ]
  },
  {
   "cell_type": "code",
   "execution_count": null,
   "metadata": {
    "colab": {},
    "colab_type": "code",
    "id": "O2u4lJPG3-BV"
   },
   "outputs": [],
   "source": [
    "all_users = data['userId'].values[:] - 1 # Offset by 1 so that the IDs start at 0\n",
    "all_merchants = data['merchantId'].values[:] - 1 # Offset by 1 so that the IDs start at 0\n",
    "all_ratings = data['rating'].values[:]\n"
   ]
  },
  {
   "cell_type": "code",
   "execution_count": null,
   "metadata": {
    "colab": {},
    "colab_type": "code",
    "id": "sT3mL_Mk08wp"
   },
   "outputs": [],
   "source": [
    "all_user_merchants_pred_iter = mx.io.NDArrayIter({'user': all_users, 'merchant': all_merchants, 'merchant_category': all_category}, \n",
    "                           label=all_ratings, batch_size=batch_size)\n"
   ]
  },
  {
   "cell_type": "code",
   "execution_count": null,
   "metadata": {
    "colab": {},
    "colab_type": "code",
    "id": "yvu7Xlp03AmL"
   },
   "outputs": [],
   "source": [
    "all_user_merchants_pred_rating = model.predict(all_user_merchants_pred_iter)"
   ]
  },
  {
   "cell_type": "code",
   "execution_count": null,
   "metadata": {
    "colab": {},
    "colab_type": "code",
    "id": "L5dNT4e38HYL"
   },
   "outputs": [],
   "source": [
    "list_of_pred_ratings = all_user_merchants_pred_rating.squeeze()"
   ]
  },
  {
   "cell_type": "code",
   "execution_count": null,
   "metadata": {
    "colab": {
     "base_uri": "https://localhost:8080/",
     "height": 34
    },
    "colab_type": "code",
    "id": "xE_LQ4afLqMr",
    "outputId": "88636fb7-3858-488b-cfe7-c239df39e46c"
   },
   "outputs": [
    {
     "data": {
      "text/plain": [
       "mxnet.ndarray.ndarray.NDArray"
      ]
     },
     "execution_count": 112,
     "metadata": {
      "tags": []
     },
     "output_type": "execute_result"
    }
   ],
   "source": [
    "type(list_of_pred_ratings)"
   ]
  },
  {
   "cell_type": "code",
   "execution_count": null,
   "metadata": {
    "colab": {},
    "colab_type": "code",
    "id": "1CuPbnX-LrMg"
   },
   "outputs": [],
   "source": [
    "list_of_pred_ratings = list_of_pred_ratings.asnumpy()"
   ]
  },
  {
   "cell_type": "code",
   "execution_count": null,
   "metadata": {
    "colab": {
     "base_uri": "https://localhost:8080/",
     "height": 34
    },
    "colab_type": "code",
    "id": "R5ntKJeaLujK",
    "outputId": "b7dbcd9f-391e-4b6a-de88-5ebb9b63d083"
   },
   "outputs": [
    {
     "data": {
      "text/plain": [
       "numpy.ndarray"
      ]
     },
     "execution_count": 114,
     "metadata": {
      "tags": []
     },
     "output_type": "execute_result"
    }
   ],
   "source": [
    "type(list_of_pred_ratings)"
   ]
  },
  {
   "cell_type": "code",
   "execution_count": null,
   "metadata": {
    "colab": {
     "base_uri": "https://localhost:8080/",
     "height": 34
    },
    "colab_type": "code",
    "id": "v1xjoSqF9S9D",
    "outputId": "15992187-023a-4fc5-d7f7-43c434ad60f1"
   },
   "outputs": [
    {
     "data": {
      "text/plain": [
       "(403046,)"
      ]
     },
     "execution_count": 115,
     "metadata": {
      "tags": []
     },
     "output_type": "execute_result"
    }
   ],
   "source": [
    "list_of_pred_ratings.shape"
   ]
  },
  {
   "cell_type": "code",
   "execution_count": null,
   "metadata": {
    "colab": {
     "base_uri": "https://localhost:8080/",
     "height": 34
    },
    "colab_type": "code",
    "id": "GcI5SMAw9a2w",
    "outputId": "2d680084-f48d-405f-f778-6fb340792acc"
   },
   "outputs": [
    {
     "data": {
      "text/plain": [
       "(403046, 8)"
      ]
     },
     "execution_count": 116,
     "metadata": {
      "tags": []
     },
     "output_type": "execute_result"
    }
   ],
   "source": [
    "data.shape"
   ]
  },
  {
   "cell_type": "code",
   "execution_count": null,
   "metadata": {
    "colab": {},
    "colab_type": "code",
    "id": "f65S_2D-4tfa"
   },
   "outputs": [],
   "source": [
    "data['currrent_prediction'] = list_of_pred_ratings"
   ]
  },
  {
   "cell_type": "code",
   "execution_count": null,
   "metadata": {
    "colab": {
     "base_uri": "https://localhost:8080/",
     "height": 195
    },
    "colab_type": "code",
    "id": "J9S-5t9kFwDP",
    "outputId": "c1a4d8bb-c945-45c6-ed16-01560f156026"
   },
   "outputs": [
    {
     "data": {
      "text/html": [
       "<div>\n",
       "<style scoped>\n",
       "    .dataframe tbody tr th:only-of-type {\n",
       "        vertical-align: middle;\n",
       "    }\n",
       "\n",
       "    .dataframe tbody tr th {\n",
       "        vertical-align: top;\n",
       "    }\n",
       "\n",
       "    .dataframe thead th {\n",
       "        text-align: right;\n",
       "    }\n",
       "</style>\n",
       "<table border=\"1\" class=\"dataframe\">\n",
       "  <thead>\n",
       "    <tr style=\"text-align: right;\">\n",
       "      <th></th>\n",
       "      <th>customer_id</th>\n",
       "      <th>merchant_id</th>\n",
       "      <th>rating</th>\n",
       "      <th>timestamp</th>\n",
       "      <th>merchantname</th>\n",
       "      <th>category</th>\n",
       "      <th>userId</th>\n",
       "      <th>merchantId</th>\n",
       "      <th>currrent_prediction</th>\n",
       "    </tr>\n",
       "  </thead>\n",
       "  <tbody>\n",
       "    <tr>\n",
       "      <th>0</th>\n",
       "      <td>1004586</td>\n",
       "      <td>1002565</td>\n",
       "      <td>1.121951</td>\n",
       "      <td>1553644800</td>\n",
       "      <td>frankautocarspacentre</td>\n",
       "      <td>miscellaneous stores</td>\n",
       "      <td>768</td>\n",
       "      <td>449</td>\n",
       "      <td>1.128705</td>\n",
       "    </tr>\n",
       "    <tr>\n",
       "      <th>1</th>\n",
       "      <td>1004486</td>\n",
       "      <td>1005088</td>\n",
       "      <td>1.000000</td>\n",
       "      <td>1553385600</td>\n",
       "      <td>orraspa</td>\n",
       "      <td>apparel and accessories</td>\n",
       "      <td>2877</td>\n",
       "      <td>277</td>\n",
       "      <td>1.019512</td>\n",
       "    </tr>\n",
       "    <tr>\n",
       "      <th>2</th>\n",
       "      <td>1003016</td>\n",
       "      <td>1008199</td>\n",
       "      <td>1.121951</td>\n",
       "      <td>1555545600</td>\n",
       "      <td>vishnuclothstore</td>\n",
       "      <td>apparel and accessories</td>\n",
       "      <td>319</td>\n",
       "      <td>4617</td>\n",
       "      <td>1.002205</td>\n",
       "    </tr>\n",
       "    <tr>\n",
       "      <th>3</th>\n",
       "      <td>1000093</td>\n",
       "      <td>1002127</td>\n",
       "      <td>1.000000</td>\n",
       "      <td>1547942400</td>\n",
       "      <td>eatindiacompany</td>\n",
       "      <td>dining</td>\n",
       "      <td>3353</td>\n",
       "      <td>387</td>\n",
       "      <td>0.989308</td>\n",
       "    </tr>\n",
       "    <tr>\n",
       "      <th>4</th>\n",
       "      <td>1007841</td>\n",
       "      <td>1003733</td>\n",
       "      <td>1.000000</td>\n",
       "      <td>1547942400</td>\n",
       "      <td>kholanis</td>\n",
       "      <td>dining</td>\n",
       "      <td>5109</td>\n",
       "      <td>479</td>\n",
       "      <td>1.004806</td>\n",
       "    </tr>\n",
       "  </tbody>\n",
       "</table>\n",
       "</div>"
      ],
      "text/plain": [
       "   customer_id  merchant_id    rating  ...  userId merchantId currrent_prediction\n",
       "0      1004586      1002565  1.121951  ...     768        449            1.128705\n",
       "1      1004486      1005088  1.000000  ...    2877        277            1.019512\n",
       "2      1003016      1008199  1.121951  ...     319       4617            1.002205\n",
       "3      1000093      1002127  1.000000  ...    3353        387            0.989308\n",
       "4      1007841      1003733  1.000000  ...    5109        479            1.004806\n",
       "\n",
       "[5 rows x 9 columns]"
      ]
     },
     "execution_count": 118,
     "metadata": {
      "tags": []
     },
     "output_type": "execute_result"
    }
   ],
   "source": [
    "data.head()"
   ]
  },
  {
   "cell_type": "markdown",
   "metadata": {
    "colab_type": "text",
    "id": "5Qo83gAE-nGD"
   },
   "source": [
    "### Framing Meta info for User, merchant-category"
   ]
  },
  {
   "cell_type": "code",
   "execution_count": null,
   "metadata": {
    "colab": {
     "base_uri": "https://localhost:8080/",
     "height": 34
    },
    "colab_type": "code",
    "id": "6K-nDhK8-4VP",
    "outputId": "f27c5a66-6a32-4a9e-dddd-a477b66d4dad"
   },
   "outputs": [
    {
     "data": {
      "text/plain": [
       "array([ 767, 2876,  318])"
      ]
     },
     "execution_count": 37,
     "metadata": {
      "tags": []
     },
     "output_type": "execute_result"
    }
   ],
   "source": [
    "all_users[0:3]"
   ]
  },
  {
   "cell_type": "code",
   "execution_count": null,
   "metadata": {
    "colab": {},
    "colab_type": "code",
    "id": "G_9qfT0V-r12"
   },
   "outputs": [],
   "source": [
    "## Needed\n",
    "all_unique_users = np.unique(all_users)"
   ]
  },
  {
   "cell_type": "code",
   "execution_count": null,
   "metadata": {
    "colab": {
     "base_uri": "https://localhost:8080/",
     "height": 34
    },
    "colab_type": "code",
    "id": "Bu4dRWWT_ACR",
    "outputId": "40779ec4-6794-4753-d491-08dc95256878"
   },
   "outputs": [
    {
     "data": {
      "text/plain": [
       "(8699,)"
      ]
     },
     "execution_count": 39,
     "metadata": {
      "tags": []
     },
     "output_type": "execute_result"
    }
   ],
   "source": [
    "all_unique_users.shape"
   ]
  },
  {
   "cell_type": "code",
   "execution_count": null,
   "metadata": {
    "colab": {
     "base_uri": "https://localhost:8080/",
     "height": 34
    },
    "colab_type": "code",
    "id": "pO28OKO0_G1u",
    "outputId": "b2ee2c41-6574-438e-b23d-647c779bdc63"
   },
   "outputs": [
    {
     "data": {
      "text/plain": [
       "(403046,)"
      ]
     },
     "execution_count": 40,
     "metadata": {
      "tags": []
     },
     "output_type": "execute_result"
    }
   ],
   "source": [
    "all_category.shape"
   ]
  },
  {
   "cell_type": "code",
   "execution_count": null,
   "metadata": {
    "colab": {
     "base_uri": "https://localhost:8080/",
     "height": 34
    },
    "colab_type": "code",
    "id": "9nYFAHog_LCE",
    "outputId": "34ddc3bb-8c3d-4562-b6cd-3d4932f2e40b"
   },
   "outputs": [
    {
     "data": {
      "text/plain": [
       "(403046,)"
      ]
     },
     "execution_count": 41,
     "metadata": {
      "tags": []
     },
     "output_type": "execute_result"
    }
   ],
   "source": [
    "all_merchants.shape"
   ]
  },
  {
   "cell_type": "code",
   "execution_count": null,
   "metadata": {
    "colab": {},
    "colab_type": "code",
    "id": "IYGT9sTC_lr_"
   },
   "outputs": [],
   "source": [
    "all_merchant_category = np.zeros(shape=(all_merchants.shape[0], 2))"
   ]
  },
  {
   "cell_type": "code",
   "execution_count": null,
   "metadata": {
    "colab": {},
    "colab_type": "code",
    "id": "bRDgni4i_yYf"
   },
   "outputs": [],
   "source": [
    "all_merchant_category[:,0] = all_merchants\n",
    "all_merchant_category[:,1] = all_category"
   ]
  },
  {
   "cell_type": "code",
   "execution_count": null,
   "metadata": {
    "colab": {},
    "colab_type": "code",
    "id": "XDlt0Yjl_5WE"
   },
   "outputs": [],
   "source": [
    "all_merchant_category_df = pd.DataFrame(all_merchant_category)"
   ]
  },
  {
   "cell_type": "code",
   "execution_count": null,
   "metadata": {
    "colab": {},
    "colab_type": "code",
    "id": "2g5ivZz4AXIw"
   },
   "outputs": [],
   "source": [
    "all_merchant_category_uniq = all_merchant_category_df.drop_duplicates()"
   ]
  },
  {
   "cell_type": "code",
   "execution_count": null,
   "metadata": {
    "colab": {},
    "colab_type": "code",
    "id": "VG00vrcGAc7Z"
   },
   "outputs": [],
   "source": [
    "## \n",
    "all_merchant_category_uniq = all_merchant_category_uniq.to_numpy()"
   ]
  },
  {
   "cell_type": "code",
   "execution_count": null,
   "metadata": {
    "colab": {
     "base_uri": "https://localhost:8080/",
     "height": 34
    },
    "colab_type": "code",
    "id": "x1AHCcnyAoCR",
    "outputId": "924e64fe-fd5a-4026-c8c1-274d19360094"
   },
   "outputs": [
    {
     "data": {
      "text/plain": [
       "(8540, 2)"
      ]
     },
     "execution_count": 47,
     "metadata": {
      "tags": []
     },
     "output_type": "execute_result"
    }
   ],
   "source": [
    "all_merchant_category_uniq.shape"
   ]
  },
  {
   "cell_type": "code",
   "execution_count": null,
   "metadata": {
    "colab": {
     "base_uri": "https://localhost:8080/",
     "height": 70
    },
    "colab_type": "code",
    "id": "zqmxjJJ0AhcN",
    "outputId": "7bfc10fe-934c-4e76-f6d3-4605feb40902"
   },
   "outputs": [
    {
     "data": {
      "text/plain": [
       "array([[4.480e+02, 2.000e+00],\n",
       "       [2.760e+02, 5.000e+00],\n",
       "       [4.616e+03, 1.000e+00]])"
      ]
     },
     "execution_count": 48,
     "metadata": {
      "tags": []
     },
     "output_type": "execute_result"
    }
   ],
   "source": [
    "all_merchant_category_uniq[:3]"
   ]
  },
  {
   "cell_type": "markdown",
   "metadata": {
    "colab_type": "text",
    "id": "xQ1eltZ3-TBM"
   },
   "source": [
    "### Infernce for particular user"
   ]
  },
  {
   "cell_type": "code",
   "execution_count": null,
   "metadata": {
    "colab": {
     "base_uri": "https://localhost:8080/",
     "height": 52
    },
    "colab_type": "code",
    "id": "dySP2ZRXCrma",
    "outputId": "5929005f-2f8f-43ab-db33-f23c4a83181d"
   },
   "outputs": [
    {
     "name": "stdout",
     "output_type": "stream",
     "text": [
      "(303046,)\n",
      "(8540,)\n"
     ]
    }
   ],
   "source": [
    "userId = 438\n",
    "user_feature_over_all_merchants = np.repeat(userId, all_merchant_category_uniq.shape[0])\n",
    "# user_feature_over_all_merchants.shape\n",
    "print(train_merchants.shape)\n",
    "print(all_merchant_category_uniq[:,0].shape)"
   ]
  },
  {
   "cell_type": "code",
   "execution_count": null,
   "metadata": {
    "colab": {},
    "colab_type": "code",
    "id": "FZxTi4awDfEc"
   },
   "outputs": [],
   "source": [
    "user_feature_over_all_merchants = np.repeat(userId, all_merchant_category_uniq.shape[0])\n",
    "custom_inputs = mx.io.NDArrayIter({'user': user_feature_over_all_merchants, \n",
    "                                   'merchant': all_merchant_category_uniq[:,0], \n",
    "                                   'merchant_category': all_merchant_category_uniq[:,1]},\n",
    "                                  batch_size=batch_size)\n",
    "pred_ratings = model.predict(custom_inputs)"
   ]
  },
  {
   "cell_type": "code",
   "execution_count": null,
   "metadata": {
    "colab": {
     "base_uri": "https://localhost:8080/",
     "height": 34
    },
    "colab_type": "code",
    "id": "h4wfqXu9HhTM",
    "outputId": "c2a9d6b5-4ad6-4d75-d867-aa518978d6d0"
   },
   "outputs": [
    {
     "data": {
      "text/plain": [
       "(8540, 1)"
      ]
     },
     "execution_count": 51,
     "metadata": {
      "tags": []
     },
     "output_type": "execute_result"
    }
   ],
   "source": [
    "pred_ratings.shape"
   ]
  },
  {
   "cell_type": "code",
   "execution_count": null,
   "metadata": {
    "colab": {
     "base_uri": "https://localhost:8080/",
     "height": 105
    },
    "colab_type": "code",
    "id": "Gwp1dRu6HjFH",
    "outputId": "634efd81-fafe-442d-caf8-29bf27e291fd"
   },
   "outputs": [
    {
     "data": {
      "text/plain": [
       "\n",
       "[[0.9967408 ]\n",
       " [1.0020721 ]\n",
       " [0.97544664]]\n",
       "<NDArray 3x1 @cpu(0)>"
      ]
     },
     "execution_count": 52,
     "metadata": {
      "tags": []
     },
     "output_type": "execute_result"
    }
   ],
   "source": [
    "pred_ratings[:3]"
   ]
  },
  {
   "cell_type": "code",
   "execution_count": null,
   "metadata": {
    "colab": {
     "base_uri": "https://localhost:8080/",
     "height": 70
    },
    "colab_type": "code",
    "id": "QUaKmNZqDju0",
    "outputId": "2187bf5a-60de-457c-ee60-87a3d2566713"
   },
   "outputs": [
    {
     "data": {
      "text/plain": [
       "\n",
       "[0.73886275 0.7693501  0.8419582  ... 1.128924   1.15651    1.1663806 ]\n",
       "<NDArray 8540 @cpu(0)>"
      ]
     },
     "execution_count": 54,
     "metadata": {
      "tags": []
     },
     "output_type": "execute_result"
    }
   ],
   "source": [
    "pred_ratings.squeeze().sort()"
   ]
  },
  {
   "cell_type": "code",
   "execution_count": null,
   "metadata": {
    "colab": {
     "base_uri": "https://localhost:8080/",
     "height": 70
    },
    "colab_type": "code",
    "id": "iTCeH65fHqJ-",
    "outputId": "642330ee-79c2-4452-ebf7-f7010a5340ca"
   },
   "outputs": [
    {
     "data": {
      "text/plain": [
       "\n",
       "[8297. 5494. 8535. ... 7534. 4254. 6487.]\n",
       "<NDArray 8540 @cpu(0)>"
      ]
     },
     "execution_count": 55,
     "metadata": {
      "tags": []
     },
     "output_type": "execute_result"
    }
   ],
   "source": [
    "pred_ratings.squeeze().argsort()"
   ]
  },
  {
   "cell_type": "code",
   "execution_count": null,
   "metadata": {
    "colab": {},
    "colab_type": "code",
    "id": "c_Jb0ZpBHuw5"
   },
   "outputs": [],
   "source": [
    "# https://stackoverflow.com/questions/16486252/is-it-possible-to-use-argsort-in-descending-order"
   ]
  },
  {
   "cell_type": "code",
   "execution_count": null,
   "metadata": {
    "colab": {},
    "colab_type": "code",
    "id": "dvb_uO-AH29Z"
   },
   "outputs": [],
   "source": [
    "topk = pred_ratings.squeeze().argsort()[::-1][:20]"
   ]
  },
  {
   "cell_type": "code",
   "execution_count": null,
   "metadata": {
    "colab": {},
    "colab_type": "code",
    "id": "C1bsENENIOdD"
   },
   "outputs": [],
   "source": [
    "topk = topk.asnumpy()"
   ]
  },
  {
   "cell_type": "code",
   "execution_count": null,
   "metadata": {
    "colab": {
     "base_uri": "https://localhost:8080/",
     "height": 70
    },
    "colab_type": "code",
    "id": "ysFB9MeCJ-uR",
    "outputId": "019f34db-38b0-42d2-fceb-d61465bfa9fc"
   },
   "outputs": [
    {
     "data": {
      "text/plain": [
       "array([6487., 4254., 7534., 6661., 5440., 5454., 6563., 6787., 2723.,\n",
       "        496., 4924., 8327., 7335., 1229., 6445., 8281.,  611., 3516.,\n",
       "       2724., 1962.], dtype=float32)"
      ]
     },
     "execution_count": 94,
     "metadata": {
      "tags": []
     },
     "output_type": "execute_result"
    }
   ],
   "source": [
    "topk"
   ]
  },
  {
   "cell_type": "code",
   "execution_count": null,
   "metadata": {
    "colab": {
     "base_uri": "https://localhost:8080/",
     "height": 34
    },
    "colab_type": "code",
    "id": "Cmeza2bxKUd4",
    "outputId": "b51b862a-e08b-495f-e557-f10d4e5f78e9"
   },
   "outputs": [
    {
     "data": {
      "text/plain": [
       "numpy.ndarray"
      ]
     },
     "execution_count": 99,
     "metadata": {
      "tags": []
     },
     "output_type": "execute_result"
    }
   ],
   "source": [
    "type(all_merchant_category_uniq)"
   ]
  },
  {
   "cell_type": "code",
   "execution_count": null,
   "metadata": {
    "colab": {},
    "colab_type": "code",
    "id": "y4bBFodkKVy2"
   },
   "outputs": [],
   "source": [
    "topk = [int(k) for k in topk]"
   ]
  },
  {
   "cell_type": "code",
   "execution_count": null,
   "metadata": {
    "colab": {
     "base_uri": "https://localhost:8080/",
     "height": 369
    },
    "colab_type": "code",
    "id": "xpN8vzetJwOP",
    "outputId": "a3b924bb-a499-467b-d780-4755b9387d1b"
   },
   "outputs": [
    {
     "name": "stdout",
     "output_type": "stream",
     "text": [
      "(5254.0, 4.0)\n",
      "(1343.0, 0.0)\n",
      "(7561.0, 0.0)\n",
      "(7184.0, 5.0)\n",
      "(2805.0, 5.0)\n",
      "(2092.0, 6.0)\n",
      "(2663.0, 5.0)\n",
      "(7119.0, 5.0)\n",
      "(4881.0, 5.0)\n",
      "(5872.0, 6.0)\n",
      "(6642.0, 1.0)\n",
      "(7222.0, 3.0)\n",
      "(7018.0, 1.0)\n",
      "(7731.0, 6.0)\n",
      "(3561.0, 5.0)\n",
      "(5542.0, 1.0)\n",
      "(6881.0, 2.0)\n",
      "(4377.0, 6.0)\n",
      "(4018.0, 6.0)\n",
      "(1385.0, 3.0)\n"
     ]
    }
   ],
   "source": [
    "for k in topk:\n",
    "  print(tuple(all_merchant_category_uniq[k, :]))"
   ]
  },
  {
   "cell_type": "code",
   "execution_count": null,
   "metadata": {
    "colab": {},
    "colab_type": "code",
    "id": "PY2pcEj88Puq"
   },
   "outputs": [],
   "source": [
    "def find_rating_for_user(userId):\n",
    "\n",
    "  merchants = list() \n",
    "\n",
    "  if userId in all_unique_users:\n",
    "    # valid user\n",
    "    user_feature_over_all_merchants = np.repeat(userId, all_merchant_category_uniq.shape[0])\n",
    "    custom_inputs = mx.io.NDArrayIter({'user': user_feature_over_all_merchants, \n",
    "                                       'merchant': all_merchant_category_uniq[:,0], \n",
    "                                       'merchant_category': all_merchant_category_uniq[:,1]},\n",
    "                                      batch_size=batch_size)\n",
    "    pred_ratings = model.predict(custom_inputs)\n",
    "    topk = pred_ratings.squeeze().argsort()[::-1][:20]\n",
    "    topk = topk.asnumpy()\n",
    "    topk = [int(k) for k in topk]\n",
    "    for k in topk:\n",
    "      # print(tuple(all_merchant_category_uniq[k, :]))\n",
    "      merchants.append(tuple(all_merchant_category_uniq[k, :]))\n",
    "\n",
    "\n",
    "\n",
    "\n",
    "  else:\n",
    "    # Invalid user\n",
    "    print('Invalid User')\n",
    "    pass\n",
    "  return merchants\n"
   ]
  },
  {
   "cell_type": "code",
   "execution_count": null,
   "metadata": {
    "colab": {
     "base_uri": "https://localhost:8080/",
     "height": 369
    },
    "colab_type": "code",
    "id": "F2vbbw0DLJuW",
    "outputId": "18fb0092-53a0-4a86-cb28-9ad18f6ff84b"
   },
   "outputs": [
    {
     "data": {
      "text/plain": [
       "[(5254.0, 4.0),\n",
       " (1343.0, 0.0),\n",
       " (7561.0, 0.0),\n",
       " (7184.0, 5.0),\n",
       " (2805.0, 5.0),\n",
       " (2092.0, 6.0),\n",
       " (2663.0, 5.0),\n",
       " (7119.0, 5.0),\n",
       " (4881.0, 5.0),\n",
       " (5872.0, 6.0),\n",
       " (6642.0, 1.0),\n",
       " (7222.0, 3.0),\n",
       " (7018.0, 1.0),\n",
       " (7731.0, 6.0),\n",
       " (3561.0, 5.0),\n",
       " (5542.0, 1.0),\n",
       " (6881.0, 2.0),\n",
       " (4377.0, 6.0),\n",
       " (4018.0, 6.0),\n",
       " (1385.0, 3.0)]"
      ]
     },
     "execution_count": 111,
     "metadata": {
      "tags": []
     },
     "output_type": "execute_result"
    }
   ],
   "source": [
    "find_rating_for_user(438)"
   ]
  },
  {
   "cell_type": "markdown",
   "metadata": {
    "colab_type": "text",
    "id": "N_DYzLK7Er6D"
   },
   "source": [
    "### Inference for particular Merchant"
   ]
  },
  {
   "cell_type": "code",
   "execution_count": null,
   "metadata": {
    "colab": {},
    "colab_type": "code",
    "id": "yMhlH_s-Euni"
   },
   "outputs": [],
   "source": [
    "def find_rating_for_a_merchant(merchantId):\n",
    "  if merchantId in all_merchant_category_uniq[:,0]:\n",
    "\n",
    "    current_merchant_index = np.where(all_merchant_category_uniq[:,0], merchantId)\n",
    "\n",
    "    custom_inputs = mx.io.NDArrayIter({'user': all_unique_users, \n",
    "                                       'merchant': all_merchant_category_uniq[current_merchant_index,0], \n",
    "                                       'merchant_category': all_merchant_category_uniq[current_merchant_index,1]},\n",
    "                                      batch_size=batch_size)\n",
    "    pred_ratings = model.predict(custom_inputs)\n",
    "    pred_ratings = pred_ratings.squeeze()\n",
    "\n",
    "    topk = [int(k) for k in topk]\n",
    "    \n",
    "\n"
   ]
  },
  {
   "cell_type": "code",
   "execution_count": null,
   "metadata": {
    "colab": {},
    "colab_type": "code",
    "id": "f1RMdvcawM8l"
   },
   "outputs": [],
   "source": [
    "## Particular User id 438"
   ]
  },
  {
   "cell_type": "code",
   "execution_count": null,
   "metadata": {
    "colab": {},
    "colab_type": "code",
    "id": "uf48EVuq5kHz"
   },
   "outputs": [],
   "source": [
    "user_438 = np.where(all_users == 438)"
   ]
  },
  {
   "cell_type": "code",
   "execution_count": null,
   "metadata": {
    "colab": {
     "base_uri": "https://localhost:8080/",
     "height": 263
    },
    "colab_type": "code",
    "id": "vMNAfiuM5-BM",
    "outputId": "948015c5-da0c-4bdb-f1e8-d24bcdb7de80"
   },
   "outputs": [
    {
     "data": {
      "text/plain": [
       "(array([54793, 54794, 54795, 54796, 54797, 54798, 54799, 54800, 54801,\n",
       "        54802, 54803, 54804, 54805, 54806, 54807, 54808, 54809, 54810,\n",
       "        54811, 54812, 54813, 54814, 54815, 54816, 54817, 54818, 54819,\n",
       "        54820, 54821, 54822, 54823, 54824, 54825, 54826, 54827, 54828,\n",
       "        54829, 54830, 54831, 54832, 54833, 54834, 54835, 54836, 54837,\n",
       "        54838, 54839, 54840, 54841, 54842, 54843, 54844, 54845, 54846,\n",
       "        54847, 54848, 54849, 54850, 54851, 54852, 54853, 54854, 54855,\n",
       "        54856, 54857, 54858, 54859, 54860, 54861, 54862, 54863, 54864,\n",
       "        54865, 54866, 54867, 54868, 54869, 54870, 54871, 54872, 54873,\n",
       "        54874, 54875, 54876, 54877, 54878, 54879, 54880, 54881, 54882,\n",
       "        54883, 54884, 54885, 54886, 54887, 54888, 54889, 54890, 54891,\n",
       "        54892, 54893, 54894, 54895, 54896, 54897, 54898, 54899, 54900,\n",
       "        54901, 54902, 54903, 54904, 54905, 54906, 54907, 54908, 54909,\n",
       "        54910, 54911, 54912, 54913, 54914, 54915, 54916, 54917, 54918]),)"
      ]
     },
     "execution_count": 83,
     "metadata": {
      "tags": []
     },
     "output_type": "execute_result"
    }
   ],
   "source": [
    "user_438[:]"
   ]
  },
  {
   "cell_type": "code",
   "execution_count": null,
   "metadata": {
    "colab": {
     "base_uri": "https://localhost:8080/",
     "height": 228
    },
    "colab_type": "code",
    "id": "-ZXx8COB569m",
    "outputId": "4b248177-2757-4dd7-80de-771a1bc5e57a"
   },
   "outputs": [
    {
     "data": {
      "text/plain": [
       "array([   2, 3716, 2403,   10,  205,  385,  386, 3844, 1229,  838, 6307,\n",
       "       4359, 1504,  390,  625, 6925,  847, 6243, 1039, 2088, 5478, 1740,\n",
       "        853, 6524, 3660, 3351, 1659,  638,   38, 1745, 5346, 4422, 1853,\n",
       "         42, 6926,  863, 6436,  511, 4194, 6927, 6928, 6929, 2782, 3203,\n",
       "        410,  412, 6482, 3205,   59,  659,  255, 6409,   64,  665, 4532,\n",
       "       1864, 4822,   73,  423,  669, 5350,  876,  425,  780, 1548, 4263,\n",
       "       5788, 1071, 6129,  675,   84,   90, 3911,  789,  100, 6930,  437,\n",
       "       2666, 5353, 6132, 4049, 1791, 6871,  690, 6899, 2672,  139,  448,\n",
       "        316,  450, 5860,  146, 3058, 1460,  151,  910, 5359,  452, 4547,\n",
       "        454, 5626,  456,  811, 1359, 2917, 6931,  918, 2305,  159, 6775,\n",
       "       2466, 1824, 2068,  175, 3246, 5147, 3338,  740, 3247, 2072,  183,\n",
       "       3304, 4553,  478, 1914, 1143])"
      ]
     },
     "execution_count": 85,
     "metadata": {
      "tags": []
     },
     "output_type": "execute_result"
    }
   ],
   "source": [
    "all_merchants[user_438]"
   ]
  },
  {
   "cell_type": "code",
   "execution_count": null,
   "metadata": {
    "colab": {
     "base_uri": "https://localhost:8080/",
     "height": 158
    },
    "colab_type": "code",
    "id": "-BeHZV_H46GC",
    "outputId": "9912f17f-efea-418c-ce0a-75c7c7a2c71d"
   },
   "outputs": [
    {
     "data": {
      "text/plain": [
       "array([1., 4., 4., 4., 1., 4., 4., 4., 4., 4., 0., 4., 4., 4., 4., 4., 1.,\n",
       "       4., 1., 1., 1., 4., 0., 4., 4., 4., 4., 4., 1., 4., 1., 0., 4., 5.,\n",
       "       4., 4., 4., 4., 1., 4., 4., 4., 1., 0., 4., 4., 1., 4., 2., 1., 1.,\n",
       "       4., 4., 1., 4., 1., 4., 4., 4., 0., 4., 1., 0., 2., 4., 4., 4., 4.,\n",
       "       4., 4., 4., 4., 1., 4., 4., 1., 4., 4., 4., 4., 4., 4., 4., 4., 1.,\n",
       "       4., 4., 1., 4., 4., 2., 4., 4., 4., 4., 1., 4., 4., 4., 1., 0., 4.,\n",
       "       4., 4., 4., 4., 1., 1., 4., 4., 4., 4., 4., 1., 4., 4., 0., 4., 4.,\n",
       "       4., 4., 1., 4., 4., 4., 4.])"
      ]
     },
     "execution_count": 86,
     "metadata": {
      "tags": []
     },
     "output_type": "execute_result"
    }
   ],
   "source": [
    "all_category[user_438]"
   ]
  },
  {
   "cell_type": "code",
   "execution_count": null,
   "metadata": {
    "colab": {},
    "colab_type": "code",
    "id": "eP0vtT6P6bhR"
   },
   "outputs": [],
   "source": [
    "# user  in all_users \n",
    "# merchants in all_merchants"
   ]
  },
  {
   "cell_type": "code",
   "execution_count": null,
   "metadata": {
    "colab": {
     "base_uri": "https://localhost:8080/",
     "height": 34
    },
    "colab_type": "code",
    "id": "Z2ZlpHib6jgU",
    "outputId": "f71eeb0d-de24-4780-ab59-346b56449578"
   },
   "outputs": [
    {
     "data": {
      "text/plain": [
       "(8540,)"
      ]
     },
     "execution_count": 92,
     "metadata": {
      "tags": []
     },
     "output_type": "execute_result"
    }
   ],
   "source": [
    "np.unique(all_merchants).shape "
   ]
  },
  {
   "cell_type": "code",
   "execution_count": null,
   "metadata": {
    "colab": {
     "base_uri": "https://localhost:8080/",
     "height": 34
    },
    "colab_type": "code",
    "id": "t27WWFrc6n1J",
    "outputId": "4b33f437-3b2c-440c-c39f-bbde2ba3d82d"
   },
   "outputs": [
    {
     "data": {
      "text/plain": [
       "(403046,)"
      ]
     },
     "execution_count": 93,
     "metadata": {
      "tags": []
     },
     "output_type": "execute_result"
    }
   ],
   "source": [
    "all_merchants.shape"
   ]
  }
 ],
 "metadata": {
  "colab": {
   "collapsed_sections": [
    "5Qo83gAE-nGD",
    "xQ1eltZ3-TBM",
    "N_DYzLK7Er6D"
   ],
   "name": "Copy of DeepFMMerchantCategory_Transaction.ipynb",
   "provenance": []
  },
  "kernelspec": {
   "display_name": "Python 3",
   "language": "python",
   "name": "python3"
  },
  "language_info": {
   "codemirror_mode": {
    "name": "ipython",
    "version": 3
   },
   "file_extension": ".py",
   "mimetype": "text/x-python",
   "name": "python",
   "nbconvert_exporter": "python",
   "pygments_lexer": "ipython3",
   "version": "3.8.8"
  }
 },
 "nbformat": 4,
 "nbformat_minor": 4
}
