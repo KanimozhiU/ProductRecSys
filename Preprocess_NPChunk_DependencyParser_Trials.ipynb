{
 "cells": [
  {
   "cell_type": "code",
   "execution_count": 53,
   "metadata": {},
   "outputs": [
    {
     "name": "stdout",
     "output_type": "stream",
     "text": [
      "<bound method NDFrame.head of             crayon_review_id          crayon_user_id      crayon_product_id  \\\n",
      "0     RR-202001000-552550429  RU-302001000-806642411  R-102001000-202456154   \n",
      "1     RR-202001000-550793573  RU-302001000-802600320  R-102001000-202456154   \n",
      "2     RR-202001000-533398566  RU-302001000-802928560  R-102001000-200371326   \n",
      "3     RR-202001000-556167355  RU-302001000-803691542  R-102001000-200371326   \n",
      "4     RR-202001000-545446145  RU-302001000-809584645  R-102001000-200371326   \n",
      "...                      ...                     ...                    ...   \n",
      "1495  RR-202001000-525147579  RU-302001000-811050302  R-102001000-200372644   \n",
      "1496  RR-202001000-518084821  RU-302001000-804828303  R-102001000-200372644   \n",
      "1497  RR-202001000-538977700  RU-302001000-809703535  R-102001000-200372644   \n",
      "1498  RR-202001000-500618577  RU-302001000-804893302  R-102001000-200372644   \n",
      "1499  RR-202001000-539134354  RU-302001000-801484109  R-102001000-200372644   \n",
      "\n",
      "                                              domain  \\\n",
      "0     item_1_saturam_restaurant_review_metadata_info   \n",
      "1     item_1_saturam_restaurant_review_metadata_info   \n",
      "2     item_1_saturam_restaurant_review_metadata_info   \n",
      "3     item_1_saturam_restaurant_review_metadata_info   \n",
      "4     item_1_saturam_restaurant_review_metadata_info   \n",
      "...                                              ...   \n",
      "1495  item_1_saturam_restaurant_review_metadata_info   \n",
      "1496  item_1_saturam_restaurant_review_metadata_info   \n",
      "1497  item_1_saturam_restaurant_review_metadata_info   \n",
      "1498  item_1_saturam_restaurant_review_metadata_info   \n",
      "1499  item_1_saturam_restaurant_review_metadata_info   \n",
      "\n",
      "                                                    url     type     category  \\\n",
      "0     https://item_1_saturam_restaurant_review_metad...  Reviews  Restaurants   \n",
      "1     https://item_1_saturam_restaurant_review_metad...  Reviews  Restaurants   \n",
      "2     https://item_1_saturam_restaurant_review_metad...  Reviews  Restaurants   \n",
      "3     https://item_1_saturam_restaurant_review_metad...  Reviews  Restaurants   \n",
      "4     https://item_1_saturam_restaurant_review_metad...  Reviews  Restaurants   \n",
      "...                                                 ...      ...          ...   \n",
      "1495  https://item_1_saturam_restaurant_review_metad...  Reviews  Restaurants   \n",
      "1496  https://item_1_saturam_restaurant_review_metad...  Reviews  Restaurants   \n",
      "1497  https://item_1_saturam_restaurant_review_metad...  Reviews  Restaurants   \n",
      "1498  https://item_1_saturam_restaurant_review_metad...  Reviews  Restaurants   \n",
      "1499  https://item_1_saturam_restaurant_review_metad...  Reviews  Restaurants   \n",
      "\n",
      "     date_created                                                gid  \\\n",
      "0      2019-04-11  item_1_saturam_restaurant_review_metadata_info...   \n",
      "1      2019-04-11  item_1_saturam_restaurant_review_metadata_info...   \n",
      "2      2019-04-12  item_1_saturam_restaurant_review_metadata_info...   \n",
      "3      2019-04-12  item_1_saturam_restaurant_review_metadata_info...   \n",
      "4      2019-04-12  item_1_saturam_restaurant_review_metadata_info...   \n",
      "...           ...                                                ...   \n",
      "1495   2019-04-11  item_1_saturam_restaurant_review_metadata_info...   \n",
      "1496   2019-04-11  item_1_saturam_restaurant_review_metadata_info...   \n",
      "1497   2019-04-11  item_1_saturam_restaurant_review_metadata_info...   \n",
      "1498   2019-04-11  item_1_saturam_restaurant_review_metadata_info...   \n",
      "1499   2019-04-11  item_1_saturam_restaurant_review_metadata_info...   \n",
      "\n",
      "                                                    key  ...  \\\n",
      "0     ef65c514583b9254dbd8f794c516aaca21c864076d59e3...  ...   \n",
      "1     e766851ea18b154b154e419691d4ee7eeb4db9d80333f4...  ...   \n",
      "2     982dced88fd267e522b3591a402d2a3f5d3cb8bc783bdd...  ...   \n",
      "3     ffdeac1f47ee1b9e21e3bf54869d87e1b9ab7b9a55d02f...  ...   \n",
      "4     cf0e41f130196d008f51f301712f0f48e572472e4532a1...  ...   \n",
      "...                                                 ...  ...   \n",
      "1495  728fcec2c37232f6e3bf1f00179bf1b64fb0486b08fb0a...  ...   \n",
      "1496  5265dec66e1cca89ee369e4cd21d9a3ffe96419b6d91c4...  ...   \n",
      "1497  b19a38ea26bbecbd99700bc1ef1ea52c184530c3607b54...  ...   \n",
      "1498  02d1f642c9c16a1f220b14b6d8207522b3f1b19c778f7b...  ...   \n",
      "1499  b250ce74f205afe021b43e6b40309f88ceec8c23e8627d...  ...   \n",
      "\n",
      "                               user_id       user_name  \\\n",
      "0     732393D49A0A1F0B63E5037F07DCDA04   Stevetarn2014   \n",
      "1     2D0CF2077ADEDA59A706B7E1E3DE26E6  T35BZcristinag   \n",
      "2     32BF09E09D5417A78AC008B76F91EF11         Q1487BW   \n",
      "3     3FF79B747F3F4A0FA6BD325DA30ECDFE           Ian M   \n",
      "4     A62A1443262F2B60BCFDA5903E663B03         gillank   \n",
      "...                                ...             ...   \n",
      "1495  BF970591A867D7D2FBDA84403352EE6E       dawnie112   \n",
      "1496  53AC6B8B15A0884CAF747437E0864A2E     stephanie C   \n",
      "1497  A83B7B7D701407D3340267EED1270994         besttom   \n",
      "1498  54CDEC3894DDB6F4F0604F0952740590   TeriLynne1957   \n",
      "1499  19B2E47E3CB2612E46112A6D226D0C75          Doni F   \n",
      "\n",
      "              user_location_text     user_city      user_country  \\\n",
      "0         London, United Kingdom        London    United Kingdom   \n",
      "1                            NaN           NaN               NaN   \n",
      "2        Bristol, United Kingdom       Bristol    United Kingdom   \n",
      "3                            NaN           NaN               NaN   \n",
      "4                 Hanoi, Vietnam         Hanoi           Vietnam   \n",
      "...                          ...           ...               ...   \n",
      "1495                    brighton      brighton          brighton   \n",
      "1496    North Bergen, New Jersey  North Bergen        New Jersey   \n",
      "1497               Naples, Italy        Naples             Italy   \n",
      "1498  Amsterdam, The Netherlands     Amsterdam   The Netherlands   \n",
      "1499                         NaN           NaN               NaN   \n",
      "\n",
      "     user_total_reviews  user_total_reviews_range  user_helpful_reviews  \\\n",
      "0                   423                101 to 500                  1030   \n",
      "1                   141                101 to 500                     9   \n",
      "2                     8                  1 to 100                     2   \n",
      "3                     6                  1 to 100                     1   \n",
      "4                   140                101 to 500                    41   \n",
      "...                 ...                       ...                   ...   \n",
      "1495                 24                  1 to 100                    21   \n",
      "1496                 50                  1 to 100                    17   \n",
      "1497                242                101 to 500                   175   \n",
      "1498                 32                  1 to 100                     9   \n",
      "1499                  2                  1 to 100                     0   \n",
      "\n",
      "      user_helpful_reviews_range  \\\n",
      "0                   1001 to 5000   \n",
      "1                       1 to 100   \n",
      "2                       1 to 100   \n",
      "3                       1 to 100   \n",
      "4                       1 to 100   \n",
      "...                          ...   \n",
      "1495                    1 to 100   \n",
      "1496                    1 to 100   \n",
      "1497                  101 to 500   \n",
      "1498                    1 to 100   \n",
      "1499                           0   \n",
      "\n",
      "                                            partition_0  \n",
      "0     item_1_restaurant_review_20190609_v10_stage4_c...  \n",
      "1     item_1_restaurant_review_20190609_v10_stage4_c...  \n",
      "2     item_1_restaurant_review_20190609_v10_stage4_c...  \n",
      "3     item_1_restaurant_review_20190609_v10_stage4_c...  \n",
      "4     item_1_restaurant_review_20190609_v10_stage4_c...  \n",
      "...                                                 ...  \n",
      "1495  item_1_restaurant_review_20190609_v10_stage4_c...  \n",
      "1496  item_1_restaurant_review_20190609_v10_stage4_c...  \n",
      "1497  item_1_restaurant_review_20190609_v10_stage4_c...  \n",
      "1498  item_1_restaurant_review_20190609_v10_stage4_c...  \n",
      "1499  item_1_restaurant_review_20190609_v10_stage4_c...  \n",
      "\n",
      "[1500 rows x 49 columns]>\n"
     ]
    }
   ],
   "source": [
    "import os\n",
    "import pandas as pd\n",
    "os.chdir(\"D:\\Choogle\\Data\\dataset_review\")\n",
    "df = pd.read_csv(\"dataset2_london.csv\")\n",
    "#df = pd.read_excel('sqllab_untitled_query_3_20200203T120456.xlsx')\n",
    "print (df.head)"
   ]
  },
  {
   "cell_type": "code",
   "execution_count": 54,
   "metadata": {},
   "outputs": [
    {
     "data": {
      "text/html": [
       "<div>\n",
       "<style scoped>\n",
       "    .dataframe tbody tr th:only-of-type {\n",
       "        vertical-align: middle;\n",
       "    }\n",
       "\n",
       "    .dataframe tbody tr th {\n",
       "        vertical-align: top;\n",
       "    }\n",
       "\n",
       "    .dataframe thead th {\n",
       "        text-align: right;\n",
       "    }\n",
       "</style>\n",
       "<table border=\"1\" class=\"dataframe\">\n",
       "  <thead>\n",
       "    <tr style=\"text-align: right;\">\n",
       "      <th></th>\n",
       "      <th>product_name</th>\n",
       "      <th>title</th>\n",
       "      <th>text</th>\n",
       "    </tr>\n",
       "  </thead>\n",
       "  <tbody>\n",
       "    <tr>\n",
       "      <td>0</td>\n",
       "      <td>Nando's - Holloway Road</td>\n",
       "      <td>Excellent Friday Night Trip</td>\n",
       "      <td>The staff in this branch of Nando's were frien...</td>\n",
       "    </tr>\n",
       "    <tr>\n",
       "      <td>1</td>\n",
       "      <td>Nando's - Holloway Road</td>\n",
       "      <td>The best chicken</td>\n",
       "      <td>The most tasty chicken in town with their famo...</td>\n",
       "    </tr>\n",
       "    <tr>\n",
       "      <td>2</td>\n",
       "      <td>The Antwerp Arms</td>\n",
       "      <td>Wednesday late afternoon</td>\n",
       "      <td>Really surprised and pleased, very friendly an...</td>\n",
       "    </tr>\n",
       "    <tr>\n",
       "      <td>3</td>\n",
       "      <td>The Antwerp Arms</td>\n",
       "      <td>Chef Wayne Did Us Proud</td>\n",
       "      <td>Having interred my late wife’s ashes in Totten...</td>\n",
       "    </tr>\n",
       "    <tr>\n",
       "      <td>4</td>\n",
       "      <td>The Antwerp Arms</td>\n",
       "      <td>Great local</td>\n",
       "      <td>Great local pub featuring brews from 2 of Tott...</td>\n",
       "    </tr>\n",
       "    <tr>\n",
       "      <td>...</td>\n",
       "      <td>...</td>\n",
       "      <td>...</td>\n",
       "      <td>...</td>\n",
       "    </tr>\n",
       "    <tr>\n",
       "      <td>1495</td>\n",
       "      <td>Wahaca Covent Garden</td>\n",
       "      <td>Birthday Treat</td>\n",
       "      <td>Fantastic place. From the cocktails to the foo...</td>\n",
       "    </tr>\n",
       "    <tr>\n",
       "      <td>1496</td>\n",
       "      <td>Wahaca Covent Garden</td>\n",
       "      <td>Affordable for London!</td>\n",
       "      <td>This is by far one of the few locations in Cen...</td>\n",
       "    </tr>\n",
       "    <tr>\n",
       "      <td>1497</td>\n",
       "      <td>Wahaca Covent Garden</td>\n",
       "      <td>Yes!</td>\n",
       "      <td>This restaurant has PHENOMENAL taquitos! The r...</td>\n",
       "    </tr>\n",
       "    <tr>\n",
       "      <td>1498</td>\n",
       "      <td>Wahaca Covent Garden</td>\n",
       "      <td>Mui Bien!</td>\n",
       "      <td>This place was awesome! Excellent food, great ...</td>\n",
       "    </tr>\n",
       "    <tr>\n",
       "      <td>1499</td>\n",
       "      <td>Wahaca Covent Garden</td>\n",
       "      <td>Wow</td>\n",
       "      <td>Excelent service, 5 stars, pretty much because...</td>\n",
       "    </tr>\n",
       "  </tbody>\n",
       "</table>\n",
       "<p>1500 rows × 3 columns</p>\n",
       "</div>"
      ],
      "text/plain": [
       "                 product_name                        title  \\\n",
       "0     Nando's - Holloway Road  Excellent Friday Night Trip   \n",
       "1     Nando's - Holloway Road             The best chicken   \n",
       "2            The Antwerp Arms    Wednesday late afternoon    \n",
       "3            The Antwerp Arms      Chef Wayne Did Us Proud   \n",
       "4            The Antwerp Arms                  Great local   \n",
       "...                       ...                          ...   \n",
       "1495     Wahaca Covent Garden               Birthday Treat   \n",
       "1496     Wahaca Covent Garden       Affordable for London!   \n",
       "1497     Wahaca Covent Garden                         Yes!   \n",
       "1498     Wahaca Covent Garden                    Mui Bien!   \n",
       "1499     Wahaca Covent Garden                          Wow   \n",
       "\n",
       "                                                   text  \n",
       "0     The staff in this branch of Nando's were frien...  \n",
       "1     The most tasty chicken in town with their famo...  \n",
       "2     Really surprised and pleased, very friendly an...  \n",
       "3     Having interred my late wife’s ashes in Totten...  \n",
       "4     Great local pub featuring brews from 2 of Tott...  \n",
       "...                                                 ...  \n",
       "1495  Fantastic place. From the cocktails to the foo...  \n",
       "1496  This is by far one of the few locations in Cen...  \n",
       "1497  This restaurant has PHENOMENAL taquitos! The r...  \n",
       "1498  This place was awesome! Excellent food, great ...  \n",
       "1499  Excelent service, 5 stars, pretty much because...  \n",
       "\n",
       "[1500 rows x 3 columns]"
      ]
     },
     "execution_count": 54,
     "metadata": {},
     "output_type": "execute_result"
    }
   ],
   "source": [
    "#df[[\"product_name\", \"title\", \"ui_text\", \"text\"]]\n",
    "df[[\"product_name\", \"title\", \"text\"]]"
   ]
  },
  {
   "cell_type": "code",
   "execution_count": 5,
   "metadata": {},
   "outputs": [
    {
     "name": "stdout",
     "output_type": "stream",
     "text": [
      "Requirement already up-to-date: spacy in c:\\users\\kanimozhi.u\\appdata\\local\\continuum\\anaconda3\\lib\\site-packages (2.2.3)\n",
      "Requirement already satisfied, skipping upgrade: preshed<3.1.0,>=3.0.2 in c:\\users\\kanimozhi.u\\appdata\\local\\continuum\\anaconda3\\lib\\site-packages (from spacy) (3.0.2)\n",
      "Requirement already satisfied, skipping upgrade: wasabi<1.1.0,>=0.4.0 in c:\\users\\kanimozhi.u\\appdata\\local\\continuum\\anaconda3\\lib\\site-packages (from spacy) (0.6.0)\n",
      "Requirement already satisfied, skipping upgrade: numpy>=1.15.0 in c:\\users\\kanimozhi.u\\appdata\\local\\continuum\\anaconda3\\lib\\site-packages (from spacy) (1.16.5)\n",
      "Requirement already satisfied, skipping upgrade: plac<1.2.0,>=0.9.6 in c:\\users\\kanimozhi.u\\appdata\\local\\continuum\\anaconda3\\lib\\site-packages (from spacy) (1.1.3)\n",
      "Requirement already satisfied, skipping upgrade: cymem<2.1.0,>=2.0.2 in c:\\users\\kanimozhi.u\\appdata\\local\\continuum\\anaconda3\\lib\\site-packages (from spacy) (2.0.3)\n",
      "Requirement already satisfied, skipping upgrade: catalogue<1.1.0,>=0.0.7 in c:\\users\\kanimozhi.u\\appdata\\local\\continuum\\anaconda3\\lib\\site-packages (from spacy) (1.0.0)\n",
      "Requirement already satisfied, skipping upgrade: blis<0.5.0,>=0.4.0 in c:\\users\\kanimozhi.u\\appdata\\local\\continuum\\anaconda3\\lib\\site-packages (from spacy) (0.4.1)\n",
      "Requirement already satisfied, skipping upgrade: srsly<1.1.0,>=0.1.0 in c:\\users\\kanimozhi.u\\appdata\\local\\continuum\\anaconda3\\lib\\site-packages (from spacy) (1.0.1)\n",
      "Requirement already satisfied, skipping upgrade: murmurhash<1.1.0,>=0.28.0 in c:\\users\\kanimozhi.u\\appdata\\local\\continuum\\anaconda3\\lib\\site-packages (from spacy) (1.0.2)\n",
      "Requirement already satisfied, skipping upgrade: setuptools in c:\\users\\kanimozhi.u\\appdata\\local\\continuum\\anaconda3\\lib\\site-packages (from spacy) (41.4.0)\n",
      "Requirement already satisfied, skipping upgrade: thinc<7.4.0,>=7.3.0 in c:\\users\\kanimozhi.u\\appdata\\local\\continuum\\anaconda3\\lib\\site-packages (from spacy) (7.3.1)\n",
      "Requirement already satisfied, skipping upgrade: requests<3.0.0,>=2.13.0 in c:\\users\\kanimozhi.u\\appdata\\local\\continuum\\anaconda3\\lib\\site-packages (from spacy) (2.22.0)\n",
      "Requirement already satisfied, skipping upgrade: importlib-metadata>=0.20; python_version < \"3.8\" in c:\\users\\kanimozhi.u\\appdata\\local\\continuum\\anaconda3\\lib\\site-packages (from catalogue<1.1.0,>=0.0.7->spacy) (0.23)\n",
      "Requirement already satisfied, skipping upgrade: tqdm<5.0.0,>=4.10.0 in c:\\users\\kanimozhi.u\\appdata\\local\\continuum\\anaconda3\\lib\\site-packages (from thinc<7.4.0,>=7.3.0->spacy) (4.36.1)\n",
      "Requirement already satisfied, skipping upgrade: urllib3!=1.25.0,!=1.25.1,<1.26,>=1.21.1 in c:\\users\\kanimozhi.u\\appdata\\local\\continuum\\anaconda3\\lib\\site-packages (from requests<3.0.0,>=2.13.0->spacy) (1.24.2)\n",
      "Requirement already satisfied, skipping upgrade: idna<2.9,>=2.5 in c:\\users\\kanimozhi.u\\appdata\\local\\continuum\\anaconda3\\lib\\site-packages (from requests<3.0.0,>=2.13.0->spacy) (2.8)\n",
      "Requirement already satisfied, skipping upgrade: chardet<3.1.0,>=3.0.2 in c:\\users\\kanimozhi.u\\appdata\\local\\continuum\\anaconda3\\lib\\site-packages (from requests<3.0.0,>=2.13.0->spacy) (3.0.4)\n",
      "Requirement already satisfied, skipping upgrade: certifi>=2017.4.17 in c:\\users\\kanimozhi.u\\appdata\\local\\continuum\\anaconda3\\lib\\site-packages (from requests<3.0.0,>=2.13.0->spacy) (2019.9.11)\n",
      "Requirement already satisfied, skipping upgrade: zipp>=0.5 in c:\\users\\kanimozhi.u\\appdata\\local\\continuum\\anaconda3\\lib\\site-packages (from importlib-metadata>=0.20; python_version < \"3.8\"->catalogue<1.1.0,>=0.0.7->spacy) (0.6.0)\n",
      "Requirement already satisfied, skipping upgrade: more-itertools in c:\\users\\kanimozhi.u\\appdata\\local\\continuum\\anaconda3\\lib\\site-packages (from zipp>=0.5->importlib-metadata>=0.20; python_version < \"3.8\"->catalogue<1.1.0,>=0.0.7->spacy) (7.2.0)\n",
      "Collecting spacy-lookups-data\n",
      "  Downloading https://files.pythonhosted.org/packages/3c/f1/be61b032e02a06a221e14f906dc251de90ac459dc2739f0c5225844ecb08/spacy_lookups_data-0.2.0.tar.gz (29.2MB)\n",
      "Requirement already satisfied, skipping upgrade: setuptools in c:\\users\\kanimozhi.u\\appdata\\local\\continuum\\anaconda3\\lib\\site-packages (from spacy-lookups-data) (41.4.0)\n",
      "Building wheels for collected packages: spacy-lookups-data\n",
      "  Building wheel for spacy-lookups-data (setup.py): started\n",
      "  Building wheel for spacy-lookups-data (setup.py): finished with status 'done'\n",
      "  Created wheel for spacy-lookups-data: filename=spacy_lookups_data-0.2.0-py2.py3-none-any.whl size=29164786 sha256=40db16a3ec7c1b0e3cef85c3fb902283e9c267f05784b102d41126e9896e4764\n",
      "  Stored in directory: C:\\Users\\kanimozhi.u\\AppData\\Local\\pip\\Cache\\wheels\\79\\a4\\b8\\6085d282396938b29675292697e72871b145990d0079ceadc1\n",
      "Successfully built spacy-lookups-data\n",
      "Installing collected packages: spacy-lookups-data\n",
      "Successfully installed spacy-lookups-data-0.2.0\n",
      "Requirement already satisfied: en_core_web_sm==2.2.5 from https://github.com/explosion/spacy-models/releases/download/en_core_web_sm-2.2.5/en_core_web_sm-2.2.5.tar.gz#egg=en_core_web_sm==2.2.5 in c:\\users\\kanimozhi.u\\appdata\\local\\continuum\\anaconda3\\lib\\site-packages (2.2.5)\n",
      "Requirement already satisfied: spacy>=2.2.2 in c:\\users\\kanimozhi.u\\appdata\\local\\continuum\\anaconda3\\lib\\site-packages (from en_core_web_sm==2.2.5) (2.2.3)\n",
      "Requirement already satisfied: numpy>=1.15.0 in c:\\users\\kanimozhi.u\\appdata\\local\\continuum\\anaconda3\\lib\\site-packages (from spacy>=2.2.2->en_core_web_sm==2.2.5) (1.16.5)\n",
      "Requirement already satisfied: plac<1.2.0,>=0.9.6 in c:\\users\\kanimozhi.u\\appdata\\local\\continuum\\anaconda3\\lib\\site-packages (from spacy>=2.2.2->en_core_web_sm==2.2.5) (1.1.3)\n",
      "Requirement already satisfied: srsly<1.1.0,>=0.1.0 in c:\\users\\kanimozhi.u\\appdata\\local\\continuum\\anaconda3\\lib\\site-packages (from spacy>=2.2.2->en_core_web_sm==2.2.5) (1.0.1)\n",
      "Requirement already satisfied: blis<0.5.0,>=0.4.0 in c:\\users\\kanimozhi.u\\appdata\\local\\continuum\\anaconda3\\lib\\site-packages (from spacy>=2.2.2->en_core_web_sm==2.2.5) (0.4.1)\n",
      "Requirement already satisfied: cymem<2.1.0,>=2.0.2 in c:\\users\\kanimozhi.u\\appdata\\local\\continuum\\anaconda3\\lib\\site-packages (from spacy>=2.2.2->en_core_web_sm==2.2.5) (2.0.3)\n",
      "Requirement already satisfied: requests<3.0.0,>=2.13.0 in c:\\users\\kanimozhi.u\\appdata\\local\\continuum\\anaconda3\\lib\\site-packages (from spacy>=2.2.2->en_core_web_sm==2.2.5) (2.22.0)\n",
      "Requirement already satisfied: preshed<3.1.0,>=3.0.2 in c:\\users\\kanimozhi.u\\appdata\\local\\continuum\\anaconda3\\lib\\site-packages (from spacy>=2.2.2->en_core_web_sm==2.2.5) (3.0.2)\n",
      "Requirement already satisfied: catalogue<1.1.0,>=0.0.7 in c:\\users\\kanimozhi.u\\appdata\\local\\continuum\\anaconda3\\lib\\site-packages (from spacy>=2.2.2->en_core_web_sm==2.2.5) (1.0.0)\n",
      "Requirement already satisfied: wasabi<1.1.0,>=0.4.0 in c:\\users\\kanimozhi.u\\appdata\\local\\continuum\\anaconda3\\lib\\site-packages (from spacy>=2.2.2->en_core_web_sm==2.2.5) (0.6.0)\n",
      "Requirement already satisfied: setuptools in c:\\users\\kanimozhi.u\\appdata\\local\\continuum\\anaconda3\\lib\\site-packages (from spacy>=2.2.2->en_core_web_sm==2.2.5) (41.4.0)\n",
      "Requirement already satisfied: thinc<7.4.0,>=7.3.0 in c:\\users\\kanimozhi.u\\appdata\\local\\continuum\\anaconda3\\lib\\site-packages (from spacy>=2.2.2->en_core_web_sm==2.2.5) (7.3.1)\n",
      "Requirement already satisfied: murmurhash<1.1.0,>=0.28.0 in c:\\users\\kanimozhi.u\\appdata\\local\\continuum\\anaconda3\\lib\\site-packages (from spacy>=2.2.2->en_core_web_sm==2.2.5) (1.0.2)\n",
      "Requirement already satisfied: certifi>=2017.4.17 in c:\\users\\kanimozhi.u\\appdata\\local\\continuum\\anaconda3\\lib\\site-packages (from requests<3.0.0,>=2.13.0->spacy>=2.2.2->en_core_web_sm==2.2.5) (2019.9.11)\n",
      "Requirement already satisfied: urllib3!=1.25.0,!=1.25.1,<1.26,>=1.21.1 in c:\\users\\kanimozhi.u\\appdata\\local\\continuum\\anaconda3\\lib\\site-packages (from requests<3.0.0,>=2.13.0->spacy>=2.2.2->en_core_web_sm==2.2.5) (1.24.2)\n",
      "Requirement already satisfied: chardet<3.1.0,>=3.0.2 in c:\\users\\kanimozhi.u\\appdata\\local\\continuum\\anaconda3\\lib\\site-packages (from requests<3.0.0,>=2.13.0->spacy>=2.2.2->en_core_web_sm==2.2.5) (3.0.4)\n",
      "Requirement already satisfied: idna<2.9,>=2.5 in c:\\users\\kanimozhi.u\\appdata\\local\\continuum\\anaconda3\\lib\\site-packages (from requests<3.0.0,>=2.13.0->spacy>=2.2.2->en_core_web_sm==2.2.5) (2.8)\n",
      "Requirement already satisfied: importlib-metadata>=0.20; python_version < \"3.8\" in c:\\users\\kanimozhi.u\\appdata\\local\\continuum\\anaconda3\\lib\\site-packages (from catalogue<1.1.0,>=0.0.7->spacy>=2.2.2->en_core_web_sm==2.2.5) (0.23)\n",
      "Requirement already satisfied: tqdm<5.0.0,>=4.10.0 in c:\\users\\kanimozhi.u\\appdata\\local\\continuum\\anaconda3\\lib\\site-packages (from thinc<7.4.0,>=7.3.0->spacy>=2.2.2->en_core_web_sm==2.2.5) (4.36.1)\n",
      "Requirement already satisfied: zipp>=0.5 in c:\\users\\kanimozhi.u\\appdata\\local\\continuum\\anaconda3\\lib\\site-packages (from importlib-metadata>=0.20; python_version < \"3.8\"->catalogue<1.1.0,>=0.0.7->spacy>=2.2.2->en_core_web_sm==2.2.5) (0.6.0)\n",
      "Requirement already satisfied: more-itertools in c:\\users\\kanimozhi.u\\appdata\\local\\continuum\\anaconda3\\lib\\site-packages (from zipp>=0.5->importlib-metadata>=0.20; python_version < \"3.8\"->catalogue<1.1.0,>=0.0.7->spacy>=2.2.2->en_core_web_sm==2.2.5) (7.2.0)\n",
      "[+] Download and installation successful\n",
      "You can now load the model via spacy.load('en_core_web_sm')\n"
     ]
    }
   ],
   "source": [
    "import sys\n",
    "#!{sys.executable} -m pip install spacy\n",
    "#!{sys.executable} -m spacy download en\n",
    "\n",
    "!pip install -U spacy\n",
    "!pip install -U spacy-lookups-data\n",
    "!python -m spacy download en_core_web_sm\n"
   ]
  },
  {
   "cell_type": "code",
   "execution_count": 55,
   "metadata": {},
   "outputs": [
    {
     "name": "stdout",
     "output_type": "stream",
     "text": [
      "We nsubj had AUX []\n",
      "had ROOT had AUX [We, BLT, .]\n",
      "a det BLT PROPN []\n",
      "delicious amod BLT PROPN []\n",
      "BLT dobj had AUX [a, delicious]\n",
      ". punct had AUX []\n",
      "Great amod coffee NOUN []\n",
      "coffee ROOT coffee NOUN [Great, .]\n",
      ". punct coffee NOUN []\n",
      "Excellent amod service NOUN []\n",
      "customer compound service NOUN []\n",
      "service ROOT service NOUN [Excellent, customer, .]\n",
      ". punct service NOUN []\n",
      "Fantastic amod vibe NOUN []\n",
      "vibe ROOT vibe NOUN [Fantastic, .]\n",
      ". punct vibe NOUN []\n",
      "Enjoyed ROOT Enjoyed VERB [artwork, .]\n",
      "the det artwork NOUN []\n",
      "artwork dobj Enjoyed VERB [the, on]\n",
      "on prep artwork NOUN [wall]\n",
      "the det wall NOUN []\n",
      "wall pobj on ADP [the]\n",
      ". punct Enjoyed VERB []\n"
     ]
    }
   ],
   "source": [
    "import spacy\n",
    "\n",
    "nlp = spacy.load(\"en_core_web_sm\")\n",
    "#doc = nlp(\"Autonomous cars shift insurance liability toward manufacturers\")\n",
    "doc = nlp(\"We had a delicious BLT. Great coffee. Excellent customer service. Fantastic vibe. Enjoyed the artwork on the wall.\")\n",
    "for token in doc:\n",
    "    print(token.text, token.dep_, token.head.text, token.head.pos_,\n",
    "            [child for child in token.children])"
   ]
  },
  {
   "cell_type": "code",
   "execution_count": 66,
   "metadata": {},
   "outputs": [
    {
     "name": "stdout",
     "output_type": "stream",
     "text": [
      "We\n",
      "a delicious BLT\n",
      "Great coffee\n",
      "Excellent customer service\n",
      "Fantastic vibe\n",
      "the artwork\n",
      "the wall\n"
     ]
    }
   ],
   "source": [
    "#doc = nlp(\"Autonomous cars shift insurance liability toward manufacturers\")\n",
    "doc = nlp(\"We had a delicious BLT. Great coffee. Excellent customer service. Fantastic vibe. Enjoyed the artwork on the wall.\")\n",
    "for chunk in doc.noun_chunks:\n",
    "    #print(chunk.text, chunk.root.text, chunk.root.dep_,\n",
    "    #       chunk.root.head.text)\n",
    "    print(chunk.text)"
   ]
  },
  {
   "cell_type": "code",
   "execution_count": 68,
   "metadata": {},
   "outputs": [],
   "source": [
    "london_df = pd.read_pickle('C:/Users/kanimozhi.u/Downloads/london_dependency_pharser.pkl')"
   ]
  },
  {
   "cell_type": "code",
   "execution_count": 75,
   "metadata": {},
   "outputs": [
    {
     "data": {
      "text/plain": [
       "0       [The staff, this branch, Nando, the wood, the ...\n",
       "1       [The most tasty chicken, town, their famous Pi...\n",
       "2                                   [you, a wet cold day]\n",
       "3       [my late wife’s ashes, Tottenham Cemetery, Che...\n",
       "4       [Great local pub, brews, Tottenhams, Nice vibe...\n",
       "                              ...                        \n",
       "1495    [Fantastic place, the cocktails, the food, A g...\n",
       "1496    [the few locations, Central London, We, the ch...\n",
       "1497    [This restaurant, PHENOMENAL taquitos, The res...\n",
       "1498    [This place, Excellent food, great prices, amb...\n",
       "1499    [5 stars, Jose, the bartander, he, our night, we]\n",
       "Name: dep_pharser, Length: 1500, dtype: object"
      ]
     },
     "execution_count": 75,
     "metadata": {},
     "output_type": "execute_result"
    }
   ],
   "source": [
    "london_df['dep_pharser']"
   ]
  },
  {
   "cell_type": "code",
   "execution_count": 78,
   "metadata": {},
   "outputs": [
    {
     "data": {
      "text/plain": [
       "['The resurgent Antwerp Arms',\n",
       " 'our pub',\n",
       " 'choice',\n",
       " 'match days',\n",
       " 'the developers',\n",
       " 'several local benefactors',\n",
       " 'THFC',\n",
       " 'themselves',\n",
       " 'the deadline',\n",
       " 'This community',\n",
       " 'a one-room affair',\n",
       " 'a modern bare-boarded floor',\n",
       " 'the edges',\n",
       " 'normal tables',\n",
       " 'chairs',\n",
       " 'The pub',\n",
       " 'the back',\n",
       " 'the addition',\n",
       " 'a conservatory',\n",
       " 'the small secluded courtyard garden outback',\n",
       " 'the sun',\n",
       " 'match days',\n",
       " 'at least two beers',\n",
       " 'the nearby Redemption brewery',\n",
       " 'it',\n",
       " 'the Redeption Hotspur',\n",
       " 'it',\n",
       " 'a well-kept pint',\n",
       " 'a short walk',\n",
       " 'the Tottenham High road',\n",
       " 'the Antwerp',\n",
       " 'a delightful setting',\n",
       " 'Bruce Castle Park']"
      ]
     },
     "execution_count": 78,
     "metadata": {},
     "output_type": "execute_result"
    }
   ],
   "source": [
    "london_df['dep_pharser'][6]"
   ]
  },
  {
   "cell_type": "code",
   "execution_count": 20,
   "metadata": {},
   "outputs": [
    {
     "name": "stdout",
     "output_type": "stream",
     "text": [
      "BLT 19 22 ORG\n"
     ]
    }
   ],
   "source": [
    "import spacy\n",
    "\n",
    "nlp = spacy.load(\"en_core_web_sm\")\n",
    "#doc = nlp(\"Apple is looking at buying U.K. startup for $1 billion\")\n",
    "doc = nlp(\"We had a delicious BLT. Great coffee. Excellent customer service. Fantastic vibe. Enjoyed the artwork on the wall.\")\n",
    "\n",
    "for ent in doc.ents:\n",
    "    print(ent.text, ent.start_char, ent.end_char, ent.label_)"
   ]
  },
  {
   "cell_type": "code",
   "execution_count": 79,
   "metadata": {},
   "outputs": [
    {
     "data": {
      "text/plain": [
       "'The resurgent Antwerp Arms is now our pub of choice for match days. Saved from the developers when several local benefactors, including THFC themselves, stepped up to raise the final £125,000 needed before the deadline. This community owned pub is a one-room affair with a modern bare-boarded floor, and mainly furnished with banquette seating around the edges and normal tables and chairs elsewhere throughout. The pub has been extended at the back with the addition of a conservatory and this leads out to the small secluded courtyard garden outback which is pleasant when the sun is out and a boon on match days. Usually at least two beers available from the nearby Redemption brewery and it would be rude not to drink the Redeption Hotspur and it’s usually a well-kept pint. Although slightly out the way, despite being a short walk to the Tottenham High road, the Antwerp does benefits from a delightful setting overlooking Bruce Castle Park.'"
      ]
     },
     "execution_count": 79,
     "metadata": {},
     "output_type": "execute_result"
    }
   ],
   "source": [
    "london_df['text'][6]"
   ]
  },
  {
   "cell_type": "code",
   "execution_count": null,
   "metadata": {},
   "outputs": [],
   "source": []
  },
  {
   "cell_type": "code",
   "execution_count": 27,
   "metadata": {},
   "outputs": [
    {
     "data": {
      "text/plain": [
       "[(New York City, 'GPE', 384),\n",
       " (Tuesday, 'DATE', 391),\n",
       " (At least 285, 'CARDINAL', 397),\n",
       " (September, 'DATE', 391),\n",
       " (Brooklyn, 'GPE', 384),\n",
       " (Williamsburg, 'GPE', 384),\n",
       " (four, 'CARDINAL', 397),\n",
       " (Bill de Blasio, 'PERSON', 380),\n",
       " (Tuesday, 'DATE', 391),\n",
       " (Orthodox Jews, 'PERSON', 380),\n",
       " (6 months old, 'DATE', 391),\n",
       " (up to $1,000, 'MONEY', 394)]"
      ]
     },
     "execution_count": 27,
     "metadata": {},
     "output_type": "execute_result"
    }
   ],
   "source": [
    "#for visualization of Entity detection importing displacy from spacy:\n",
    "\n",
    "from spacy import displacy\n",
    "\n",
    "nytimes= nlp(u\"\"\"New York City on Tuesday declared a public health emergency and ordered mandatory measles vaccinations amid an outbreak, becoming the latest national flash point over refusals to inoculate against dangerous diseases.\n",
    "\n",
    "At least 285 people have contracted measles in the city since September, mostly in Brooklyn’s Williamsburg neighborhood. The order covers four Zip codes there, Mayor Bill de Blasio (D) said Tuesday.\n",
    "\n",
    "The mandate orders all unvaccinated people in the area, including a concentration of Orthodox Jews, to receive inoculations, including for children as young as 6 months old. Anyone who resists could be fined up to $1,000.\"\"\")\n",
    "\n",
    "#doc = nlp(\"We had a delicious BLT. Great coffee. Excellent customer service. Fantastic vibe. Enjoyed the artwork on the wall.\")\n",
    "entities=[(i, i.label_, i.label) for i in nytimes.ents]\n",
    "#entities=[(i, i.label_, i.label) for i in doc.ents]\n",
    "\n",
    "entities\n"
   ]
  },
  {
   "cell_type": "code",
   "execution_count": 28,
   "metadata": {
    "scrolled": true
   },
   "outputs": [
    {
     "data": {
      "text/html": [
       "<div class=\"entities\" style=\"line-height: 2.5; direction: ltr\">\n",
       "<mark class=\"entity\" style=\"background: #feca74; padding: 0.45em 0.6em; margin: 0 0.25em; line-height: 1; border-radius: 0.35em;\">\n",
       "    New York City\n",
       "    <span style=\"font-size: 0.8em; font-weight: bold; line-height: 1; border-radius: 0.35em; text-transform: uppercase; vertical-align: middle; margin-left: 0.5rem\">GPE</span>\n",
       "</mark>\n",
       " on \n",
       "<mark class=\"entity\" style=\"background: #bfe1d9; padding: 0.45em 0.6em; margin: 0 0.25em; line-height: 1; border-radius: 0.35em;\">\n",
       "    Tuesday\n",
       "    <span style=\"font-size: 0.8em; font-weight: bold; line-height: 1; border-radius: 0.35em; text-transform: uppercase; vertical-align: middle; margin-left: 0.5rem\">DATE</span>\n",
       "</mark>\n",
       " declared a public health emergency and ordered mandatory measles vaccinations amid an outbreak, becoming the latest national flash point over refusals to inoculate against dangerous diseases.</br></br>\n",
       "<mark class=\"entity\" style=\"background: #e4e7d2; padding: 0.45em 0.6em; margin: 0 0.25em; line-height: 1; border-radius: 0.35em;\">\n",
       "    At least 285\n",
       "    <span style=\"font-size: 0.8em; font-weight: bold; line-height: 1; border-radius: 0.35em; text-transform: uppercase; vertical-align: middle; margin-left: 0.5rem\">CARDINAL</span>\n",
       "</mark>\n",
       " people have contracted measles in the city since \n",
       "<mark class=\"entity\" style=\"background: #bfe1d9; padding: 0.45em 0.6em; margin: 0 0.25em; line-height: 1; border-radius: 0.35em;\">\n",
       "    September\n",
       "    <span style=\"font-size: 0.8em; font-weight: bold; line-height: 1; border-radius: 0.35em; text-transform: uppercase; vertical-align: middle; margin-left: 0.5rem\">DATE</span>\n",
       "</mark>\n",
       ", mostly in \n",
       "<mark class=\"entity\" style=\"background: #feca74; padding: 0.45em 0.6em; margin: 0 0.25em; line-height: 1; border-radius: 0.35em;\">\n",
       "    Brooklyn\n",
       "    <span style=\"font-size: 0.8em; font-weight: bold; line-height: 1; border-radius: 0.35em; text-transform: uppercase; vertical-align: middle; margin-left: 0.5rem\">GPE</span>\n",
       "</mark>\n",
       "’s \n",
       "<mark class=\"entity\" style=\"background: #feca74; padding: 0.45em 0.6em; margin: 0 0.25em; line-height: 1; border-radius: 0.35em;\">\n",
       "    Williamsburg\n",
       "    <span style=\"font-size: 0.8em; font-weight: bold; line-height: 1; border-radius: 0.35em; text-transform: uppercase; vertical-align: middle; margin-left: 0.5rem\">GPE</span>\n",
       "</mark>\n",
       " neighborhood. The order covers \n",
       "<mark class=\"entity\" style=\"background: #e4e7d2; padding: 0.45em 0.6em; margin: 0 0.25em; line-height: 1; border-radius: 0.35em;\">\n",
       "    four\n",
       "    <span style=\"font-size: 0.8em; font-weight: bold; line-height: 1; border-radius: 0.35em; text-transform: uppercase; vertical-align: middle; margin-left: 0.5rem\">CARDINAL</span>\n",
       "</mark>\n",
       " Zip codes there, Mayor \n",
       "<mark class=\"entity\" style=\"background: #aa9cfc; padding: 0.45em 0.6em; margin: 0 0.25em; line-height: 1; border-radius: 0.35em;\">\n",
       "    Bill de Blasio\n",
       "    <span style=\"font-size: 0.8em; font-weight: bold; line-height: 1; border-radius: 0.35em; text-transform: uppercase; vertical-align: middle; margin-left: 0.5rem\">PERSON</span>\n",
       "</mark>\n",
       " (D) said \n",
       "<mark class=\"entity\" style=\"background: #bfe1d9; padding: 0.45em 0.6em; margin: 0 0.25em; line-height: 1; border-radius: 0.35em;\">\n",
       "    Tuesday\n",
       "    <span style=\"font-size: 0.8em; font-weight: bold; line-height: 1; border-radius: 0.35em; text-transform: uppercase; vertical-align: middle; margin-left: 0.5rem\">DATE</span>\n",
       "</mark>\n",
       ".</br></br>The mandate orders all unvaccinated people in the area, including a concentration of \n",
       "<mark class=\"entity\" style=\"background: #aa9cfc; padding: 0.45em 0.6em; margin: 0 0.25em; line-height: 1; border-radius: 0.35em;\">\n",
       "    Orthodox Jews\n",
       "    <span style=\"font-size: 0.8em; font-weight: bold; line-height: 1; border-radius: 0.35em; text-transform: uppercase; vertical-align: middle; margin-left: 0.5rem\">PERSON</span>\n",
       "</mark>\n",
       ", to receive inoculations, including for children as young as \n",
       "<mark class=\"entity\" style=\"background: #bfe1d9; padding: 0.45em 0.6em; margin: 0 0.25em; line-height: 1; border-radius: 0.35em;\">\n",
       "    6 months old\n",
       "    <span style=\"font-size: 0.8em; font-weight: bold; line-height: 1; border-radius: 0.35em; text-transform: uppercase; vertical-align: middle; margin-left: 0.5rem\">DATE</span>\n",
       "</mark>\n",
       ". Anyone who resists could be fined \n",
       "<mark class=\"entity\" style=\"background: #e4e7d2; padding: 0.45em 0.6em; margin: 0 0.25em; line-height: 1; border-radius: 0.35em;\">\n",
       "    up to $1,000\n",
       "    <span style=\"font-size: 0.8em; font-weight: bold; line-height: 1; border-radius: 0.35em; text-transform: uppercase; vertical-align: middle; margin-left: 0.5rem\">MONEY</span>\n",
       "</mark>\n",
       ".</div>"
      ],
      "text/plain": [
       "<IPython.core.display.HTML object>"
      ]
     },
     "metadata": {},
     "output_type": "display_data"
    }
   ],
   "source": [
    "displacy.render(nytimes, style = \"ent\",jupyter = True)\n",
    "#displacy.render(doc, style = \"ent\",jupyter = True)\n"
   ]
  },
  {
   "cell_type": "code",
   "execution_count": 81,
   "metadata": {},
   "outputs": [],
   "source": [
    "london_df = pd.read_pickle('C:/Users/kanimozhi.u/Downloads/london_cleansed_phrases.pkl')"
   ]
  },
  {
   "cell_type": "code",
   "execution_count": 86,
   "metadata": {},
   "outputs": [
    {
     "data": {
      "text/html": [
       "<div>\n",
       "<style scoped>\n",
       "    .dataframe tbody tr th:only-of-type {\n",
       "        vertical-align: middle;\n",
       "    }\n",
       "\n",
       "    .dataframe tbody tr th {\n",
       "        vertical-align: top;\n",
       "    }\n",
       "\n",
       "    .dataframe thead th {\n",
       "        text-align: right;\n",
       "    }\n",
       "</style>\n",
       "<table border=\"1\" class=\"dataframe\">\n",
       "  <thead>\n",
       "    <tr style=\"text-align: right;\">\n",
       "      <th></th>\n",
       "      <th>keys</th>\n",
       "      <th>counts</th>\n",
       "      <th>keys_pos</th>\n",
       "      <th>word_list</th>\n",
       "      <th>word_length</th>\n",
       "      <th>word_cleansed</th>\n",
       "      <th>keys_cleansed</th>\n",
       "      <th>cleansed_len</th>\n",
       "    </tr>\n",
       "  </thead>\n",
       "  <tbody>\n",
       "    <tr>\n",
       "      <td>0</td>\n",
       "      <td>the usual standard</td>\n",
       "      <td>1</td>\n",
       "      <td>[DET, ADJ, NOUN]</td>\n",
       "      <td>[usual, standard]</td>\n",
       "      <td>3</td>\n",
       "      <td>NaN</td>\n",
       "      <td>usual standard</td>\n",
       "      <td>2</td>\n",
       "    </tr>\n",
       "    <tr>\n",
       "      <td>1</td>\n",
       "      <td>The most tasty chicken</td>\n",
       "      <td>1</td>\n",
       "      <td>[DET, ADV, ADJ, NOUN]</td>\n",
       "      <td>[most, tasty, chicken]</td>\n",
       "      <td>4</td>\n",
       "      <td>NaN</td>\n",
       "      <td>most tasty chicken</td>\n",
       "      <td>3</td>\n",
       "    </tr>\n",
       "    <tr>\n",
       "      <td>2</td>\n",
       "      <td>their famous Piri piri sauce</td>\n",
       "      <td>1</td>\n",
       "      <td>[ADJ, ADJ, PROPN, NOUN, NOUN]</td>\n",
       "      <td>[their, famous, Piri, piri, sauce]</td>\n",
       "      <td>5</td>\n",
       "      <td>NaN</td>\n",
       "      <td>their famous Piri piri sauce</td>\n",
       "      <td>5</td>\n",
       "    </tr>\n",
       "    <tr>\n",
       "      <td>3</td>\n",
       "      <td>Goid service</td>\n",
       "      <td>1</td>\n",
       "      <td>[NOUN, NOUN]</td>\n",
       "      <td>[Goid, service]</td>\n",
       "      <td>2</td>\n",
       "      <td>NaN</td>\n",
       "      <td>Goid service</td>\n",
       "      <td>2</td>\n",
       "    </tr>\n",
       "    <tr>\n",
       "      <td>4</td>\n",
       "      <td>Arsenal match days</td>\n",
       "      <td>1</td>\n",
       "      <td>[ADJ, NOUN, NOUN]</td>\n",
       "      <td>[Arsenal, match, days]</td>\n",
       "      <td>3</td>\n",
       "      <td>NaN</td>\n",
       "      <td>Arsenal match days</td>\n",
       "      <td>3</td>\n",
       "    </tr>\n",
       "  </tbody>\n",
       "</table>\n",
       "</div>"
      ],
      "text/plain": [
       "                           keys  counts                       keys_pos  \\\n",
       "0            the usual standard       1               [DET, ADJ, NOUN]   \n",
       "1        The most tasty chicken       1          [DET, ADV, ADJ, NOUN]   \n",
       "2  their famous Piri piri sauce       1  [ADJ, ADJ, PROPN, NOUN, NOUN]   \n",
       "3                  Goid service       1                   [NOUN, NOUN]   \n",
       "4            Arsenal match days       1              [ADJ, NOUN, NOUN]   \n",
       "\n",
       "                            word_list  word_length  word_cleansed  \\\n",
       "0                   [usual, standard]            3            NaN   \n",
       "1              [most, tasty, chicken]            4            NaN   \n",
       "2  [their, famous, Piri, piri, sauce]            5            NaN   \n",
       "3                     [Goid, service]            2            NaN   \n",
       "4              [Arsenal, match, days]            3            NaN   \n",
       "\n",
       "                  keys_cleansed  cleansed_len  \n",
       "0                usual standard             2  \n",
       "1            most tasty chicken             3  \n",
       "2  their famous Piri piri sauce             5  \n",
       "3                  Goid service             2  \n",
       "4            Arsenal match days             3  "
      ]
     },
     "execution_count": 86,
     "metadata": {},
     "output_type": "execute_result"
    }
   ],
   "source": [
    "london_df.head()"
   ]
  },
  {
   "cell_type": "code",
   "execution_count": 87,
   "metadata": {},
   "outputs": [
    {
     "data": {
      "text/plain": [
       "keys              object\n",
       "counts             int64\n",
       "keys_pos          object\n",
       "word_list         object\n",
       "word_length        int64\n",
       "word_cleansed    float64\n",
       "keys_cleansed     object\n",
       "cleansed_len       int64\n",
       "dtype: object"
      ]
     },
     "execution_count": 87,
     "metadata": {},
     "output_type": "execute_result"
    }
   ],
   "source": [
    "london_df.dtypes"
   ]
  },
  {
   "cell_type": "code",
   "execution_count": 89,
   "metadata": {},
   "outputs": [
    {
     "data": {
      "text/plain": [
       "Index(['keys', 'counts', 'keys_pos', 'word_list', 'word_length',\n",
       "       'word_cleansed', 'keys_cleansed', 'cleansed_len'],\n",
       "      dtype='object')"
      ]
     },
     "execution_count": 89,
     "metadata": {},
     "output_type": "execute_result"
    }
   ],
   "source": [
    "london_df.columns"
   ]
  },
  {
   "cell_type": "code",
   "execution_count": 103,
   "metadata": {},
   "outputs": [
    {
     "data": {
      "text/plain": [
       "Mexican food         4\n",
       "waiting staff        4\n",
       "wine list            4\n",
       "little gem           4\n",
       "interactive table    4\n",
       "nice place           4\n",
       "wine selection       4\n",
       "small plates         4\n",
       "beef tataki          3\n",
       "open kitchen         3\n",
       "relaxed ambience     3\n",
       "main courses         3\n",
       "next time            3\n",
       "carrot cake          3\n",
       "Tate Modern          3\n",
       "Asian tapas          3\n",
       "set menu             3\n",
       "smaller plates       3\n",
       "main course          3\n",
       "great food           3\n",
       "Name: keys_cleansed, dtype: int64"
      ]
     },
     "execution_count": 103,
     "metadata": {},
     "output_type": "execute_result"
    }
   ],
   "source": [
    "london_df['keys_cleansed'].value_counts().head(20)"
   ]
  },
  {
   "cell_type": "code",
   "execution_count": 1,
   "metadata": {},
   "outputs": [],
   "source": [
    "#for i in range(len(london_df)):\n",
    "    #print(london_df['keys_cleansed'][i])"
   ]
  },
  {
   "cell_type": "code",
   "execution_count": 1,
   "metadata": {},
   "outputs": [],
   "source": [
    "# Import Spark NLP            \n",
    "from sparknlp.base import *\n",
    "from sparknlp.annotator import *\n",
    "from sparknlp.embeddings import *\n",
    "from sparknlp.pretrained import PretrainedPipeline\n",
    "import sparknlp"
   ]
  },
  {
   "cell_type": "code",
   "execution_count": 4,
   "metadata": {},
   "outputs": [],
   "source": [
    "\n",
    "#dependency_parser = DependencyParserApproach() \\\n",
    " #           .setInputCols([\"sentence\", \"pos\", \"token\"]) \\\n",
    "  #          .setOutputCol(\"dependency\") \\\n",
    "   #         .setDependencyTreeBank(\"file://parser/dependency_treebank\") \\\n",
    "    #        .setNumberOfIterations(10)"
   ]
  },
  {
   "cell_type": "code",
   "execution_count": 10,
   "metadata": {},
   "outputs": [
    {
     "name": "stdout",
     "output_type": "stream",
     "text": [
      " We\n",
      "a delicious BLT\n",
      "Great coffee\n",
      "Excellent customer service\n",
      "Fantastic vibe\n",
      "the artwork\n",
      "the wall\n"
     ]
    }
   ],
   "source": [
    "\n",
    "import spacy\n",
    "nlp = spacy.load(\"en_core_web_sm\")\n",
    "docp = nlp (\" We had a delicious BLT. Great coffee. Excellent customer service. Fantastic vibe. Enjoyed the artwork on the wall.\")\n",
    "\n",
    "for chunk in docp.noun_chunks:\n",
    "   #print(chunk.text, chunk.root.text, chunk.root.dep_,\n",
    "   #       chunk.root.head.text)\n",
    "    print(chunk.text)"
   ]
  },
  {
   "cell_type": "code",
   "execution_count": 1,
   "metadata": {},
   "outputs": [],
   "source": [
    "import pandas as pd\n",
    "import pickle\n",
    "Tags_df = pd.read_pickle('C:/Users/kanimozhi.u/Downloads/Tags_3city_iteration1_final.pkl')"
   ]
  },
  {
   "cell_type": "code",
   "execution_count": 2,
   "metadata": {},
   "outputs": [],
   "source": [
    "#Tags_df['filtered_tags'].value_counts().head(10)"
   ]
  },
  {
   "cell_type": "code",
   "execution_count": 1,
   "metadata": {},
   "outputs": [],
   "source": [
    "def dependency_parser_spacy(review_inp):\n",
    "    docinp = nlp(review_inp)\n",
    "    for token in docinp:\n",
    "        return [' '.join([token.text,token.head.text]) for token in docinp if token.dep_ in ['ccomp','csubjpass','amod','nmod','csubj','xcomp','nsubjpass','iobj']]"
   ]
  },
  {
   "cell_type": "code",
   "execution_count": 3,
   "metadata": {},
   "outputs": [
    {
     "name": "stdout",
     "output_type": "stream",
     "text": [
      "Using the default treebank \"en_ewt\" for language \"en\".\n",
      "Would you like to download the models for: en_ewt now? (Y/n)\n"
     ]
    },
    {
     "name": "stdin",
     "output_type": "stream",
     "text": [
      " n\n"
     ]
    },
    {
     "name": "stdout",
     "output_type": "stream",
     "text": [
      "Use device: cpu\n",
      "---\n",
      "Loading: tokenize\n",
      "With settings: \n",
      "{'model_path': 'C:\\\\Users\\\\kanimozhi.u\\\\stanfordnlp_resources\\\\en_ewt_models\\\\en_ewt_tokenizer.pt', 'lang': 'en', 'shorthand': 'en_ewt', 'mode': 'predict'}\n",
      "---\n",
      "Loading: pos\n",
      "With settings: \n",
      "{'model_path': 'C:\\\\Users\\\\kanimozhi.u\\\\stanfordnlp_resources\\\\en_ewt_models\\\\en_ewt_tagger.pt', 'pretrain_path': 'C:\\\\Users\\\\kanimozhi.u\\\\stanfordnlp_resources\\\\en_ewt_models\\\\en_ewt.pretrain.pt', 'lang': 'en', 'shorthand': 'en_ewt', 'mode': 'predict'}\n",
      "---\n",
      "Loading: lemma\n",
      "With settings: \n",
      "{'model_path': 'C:\\\\Users\\\\kanimozhi.u\\\\stanfordnlp_resources\\\\en_ewt_models\\\\en_ewt_lemmatizer.pt', 'lang': 'en', 'shorthand': 'en_ewt', 'mode': 'predict'}\n",
      "Building an attentional Seq2Seq model...\n",
      "Using a Bi-LSTM encoder\n",
      "Using soft attention for LSTM.\n",
      "Finetune all embeddings.\n",
      "[Running seq2seq lemmatizer with edit classifier]\n",
      "---\n",
      "Loading: depparse\n",
      "With settings: \n",
      "{'model_path': 'C:\\\\Users\\\\kanimozhi.u\\\\stanfordnlp_resources\\\\en_ewt_models\\\\en_ewt_parser.pt', 'pretrain_path': 'C:\\\\Users\\\\kanimozhi.u\\\\stanfordnlp_resources\\\\en_ewt_models\\\\en_ewt.pretrain.pt', 'lang': 'en', 'shorthand': 'en_ewt', 'mode': 'predict'}\n",
      "Done loading processors!\n",
      "---\n",
      "('Barack', '4', 'nsubj:pass')\n",
      "('Obama', '1', 'flat')\n",
      "('was', '4', 'aux:pass')\n",
      "('born', '0', 'root')\n",
      "('in', '6', 'case')\n",
      "('Hawaii', '4', 'obl')\n",
      "('.', '4', 'punct')\n"
     ]
    }
   ],
   "source": [
    "import stanfordnlp\n",
    "stanfordnlp.download('en')   # This downloads the English models for the neural pipeline\n",
    "nlp = stanfordnlp.Pipeline() # This sets up a default neural pipeline in English\n",
    "doc = nlp(\"Barack Obama was born in Hawaii.  He was elected president in 2008.\")\n",
    "doc.sentences[0].print_dependencies()"
   ]
  },
  {
   "cell_type": "code",
   "execution_count": null,
   "metadata": {},
   "outputs": [],
   "source": [
    "#The dependency relations used to express the context are nsubj, dobj, csujb, acomp, ccomp, and nsubjpass."
   ]
  }
 ],
 "metadata": {
  "kernelspec": {
   "display_name": "Python 3",
   "language": "python",
   "name": "python3"
  },
  "language_info": {
   "codemirror_mode": {
    "name": "ipython",
    "version": 3
   },
   "file_extension": ".py",
   "mimetype": "text/x-python",
   "name": "python",
   "nbconvert_exporter": "python",
   "pygments_lexer": "ipython3",
   "version": "3.7.4"
  }
 },
 "nbformat": 4,
 "nbformat_minor": 4
}
