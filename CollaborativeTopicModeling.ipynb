{
 "cells": [
  {
   "cell_type": "markdown",
   "metadata": {},
   "source": [
    "# Collaborative Topic Modeling in Python\n",
    "\n",
    "Model to build a scalable recommender system: Tested on steam Games data. \n",
    "Datasets(Open Source): \n",
    "- Steam 200k, containing information about per-game playtime for over 200k user-game interactions: https://www.kaggle.com/tamber/steam-video-games/version/1.\n",
    "- Steam games complete dataset, containing various information for over 40k different Steam games, including title and description: https://www.kaggle.com/trolukovich/steam-games-complete-dataset"
   ]
  },
  {
   "cell_type": "code",
   "execution_count": 3,
   "metadata": {},
   "outputs": [],
   "source": [
    "import pandas as pd\n",
    "import numpy as np\n",
    "import matplotlib.pyplot as plt"
   ]
  },
  {
   "cell_type": "code",
   "execution_count": 4,
   "metadata": {},
   "outputs": [
    {
     "data": {
      "text/html": [
       "<div>\n",
       "<style scoped>\n",
       "    .dataframe tbody tr th:only-of-type {\n",
       "        vertical-align: middle;\n",
       "    }\n",
       "\n",
       "    .dataframe tbody tr th {\n",
       "        vertical-align: top;\n",
       "    }\n",
       "\n",
       "    .dataframe thead th {\n",
       "        text-align: right;\n",
       "    }\n",
       "</style>\n",
       "<table border=\"1\" class=\"dataframe\">\n",
       "  <thead>\n",
       "    <tr style=\"text-align: right;\">\n",
       "      <th></th>\n",
       "      <th>name</th>\n",
       "      <th>game_description</th>\n",
       "    </tr>\n",
       "  </thead>\n",
       "  <tbody>\n",
       "    <tr>\n",
       "      <td>0</td>\n",
       "      <td>DOOM</td>\n",
       "      <td>Developed by id software, the studio that pion...</td>\n",
       "    </tr>\n",
       "    <tr>\n",
       "      <td>1</td>\n",
       "      <td>PLAYERUNKNOWN'S BATTLEGROUNDS</td>\n",
       "      <td>PLAYERUNKNOWN'S BATTLEGROUNDS is a battle roy...</td>\n",
       "    </tr>\n",
       "    <tr>\n",
       "      <td>2</td>\n",
       "      <td>BATTLETECH</td>\n",
       "      <td>From original BATTLETECH/MechWarrior creator ...</td>\n",
       "    </tr>\n",
       "    <tr>\n",
       "      <td>3</td>\n",
       "      <td>DayZ</td>\n",
       "      <td>The post-soviet country of Chernarus is struck...</td>\n",
       "    </tr>\n",
       "    <tr>\n",
       "      <td>6</td>\n",
       "      <td>Devil May Cry 5</td>\n",
       "      <td>The Devil you know returns in this brand new e...</td>\n",
       "    </tr>\n",
       "  </tbody>\n",
       "</table>\n",
       "</div>"
      ],
      "text/plain": [
       "                            name  \\\n",
       "0                           DOOM   \n",
       "1  PLAYERUNKNOWN'S BATTLEGROUNDS   \n",
       "2                     BATTLETECH   \n",
       "3                           DayZ   \n",
       "6                Devil May Cry 5   \n",
       "\n",
       "                                    game_description  \n",
       "0  Developed by id software, the studio that pion...  \n",
       "1   PLAYERUNKNOWN'S BATTLEGROUNDS is a battle roy...  \n",
       "2   From original BATTLETECH/MechWarrior creator ...  \n",
       "3  The post-soviet country of Chernarus is struck...  \n",
       "6  The Devil you know returns in this brand new e...  "
      ]
     },
     "execution_count": 4,
     "metadata": {},
     "output_type": "execute_result"
    }
   ],
   "source": [
    "games = pd.read_csv(\"steam_games.csv\")\n",
    "\n",
    "# keep only the columns of interest\n",
    "games = games.loc[:, [\"name\", \"game_description\"]]\n",
    "\n",
    "# Drop NaN game descriptions and names\n",
    "games = games[~games.game_description.isna()]\n",
    "games = games[~games.name.isna()]\n",
    "\n",
    "# Drop the introductory \" About This Game \" text\n",
    "games.game_description = games.game_description.apply(lambda x: x.replace(\" About This Game \", \"\"))\n",
    "games = games[games.game_description != \" \"]\n",
    "\n",
    "games.head(5)"
   ]
  },
  {
   "cell_type": "code",
   "execution_count": 5,
   "metadata": {},
   "outputs": [
    {
     "data": {
      "text/html": [
       "<div>\n",
       "<style scoped>\n",
       "    .dataframe tbody tr th:only-of-type {\n",
       "        vertical-align: middle;\n",
       "    }\n",
       "\n",
       "    .dataframe tbody tr th {\n",
       "        vertical-align: top;\n",
       "    }\n",
       "\n",
       "    .dataframe thead th {\n",
       "        text-align: right;\n",
       "    }\n",
       "</style>\n",
       "<table border=\"1\" class=\"dataframe\">\n",
       "  <thead>\n",
       "    <tr style=\"text-align: right;\">\n",
       "      <th></th>\n",
       "      <th>UserID</th>\n",
       "      <th>Title</th>\n",
       "      <th>Value</th>\n",
       "    </tr>\n",
       "  </thead>\n",
       "  <tbody>\n",
       "    <tr>\n",
       "      <td>1</td>\n",
       "      <td>151603712</td>\n",
       "      <td>The Elder Scrolls V Skyrim</td>\n",
       "      <td>0.023218</td>\n",
       "    </tr>\n",
       "    <tr>\n",
       "      <td>3</td>\n",
       "      <td>151603712</td>\n",
       "      <td>Fallout 4</td>\n",
       "      <td>0.007393</td>\n",
       "    </tr>\n",
       "    <tr>\n",
       "      <td>5</td>\n",
       "      <td>151603712</td>\n",
       "      <td>Spore</td>\n",
       "      <td>0.001259</td>\n",
       "    </tr>\n",
       "  </tbody>\n",
       "</table>\n",
       "</div>"
      ],
      "text/plain": [
       "      UserID                       Title     Value\n",
       "1  151603712  The Elder Scrolls V Skyrim  0.023218\n",
       "3  151603712                   Fallout 4  0.007393\n",
       "5  151603712                       Spore  0.001259"
      ]
     },
     "execution_count": 5,
     "metadata": {},
     "output_type": "execute_result"
    }
   ],
   "source": [
    "ratings = pd.read_csv(\"steam-200k.csv\", header = None)\n",
    "\n",
    "# drop last empty column\n",
    "ratings.drop(4, axis = 1, inplace=True)\n",
    "\n",
    "# rename columns\n",
    "ratings.columns = [\"UserID\", \"Title\", \"Action\", \"Value\"]\n",
    "\n",
    "# keep only \"play\" variables\n",
    "ratings = ratings[ratings.Action != \"purchase\"]\n",
    "# and drop the \"Action\" column, as now it is all \"play\"s\n",
    "ratings.drop(\"Action\", axis = 1, inplace = True)\n",
    "\n",
    "# to avoid multiplication overflow later on, constrain PlayTime \n",
    "# to be between 0 and 1\n",
    "pt = ratings.Value\n",
    "max_hours = pt.max()\n",
    "min_hours = pt.min()\n",
    "pt_scaled = (pt - min_hours) / (max_hours - min_hours)\n",
    "ratings.Value = pt_scaled\n",
    "\n",
    "ratings.head(3)"
   ]
  },
  {
   "cell_type": "code",
   "execution_count": 6,
   "metadata": {},
   "outputs": [
    {
     "name": "stdout",
     "output_type": "stream",
     "text": [
      "Found 1991 titles for which we have both rating and description. \n",
      "Started with 37805 in the games dataset and 3600 in the ratings dataset.\n"
     ]
    }
   ],
   "source": [
    "# lowercase and apply special character removal to increase compatibility between titles\n",
    "def lower_removedots(s):\n",
    "    chars = ['!', ',', '.', '-', \"'\", '?', \":\", \"  \"]\n",
    "    for char in chars:\n",
    "        s = s.replace(char, \"\")\n",
    "    return s.lower()\n",
    "\n",
    "games.name = games.name.apply(lambda x: lower_removedots(x))\n",
    "ratings.Title = ratings.Title.apply(lambda x: lower_removedots(x))\n",
    "\n",
    "\n",
    "titles_game = set(games.name.to_list())\n",
    "titles_ratings = set(ratings.Title.to_list())\n",
    "\n",
    "# save the list of titles for which we have both rating and description\n",
    "intersection = titles_game.intersection(titles_ratings)\n",
    "\n",
    "print(f\"\"\"Found {len(intersection)} titles for which we have both rating and description. \n",
    "Started with {len(titles_game)} in the games dataset and {len(titles_ratings)} in the ratings dataset.\"\"\")"
   ]
  },
  {
   "cell_type": "code",
   "execution_count": 7,
   "metadata": {},
   "outputs": [
    {
     "name": "stdout",
     "output_type": "stream",
     "text": [
      "Found 9 duplicate entries in the games dataset.\n",
      "Found 0 duplicate entries in the games dataset.\n",
      "Dataset game entries match.\n"
     ]
    }
   ],
   "source": [
    "# we now restrict both datasets based on our intersection\n",
    "games = games[games.name.isin(intersection)]\n",
    "\n",
    "# some games are duplicates / have the same name but different developer. Since its a few, we drop them altogether.\n",
    "print(f\"Found {games[games.name.duplicated()].shape[0]} duplicate entries in the games dataset.\")\n",
    "intersection = intersection.difference(set(games[games.name.duplicated()].name.to_list()))\n",
    "games = games[games.name.isin(intersection)]\n",
    "print(f\"Found {games[games.name.duplicated()].shape[0]} duplicate entries in the games dataset.\")\n",
    "\n",
    "\n",
    "# the ratings dataset does not have duplicate item problems, so we just drop the titles we dropped in the games dataset.\n",
    "ratings = ratings[ratings.Title.isin(intersection)]\n",
    "\n",
    "# check to see that both datasets contain the same games.\n",
    "try:\n",
    "    assert len(set(ratings.Title.to_list())) == games.shape[0]\n",
    "    print(\"Dataset game entries match.\")\n",
    "except AssertionError:\n",
    "    raise Exception(\"Dataset game entries differ.\")"
   ]
  },
  {
   "cell_type": "markdown",
   "metadata": {},
   "source": [
    "# Creating the Ratings Matrix"
   ]
  },
  {
   "cell_type": "code",
   "execution_count": 8,
   "metadata": {},
   "outputs": [
    {
     "data": {
      "text/html": [
       "<div>\n",
       "<style scoped>\n",
       "    .dataframe tbody tr th:only-of-type {\n",
       "        vertical-align: middle;\n",
       "    }\n",
       "\n",
       "    .dataframe tbody tr th {\n",
       "        vertical-align: top;\n",
       "    }\n",
       "\n",
       "    .dataframe thead th {\n",
       "        text-align: right;\n",
       "    }\n",
       "</style>\n",
       "<table border=\"1\" class=\"dataframe\">\n",
       "  <thead>\n",
       "    <tr style=\"text-align: right;\">\n",
       "      <th></th>\n",
       "      <th>1 2 3 kick it (drop that beat like an ugly baby)</th>\n",
       "      <th>10 second ninja</th>\n",
       "      <th>100% orange juice</th>\n",
       "      <th>10000000</th>\n",
       "      <th>12 labours of hercules ii the cretan bull</th>\n",
       "      <th>12 labours of hercules iii girl power</th>\n",
       "      <th>140</th>\n",
       "      <th>16bit trader</th>\n",
       "      <th>18 wheels of steel american long haul</th>\n",
       "      <th>3 stars of destiny</th>\n",
       "      <th>...</th>\n",
       "      <th>ziggurat</th>\n",
       "      <th>zombi</th>\n",
       "      <th>zombie army trilogy</th>\n",
       "      <th>zombie grinder</th>\n",
       "      <th>zombie panic source</th>\n",
       "      <th>zombie shooter 2</th>\n",
       "      <th>zombie zoeds</th>\n",
       "      <th>zoombinis</th>\n",
       "      <th>zuma deluxe</th>\n",
       "      <th>zumas revenge</th>\n",
       "    </tr>\n",
       "    <tr>\n",
       "      <th>UserID</th>\n",
       "      <th></th>\n",
       "      <th></th>\n",
       "      <th></th>\n",
       "      <th></th>\n",
       "      <th></th>\n",
       "      <th></th>\n",
       "      <th></th>\n",
       "      <th></th>\n",
       "      <th></th>\n",
       "      <th></th>\n",
       "      <th></th>\n",
       "      <th></th>\n",
       "      <th></th>\n",
       "      <th></th>\n",
       "      <th></th>\n",
       "      <th></th>\n",
       "      <th></th>\n",
       "      <th></th>\n",
       "      <th></th>\n",
       "      <th></th>\n",
       "      <th></th>\n",
       "    </tr>\n",
       "  </thead>\n",
       "  <tbody>\n",
       "    <tr>\n",
       "      <td>5250</td>\n",
       "      <td>0.0</td>\n",
       "      <td>0.0</td>\n",
       "      <td>0.0</td>\n",
       "      <td>0.0</td>\n",
       "      <td>0.0</td>\n",
       "      <td>0.0</td>\n",
       "      <td>0.0</td>\n",
       "      <td>0.0</td>\n",
       "      <td>0.0</td>\n",
       "      <td>0.0</td>\n",
       "      <td>...</td>\n",
       "      <td>0.0</td>\n",
       "      <td>0.0</td>\n",
       "      <td>0.0</td>\n",
       "      <td>0.0</td>\n",
       "      <td>0.0</td>\n",
       "      <td>0.0</td>\n",
       "      <td>0.0</td>\n",
       "      <td>0.0</td>\n",
       "      <td>0.0</td>\n",
       "      <td>0.0</td>\n",
       "    </tr>\n",
       "    <tr>\n",
       "      <td>76767</td>\n",
       "      <td>0.0</td>\n",
       "      <td>0.0</td>\n",
       "      <td>0.0</td>\n",
       "      <td>0.0</td>\n",
       "      <td>0.0</td>\n",
       "      <td>0.0</td>\n",
       "      <td>0.0</td>\n",
       "      <td>0.0</td>\n",
       "      <td>0.0</td>\n",
       "      <td>0.0</td>\n",
       "      <td>...</td>\n",
       "      <td>0.0</td>\n",
       "      <td>0.0</td>\n",
       "      <td>0.0</td>\n",
       "      <td>0.0</td>\n",
       "      <td>0.0</td>\n",
       "      <td>0.0</td>\n",
       "      <td>0.0</td>\n",
       "      <td>0.0</td>\n",
       "      <td>0.0</td>\n",
       "      <td>0.0</td>\n",
       "    </tr>\n",
       "    <tr>\n",
       "      <td>86540</td>\n",
       "      <td>0.0</td>\n",
       "      <td>0.0</td>\n",
       "      <td>0.0</td>\n",
       "      <td>0.0</td>\n",
       "      <td>0.0</td>\n",
       "      <td>0.0</td>\n",
       "      <td>0.0</td>\n",
       "      <td>0.0</td>\n",
       "      <td>0.0</td>\n",
       "      <td>0.0</td>\n",
       "      <td>...</td>\n",
       "      <td>0.0</td>\n",
       "      <td>0.0</td>\n",
       "      <td>0.0</td>\n",
       "      <td>0.0</td>\n",
       "      <td>0.0</td>\n",
       "      <td>0.0</td>\n",
       "      <td>0.0</td>\n",
       "      <td>0.0</td>\n",
       "      <td>0.0</td>\n",
       "      <td>0.0</td>\n",
       "    </tr>\n",
       "  </tbody>\n",
       "</table>\n",
       "<p>3 rows × 1982 columns</p>\n",
       "</div>"
      ],
      "text/plain": [
       "        1 2 3 kick it (drop that beat like an ugly baby)  10 second ninja  \\\n",
       "UserID                                                                      \n",
       "5250                                                 0.0              0.0   \n",
       "76767                                                0.0              0.0   \n",
       "86540                                                0.0              0.0   \n",
       "\n",
       "        100% orange juice  10000000  \\\n",
       "UserID                                \n",
       "5250                  0.0       0.0   \n",
       "76767                 0.0       0.0   \n",
       "86540                 0.0       0.0   \n",
       "\n",
       "        12 labours of hercules ii the cretan bull  \\\n",
       "UserID                                              \n",
       "5250                                          0.0   \n",
       "76767                                         0.0   \n",
       "86540                                         0.0   \n",
       "\n",
       "        12 labours of hercules iii girl power  140  16bit trader  \\\n",
       "UserID                                                             \n",
       "5250                                      0.0  0.0           0.0   \n",
       "76767                                     0.0  0.0           0.0   \n",
       "86540                                     0.0  0.0           0.0   \n",
       "\n",
       "        18 wheels of steel american long haul  3 stars of destiny  ...  \\\n",
       "UserID                                                             ...   \n",
       "5250                                      0.0                 0.0  ...   \n",
       "76767                                     0.0                 0.0  ...   \n",
       "86540                                     0.0                 0.0  ...   \n",
       "\n",
       "        ziggurat  zombi  zombie army trilogy  zombie grinder  \\\n",
       "UserID                                                         \n",
       "5250         0.0    0.0                  0.0             0.0   \n",
       "76767        0.0    0.0                  0.0             0.0   \n",
       "86540        0.0    0.0                  0.0             0.0   \n",
       "\n",
       "        zombie panic source  zombie shooter 2  zombie zoeds  zoombinis  \\\n",
       "UserID                                                                   \n",
       "5250                    0.0               0.0           0.0        0.0   \n",
       "76767                   0.0               0.0           0.0        0.0   \n",
       "86540                   0.0               0.0           0.0        0.0   \n",
       "\n",
       "        zuma deluxe  zumas revenge  \n",
       "UserID                              \n",
       "5250            0.0            0.0  \n",
       "76767           0.0            0.0  \n",
       "86540           0.0            0.0  \n",
       "\n",
       "[3 rows x 1982 columns]"
      ]
     },
     "execution_count": 8,
     "metadata": {},
     "output_type": "execute_result"
    }
   ],
   "source": [
    "R = pd.pivot_table(data=ratings, values = [\"Value\"], index=[\"UserID\"], columns=[\"Title\"])\n",
    "\n",
    "# remove the level on top of game names called \"Value\"\n",
    "R.columns = R.columns.droplevel()\n",
    "\n",
    "# remove leftover columns name from pivot operation\n",
    "R.columns.name = \"\"\n",
    "\n",
    "# lastly, fill in the NaNs with 0's\n",
    "R.fillna(0, inplace=True)\n",
    "\n",
    "R.head(3)"
   ]
  },
  {
   "cell_type": "code",
   "execution_count": 9,
   "metadata": {},
   "outputs": [
    {
     "name": "stdout",
     "output_type": "stream",
     "text": [
      "dropped 'need for speed undercover' from the ratings matrix\n"
     ]
    }
   ],
   "source": [
    "# define a game to hold out from the ratings matrix - we will do out-of-matrix prediciton on it\n",
    "\n",
    "# we arbitrarily decide to drop the 1105th game\n",
    "heldout_idx = 1105\n",
    "heldout_name = R.columns[heldout_idx]\n",
    "heldout_ratings = R[heldout_name]\n",
    "\n",
    "R.drop(heldout_name, axis=1, inplace=True)\n",
    "\n",
    "print(f\"dropped '{heldout_name}' from the ratings matrix\")"
   ]
  },
  {
   "cell_type": "code",
   "execution_count": 10,
   "metadata": {},
   "outputs": [
    {
     "name": "stdout",
     "output_type": "stream",
     "text": [
      "Ratings matrix ready with 10058 users and 1981 games.\n",
      "Matrix sparsity: 0.23%\n"
     ]
    }
   ],
   "source": [
    "# assert that the pivot creation was successful\n",
    "assert R.loc[151603712, \"fallout 4\"] == ratings[(ratings.UserID == 151603712) & (ratings.Title == \"fallout 4\")].Value.values[0]\n",
    "\n",
    "print(f\"Ratings matrix ready with {R.shape[0]} users and {R.shape[1]} games.\")\n",
    "\n",
    "r = R.values\n",
    "sparsity = float(len(r.nonzero()[0]))\n",
    "sparsity /= (r.shape[0] * r.shape[1])\n",
    "sparsity *= 100\n",
    "print(f\"Matrix sparsity: {round(sparsity, 2)}%\")"
   ]
  },
  {
   "cell_type": "markdown",
   "metadata": {},
   "source": [
    "# Vanilla Matrix Factorization\n",
    "We set a benchmark against which to compare CTM by implementing traditional Probabilistic Matrix Factorization."
   ]
  },
  {
   "cell_type": "code",
   "execution_count": 11,
   "metadata": {},
   "outputs": [
    {
     "name": "stdout",
     "output_type": "stream",
     "text": [
      "Train-test split exectuted.\n",
      "      Train: 83.22% \n",
      "      Test: 16.78% \n"
     ]
    }
   ],
   "source": [
    "# train - test split\n",
    "\n",
    "def train_test_split(ratings, percs = [0.8, 0.2]):\n",
    "    \n",
    "    validation = np.zeros(ratings.shape)\n",
    "    train = ratings.copy()\n",
    "    \n",
    "    for user in np.arange(ratings.shape[0]):\n",
    "        val_ratings = np.random.choice(ratings[user,:].nonzero()[0],\n",
    "                                        size = round(len(ratings[user,:].nonzero()[0]) * percs[1]),\n",
    "                                        replace=False\n",
    "                                        )\n",
    "        train[user, val_ratings] = 0\n",
    "        validation[user, val_ratings] = ratings[user, val_ratings]\n",
    "    \n",
    "    return train, validation\n",
    "\n",
    "\n",
    "train, val = train_test_split(r)\n",
    "print(f\"\"\"Train-test split exectuted.\n",
    "      Train: {round(len(train.flatten().nonzero()[0]) / len(r.flatten().nonzero()[0]) * 100, 2)}% \n",
    "      Test: {round(len(val.flatten().nonzero()[0]) / len(r.flatten().nonzero()[0]) * 100, 2)}% \"\"\")"
   ]
  },
  {
   "cell_type": "code",
   "execution_count": 12,
   "metadata": {},
   "outputs": [],
   "source": [
    "from sklearn.metrics import mean_squared_error\n",
    "\n",
    "def mse(prediction, ground_truth):\n",
    "    prediction = prediction[ground_truth.nonzero()].flatten()\n",
    "    ground_truth = ground_truth[ground_truth.nonzero()].flatten()\n",
    "    return mean_squared_error(prediction, ground_truth)"
   ]
  },
  {
   "cell_type": "code",
   "execution_count": 13,
   "metadata": {},
   "outputs": [],
   "source": [
    "from tqdm import trange\n",
    "import sys\n",
    "\n",
    "class Recommender():\n",
    "    def __init__(self, n_epochs=200, n_latent_features=3, lmbda=0.01, learning_rate=0.001):\n",
    "        self.n_epochs = n_epochs\n",
    "        self.n_latent_features = n_latent_features\n",
    "        self.lmbda = lmbda\n",
    "        self.learning_rate = learning_rate\n",
    "    \n",
    "    def predictions(self, P, Q):\n",
    "        \"\"\"\n",
    "        returns dot product between:\n",
    "            P = vector of preferences for user u / matrix of preferences\n",
    "            Q = vector of qualities for item i / matrix of qualities\n",
    "        \"\"\"\n",
    "        return np.dot(P.T, Q)\n",
    "    \n",
    "    def fit(self, X_train, X_val):\n",
    "        # U = #users, I = #items\n",
    "        U, I = X_train.shape\n",
    "        \n",
    "        # random initialization\n",
    "        # get n_latent_features preference vectors of length U\n",
    "        # get n_latent_features qualities vectors of length I\n",
    "        # multiply both by 5 but any integer can go.\n",
    "        self.P = 5 * np.random.rand(self.n_latent_features, U)\n",
    "        self.Q = 5 * np.random.rand(self.n_latent_features, I)\n",
    "        \n",
    "        self.train_error = []\n",
    "        self.val_error = []\n",
    "        \n",
    "        # store the indices combinations (u, i) that are nonzero\n",
    "        users, items = X_train.nonzero()\n",
    "        \n",
    "        for iteration in trange(self.n_epochs, file=sys.stdout, desc='MF'):\n",
    "            for u, i in zip(users, items):\n",
    "                # compute the prediction error for the given cell (u, i)\n",
    "                error = X_train[u, i] - self.predictions(self.P[:, u], self.Q[:, i])\n",
    "                # update the vector of preferences for user u by considering the prediction error in (u, i)\n",
    "                self.P[:, u] += self.learning_rate * (self.Q[:, i] * error - self.lmbda * self.P[:, u])\n",
    "                # update the vector of preferences for item i by considering the prediction error in (u, i)\n",
    "                self.Q[:, i] += self.learning_rate * (self.P[:, u] * error - self.lmbda * self.Q[:, i])\n",
    "            self.train_error.append(mse(self.predictions(self.P, self.Q), X_train))\n",
    "            self.val_error.append(mse(self.predictions(self.P, self.Q), X_val))\n",
    "        \n",
    "        return self\n",
    "    \n",
    "    def predict(self, X_train, user_index):\n",
    "        # obtain the matrix of predicted ratings for all users and all items\n",
    "        y_hat = self.predictions(self.P, self.Q)\n",
    "        # then return the INDICES of the items for which there was no prediction for user u in the TRAINING SET\n",
    "        predictions_index = np.where(X_train[user_index, :] == 0)[0]\n",
    "        # return the predictions of the ratings that user u would give to the unrated elements.\n",
    "        return y_hat[user_index, predictions_index].flatten()"
   ]
  },
  {
   "cell_type": "code",
   "execution_count": 14,
   "metadata": {},
   "outputs": [
    {
     "name": "stdout",
     "output_type": "stream",
     "text": [
      "MF: 100%|██████████| 200/200 [06:06<00:00,  1.83s/it]\n",
      "Training done. \n",
      "        Train error: 0.0016999268867176926\n",
      "        Validation error: 0.5288179608015503\n"
     ]
    }
   ],
   "source": [
    "recommender = Recommender(n_epochs=200, n_latent_features=3, lmbda=0.8).fit(train, val)\n",
    "\n",
    "print(f\"\"\"Training done. \n",
    "        Train error: {recommender.train_error[-1]}\n",
    "        Validation error: {recommender.val_error[-1]}\"\"\")"
   ]
  },
  {
   "cell_type": "code",
   "execution_count": 14,
   "metadata": {},
   "outputs": [
    {
     "data": {
      "image/png": "[encoded data removed]",
      "text/plain": [
       "<Figure size 1152x648 with 1 Axes>"
      ]
     },
     "metadata": {
      "needs_background": "light"
     },
     "output_type": "display_data"
    }
   ],
   "source": [
    "fig, ax = plt.subplots(figsize=(16, 9))\n",
    "\n",
    "ax.plot(recommender.train_error[2:], label = \"train_error\")\n",
    "ax.plot(recommender.val_error[2:], label = \"val_error\")\n",
    "ax.set_title(\"Probabilistic Matrix Factorization\")\n",
    "ax.set_ylabel(\"MSE\")\n",
    "ax.set_xlabel(\"Epochs\")\n",
    "ax.legend();"
   ]
  },
  {
   "cell_type": "markdown",
   "metadata": {},
   "source": [
    "# Topic Modeling with LDA"
   ]
  },
  {
   "cell_type": "code",
   "execution_count": 28,
   "metadata": {},
   "outputs": [],
   "source": [
    "import spacy\n",
    "from nltk.corpus import stopwords\n",
    "\n",
    "from gensim.models import LdaMulticore, TfidfModel\n",
    "from gensim.corpora import Dictionary\n",
    "\n",
    "import multiprocessing"
   ]
  },
  {
   "cell_type": "markdown",
   "metadata": {},
   "source": [
    "Since lemmatization can take some time, the preprocessed dataset with the lemmatized game description is included in the folder. For reference, here is the code that was used to produce it:\n",
    "\n",
    "```python\n",
    "nlp = spacy.load(\"en\")\n",
    "\n",
    "# lemmatize game descriptions\n",
    "games[\"lemmas\"] = [[[token.lemma_ if token.lemma_ != \"-PRON-\" else token.text.lower() \n",
    "                     for token in sentence if token.pos_ in {\"NOUN\", \"VERB\", \"ADJ\", \"ADV\", \"X\"}]\n",
    "                    for sentence in nlp(speech).sents] for speech in games.game_description]\n",
    "games.to_pickle(\"steam_games_preprocessed.pkl\")\n",
    "```"
   ]
  },
  {
   "cell_type": "code",
   "execution_count": 15,
   "metadata": {},
   "outputs": [],
   "source": [
    "games = pd.read_pickle(\"steam_games_preprocessed.pkl\")"
   ]
  },
  {
   "cell_type": "code",
   "execution_count": 30,
   "metadata": {},
   "outputs": [
    {
     "name": "stdout",
     "output_type": "stream",
     "text": [
      "Dictionary(4587 unique tokens: ['ability', 'actual', 'animal', 'animation', 'as']...)\n"
     ]
    }
   ],
   "source": [
    "instances = [[lemma for lemmatized_sentence in lemmatized_speech for lemma in lemmatized_sentence]\n",
    "             for lemmatized_speech in games.lemmas]\n",
    "\n",
    "dictionary = Dictionary(instances)\n",
    "\n",
    "dictionary.filter_extremes(no_below = 5, no_above = 0.7)\n",
    "print(dictionary)"
   ]
  },
  {
   "cell_type": "code",
   "execution_count": 31,
   "metadata": {},
   "outputs": [],
   "source": [
    "ldacorpus = [dictionary.doc2bow(text) for text in instances]\n",
    "tfidfmodel = TfidfModel(ldacorpus)\n",
    "model_corpus = tfidfmodel[ldacorpus]\n",
    "\n",
    "\n",
    "num_topics = 15\n",
    "num_passes = 30\n",
    "chunk_size = len(model_corpus) * num_passes/200\n",
    "\n",
    "model = LdaMulticore(num_topics=num_topics,\n",
    "                    corpus=model_corpus,\n",
    "                    id2word=dictionary,\n",
    "                    workers=multiprocessing.cpu_count()-1,\n",
    "                    chunksize=chunk_size,\n",
    "                    passes=num_passes,\n",
    "                    alpha=0.1)"
   ]
  },
  {
   "cell_type": "code",
   "execution_count": 32,
   "metadata": {},
   "outputs": [],
   "source": [
    "all_topics = model.get_document_topics(model_corpus, per_word_topics=True, minimum_probability=0.0)\n",
    "\n",
    "corpus_topics = []\n",
    "\n",
    "for doc_topics, word_topics, phi_values in all_topics:\n",
    "    corpus_topics.append([topic[1] for topic in doc_topics])\n",
    "    \n",
    "corpus_topics = np.array(corpus_topics)"
   ]
  },
  {
   "cell_type": "code",
   "execution_count": 33,
   "metadata": {},
   "outputs": [
    {
     "data": {
      "text/plain": [
       "{0: ['vector', 'coordinate', 'scroller', 'echo', 'dollar'],\n",
       " 1: ['charming', 'criminal', 'princess', 'viking', 'agenda'],\n",
       " 2: ['proportion', 'reverse', 'generator', 'outbreak', 'virus'],\n",
       " 3: ['competitor', 'heist', 'rider', 'rapid', 'export'],\n",
       " 4: ['restaurant', 'overlord', 'terrorism', 'rebellion', 'imaginative'],\n",
       " 5: ['zoo', 'fishing', 'pinball', 'toss', 'ore'],\n",
       " 6: ['combatant', 'offense', 'subconscious', 'midst', 'notorious'],\n",
       " 7: ['debris', 'bunker', 'monk', 'chicken', 'recreation'],\n",
       " 8: ['bus', 'row', 'saint', 'recording', 'basically'],\n",
       " 9: ['•', 'alien', 'unit', 'command', 'soldier'],\n",
       " 10: ['car', 'racing', 'driver', 'airship', 'driving'],\n",
       " 11: ['disable', 'laboratory', 'garbage', 'usual', 'rail'],\n",
       " 12: ['crew', 'episode', 'solar', 'surreal', 'zone'],\n",
       " 13: ['new', 'player', 'level', 'will', 'puzzle'],\n",
       " 14: ['club', 'asylum', 'hacker', 'hacking', 'farming']}"
      ]
     },
     "execution_count": 33,
     "metadata": {},
     "output_type": "execute_result"
    }
   ],
   "source": [
    "words = [model.print_topics(num_topics=num_topics, num_words=5)[topic][1].split('\\\"')[1::2] for topic in range(num_topics)]\n",
    "\n",
    "words_per_topic = dict(zip(range(num_topics), words))\n",
    "\n",
    "words_per_topic"
   ]
  },
  {
   "cell_type": "code",
   "execution_count": 34,
   "metadata": {},
   "outputs": [],
   "source": [
    "# WE REMOVE THE LATENT VECTOR OF THE HELDOUT GAME \n",
    "theta = corpus_topics.copy().T\n",
    "\n",
    "thet = pd.DataFrame(theta)\n",
    "heldout_topics = thet.iloc[:, heldout_idx]\n",
    "thet.drop(heldout_idx, axis = 1, inplace=True)\n",
    "theta = thet.values"
   ]
  },
  {
   "cell_type": "markdown",
   "metadata": {},
   "source": [
    "# Collaborative Topic Modeling"
   ]
  },
  {
   "cell_type": "code",
   "execution_count": 35,
   "metadata": {},
   "outputs": [],
   "source": [
    "X_train = train.copy()\n",
    "X_val = val.copy()"
   ]
  },
  {
   "cell_type": "code",
   "execution_count": 36,
   "metadata": {},
   "outputs": [],
   "source": [
    "from tqdm import trange\n",
    "import sys\n",
    "\n",
    "class CTM():\n",
    "    \"\"\"\n",
    "    Collaborative Topic Modeling Model as developed by Wang and Blei (2012).\n",
    "    Leverages topic proportions obtained from LDA model to improve predictions\n",
    "    and allow for out-of-matrix predictions.\n",
    "    \n",
    "    Parameters:\n",
    "        - sigma2: expected variance of ratings \n",
    "                  (variance of the ratings Normal prior)\n",
    "        - sigma2_P: expected variance of the elements of the\n",
    "                    preference vector\n",
    "        - sigma2_Q: expected variance of the elements of the\n",
    "                    quality vector\n",
    "    \"\"\"\n",
    "    def __init__(self, epochs=200, learning_rate=0.001, sigma2=10, sigma2_P=10, sigma2_Q=10):\n",
    "        self.epochs = epochs\n",
    "        self.learning_rate = learning_rate\n",
    "        self.sigma2 = sigma2\n",
    "        self.sigma2_P = sigma2_P\n",
    "        self.sigma2_Q = sigma2_Q\n",
    "    \n",
    "    \n",
    "    def fit(self, theta, X_train, X_val):\n",
    "        \"\"\"\n",
    "        Fit a CTM model.\n",
    "        \n",
    "        Parameters:\n",
    "            - theta: (K X I) matrix of topic proportions obtained via LDA.\n",
    "            - X_train: (U X I) ratings matrix to train the model on.\n",
    "            - X_test: (U X I) ratings matrix to validate the model on.\n",
    "        \"\"\"\n",
    "        \n",
    "        K = theta.shape[0]\n",
    "        U, I = X_train.shape\n",
    "        \n",
    "        #initialize P and Q matrices.\n",
    "        # P is initialized randomly\n",
    "        self.P = np.random.randint(0, 10) * np.random.rand(K, U)\n",
    "        # Q is initialized to be equal to theta\n",
    "        self.Q = theta.copy()\n",
    "        \n",
    "        self.train_error = []\n",
    "        self.val_error = []\n",
    "        \n",
    "        # obtain the pairs of (u, i) indices for which we observe a rating\n",
    "        users, items = X_train.nonzero()\n",
    "        \n",
    "        \n",
    "        # begin training\n",
    "        for iteration in trange(self.epochs, file=sys.stdout, desc='CTM'):\n",
    "            for u, i in zip(users, items):\n",
    "                error = X_train[u, i] - np.dot(self.P[:, u].T, self.Q[:, i])\n",
    "\n",
    "                # we are MAXIMIZING the likelihood via gradient ascent\n",
    "                self.P[:, u] += self.learning_rate * (-self.P[:, u]/self.sigma2_P + (self.P[:, u] * error) * self.sigma2)\n",
    "                self.Q[:, i] += self.learning_rate * (-(self.Q[:, i] - theta[:, i])/self.sigma2_Q + (self.Q[:, i] * error) * self.sigma2)\n",
    "\n",
    "            self.train_error.append(mse(np.dot(self.P.T, self.Q), X_train))\n",
    "            self.val_error.append(mse(np.dot(self.P.T, self.Q), X_val))\n",
    "    \n",
    "    \n",
    "    \n",
    "    def predict_ratings(self):\n",
    "        \"\"\"\n",
    "        Returns the matrix of predicted ratings.\n",
    "        \"\"\"\n",
    "        return np.dot(self.P.T, self.Q)\n",
    "    \n",
    "    \n",
    "    \n",
    "    def predict_out_of_matrix(self, topics):\n",
    "        \"\"\"\n",
    "        Returns the (U X 1) vector of predicted ratings \n",
    "        for an unrated item, using the item's topic proportions.\n",
    "        \n",
    "        Parameters:\n",
    "            - topics: (K X 1) array of topic proportions\n",
    "                      for the unrated item.\n",
    "        \"\"\"\n",
    "        return np.dot(self.P.T, topics)"
   ]
  },
  {
   "cell_type": "code",
   "execution_count": 37,
   "metadata": {},
   "outputs": [
    {
     "name": "stdout",
     "output_type": "stream",
     "text": [
      "CTM: 100%|██████████| 200/200 [08:12<00:00,  2.46s/it]\n",
      "Training done. \n",
      "        Train error: 0.18340370383867327\n",
      "        Validation error: 0.10643138292767826\n"
     ]
    }
   ],
   "source": [
    "ctm = CTM(epochs=200, sigma2_P=5, sigma2_Q=5, sigma2=1)\n",
    "ctm.fit(theta, X_train, X_val)\n",
    "\n",
    "print(f\"\"\"Training done. \n",
    "        Train error: {ctm.train_error[-1]}\n",
    "        Validation error: {ctm.val_error[-1]}\"\"\")"
   ]
  },
  {
   "cell_type": "code",
   "execution_count": 38,
   "metadata": {},
   "outputs": [
    {
     "data": {
      "image/png": "[encoded data removed]",
      "text/plain": [
       "<Figure size 1152x648 with 1 Axes>"
      ]
     },
     "metadata": {
      "needs_background": "light"
     },
     "output_type": "display_data"
    }
   ],
   "source": [
    "fig, ax = plt.subplots(figsize=(16, 9))\n",
    "\n",
    "ax.plot(ctm.train_error, label = \"train_error\")\n",
    "ax.plot(ctm.val_error, label = \"val_error\")\n",
    "ax.set_title(\"Collaborative Topic Modeling\")\n",
    "ax.set_ylabel(\"MSE\")\n",
    "ax.set_xlabel(\"Epochs\")\n",
    "ax.legend();"
   ]
  },
  {
   "cell_type": "code",
   "execution_count": 39,
   "metadata": {},
   "outputs": [
    {
     "name": "stdout",
     "output_type": "stream",
     "text": [
      "MSE for the heldout game - need for speed undercover:\n",
      "0.273516311604243\n"
     ]
    }
   ],
   "source": [
    "# out-of-matrix prediction\n",
    "\n",
    "heldout_predicted = np.dot(ctm.P.T, heldout_topics.values)\n",
    "\n",
    "print(f\"MSE for the heldout game - {heldout_name}:\")\n",
    "print(mse(heldout_predicted, heldout_ratings.values))"
   ]
  },
  {
   "cell_type": "markdown",
   "metadata": {},
   "source": [
    "## Additional analyses\n",
    "We can also study per-item topic relevances"
   ]
  },
  {
   "cell_type": "code",
   "execution_count": 40,
   "metadata": {},
   "outputs": [
    {
     "name": "stdout",
     "output_type": "stream",
     "text": [
      "Topic relevances for halflife:\n",
      "\t0.36: ['vector', 'coordinate', 'scroller', 'echo', 'dollar']\n",
      "\t0.36: ['charming', 'criminal', 'princess', 'viking', 'agenda']\n",
      "\t0.36: ['proportion', 'reverse', 'generator', 'outbreak', 'virus']\n",
      "\t0.36: ['competitor', 'heist', 'rider', 'rapid', 'export']\n",
      "\t0.36: ['restaurant', 'overlord', 'terrorism', 'rebellion', 'imaginative']\n",
      "\t0.36: ['zoo', 'fishing', 'pinball', 'toss', 'ore']\n",
      "\t0.36: ['combatant', 'offense', 'subconscious', 'midst', 'notorious']\n",
      "\t0.37: ['debris', 'bunker', 'monk', 'chicken', 'recreation']\n",
      "\t0.36: ['bus', 'row', 'saint', 'recording', 'basically']\n",
      "\t4.42: ['•', 'alien', 'unit', 'command', 'soldier']\n",
      "\t0.36: ['car', 'racing', 'driver', 'airship', 'driving']\n",
      "\t0.36: ['disable', 'laboratory', 'garbage', 'usual', 'rail']\n",
      "\t3.15: ['crew', 'episode', 'solar', 'surreal', 'zone']\n",
      "\t27.31: ['new', 'player', 'level', 'will', 'puzzle']\n",
      "\t1.34: ['club', 'asylum', 'hacker', 'hacking', 'farming']\n"
     ]
    }
   ],
   "source": [
    "gamename = \"halflife\"\n",
    "\n",
    "# find the index number of halflife\n",
    "for i, t in enumerate(R.columns):\n",
    "    if t == gamename:\n",
    "        idx = i\n",
    "        break\n",
    "        \n",
    "print(f\"Topic relevances for {gamename}:\")        \n",
    "for i, mixture in enumerate(ctm.Q[:, idx]):\n",
    "    print(f\"\\t{round(mixture * 100, 2)}: {words_per_topic[i]}\")"
   ]
  },
  {
   "cell_type": "markdown",
   "metadata": {},
   "source": [
    "# Further investigation - which genres are most popular?"
   ]
  },
  {
   "cell_type": "code",
   "execution_count": 41,
   "metadata": {},
   "outputs": [
    {
     "data": {
      "image/png": "[encoded data removed]",
      "text/plain": [
       "<Figure size 432x288 with 1 Axes>"
      ]
     },
     "metadata": {
      "needs_background": "light"
     },
     "output_type": "display_data"
    }
   ],
   "source": [
    "fig, ax = plt.subplots()\n",
    "\n",
    "# Example data\n",
    "labels = list(words_per_topic.values())\n",
    "performance = ctm.P.sum(axis=1)\n",
    "\n",
    "ax.barh([\", \".join(l) for l in labels], performance, align='center')\n",
    "ax.invert_yaxis()  # labels read top-to-bottom\n",
    "ax.set_xlabel('Popularity')\n",
    "ax.set_title('How Popular is each genre')\n",
    "\n",
    "plt.show()"
   ]
  },
  {
   "cell_type": "code",
   "execution_count": 42,
   "metadata": {},
   "outputs": [
    {
     "data": {
      "image/png": "[encoded data removed]",
      "text/plain": [
       "<Figure size 432x288 with 1 Axes>"
      ]
     },
     "metadata": {
      "needs_background": "light"
     },
     "output_type": "display_data"
    }
   ],
   "source": [
    "fig, ax = plt.subplots()\n",
    "\n",
    "# Example data\n",
    "labels = list(words_per_topic.values())\n",
    "performance = ctm.Q.sum(axis=1)\n",
    "\n",
    "ax.barh([\", \".join(l) for l in labels], performance, align='center')\n",
    "ax.invert_yaxis()  # labels read top-to-bottom\n",
    "ax.set_xlabel('Popularity')\n",
    "ax.set_title('Genre mixtures across analysed games')\n",
    "\n",
    "plt.show()"
   ]
  },
  {
   "cell_type": "code",
   "execution_count": null,
   "metadata": {},
   "outputs": [],
   "source": []
  }
 ],
 "metadata": {
  "kernelspec": {
   "display_name": "Python 3",
   "language": "python",
   "name": "python3"
  },
  "language_info": {
   "codemirror_mode": {
    "name": "ipython",
    "version": 3
   },
   "file_extension": ".py",
   "mimetype": "text/x-python",
   "name": "python",
   "nbconvert_exporter": "python",
   "pygments_lexer": "ipython3",
   "version": "3.7.4"
  }
 },
 "nbformat": 4,
 "nbformat_minor": 4
}
