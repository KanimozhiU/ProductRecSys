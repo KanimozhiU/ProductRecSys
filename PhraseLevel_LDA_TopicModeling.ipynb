{
 "cells": [
  {
   "cell_type": "code",
   "execution_count": 3,
   "metadata": {},
   "outputs": [
    {
     "name": "stderr",
     "output_type": "stream",
     "text": [
      "[nltk_data] Downloading package stopwords to\n",
      "[nltk_data]     C:\\Users\\kanimozhi.u\\AppData\\Roaming\\nltk_data...\n",
      "[nltk_data]   Package stopwords is already up-to-date!\n"
     ]
    },
    {
     "data": {
      "text/plain": [
       "True"
      ]
     },
     "execution_count": 3,
     "metadata": {},
     "output_type": "execute_result"
    }
   ],
   "source": [
    "#Prerequisites – Download nltk stopwords and spacy model, GENSIM\n",
    "import nltk; nltk.download('stopwords')"
   ]
  },
  {
   "cell_type": "code",
   "execution_count": 4,
   "metadata": {},
   "outputs": [],
   "source": [
    "#Import Packages\n",
    "import re\n",
    "import numpy as np\n",
    "import pandas as pd\n",
    "from pprint import pprint\n",
    "\n",
    "# Gensim\n",
    "import gensim\n",
    "import gensim.corpora as corpora\n",
    "from gensim.utils import simple_preprocess\n",
    "from gensim.models import CoherenceModel\n",
    "\n",
    "# spacy for lemmatization\n",
    "import spacy\n",
    "\n",
    "# Plotting tools\n",
    "import pyLDAvis\n",
    "import pyLDAvis.gensim  # Important for visualization\n",
    "import matplotlib.pyplot as plt\n",
    "%matplotlib inline\n",
    "\n",
    "# Enable logging for gensim - optional\n",
    "import logging\n",
    "logging.basicConfig(format='%(asctime)s : %(levelname)s : %(message)s', level=logging.ERROR)\n",
    "\n",
    "import warnings\n",
    "warnings.filterwarnings(\"ignore\",category=DeprecationWarning)"
   ]
  },
  {
   "cell_type": "code",
   "execution_count": 6,
   "metadata": {},
   "outputs": [
    {
     "name": "stdout",
     "output_type": "stream",
     "text": [
      "Collecting gensim\n",
      "  Using cached https://files.pythonhosted.org/packages/09/ed/b59a2edde05b7f5755ea68648487c150c7c742361e9c8733c6d4ca005020/gensim-3.8.1-cp37-cp37m-win_amd64.whl\n",
      "Requirement already satisfied: numpy>=1.11.3 in c:\\conda\\lib\\site-packages (from gensim) (1.16.5)\n",
      "Collecting smart-open>=1.8.1 (from gensim)\n",
      "  Using cached https://files.pythonhosted.org/packages/0c/09/735f2786dfac9bbf39d244ce75c0313d27d4962e71e0774750dc809f2395/smart_open-1.9.0.tar.gz\n",
      "Requirement already satisfied: six>=1.5.0 in c:\\conda\\lib\\site-packages (from gensim) (1.12.0)\n",
      "Requirement already satisfied: scipy>=0.18.1 in c:\\conda\\lib\\site-packages (from gensim) (1.3.1)\n",
      "Requirement already satisfied: boto>=2.32 in c:\\conda\\lib\\site-packages (from smart-open>=1.8.1->gensim) (2.49.0)\n",
      "Requirement already satisfied: requests in c:\\conda\\lib\\site-packages (from smart-open>=1.8.1->gensim) (2.22.0)\n",
      "Collecting boto3 (from smart-open>=1.8.1->gensim)\n",
      "  Downloading https://files.pythonhosted.org/packages/73/c1/c25300e0afbe36f550d82affc0d1705076e9ea909ef33e8dd1f7147df10b/boto3-1.12.0-py2.py3-none-any.whl (128kB)\n",
      "Requirement already satisfied: chardet<3.1.0,>=3.0.2 in c:\\conda\\lib\\site-packages (from requests->smart-open>=1.8.1->gensim) (3.0.4)\n",
      "Requirement already satisfied: certifi>=2017.4.17 in c:\\conda\\lib\\site-packages (from requests->smart-open>=1.8.1->gensim) (2019.9.11)\n",
      "Requirement already satisfied: urllib3!=1.25.0,!=1.25.1,<1.26,>=1.21.1 in c:\\conda\\lib\\site-packages (from requests->smart-open>=1.8.1->gensim) (1.24.2)\n",
      "Requirement already satisfied: idna<2.9,>=2.5 in c:\\conda\\lib\\site-packages (from requests->smart-open>=1.8.1->gensim) (2.8)\n",
      "Collecting jmespath<1.0.0,>=0.7.1 (from boto3->smart-open>=1.8.1->gensim)\n",
      "  Using cached https://files.pythonhosted.org/packages/83/94/7179c3832a6d45b266ddb2aac329e101367fbdb11f425f13771d27f225bb/jmespath-0.9.4-py2.py3-none-any.whl\n",
      "Collecting s3transfer<0.4.0,>=0.3.0 (from boto3->smart-open>=1.8.1->gensim)\n",
      "  Using cached https://files.pythonhosted.org/packages/69/79/e6afb3d8b0b4e96cefbdc690f741d7dd24547ff1f94240c997a26fa908d3/s3transfer-0.3.3-py2.py3-none-any.whl\n",
      "Collecting botocore<1.16.0,>=1.15.0 (from boto3->smart-open>=1.8.1->gensim)\n",
      "  Downloading https://files.pythonhosted.org/packages/a4/ba/236f25b9200f0cda4842585205b566979484d38927a8a302cc5c1beea10c/botocore-1.15.0-py2.py3-none-any.whl (5.9MB)\n",
      "Requirement already satisfied: python-dateutil<3.0.0,>=2.1 in c:\\conda\\lib\\site-packages (from botocore<1.16.0,>=1.15.0->boto3->smart-open>=1.8.1->gensim) (2.8.0)\n",
      "Requirement already satisfied: docutils<0.16,>=0.10 in c:\\conda\\lib\\site-packages (from botocore<1.16.0,>=1.15.0->boto3->smart-open>=1.8.1->gensim) (0.15.2)\n",
      "Building wheels for collected packages: smart-open\n",
      "  Building wheel for smart-open (setup.py): started\n",
      "  Building wheel for smart-open (setup.py): finished with status 'done'\n",
      "  Created wheel for smart-open: filename=smart_open-1.9.0-cp37-none-any.whl size=73092 sha256=76ccbbb797ccb8f8766f8d15a11d85ff93612ec9038c6708c406e2fc7316a1de\n",
      "  Stored in directory: C:\\Users\\kanimozhi.u\\AppData\\Local\\pip\\Cache\\wheels\\ab\\10\\93\\5cff86f5b721d77edaecc29959b1c60d894be1f66d91407d28\n",
      "Successfully built smart-open\n",
      "Installing collected packages: jmespath, botocore, s3transfer, boto3, smart-open, gensim\n",
      "Successfully installed boto3-1.12.0 botocore-1.15.0 gensim-3.8.1 jmespath-0.9.4 s3transfer-0.3.3 smart-open-1.9.0\n"
     ]
    }
   ],
   "source": [
    "!pip install gensim"
   ]
  },
  {
   "cell_type": "code",
   "execution_count": 10,
   "metadata": {},
   "outputs": [
    {
     "name": "stdout",
     "output_type": "stream",
     "text": [
      "Collecting pyLDAvis\n",
      "  Using cached https://files.pythonhosted.org/packages/a5/3a/af82e070a8a96e13217c8f362f9a73e82d61ac8fff3a2561946a97f96266/pyLDAvis-2.1.2.tar.gz\n",
      "Requirement already satisfied: wheel>=0.23.0 in c:\\conda\\lib\\site-packages (from pyLDAvis) (0.33.6)\n",
      "Requirement already satisfied: numpy>=1.9.2 in c:\\conda\\lib\\site-packages (from pyLDAvis) (1.16.5)\n",
      "Requirement already satisfied: scipy>=0.18.0 in c:\\conda\\lib\\site-packages (from pyLDAvis) (1.3.1)\n",
      "Requirement already satisfied: pandas>=0.17.0 in c:\\conda\\lib\\site-packages (from pyLDAvis) (0.25.1)\n",
      "Requirement already satisfied: joblib>=0.8.4 in c:\\conda\\lib\\site-packages (from pyLDAvis) (0.13.2)\n",
      "Requirement already satisfied: jinja2>=2.7.2 in c:\\conda\\lib\\site-packages (from pyLDAvis) (2.10.3)\n",
      "Requirement already satisfied: numexpr in c:\\conda\\lib\\site-packages (from pyLDAvis) (2.7.0)\n",
      "Requirement already satisfied: pytest in c:\\conda\\lib\\site-packages (from pyLDAvis) (5.2.1)\n",
      "Requirement already satisfied: future in c:\\conda\\lib\\site-packages (from pyLDAvis) (0.17.1)\n",
      "Collecting funcy (from pyLDAvis)\n",
      "  Using cached https://files.pythonhosted.org/packages/ce/4b/6ffa76544e46614123de31574ad95758c421aae391a1764921b8a81e1eae/funcy-1.14.tar.gz\n",
      "Requirement already satisfied: pytz>=2017.2 in c:\\conda\\lib\\site-packages (from pandas>=0.17.0->pyLDAvis) (2019.3)\n",
      "Requirement already satisfied: python-dateutil>=2.6.1 in c:\\conda\\lib\\site-packages (from pandas>=0.17.0->pyLDAvis) (2.8.0)\n",
      "Requirement already satisfied: MarkupSafe>=0.23 in c:\\conda\\lib\\site-packages (from jinja2>=2.7.2->pyLDAvis) (1.1.1)\n",
      "Requirement already satisfied: py>=1.5.0 in c:\\conda\\lib\\site-packages (from pytest->pyLDAvis) (1.8.0)\n",
      "Requirement already satisfied: packaging in c:\\conda\\lib\\site-packages (from pytest->pyLDAvis) (19.2)\n",
      "Requirement already satisfied: attrs>=17.4.0 in c:\\conda\\lib\\site-packages (from pytest->pyLDAvis) (19.2.0)\n",
      "Requirement already satisfied: more-itertools>=4.0.0 in c:\\conda\\lib\\site-packages (from pytest->pyLDAvis) (7.2.0)\n",
      "Requirement already satisfied: atomicwrites>=1.0 in c:\\conda\\lib\\site-packages (from pytest->pyLDAvis) (1.3.0)\n",
      "Requirement already satisfied: pluggy<1.0,>=0.12 in c:\\conda\\lib\\site-packages (from pytest->pyLDAvis) (0.13.0)\n",
      "Requirement already satisfied: wcwidth in c:\\conda\\lib\\site-packages (from pytest->pyLDAvis) (0.1.7)\n",
      "Requirement already satisfied: importlib-metadata>=0.12 in c:\\conda\\lib\\site-packages (from pytest->pyLDAvis) (0.23)\n",
      "Requirement already satisfied: colorama in c:\\conda\\lib\\site-packages (from pytest->pyLDAvis) (0.4.1)\n",
      "Requirement already satisfied: six>=1.5 in c:\\conda\\lib\\site-packages (from python-dateutil>=2.6.1->pandas>=0.17.0->pyLDAvis) (1.12.0)\n",
      "Requirement already satisfied: pyparsing>=2.0.2 in c:\\conda\\lib\\site-packages (from packaging->pytest->pyLDAvis) (2.4.2)\n",
      "Requirement already satisfied: zipp>=0.5 in c:\\conda\\lib\\site-packages (from importlib-metadata>=0.12->pytest->pyLDAvis) (0.6.0)\n",
      "Building wheels for collected packages: pyLDAvis, funcy\n",
      "  Building wheel for pyLDAvis (setup.py): started\n",
      "  Building wheel for pyLDAvis (setup.py): finished with status 'done'\n",
      "  Created wheel for pyLDAvis: filename=pyLDAvis-2.1.2-py2.py3-none-any.whl size=97715 sha256=ebf41d382d4ac0dfacf1f5a01b443f2b63eea41c5cb2f4d6c92aca6bd8c3040a\n",
      "  Stored in directory: C:\\Users\\kanimozhi.u\\AppData\\Local\\pip\\Cache\\wheels\\98\\71\\24\\513a99e58bb6b8465bae4d2d5e9dba8f0bef8179e3051ac414\n",
      "  Building wheel for funcy (setup.py): started\n",
      "  Building wheel for funcy (setup.py): finished with status 'done'\n",
      "  Created wheel for funcy: filename=funcy-1.14-py2.py3-none-any.whl size=32045 sha256=b20a6530137b4245a740441ec447f8bdb056d62b8d4a170835cf8e91e40467da\n",
      "  Stored in directory: C:\\Users\\kanimozhi.u\\AppData\\Local\\pip\\Cache\\wheels\\20\\5a\\d8\\1d875df03deae6f178dfdf70238cca33f948ef8a6f5209f2eb\n",
      "Successfully built pyLDAvis funcy\n",
      "Installing collected packages: funcy, pyLDAvis\n",
      "Successfully installed funcy-1.14 pyLDAvis-2.1.2\n"
     ]
    }
   ],
   "source": [
    "!pip install pyLDAvis"
   ]
  },
  {
   "cell_type": "code",
   "execution_count": 8,
   "metadata": {},
   "outputs": [
    {
     "name": "stdout",
     "output_type": "stream",
     "text": [
      "Collecting spacy\n",
      "  Using cached https://files.pythonhosted.org/packages/69/d8/f3103202aeca6fb0d2dbdd3a4ab1a7b86e9ad1d3cf8b23fa46bd466d64ac/spacy-2.2.3-cp37-cp37m-win_amd64.whl\n",
      "Collecting blis<0.5.0,>=0.4.0 (from spacy)\n",
      "  Using cached https://files.pythonhosted.org/packages/d5/7e/1981d5389b75543f950026de40a9d346e2aec7e860b2800e54e65bd46c06/blis-0.4.1-cp37-cp37m-win_amd64.whl\n",
      "Collecting preshed<3.1.0,>=3.0.2 (from spacy)\n",
      "  Using cached https://files.pythonhosted.org/packages/3c/5a/0d1b575ed40989d74fab25723083837c220246b25f3582917135cb32453f/preshed-3.0.2-cp37-cp37m-win_amd64.whl\n",
      "Collecting thinc<7.4.0,>=7.3.0 (from spacy)\n",
      "  Using cached https://files.pythonhosted.org/packages/9e/ed/7edded74724747f7dfc513f85b483db7828e4a1ed072c9625188dcb633a5/thinc-7.3.1-cp37-cp37m-win_amd64.whl\n",
      "Collecting wasabi<1.1.0,>=0.4.0 (from spacy)\n",
      "  Using cached https://files.pythonhosted.org/packages/21/e1/e4e7b754e6be3a79c400eb766fb34924a6d278c43bb828f94233e0124a21/wasabi-0.6.0-py3-none-any.whl\n",
      "Requirement already satisfied: setuptools in c:\\conda\\lib\\site-packages (from spacy) (41.4.0)\n",
      "Collecting catalogue<1.1.0,>=0.0.7 (from spacy)\n",
      "  Using cached https://files.pythonhosted.org/packages/6c/f9/9a5658e2f56932e41eb264941f9a2cb7f3ce41a80cb36b2af6ab78e2f8af/catalogue-1.0.0-py2.py3-none-any.whl\n",
      "Collecting srsly<1.1.0,>=0.1.0 (from spacy)\n",
      "  Using cached https://files.pythonhosted.org/packages/03/a8/6ddcf5f8ed280e28a41cbef9b38ef8e4e005760c4eb1860bd239c9c1be99/srsly-1.0.1-cp37-cp37m-win_amd64.whl\n",
      "Collecting cymem<2.1.0,>=2.0.2 (from spacy)\n",
      "  Using cached https://files.pythonhosted.org/packages/84/d1/35eab0c8cc9fd9432becaf3e90144762b3201a45079e62c47a8ae8739763/cymem-2.0.3-cp37-cp37m-win_amd64.whl\n",
      "Collecting murmurhash<1.1.0,>=0.28.0 (from spacy)\n",
      "  Using cached https://files.pythonhosted.org/packages/4f/7b/d77bc9bb101e113884b2d70a118e7ec8dcc9846a35a0e10d47ca37acdcbf/murmurhash-1.0.2-cp37-cp37m-win_amd64.whl\n",
      "Collecting plac<1.2.0,>=0.9.6 (from spacy)\n",
      "  Using cached https://files.pythonhosted.org/packages/86/85/40b8f66c2dd8f4fd9f09d59b22720cffecf1331e788b8a0cab5bafb353d1/plac-1.1.3-py2.py3-none-any.whl\n",
      "Requirement already satisfied: requests<3.0.0,>=2.13.0 in c:\\conda\\lib\\site-packages (from spacy) (2.22.0)\n",
      "Requirement already satisfied: numpy>=1.15.0 in c:\\conda\\lib\\site-packages (from spacy) (1.16.5)\n",
      "Requirement already satisfied: tqdm<5.0.0,>=4.10.0 in c:\\conda\\lib\\site-packages (from thinc<7.4.0,>=7.3.0->spacy) (4.36.1)\n",
      "Requirement already satisfied: importlib-metadata>=0.20; python_version < \"3.8\" in c:\\conda\\lib\\site-packages (from catalogue<1.1.0,>=0.0.7->spacy) (0.23)\n",
      "Requirement already satisfied: certifi>=2017.4.17 in c:\\conda\\lib\\site-packages (from requests<3.0.0,>=2.13.0->spacy) (2019.9.11)\n",
      "Requirement already satisfied: idna<2.9,>=2.5 in c:\\conda\\lib\\site-packages (from requests<3.0.0,>=2.13.0->spacy) (2.8)\n",
      "Requirement already satisfied: chardet<3.1.0,>=3.0.2 in c:\\conda\\lib\\site-packages (from requests<3.0.0,>=2.13.0->spacy) (3.0.4)\n",
      "Requirement already satisfied: urllib3!=1.25.0,!=1.25.1,<1.26,>=1.21.1 in c:\\conda\\lib\\site-packages (from requests<3.0.0,>=2.13.0->spacy) (1.24.2)\n",
      "Requirement already satisfied: zipp>=0.5 in c:\\conda\\lib\\site-packages (from importlib-metadata>=0.20; python_version < \"3.8\"->catalogue<1.1.0,>=0.0.7->spacy) (0.6.0)\n",
      "Requirement already satisfied: more-itertools in c:\\conda\\lib\\site-packages (from zipp>=0.5->importlib-metadata>=0.20; python_version < \"3.8\"->catalogue<1.1.0,>=0.0.7->spacy) (7.2.0)\n",
      "Installing collected packages: blis, cymem, murmurhash, preshed, plac, wasabi, srsly, thinc, catalogue, spacy\n",
      "Successfully installed blis-0.4.1 catalogue-1.0.0 cymem-2.0.3 murmurhash-1.0.2 plac-1.1.3 preshed-3.0.2 spacy-2.2.3 srsly-1.0.1 thinc-7.3.1 wasabi-0.6.0\n"
     ]
    }
   ],
   "source": [
    "!pip install spacy"
   ]
  },
  {
   "cell_type": "code",
   "execution_count": 5,
   "metadata": {},
   "outputs": [],
   "source": [
    "# NLTK Stop words\n",
    "from nltk.corpus import stopwords\n",
    "stop_words = stopwords.words('english')\n",
    "#stop_words.extend(['from', 'subject', 're', 'edu', 'use'])"
   ]
  },
  {
   "cell_type": "code",
   "execution_count": 50,
   "metadata": {},
   "outputs": [
    {
     "name": "stdout",
     "output_type": "stream",
     "text": [
      "Collecting spacy-symspell\n",
      "  Downloading https://files.pythonhosted.org/packages/82/c1/9dce7f0f0e2d02692d444ef8b1746b837cf4c1532a2dd3012a8be7f7ba58/spacy_symspell-0.1.2-py3-none-any.whl (3.7MB)\n",
      "Requirement already satisfied: spacy<3.0.0,>=2.0.0 in c:\\conda\\lib\\site-packages (from spacy-symspell) (2.2.3)\n",
      "Collecting symspellpy>=6.3.8 (from spacy-symspell)\n",
      "  Downloading https://files.pythonhosted.org/packages/6d/0b/2daa14bf1ed649fff0d072b2e51ae98d8b45cae6cf8fdda41be01ce6c289/symspellpy-6.5.2-py3-none-any.whl (2.6MB)\n",
      "Requirement already satisfied: plac<1.2.0,>=0.9.6 in c:\\conda\\lib\\site-packages (from spacy<3.0.0,>=2.0.0->spacy-symspell) (1.1.3)\n",
      "Requirement already satisfied: wasabi<1.1.0,>=0.4.0 in c:\\conda\\lib\\site-packages (from spacy<3.0.0,>=2.0.0->spacy-symspell) (0.6.0)\n",
      "Requirement already satisfied: preshed<3.1.0,>=3.0.2 in c:\\conda\\lib\\site-packages (from spacy<3.0.0,>=2.0.0->spacy-symspell) (3.0.2)\n",
      "Requirement already satisfied: requests<3.0.0,>=2.13.0 in c:\\conda\\lib\\site-packages (from spacy<3.0.0,>=2.0.0->spacy-symspell) (2.22.0)\n",
      "Requirement already satisfied: blis<0.5.0,>=0.4.0 in c:\\conda\\lib\\site-packages (from spacy<3.0.0,>=2.0.0->spacy-symspell) (0.4.1)\n",
      "Requirement already satisfied: thinc<7.4.0,>=7.3.0 in c:\\conda\\lib\\site-packages (from spacy<3.0.0,>=2.0.0->spacy-symspell) (7.3.1)\n",
      "Requirement already satisfied: cymem<2.1.0,>=2.0.2 in c:\\conda\\lib\\site-packages (from spacy<3.0.0,>=2.0.0->spacy-symspell) (2.0.3)\n",
      "Requirement already satisfied: setuptools in c:\\conda\\lib\\site-packages (from spacy<3.0.0,>=2.0.0->spacy-symspell) (41.4.0)\n",
      "Requirement already satisfied: murmurhash<1.1.0,>=0.28.0 in c:\\conda\\lib\\site-packages (from spacy<3.0.0,>=2.0.0->spacy-symspell) (1.0.2)\n",
      "Requirement already satisfied: srsly<1.1.0,>=0.1.0 in c:\\conda\\lib\\site-packages (from spacy<3.0.0,>=2.0.0->spacy-symspell) (1.0.1)\n",
      "Requirement already satisfied: catalogue<1.1.0,>=0.0.7 in c:\\conda\\lib\\site-packages (from spacy<3.0.0,>=2.0.0->spacy-symspell) (1.0.0)\n",
      "Requirement already satisfied: numpy>=1.15.0 in c:\\conda\\lib\\site-packages (from spacy<3.0.0,>=2.0.0->spacy-symspell) (1.16.5)\n",
      "Requirement already satisfied: idna<2.9,>=2.5 in c:\\conda\\lib\\site-packages (from requests<3.0.0,>=2.13.0->spacy<3.0.0,>=2.0.0->spacy-symspell) (2.8)\n",
      "Requirement already satisfied: urllib3!=1.25.0,!=1.25.1,<1.26,>=1.21.1 in c:\\conda\\lib\\site-packages (from requests<3.0.0,>=2.13.0->spacy<3.0.0,>=2.0.0->spacy-symspell) (1.24.2)\n",
      "Requirement already satisfied: chardet<3.1.0,>=3.0.2 in c:\\conda\\lib\\site-packages (from requests<3.0.0,>=2.13.0->spacy<3.0.0,>=2.0.0->spacy-symspell) (3.0.4)\n",
      "Requirement already satisfied: certifi>=2017.4.17 in c:\\conda\\lib\\site-packages (from requests<3.0.0,>=2.13.0->spacy<3.0.0,>=2.0.0->spacy-symspell) (2019.9.11)\n",
      "Requirement already satisfied: tqdm<5.0.0,>=4.10.0 in c:\\conda\\lib\\site-packages (from thinc<7.4.0,>=7.3.0->spacy<3.0.0,>=2.0.0->spacy-symspell) (4.36.1)\n",
      "Requirement already satisfied: importlib-metadata>=0.20; python_version < \"3.8\" in c:\\conda\\lib\\site-packages (from catalogue<1.1.0,>=0.0.7->spacy<3.0.0,>=2.0.0->spacy-symspell) (0.23)\n",
      "Requirement already satisfied: zipp>=0.5 in c:\\conda\\lib\\site-packages (from importlib-metadata>=0.20; python_version < \"3.8\"->catalogue<1.1.0,>=0.0.7->spacy<3.0.0,>=2.0.0->spacy-symspell) (0.6.0)\n",
      "Requirement already satisfied: more-itertools in c:\\conda\\lib\\site-packages (from zipp>=0.5->importlib-metadata>=0.20; python_version < \"3.8\"->catalogue<1.1.0,>=0.0.7->spacy<3.0.0,>=2.0.0->spacy-symspell) (7.2.0)\n",
      "Installing collected packages: symspellpy, spacy-symspell\n",
      "Successfully installed spacy-symspell-0.1.2 symspellpy-6.5.2\n"
     ]
    }
   ],
   "source": [
    "!pip install spacy-symspell"
   ]
  },
  {
   "cell_type": "code",
   "execution_count": 51,
   "metadata": {},
   "outputs": [
    {
     "name": "stdout",
     "output_type": "stream",
     "text": [
      "Collecting spacy_hunspell\n",
      "  Downloading https://files.pythonhosted.org/packages/d9/6a/d977f74eff8354a5fdd6b5c0d8b4f8caa8d676970e18ff961694d978e7f7/spacy_hunspell-0.1.0.tar.gz\n",
      "Requirement already satisfied: spacy>=2.0.0 in c:\\conda\\lib\\site-packages (from spacy_hunspell) (2.2.3)\n",
      "Collecting hunspell==0.5.0 (from spacy_hunspell)\n",
      "  Downloading https://files.pythonhosted.org/packages/2d/77/8c68d28afca3b07d3b89d3c60af56e1a3e5f381ddd1bc01f31e97233a03c/hunspell-0.5.0.tar.gz\n",
      "Requirement already satisfied: catalogue<1.1.0,>=0.0.7 in c:\\conda\\lib\\site-packages (from spacy>=2.0.0->spacy_hunspell) (1.0.0)\n",
      "Requirement already satisfied: numpy>=1.15.0 in c:\\conda\\lib\\site-packages (from spacy>=2.0.0->spacy_hunspell) (1.16.5)\n",
      "Requirement already satisfied: srsly<1.1.0,>=0.1.0 in c:\\conda\\lib\\site-packages (from spacy>=2.0.0->spacy_hunspell) (1.0.1)\n",
      "Requirement already satisfied: plac<1.2.0,>=0.9.6 in c:\\conda\\lib\\site-packages (from spacy>=2.0.0->spacy_hunspell) (1.1.3)\n",
      "Requirement already satisfied: wasabi<1.1.0,>=0.4.0 in c:\\conda\\lib\\site-packages (from spacy>=2.0.0->spacy_hunspell) (0.6.0)\n",
      "Requirement already satisfied: murmurhash<1.1.0,>=0.28.0 in c:\\conda\\lib\\site-packages (from spacy>=2.0.0->spacy_hunspell) (1.0.2)\n",
      "Requirement already satisfied: requests<3.0.0,>=2.13.0 in c:\\conda\\lib\\site-packages (from spacy>=2.0.0->spacy_hunspell) (2.22.0)\n",
      "Requirement already satisfied: setuptools in c:\\conda\\lib\\site-packages (from spacy>=2.0.0->spacy_hunspell) (41.4.0)\n",
      "Requirement already satisfied: preshed<3.1.0,>=3.0.2 in c:\\conda\\lib\\site-packages (from spacy>=2.0.0->spacy_hunspell) (3.0.2)\n",
      "Requirement already satisfied: thinc<7.4.0,>=7.3.0 in c:\\conda\\lib\\site-packages (from spacy>=2.0.0->spacy_hunspell) (7.3.1)\n",
      "Requirement already satisfied: blis<0.5.0,>=0.4.0 in c:\\conda\\lib\\site-packages (from spacy>=2.0.0->spacy_hunspell) (0.4.1)\n",
      "Requirement already satisfied: cymem<2.1.0,>=2.0.2 in c:\\conda\\lib\\site-packages (from spacy>=2.0.0->spacy_hunspell) (2.0.3)\n",
      "Requirement already satisfied: importlib-metadata>=0.20; python_version < \"3.8\" in c:\\conda\\lib\\site-packages (from catalogue<1.1.0,>=0.0.7->spacy>=2.0.0->spacy_hunspell) (0.23)\n",
      "Requirement already satisfied: idna<2.9,>=2.5 in c:\\conda\\lib\\site-packages (from requests<3.0.0,>=2.13.0->spacy>=2.0.0->spacy_hunspell) (2.8)\n",
      "Requirement already satisfied: chardet<3.1.0,>=3.0.2 in c:\\conda\\lib\\site-packages (from requests<3.0.0,>=2.13.0->spacy>=2.0.0->spacy_hunspell) (3.0.4)\n",
      "Requirement already satisfied: urllib3!=1.25.0,!=1.25.1,<1.26,>=1.21.1 in c:\\conda\\lib\\site-packages (from requests<3.0.0,>=2.13.0->spacy>=2.0.0->spacy_hunspell) (1.24.2)\n",
      "Requirement already satisfied: certifi>=2017.4.17 in c:\\conda\\lib\\site-packages (from requests<3.0.0,>=2.13.0->spacy>=2.0.0->spacy_hunspell) (2019.9.11)\n",
      "Requirement already satisfied: tqdm<5.0.0,>=4.10.0 in c:\\conda\\lib\\site-packages (from thinc<7.4.0,>=7.3.0->spacy>=2.0.0->spacy_hunspell) (4.36.1)\n",
      "Requirement already satisfied: zipp>=0.5 in c:\\conda\\lib\\site-packages (from importlib-metadata>=0.20; python_version < \"3.8\"->catalogue<1.1.0,>=0.0.7->spacy>=2.0.0->spacy_hunspell) (0.6.0)\n",
      "Requirement already satisfied: more-itertools in c:\\conda\\lib\\site-packages (from zipp>=0.5->importlib-metadata>=0.20; python_version < \"3.8\"->catalogue<1.1.0,>=0.0.7->spacy>=2.0.0->spacy_hunspell) (7.2.0)\n",
      "Building wheels for collected packages: spacy-hunspell, hunspell\n",
      "  Building wheel for spacy-hunspell (setup.py): started\n",
      "  Building wheel for spacy-hunspell (setup.py): finished with status 'done'\n",
      "  Created wheel for spacy-hunspell: filename=spacy_hunspell-0.1.0-cp37-none-any.whl size=3060 sha256=bccc2a05925af19db36b29695a69e813480a015020d96af0ed965d2ce95b1157\n",
      "  Stored in directory: C:\\Users\\kanimozhi.u\\AppData\\Local\\pip\\Cache\\wheels\\07\\b2\\18\\b5aa882df45e376e0f52ca7306c450f548ca150168338c0468\n",
      "  Building wheel for hunspell (setup.py): started\n",
      "  Building wheel for hunspell (setup.py): finished with status 'error'\n",
      "  Running setup.py clean for hunspell\n",
      "Successfully built spacy-hunspell\n",
      "Failed to build hunspell\n",
      "Installing collected packages: hunspell, spacy-hunspell\n",
      "  Running setup.py install for hunspell: started\n",
      "    Running setup.py install for hunspell: finished with status 'error'\n"
     ]
    },
    {
     "name": "stderr",
     "output_type": "stream",
     "text": [
      "  ERROR: Command errored out with exit status 1:\n",
      "   command: 'C:\\Conda\\python.exe' -u -c 'import sys, setuptools, tokenize; sys.argv[0] = '\"'\"'C:\\\\Users\\\\KANIMO~1.U\\\\AppData\\\\Local\\\\Temp\\\\pip-install-1gv25hc4\\\\hunspell\\\\setup.py'\"'\"'; __file__='\"'\"'C:\\\\Users\\\\KANIMO~1.U\\\\AppData\\\\Local\\\\Temp\\\\pip-install-1gv25hc4\\\\hunspell\\\\setup.py'\"'\"';f=getattr(tokenize, '\"'\"'open'\"'\"', open)(__file__);code=f.read().replace('\"'\"'\\r\\n'\"'\"', '\"'\"'\\n'\"'\"');f.close();exec(compile(code, __file__, '\"'\"'exec'\"'\"'))' bdist_wheel -d 'C:\\Users\\KANIMO~1.U\\AppData\\Local\\Temp\\pip-wheel-7ebaji40' --python-tag cp37\n",
      "       cwd: C:\\Users\\KANIMO~1.U\\AppData\\Local\\Temp\\pip-install-1gv25hc4\\hunspell\\\n",
      "  Complete output (7 lines):\n",
      "  C:\\Conda\\lib\\distutils\\extension.py:131: UserWarning: Unknown Extension options: 'compile_args', 'macros'\n",
      "    warnings.warn(msg)\n",
      "  running bdist_wheel\n",
      "  running build\n",
      "  running build_ext\n",
      "  building 'hunspell' extension\n",
      "  error: Microsoft Visual C++ 14.0 is required. Get it with \"Microsoft Visual C++ Build Tools\": https://visualstudio.microsoft.com/downloads/\n",
      "  ----------------------------------------\n",
      "  ERROR: Failed building wheel for hunspell\n",
      "    ERROR: Command errored out with exit status 1:\n",
      "     command: 'C:\\Conda\\python.exe' -u -c 'import sys, setuptools, tokenize; sys.argv[0] = '\"'\"'C:\\\\Users\\\\KANIMO~1.U\\\\AppData\\\\Local\\\\Temp\\\\pip-install-1gv25hc4\\\\hunspell\\\\setup.py'\"'\"'; __file__='\"'\"'C:\\\\Users\\\\KANIMO~1.U\\\\AppData\\\\Local\\\\Temp\\\\pip-install-1gv25hc4\\\\hunspell\\\\setup.py'\"'\"';f=getattr(tokenize, '\"'\"'open'\"'\"', open)(__file__);code=f.read().replace('\"'\"'\\r\\n'\"'\"', '\"'\"'\\n'\"'\"');f.close();exec(compile(code, __file__, '\"'\"'exec'\"'\"'))' install --record 'C:\\Users\\KANIMO~1.U\\AppData\\Local\\Temp\\pip-record-m02v2jao\\install-record.txt' --single-version-externally-managed --compile\n",
      "         cwd: C:\\Users\\KANIMO~1.U\\AppData\\Local\\Temp\\pip-install-1gv25hc4\\hunspell\\\n",
      "    Complete output (7 lines):\n",
      "    C:\\Conda\\lib\\distutils\\extension.py:131: UserWarning: Unknown Extension options: 'compile_args', 'macros'\n",
      "      warnings.warn(msg)\n",
      "    running install\n",
      "    running build\n",
      "    running build_ext\n",
      "    building 'hunspell' extension\n",
      "    error: Microsoft Visual C++ 14.0 is required. Get it with \"Microsoft Visual C++ Build Tools\": https://visualstudio.microsoft.com/downloads/\n",
      "    ----------------------------------------\n",
      "ERROR: Command errored out with exit status 1: 'C:\\Conda\\python.exe' -u -c 'import sys, setuptools, tokenize; sys.argv[0] = '\"'\"'C:\\\\Users\\\\KANIMO~1.U\\\\AppData\\\\Local\\\\Temp\\\\pip-install-1gv25hc4\\\\hunspell\\\\setup.py'\"'\"'; __file__='\"'\"'C:\\\\Users\\\\KANIMO~1.U\\\\AppData\\\\Local\\\\Temp\\\\pip-install-1gv25hc4\\\\hunspell\\\\setup.py'\"'\"';f=getattr(tokenize, '\"'\"'open'\"'\"', open)(__file__);code=f.read().replace('\"'\"'\\r\\n'\"'\"', '\"'\"'\\n'\"'\"');f.close();exec(compile(code, __file__, '\"'\"'exec'\"'\"'))' install --record 'C:\\Users\\KANIMO~1.U\\AppData\\Local\\Temp\\pip-record-m02v2jao\\install-record.txt' --single-version-externally-managed --compile Check the logs for full command output.\n"
     ]
    }
   ],
   "source": [
    "!pip install spacy_hunspell"
   ]
  },
  {
   "cell_type": "code",
   "execution_count": 6,
   "metadata": {},
   "outputs": [
    {
     "name": "stdout",
     "output_type": "stream",
     "text": [
      "[\"The staff in this branch of Nando's were friendly and efficient. Despite being a fairly busy Friday night the wood arrived promptly and was up to the usual standard.\"\n",
      " 'The most tasty chicken in town with their famous Piri piri sauce. Great new restaurant, very spacious, clean. Goid service. Avoid on Arsenal match days, too many people.'\n",
      " 'Really surprised and pleased, very friendly and great beer, what more could you ask, plus warm on a wet cold day'\n",
      " ...\n",
      " \"This restaurant has PHENOMENAL taquitos! The rest of the food is good. Our family of four including two young kids ate from their &quot;Street Food&quot; menu - which is smaller plates including tacos, quesadillas, and the aforementioned taquitos. While the other dishes we got (include Ancho chicken tacos, pork pibril tacos, and a coupla quesadillas) was definitely good, their shrimp and crab taquito and sweet potato and feta taquito were just unbelievably good. If I could / were to go back, I think I'd just order those taquitos - about twenty of each. The service was good, the restaurant itself was nice. They're very environmentally conscious. Good music to go with the food. But the taquitos are really what I'm here to write about. I guess you could say that I liked them is one way of putting it if that's not yet quite abundantly clear. Go here. Order taquitos. Repeat. Be happy.\"\n",
      " \"This place was awesome! Excellent food, great prices and ambience. I was rather old as I was seated at the base of the stairs and every time the door opened a rush of cold air came down on me. But this certainly didn't make me leave any sooner. I downloaded their app on their free wifi while I dined. The tortillas and guacamole appetizer was great and I had the black been and cheese quesadilla for my meal. Excellent food. And I paid with the app!\"\n",
      " 'Excelent service, 5 stars, pretty much because of Jose, the bartander, he did our night awesome¡ we will come back surely¡!']\n"
     ]
    },
    {
     "data": {
      "text/html": [
       "<div>\n",
       "<style scoped>\n",
       "    .dataframe tbody tr th:only-of-type {\n",
       "        vertical-align: middle;\n",
       "    }\n",
       "\n",
       "    .dataframe tbody tr th {\n",
       "        vertical-align: top;\n",
       "    }\n",
       "\n",
       "    .dataframe thead th {\n",
       "        text-align: right;\n",
       "    }\n",
       "</style>\n",
       "<table border=\"1\" class=\"dataframe\">\n",
       "  <thead>\n",
       "    <tr style=\"text-align: right;\">\n",
       "      <th></th>\n",
       "      <th>crayon_review_id</th>\n",
       "      <th>crayon_user_id</th>\n",
       "      <th>crayon_product_id</th>\n",
       "      <th>domain</th>\n",
       "      <th>url</th>\n",
       "      <th>type</th>\n",
       "      <th>category</th>\n",
       "      <th>date_created</th>\n",
       "      <th>gid</th>\n",
       "      <th>key</th>\n",
       "      <th>...</th>\n",
       "      <th>user_id</th>\n",
       "      <th>user_name</th>\n",
       "      <th>user_location_text</th>\n",
       "      <th>user_city</th>\n",
       "      <th>user_country</th>\n",
       "      <th>user_total_reviews</th>\n",
       "      <th>user_total_reviews_range</th>\n",
       "      <th>user_helpful_reviews</th>\n",
       "      <th>user_helpful_reviews_range</th>\n",
       "      <th>partition_0</th>\n",
       "    </tr>\n",
       "  </thead>\n",
       "  <tbody>\n",
       "    <tr>\n",
       "      <td>0</td>\n",
       "      <td>RR-202001000-552550429</td>\n",
       "      <td>RU-302001000-806642411</td>\n",
       "      <td>R-102001000-202456154</td>\n",
       "      <td>item_1_saturam_restaurant_review_metadata_info</td>\n",
       "      <td>https://item_1_saturam_restaurant_review_metad...</td>\n",
       "      <td>Reviews</td>\n",
       "      <td>Restaurants</td>\n",
       "      <td>2019-04-11</td>\n",
       "      <td>item_1_saturam_restaurant_review_metadata_info...</td>\n",
       "      <td>ef65c514583b9254dbd8f794c516aaca21c864076d59e3...</td>\n",
       "      <td>...</td>\n",
       "      <td>732393D49A0A1F0B63E5037F07DCDA04</td>\n",
       "      <td>Stevetarn2014</td>\n",
       "      <td>London, United Kingdom</td>\n",
       "      <td>London</td>\n",
       "      <td>United Kingdom</td>\n",
       "      <td>423</td>\n",
       "      <td>101 to 500</td>\n",
       "      <td>1030</td>\n",
       "      <td>1001 to 5000</td>\n",
       "      <td>item_1_restaurant_review_20190609_v10_stage4_c...</td>\n",
       "    </tr>\n",
       "    <tr>\n",
       "      <td>1</td>\n",
       "      <td>RR-202001000-550793573</td>\n",
       "      <td>RU-302001000-802600320</td>\n",
       "      <td>R-102001000-202456154</td>\n",
       "      <td>item_1_saturam_restaurant_review_metadata_info</td>\n",
       "      <td>https://item_1_saturam_restaurant_review_metad...</td>\n",
       "      <td>Reviews</td>\n",
       "      <td>Restaurants</td>\n",
       "      <td>2019-04-11</td>\n",
       "      <td>item_1_saturam_restaurant_review_metadata_info...</td>\n",
       "      <td>e766851ea18b154b154e419691d4ee7eeb4db9d80333f4...</td>\n",
       "      <td>...</td>\n",
       "      <td>2D0CF2077ADEDA59A706B7E1E3DE26E6</td>\n",
       "      <td>T35BZcristinag</td>\n",
       "      <td>NaN</td>\n",
       "      <td>NaN</td>\n",
       "      <td>NaN</td>\n",
       "      <td>141</td>\n",
       "      <td>101 to 500</td>\n",
       "      <td>9</td>\n",
       "      <td>1 to 100</td>\n",
       "      <td>item_1_restaurant_review_20190609_v10_stage4_c...</td>\n",
       "    </tr>\n",
       "    <tr>\n",
       "      <td>2</td>\n",
       "      <td>RR-202001000-533398566</td>\n",
       "      <td>RU-302001000-802928560</td>\n",
       "      <td>R-102001000-200371326</td>\n",
       "      <td>item_1_saturam_restaurant_review_metadata_info</td>\n",
       "      <td>https://item_1_saturam_restaurant_review_metad...</td>\n",
       "      <td>Reviews</td>\n",
       "      <td>Restaurants</td>\n",
       "      <td>2019-04-12</td>\n",
       "      <td>item_1_saturam_restaurant_review_metadata_info...</td>\n",
       "      <td>982dced88fd267e522b3591a402d2a3f5d3cb8bc783bdd...</td>\n",
       "      <td>...</td>\n",
       "      <td>32BF09E09D5417A78AC008B76F91EF11</td>\n",
       "      <td>Q1487BW</td>\n",
       "      <td>Bristol, United Kingdom</td>\n",
       "      <td>Bristol</td>\n",
       "      <td>United Kingdom</td>\n",
       "      <td>8</td>\n",
       "      <td>1 to 100</td>\n",
       "      <td>2</td>\n",
       "      <td>1 to 100</td>\n",
       "      <td>item_1_restaurant_review_20190609_v10_stage4_c...</td>\n",
       "    </tr>\n",
       "    <tr>\n",
       "      <td>3</td>\n",
       "      <td>RR-202001000-556167355</td>\n",
       "      <td>RU-302001000-803691542</td>\n",
       "      <td>R-102001000-200371326</td>\n",
       "      <td>item_1_saturam_restaurant_review_metadata_info</td>\n",
       "      <td>https://item_1_saturam_restaurant_review_metad...</td>\n",
       "      <td>Reviews</td>\n",
       "      <td>Restaurants</td>\n",
       "      <td>2019-04-12</td>\n",
       "      <td>item_1_saturam_restaurant_review_metadata_info...</td>\n",
       "      <td>ffdeac1f47ee1b9e21e3bf54869d87e1b9ab7b9a55d02f...</td>\n",
       "      <td>...</td>\n",
       "      <td>3FF79B747F3F4A0FA6BD325DA30ECDFE</td>\n",
       "      <td>Ian M</td>\n",
       "      <td>NaN</td>\n",
       "      <td>NaN</td>\n",
       "      <td>NaN</td>\n",
       "      <td>6</td>\n",
       "      <td>1 to 100</td>\n",
       "      <td>1</td>\n",
       "      <td>1 to 100</td>\n",
       "      <td>item_1_restaurant_review_20190609_v10_stage4_c...</td>\n",
       "    </tr>\n",
       "    <tr>\n",
       "      <td>4</td>\n",
       "      <td>RR-202001000-545446145</td>\n",
       "      <td>RU-302001000-809584645</td>\n",
       "      <td>R-102001000-200371326</td>\n",
       "      <td>item_1_saturam_restaurant_review_metadata_info</td>\n",
       "      <td>https://item_1_saturam_restaurant_review_metad...</td>\n",
       "      <td>Reviews</td>\n",
       "      <td>Restaurants</td>\n",
       "      <td>2019-04-12</td>\n",
       "      <td>item_1_saturam_restaurant_review_metadata_info...</td>\n",
       "      <td>cf0e41f130196d008f51f301712f0f48e572472e4532a1...</td>\n",
       "      <td>...</td>\n",
       "      <td>A62A1443262F2B60BCFDA5903E663B03</td>\n",
       "      <td>gillank</td>\n",
       "      <td>Hanoi, Vietnam</td>\n",
       "      <td>Hanoi</td>\n",
       "      <td>Vietnam</td>\n",
       "      <td>140</td>\n",
       "      <td>101 to 500</td>\n",
       "      <td>41</td>\n",
       "      <td>1 to 100</td>\n",
       "      <td>item_1_restaurant_review_20190609_v10_stage4_c...</td>\n",
       "    </tr>\n",
       "  </tbody>\n",
       "</table>\n",
       "<p>5 rows × 49 columns</p>\n",
       "</div>"
      ],
      "text/plain": [
       "         crayon_review_id          crayon_user_id      crayon_product_id  \\\n",
       "0  RR-202001000-552550429  RU-302001000-806642411  R-102001000-202456154   \n",
       "1  RR-202001000-550793573  RU-302001000-802600320  R-102001000-202456154   \n",
       "2  RR-202001000-533398566  RU-302001000-802928560  R-102001000-200371326   \n",
       "3  RR-202001000-556167355  RU-302001000-803691542  R-102001000-200371326   \n",
       "4  RR-202001000-545446145  RU-302001000-809584645  R-102001000-200371326   \n",
       "\n",
       "                                           domain  \\\n",
       "0  item_1_saturam_restaurant_review_metadata_info   \n",
       "1  item_1_saturam_restaurant_review_metadata_info   \n",
       "2  item_1_saturam_restaurant_review_metadata_info   \n",
       "3  item_1_saturam_restaurant_review_metadata_info   \n",
       "4  item_1_saturam_restaurant_review_metadata_info   \n",
       "\n",
       "                                                 url     type     category  \\\n",
       "0  https://item_1_saturam_restaurant_review_metad...  Reviews  Restaurants   \n",
       "1  https://item_1_saturam_restaurant_review_metad...  Reviews  Restaurants   \n",
       "2  https://item_1_saturam_restaurant_review_metad...  Reviews  Restaurants   \n",
       "3  https://item_1_saturam_restaurant_review_metad...  Reviews  Restaurants   \n",
       "4  https://item_1_saturam_restaurant_review_metad...  Reviews  Restaurants   \n",
       "\n",
       "  date_created                                                gid  \\\n",
       "0   2019-04-11  item_1_saturam_restaurant_review_metadata_info...   \n",
       "1   2019-04-11  item_1_saturam_restaurant_review_metadata_info...   \n",
       "2   2019-04-12  item_1_saturam_restaurant_review_metadata_info...   \n",
       "3   2019-04-12  item_1_saturam_restaurant_review_metadata_info...   \n",
       "4   2019-04-12  item_1_saturam_restaurant_review_metadata_info...   \n",
       "\n",
       "                                                 key  ...  \\\n",
       "0  ef65c514583b9254dbd8f794c516aaca21c864076d59e3...  ...   \n",
       "1  e766851ea18b154b154e419691d4ee7eeb4db9d80333f4...  ...   \n",
       "2  982dced88fd267e522b3591a402d2a3f5d3cb8bc783bdd...  ...   \n",
       "3  ffdeac1f47ee1b9e21e3bf54869d87e1b9ab7b9a55d02f...  ...   \n",
       "4  cf0e41f130196d008f51f301712f0f48e572472e4532a1...  ...   \n",
       "\n",
       "                            user_id       user_name       user_location_text  \\\n",
       "0  732393D49A0A1F0B63E5037F07DCDA04   Stevetarn2014   London, United Kingdom   \n",
       "1  2D0CF2077ADEDA59A706B7E1E3DE26E6  T35BZcristinag                      NaN   \n",
       "2  32BF09E09D5417A78AC008B76F91EF11         Q1487BW  Bristol, United Kingdom   \n",
       "3  3FF79B747F3F4A0FA6BD325DA30ECDFE           Ian M                      NaN   \n",
       "4  A62A1443262F2B60BCFDA5903E663B03         gillank           Hanoi, Vietnam   \n",
       "\n",
       "  user_city     user_country user_total_reviews  user_total_reviews_range  \\\n",
       "0    London   United Kingdom                423                101 to 500   \n",
       "1       NaN              NaN                141                101 to 500   \n",
       "2   Bristol   United Kingdom                  8                  1 to 100   \n",
       "3       NaN              NaN                  6                  1 to 100   \n",
       "4     Hanoi          Vietnam                140                101 to 500   \n",
       "\n",
       "   user_helpful_reviews  user_helpful_reviews_range  \\\n",
       "0                  1030                1001 to 5000   \n",
       "1                     9                    1 to 100   \n",
       "2                     2                    1 to 100   \n",
       "3                     1                    1 to 100   \n",
       "4                    41                    1 to 100   \n",
       "\n",
       "                                         partition_0  \n",
       "0  item_1_restaurant_review_20190609_v10_stage4_c...  \n",
       "1  item_1_restaurant_review_20190609_v10_stage4_c...  \n",
       "2  item_1_restaurant_review_20190609_v10_stage4_c...  \n",
       "3  item_1_restaurant_review_20190609_v10_stage4_c...  \n",
       "4  item_1_restaurant_review_20190609_v10_stage4_c...  \n",
       "\n",
       "[5 rows x 49 columns]"
      ]
     },
     "execution_count": 6,
     "metadata": {},
     "output_type": "execute_result"
    }
   ],
   "source": [
    "# Import Dataset\n",
    "import os\n",
    "\n",
    "os.chdir(\"D:\\Choogle\\Data\\dataset_review\")\n",
    "df = pd.read_csv(r'dataset2_london.csv')\n",
    "reviews_datasets = df.head(20000)\n",
    "#df = pd.read_json('https://raw.githubusercontent.com/datasets/master/newsgroups.json')\n",
    "print(reviews_datasets.text.unique())\n",
    "df.head()"
   ]
  },
  {
   "cell_type": "code",
   "execution_count": 7,
   "metadata": {},
   "outputs": [
    {
     "name": "stdout",
     "output_type": "stream",
     "text": [
      "['The staff in this branch of Nandos were friendly and efficient. Despite '\n",
      " 'being a fairly busy Friday night the wood arrived promptly and was up to the '\n",
      " 'usual standard.']\n"
     ]
    }
   ],
   "source": [
    "# Convert to list\n",
    "data = df.text.values.tolist()\n",
    "\n",
    "# Remove Emails\n",
    "data = [re.sub('\\S*@\\S*\\s?', '', sent) for sent in data]\n",
    "\n",
    "# Remove new line characters\n",
    "data = [re.sub('\\s+', ' ', sent) for sent in data]\n",
    "\n",
    "# Remove distracting single quotes\n",
    "data = [re.sub(\"\\'\", \"\", sent) for sent in data]\n",
    "\n",
    "pprint(data[:1])"
   ]
  },
  {
   "cell_type": "code",
   "execution_count": 8,
   "metadata": {},
   "outputs": [
    {
     "name": "stdout",
     "output_type": "stream",
     "text": [
      "[['the', 'staff', 'in', 'this', 'branch', 'of', 'nandos', 'were', 'friendly', 'and', 'efficient', 'despite', 'being', 'fairly', 'busy', 'friday', 'night', 'the', 'wood', 'arrived', 'promptly', 'and', 'was', 'up', 'to', 'the', 'usual', 'standard']]\n"
     ]
    }
   ],
   "source": [
    "def sent_to_words(sentences):\n",
    "    for sentence in sentences:\n",
    "        yield(gensim.utils.simple_preprocess(str(sentence), deacc=True))  # deacc=True removes punctuations\n",
    "\n",
    "data_words = list(sent_to_words(data))\n",
    "\n",
    "print(data_words[:1])"
   ]
  },
  {
   "cell_type": "code",
   "execution_count": 9,
   "metadata": {},
   "outputs": [
    {
     "data": {
      "text/plain": [
       "\"The staff in this branch of Nando's were friendly and efficient. Despite being a fairly busy Friday night the wood arrived promptly and was up to the usual standard.\""
      ]
     },
     "execution_count": 9,
     "metadata": {},
     "output_type": "execute_result"
    }
   ],
   "source": [
    "reviews_datasets['text'][0]"
   ]
  },
  {
   "cell_type": "code",
   "execution_count": 10,
   "metadata": {},
   "outputs": [
    {
     "name": "stdout",
     "output_type": "stream",
     "text": [
      "['the', 'staff', 'in', 'this', 'branch', 'of', 'nandos', 'were', 'friendly_and_efficient', 'despite_being', 'fairly', 'busy', 'friday_night', 'the', 'wood', 'arrived', 'promptly', 'and', 'was', 'up', 'to', 'the', 'usual', 'standard']\n"
     ]
    }
   ],
   "source": [
    "# Build the bigram and trigram models\n",
    "bigram = gensim.models.Phrases(data_words, min_count=5, threshold=5) # higher threshold fewer phrases.\n",
    "trigram = gensim.models.Phrases(bigram[data_words], threshold=5)  \n",
    "\n",
    "# Faster way to get a sentence clubbed as a trigram/bigram\n",
    "bigram_mod = gensim.models.phrases.Phraser(bigram)\n",
    "trigram_mod = gensim.models.phrases.Phraser(trigram)\n",
    "\n",
    "# See trigram example\n",
    "print(trigram_mod[bigram_mod[data_words[0]]])"
   ]
  },
  {
   "cell_type": "code",
   "execution_count": 11,
   "metadata": {},
   "outputs": [],
   "source": [
    "# Define functions for stopwords, bigrams, trigrams and lemmatization\n",
    "def remove_stopwords(texts):\n",
    "    return [[word for word in simple_preprocess(str(doc)) if word not in stop_words] for doc in texts]\n",
    "\n",
    "def make_bigrams(texts):\n",
    "    return [bigram_mod[doc] for doc in texts]\n",
    "\n",
    "def make_trigrams(texts):\n",
    "    return [trigram_mod[bigram_mod[doc]] for doc in texts]\n",
    "\n",
    "def lemmatization(texts, allowed_postags=['NOUN', 'ADJ', 'VERB', 'ADV']):\n",
    "    \"\"\"https://spacy.io/api/annotation\"\"\"\n",
    "    texts_out = []\n",
    "    for sent in texts:\n",
    "        doc = nlp(\" \".join(sent)) \n",
    "        texts_out.append([token.lemma_ for token in doc if token.pos_ in allowed_postags])\n",
    "    return texts_out"
   ]
  },
  {
   "cell_type": "code",
   "execution_count": 33,
   "metadata": {},
   "outputs": [
    {
     "name": "stdout",
     "output_type": "stream",
     "text": [
      "Requirement already up-to-date: spacy in c:\\conda\\lib\\site-packages (2.2.3)\n",
      "Collecting download\n",
      "  Downloading https://files.pythonhosted.org/packages/e3/02/10dbbf98043d6f5ec94d0715401b80e65a0dff49c3d937614d8976c35cb2/download-0.3.4-py3-none-any.whl\n",
      "Requirement already up-to-date: en_core_web_lg in c:\\conda\\lib\\site-packages (2.2.5)\n",
      "Requirement already satisfied, skipping upgrade: srsly<1.1.0,>=0.1.0 in c:\\conda\\lib\\site-packages (from spacy) (1.0.1)\n",
      "Requirement already satisfied, skipping upgrade: murmurhash<1.1.0,>=0.28.0 in c:\\conda\\lib\\site-packages (from spacy) (1.0.2)\n",
      "Requirement already satisfied, skipping upgrade: blis<0.5.0,>=0.4.0 in c:\\conda\\lib\\site-packages (from spacy) (0.4.1)\n",
      "Requirement already satisfied, skipping upgrade: wasabi<1.1.0,>=0.4.0 in c:\\conda\\lib\\site-packages (from spacy) (0.6.0)\n",
      "Requirement already satisfied, skipping upgrade: numpy>=1.15.0 in c:\\conda\\lib\\site-packages (from spacy) (1.16.5)\n",
      "Requirement already satisfied, skipping upgrade: requests<3.0.0,>=2.13.0 in c:\\conda\\lib\\site-packages (from spacy) (2.22.0)\n",
      "Requirement already satisfied, skipping upgrade: plac<1.2.0,>=0.9.6 in c:\\conda\\lib\\site-packages (from spacy) (1.1.3)\n",
      "Requirement already satisfied, skipping upgrade: cymem<2.1.0,>=2.0.2 in c:\\conda\\lib\\site-packages (from spacy) (2.0.3)\n",
      "Requirement already satisfied, skipping upgrade: catalogue<1.1.0,>=0.0.7 in c:\\conda\\lib\\site-packages (from spacy) (1.0.0)\n",
      "Requirement already satisfied, skipping upgrade: thinc<7.4.0,>=7.3.0 in c:\\conda\\lib\\site-packages (from spacy) (7.3.1)\n",
      "Requirement already satisfied, skipping upgrade: setuptools in c:\\conda\\lib\\site-packages (from spacy) (41.4.0)\n",
      "Requirement already satisfied, skipping upgrade: preshed<3.1.0,>=3.0.2 in c:\\conda\\lib\\site-packages (from spacy) (3.0.2)\n",
      "Requirement already satisfied, skipping upgrade: urllib3!=1.25.0,!=1.25.1,<1.26,>=1.21.1 in c:\\conda\\lib\\site-packages (from requests<3.0.0,>=2.13.0->spacy) (1.24.2)\n",
      "Requirement already satisfied, skipping upgrade: certifi>=2017.4.17 in c:\\conda\\lib\\site-packages (from requests<3.0.0,>=2.13.0->spacy) (2019.9.11)\n",
      "Requirement already satisfied, skipping upgrade: chardet<3.1.0,>=3.0.2 in c:\\conda\\lib\\site-packages (from requests<3.0.0,>=2.13.0->spacy) (3.0.4)\n",
      "Requirement already satisfied, skipping upgrade: idna<2.9,>=2.5 in c:\\conda\\lib\\site-packages (from requests<3.0.0,>=2.13.0->spacy) (2.8)\n",
      "Requirement already satisfied, skipping upgrade: importlib-metadata>=0.20; python_version < \"3.8\" in c:\\conda\\lib\\site-packages (from catalogue<1.1.0,>=0.0.7->spacy) (0.23)\n",
      "Requirement already satisfied, skipping upgrade: tqdm<5.0.0,>=4.10.0 in c:\\conda\\lib\\site-packages (from thinc<7.4.0,>=7.3.0->spacy) (4.36.1)\n",
      "Requirement already satisfied, skipping upgrade: zipp>=0.5 in c:\\conda\\lib\\site-packages (from importlib-metadata>=0.20; python_version < \"3.8\"->catalogue<1.1.0,>=0.0.7->spacy) (0.6.0)\n",
      "Requirement already satisfied, skipping upgrade: more-itertools in c:\\conda\\lib\\site-packages (from zipp>=0.5->importlib-metadata>=0.20; python_version < \"3.8\"->catalogue<1.1.0,>=0.0.7->spacy) (7.2.0)\n",
      "Installing collected packages: download\n",
      "Successfully installed download-0.3.4\n",
      "Requirement already up-to-date: spacy in c:\\conda\\lib\\site-packages (2.2.3)\n",
      "Requirement already up-to-date: download in c:\\conda\\lib\\site-packages (0.3.4)\n",
      "Requirement already up-to-date: en_core_web_sm in c:\\conda\\lib\\site-packages (2.2.5)\n",
      "Requirement already satisfied, skipping upgrade: blis<0.5.0,>=0.4.0 in c:\\conda\\lib\\site-packages (from spacy) (0.4.1)\n",
      "Requirement already satisfied, skipping upgrade: cymem<2.1.0,>=2.0.2 in c:\\conda\\lib\\site-packages (from spacy) (2.0.3)\n",
      "Requirement already satisfied, skipping upgrade: wasabi<1.1.0,>=0.4.0 in c:\\conda\\lib\\site-packages (from spacy) (0.6.0)\n",
      "Requirement already satisfied, skipping upgrade: murmurhash<1.1.0,>=0.28.0 in c:\\conda\\lib\\site-packages (from spacy) (1.0.2)\n",
      "Requirement already satisfied, skipping upgrade: catalogue<1.1.0,>=0.0.7 in c:\\conda\\lib\\site-packages (from spacy) (1.0.0)\n",
      "Requirement already satisfied, skipping upgrade: setuptools in c:\\conda\\lib\\site-packages (from spacy) (41.4.0)\n",
      "Requirement already satisfied, skipping upgrade: requests<3.0.0,>=2.13.0 in c:\\conda\\lib\\site-packages (from spacy) (2.22.0)\n",
      "Requirement already satisfied, skipping upgrade: thinc<7.4.0,>=7.3.0 in c:\\conda\\lib\\site-packages (from spacy) (7.3.1)\n",
      "Requirement already satisfied, skipping upgrade: numpy>=1.15.0 in c:\\conda\\lib\\site-packages (from spacy) (1.16.5)\n",
      "Requirement already satisfied, skipping upgrade: preshed<3.1.0,>=3.0.2 in c:\\conda\\lib\\site-packages (from spacy) (3.0.2)\n",
      "Requirement already satisfied, skipping upgrade: srsly<1.1.0,>=0.1.0 in c:\\conda\\lib\\site-packages (from spacy) (1.0.1)\n",
      "Requirement already satisfied, skipping upgrade: plac<1.2.0,>=0.9.6 in c:\\conda\\lib\\site-packages (from spacy) (1.1.3)\n",
      "Requirement already satisfied, skipping upgrade: importlib-metadata>=0.20; python_version < \"3.8\" in c:\\conda\\lib\\site-packages (from catalogue<1.1.0,>=0.0.7->spacy) (0.23)\n",
      "Requirement already satisfied, skipping upgrade: chardet<3.1.0,>=3.0.2 in c:\\conda\\lib\\site-packages (from requests<3.0.0,>=2.13.0->spacy) (3.0.4)\n",
      "Requirement already satisfied, skipping upgrade: certifi>=2017.4.17 in c:\\conda\\lib\\site-packages (from requests<3.0.0,>=2.13.0->spacy) (2019.9.11)\n",
      "Requirement already satisfied, skipping upgrade: idna<2.9,>=2.5 in c:\\conda\\lib\\site-packages (from requests<3.0.0,>=2.13.0->spacy) (2.8)\n",
      "Requirement already satisfied, skipping upgrade: urllib3!=1.25.0,!=1.25.1,<1.26,>=1.21.1 in c:\\conda\\lib\\site-packages (from requests<3.0.0,>=2.13.0->spacy) (1.24.2)\n",
      "Requirement already satisfied, skipping upgrade: tqdm<5.0.0,>=4.10.0 in c:\\conda\\lib\\site-packages (from thinc<7.4.0,>=7.3.0->spacy) (4.36.1)\n",
      "Requirement already satisfied, skipping upgrade: zipp>=0.5 in c:\\conda\\lib\\site-packages (from importlib-metadata>=0.20; python_version < \"3.8\"->catalogue<1.1.0,>=0.0.7->spacy) (0.6.0)\n",
      "Requirement already satisfied, skipping upgrade: more-itertools in c:\\conda\\lib\\site-packages (from zipp>=0.5->importlib-metadata>=0.20; python_version < \"3.8\"->catalogue<1.1.0,>=0.0.7->spacy) (7.2.0)\n"
     ]
    }
   ],
   "source": [
    "#!python -m spacy download en_core_web_lg\n",
    "!pip install -U spacy download en_core_web_lg\n",
    "!pip install -U spacy download en_core_web_sm"
   ]
  },
  {
   "cell_type": "code",
   "execution_count": 34,
   "metadata": {},
   "outputs": [
    {
     "name": "stdout",
     "output_type": "stream",
     "text": [
      "Requirement already satisfied: en_core_web_sm==2.2.5 from https://github.com/explosion/spacy-models/releases/download/en_core_web_sm-2.2.5/en_core_web_sm-2.2.5.tar.gz#egg=en_core_web_sm==2.2.5 in c:\\conda\\lib\\site-packages (2.2.5)\n",
      "Requirement already satisfied: spacy>=2.2.2 in c:\\conda\\lib\\site-packages (from en_core_web_sm==2.2.5) (2.2.3)\n",
      "Requirement already satisfied: srsly<1.1.0,>=0.1.0 in c:\\conda\\lib\\site-packages (from spacy>=2.2.2->en_core_web_sm==2.2.5) (1.0.1)\n",
      "Requirement already satisfied: setuptools in c:\\conda\\lib\\site-packages (from spacy>=2.2.2->en_core_web_sm==2.2.5) (41.4.0)\n",
      "Requirement already satisfied: preshed<3.1.0,>=3.0.2 in c:\\conda\\lib\\site-packages (from spacy>=2.2.2->en_core_web_sm==2.2.5) (3.0.2)\n",
      "Requirement already satisfied: numpy>=1.15.0 in c:\\conda\\lib\\site-packages (from spacy>=2.2.2->en_core_web_sm==2.2.5) (1.16.5)\n",
      "Requirement already satisfied: thinc<7.4.0,>=7.3.0 in c:\\conda\\lib\\site-packages (from spacy>=2.2.2->en_core_web_sm==2.2.5) (7.3.1)\n",
      "Requirement already satisfied: catalogue<1.1.0,>=0.0.7 in c:\\conda\\lib\\site-packages (from spacy>=2.2.2->en_core_web_sm==2.2.5) (1.0.0)\n",
      "Requirement already satisfied: blis<0.5.0,>=0.4.0 in c:\\conda\\lib\\site-packages (from spacy>=2.2.2->en_core_web_sm==2.2.5) (0.4.1)\n",
      "Requirement already satisfied: plac<1.2.0,>=0.9.6 in c:\\conda\\lib\\site-packages (from spacy>=2.2.2->en_core_web_sm==2.2.5) (1.1.3)\n",
      "Requirement already satisfied: requests<3.0.0,>=2.13.0 in c:\\conda\\lib\\site-packages (from spacy>=2.2.2->en_core_web_sm==2.2.5) (2.22.0)\n",
      "Requirement already satisfied: cymem<2.1.0,>=2.0.2 in c:\\conda\\lib\\site-packages (from spacy>=2.2.2->en_core_web_sm==2.2.5) (2.0.3)\n",
      "Requirement already satisfied: wasabi<1.1.0,>=0.4.0 in c:\\conda\\lib\\site-packages (from spacy>=2.2.2->en_core_web_sm==2.2.5) (0.6.0)\n",
      "Requirement already satisfied: murmurhash<1.1.0,>=0.28.0 in c:\\conda\\lib\\site-packages (from spacy>=2.2.2->en_core_web_sm==2.2.5) (1.0.2)\n",
      "Requirement already satisfied: tqdm<5.0.0,>=4.10.0 in c:\\conda\\lib\\site-packages (from thinc<7.4.0,>=7.3.0->spacy>=2.2.2->en_core_web_sm==2.2.5) (4.36.1)\n",
      "Requirement already satisfied: importlib-metadata>=0.20; python_version < \"3.8\" in c:\\conda\\lib\\site-packages (from catalogue<1.1.0,>=0.0.7->spacy>=2.2.2->en_core_web_sm==2.2.5) (0.23)\n",
      "Requirement already satisfied: certifi>=2017.4.17 in c:\\conda\\lib\\site-packages (from requests<3.0.0,>=2.13.0->spacy>=2.2.2->en_core_web_sm==2.2.5) (2019.9.11)\n",
      "Requirement already satisfied: chardet<3.1.0,>=3.0.2 in c:\\conda\\lib\\site-packages (from requests<3.0.0,>=2.13.0->spacy>=2.2.2->en_core_web_sm==2.2.5) (3.0.4)\n",
      "Requirement already satisfied: idna<2.9,>=2.5 in c:\\conda\\lib\\site-packages (from requests<3.0.0,>=2.13.0->spacy>=2.2.2->en_core_web_sm==2.2.5) (2.8)\n",
      "Requirement already satisfied: urllib3!=1.25.0,!=1.25.1,<1.26,>=1.21.1 in c:\\conda\\lib\\site-packages (from requests<3.0.0,>=2.13.0->spacy>=2.2.2->en_core_web_sm==2.2.5) (1.24.2)\n",
      "Requirement already satisfied: zipp>=0.5 in c:\\conda\\lib\\site-packages (from importlib-metadata>=0.20; python_version < \"3.8\"->catalogue<1.1.0,>=0.0.7->spacy>=2.2.2->en_core_web_sm==2.2.5) (0.6.0)\n",
      "Requirement already satisfied: more-itertools in c:\\conda\\lib\\site-packages (from zipp>=0.5->importlib-metadata>=0.20; python_version < \"3.8\"->catalogue<1.1.0,>=0.0.7->spacy>=2.2.2->en_core_web_sm==2.2.5) (7.2.0)\n",
      "[+] Download and installation successful\n",
      "You can now load the model via spacy.load('en_core_web_sm')\n"
     ]
    }
   ],
   "source": [
    "!python -m spacy download en_core_web_sm\n"
   ]
  },
  {
   "cell_type": "code",
   "execution_count": 35,
   "metadata": {},
   "outputs": [
    {
     "name": "stdout",
     "output_type": "stream",
     "text": [
      "[('This', 'DET'), ('is', 'AUX'), ('a', 'DET'), ('sentence', 'NOUN'), ('.', 'PUNCT')]\n"
     ]
    }
   ],
   "source": [
    "#import en_core_web_sm\n",
    "#nlp = en_core_web_sm.load()\n",
    "#doc = nlp(\"This is a sentence.\")\n",
    "#print([(w.text, w.pos_) for w in doc])"
   ]
  },
  {
   "cell_type": "code",
   "execution_count": 12,
   "metadata": {},
   "outputs": [
    {
     "name": "stdout",
     "output_type": "stream",
     "text": [
      "[['branch', 'nando', 'friendly', 'efficient', 'fairly', 'busy', 'wood', 'arrive', 'promptly', 'usual', 'standard']]\n"
     ]
    }
   ],
   "source": [
    "import en_core_web_sm\n",
    "\n",
    "# Remove Stop Words\n",
    "data_words_nostops = remove_stopwords(data_words)\n",
    "\n",
    "# Form Bigrams\n",
    "data_words_bigrams = make_bigrams(data_words_nostops)\n",
    "\n",
    "# Initialize spacy 'en' model, keeping only tagger component (for efficiency)\n",
    "# python3 -m spacy download en\n",
    "nlp = en_core_web_sm.load()\n",
    "#nlp = spacy.load('en_core_web_sm')\n",
    "#nlp = spacy.load('en', disable=['parser', 'ner'])\n",
    "\n",
    "# Do lemmatization keeping only noun, adj, vb, adv\n",
    "data_lemmatized = lemmatization(data_words_bigrams, allowed_postags=['NOUN', 'ADJ', 'VERB', 'ADV'])\n",
    "\n",
    "print(data_lemmatized[:1])"
   ]
  },
  {
   "cell_type": "code",
   "execution_count": 13,
   "metadata": {},
   "outputs": [
    {
     "name": "stdout",
     "output_type": "stream",
     "text": [
      "[[(0, 1), (1, 1), (2, 1), (3, 1), (4, 1), (5, 1), (6, 1), (7, 1), (8, 1), (9, 1), (10, 1)]]\n"
     ]
    }
   ],
   "source": [
    "# Create Dictionary\n",
    "id2word = corpora.Dictionary(data_lemmatized)\n",
    "\n",
    "# Create Corpus\n",
    "texts = data_lemmatized\n",
    "\n",
    "# Term Document Frequency\n",
    "corpus = [id2word.doc2bow(text) for text in texts]\n",
    "\n",
    "# View\n",
    "print(corpus[:1])"
   ]
  },
  {
   "cell_type": "code",
   "execution_count": 14,
   "metadata": {},
   "outputs": [
    {
     "data": {
      "text/plain": [
       "'arrive'"
      ]
     },
     "execution_count": 14,
     "metadata": {},
     "output_type": "execute_result"
    }
   ],
   "source": [
    "id2word[0]"
   ]
  },
  {
   "cell_type": "code",
   "execution_count": 15,
   "metadata": {},
   "outputs": [
    {
     "data": {
      "text/plain": [
       "[[('arrive', 1),\n",
       "  ('branch', 1),\n",
       "  ('busy', 1),\n",
       "  ('efficient', 1),\n",
       "  ('fairly', 1),\n",
       "  ('friendly', 1),\n",
       "  ('nando', 1),\n",
       "  ('promptly', 1),\n",
       "  ('standard', 1),\n",
       "  ('usual', 1),\n",
       "  ('wood', 1)]]"
      ]
     },
     "execution_count": 15,
     "metadata": {},
     "output_type": "execute_result"
    }
   ],
   "source": [
    "# Human readable format of corpus (term-frequency)\n",
    "[[(id2word[id], freq) for id, freq in cp] for cp in corpus[:1]]"
   ]
  },
  {
   "cell_type": "code",
   "execution_count": 16,
   "metadata": {
    "scrolled": true
   },
   "outputs": [],
   "source": [
    "# Build LDA model\n",
    "lda_model = gensim.models.ldamodel.LdaModel(corpus=corpus,\n",
    "                                           id2word=id2word,\n",
    "                                           num_topics=10, \n",
    "                                           random_state=100,\n",
    "                                           update_every=1,\n",
    "                                           chunksize=100,\n",
    "                                           passes=10,\n",
    "                                           alpha='auto',\n",
    "                                           per_word_topics=True)"
   ]
  },
  {
   "cell_type": "code",
   "execution_count": 17,
   "metadata": {},
   "outputs": [
    {
     "name": "stdout",
     "output_type": "stream",
     "text": [
      "[(0,\n",
      "  '0.037*\"menu\" + 0.028*\"try\" + 0.028*\"busy\" + 0.020*\"serve\" + 0.019*\"bit\" + '\n",
      "  '0.017*\"get\" + 0.016*\"bar\" + 0.016*\"choice\" + 0.016*\"go\" + 0.015*\"mexican\"'),\n",
      " (1,\n",
      "  '0.038*\"big\" + 0.034*\"cheese\" + 0.029*\"french\" + 0.028*\"money\" + 0.019*\"old\" '\n",
      "  '+ 0.019*\"kid\" + 0.018*\"short\" + 0.018*\"mix\" + 0.018*\"plate\" + '\n",
      "  '0.017*\"extra\"'),\n",
      " (2,\n",
      "  '0.049*\"table\" + 0.049*\"order\" + 0.034*\"would\" + 0.029*\"come\" + 0.029*\"wait\" '\n",
      "  '+ 0.025*\"time\" + 0.020*\"take\" + 0.019*\"drink\" + 0.018*\"arrive\" + '\n",
      "  '0.017*\"could\"'),\n",
      " (3,\n",
      "  '0.064*\"restaurant\" + 0.028*\"make\" + 0.023*\"experience\" + 0.022*\"quite\" + '\n",
      "  '0.020*\"find\" + 0.018*\"go\" + 0.017*\"fresh\" + 0.017*\"quick\" + 0.016*\"staff\" + '\n",
      "  '0.014*\"way\"'),\n",
      " (4,\n",
      "  '0.058*\"dinner\" + 0.050*\"chip\" + 0.034*\"cook\" + 0.034*\"server\" + '\n",
      "  '0.034*\"chain\" + 0.030*\"favourite\" + 0.018*\"vegetarian\" + 0.017*\"prepare\" + '\n",
      "  '0.015*\"mostly\" + 0.012*\"move\"'),\n",
      " (5,\n",
      "  '0.086*\"food\" + 0.059*\"good\" + 0.046*\"great\" + 0.032*\"place\" + '\n",
      "  '0.027*\"service\" + 0.023*\"staff\" + 0.020*\"go\" + 0.019*\"nice\" + 0.018*\"dish\" '\n",
      "  '+ 0.017*\"meal\"'),\n",
      " (6,\n",
      "  '0.023*\"see\" + 0.021*\"start\" + 0.019*\"dish\" + 0.017*\"finish\" + '\n",
      "  '0.017*\"expect\" + 0.016*\"pork\" + 0.013*\"steak\" + 0.012*\"rather\" + '\n",
      "  '0.012*\"review\" + 0.012*\"sauce\"'),\n",
      " (7,\n",
      "  '0.059*\"really\" + 0.045*\"excellent\" + 0.043*\"always\" + 0.035*\"amazing\" + '\n",
      "  '0.024*\"definitely\" + 0.022*\"many\" + 0.017*\"thank\" + 0.017*\"perfect\" + '\n",
      "  '0.015*\"fun\" + 0.013*\"fresh\"'),\n",
      " (8,\n",
      "  '0.041*\"really_enjoye\" + 0.032*\"eaten\" + 0.021*\"chat\" + 0.019*\"park\" + '\n",
      "  '0.017*\"believe\" + 0.016*\"professional\" + 0.015*\"stock\" + 0.014*\"town\" + '\n",
      "  '0.014*\"previously\" + 0.014*\"generally\"'),\n",
      " (9,\n",
      "  '0.041*\"birthday\" + 0.034*\"call\" + 0.033*\"set\" + 0.029*\"free\" + '\n",
      "  '0.026*\"branch\" + 0.026*\"add\" + 0.023*\"one\" + 0.023*\"several\" + 0.022*\"late\" '\n",
      "  '+ 0.021*\"slightly\"')]\n"
     ]
    }
   ],
   "source": [
    "# Print the Keyword in the 10 topics\n",
    "pprint(lda_model.print_topics())\n",
    "doc_lda = lda_model[corpus]"
   ]
  },
  {
   "cell_type": "code",
   "execution_count": 18,
   "metadata": {},
   "outputs": [
    {
     "name": "stdout",
     "output_type": "stream",
     "text": [
      "\n",
      "Perplexity:  -7.685872040043937\n",
      "\n",
      "Coherence Score:  0.3928124692665542\n"
     ]
    }
   ],
   "source": [
    "# Compute Perplexity\n",
    "print('\\nPerplexity: ', lda_model.log_perplexity(corpus))  # a measure of how good the model is. lower the better.\n",
    "\n",
    "# Compute Coherence Score\n",
    "coherence_model_lda = CoherenceModel(model=lda_model, texts=data_lemmatized, dictionary=id2word, coherence='c_v')\n",
    "coherence_lda = coherence_model_lda.get_coherence()\n",
    "print('\\nCoherence Score: ', coherence_lda)"
   ]
  },
  {
   "cell_type": "code",
   "execution_count": 19,
   "metadata": {},
   "outputs": [
    {
     "name": "stderr",
     "output_type": "stream",
     "text": [
      "C:\\Conda\\lib\\site-packages\\pyLDAvis\\_prepare.py:257: FutureWarning: Sorting because non-concatenation axis is not aligned. A future version\n",
      "of pandas will change to not sort by default.\n",
      "\n",
      "To accept the future behavior, pass 'sort=False'.\n",
      "\n",
      "To retain the current behavior and silence the warning, pass 'sort=True'.\n",
      "\n",
      "  return pd.concat([default_term_info] + list(topic_dfs))\n"
     ]
    },
    {
     "data": {
      "text/html": [
       "\n",
       "<link rel=\"stylesheet\" type=\"text/css\" href=\"https://cdn.rawgit.com/bmabey/pyLDAvis/files/ldavis.v1.0.0.css\">\n",
       "\n",
       "\n",
       "<div id=\"ldavis_el1983618868169866962418252261\"></div>\n",
       "<script type=\"text/javascript\">\n",
       "\n",
       "var ldavis_el1983618868169866962418252261_data = {\"mdsDat\": {\"x\": [-0.2631403416797168, -0.1616325461069375, -0.20292563236166503, -0.12868598764341146, 0.09210645986573963, 0.002800979764285316, 0.16702831302740023, 0.17588090855721022, 0.1706210561115064, 0.1479467904655886], \"y\": [0.12195626067758002, -0.3209858620398584, -0.06812222469698243, 0.17006081117304814, 0.0414935302148317, 0.15158339095879372, -0.04190116878874, -0.01866439691702585, -0.020028784317297647, -0.01539155626434886], \"topics\": [1, 2, 3, 4, 5, 6, 7, 8, 9, 10], \"cluster\": [1, 1, 1, 1, 1, 1, 1, 1, 1, 1], \"Freq\": [27.352657318115234, 18.811193466186523, 14.732853889465332, 13.502412796020508, 8.112404823303223, 7.473367691040039, 3.5553970336914062, 3.0981791019439697, 2.742149591445923, 0.6193767786026001]}, \"tinfo\": {\"Category\": [\"Default\", \"Default\", \"Default\", \"Default\", \"Default\", \"Default\", \"Default\", \"Default\", \"Default\", \"Default\", \"Default\", \"Default\", \"Default\", \"Default\", \"Default\", \"Default\", \"Default\", \"Default\", \"Default\", \"Default\", \"Default\", \"Default\", \"Default\", \"Default\", \"Default\", \"Default\", \"Default\", \"Default\", \"Default\", \"Default\", \"Topic1\", \"Topic1\", \"Topic1\", \"Topic1\", \"Topic1\", \"Topic1\", \"Topic1\", \"Topic1\", \"Topic1\", \"Topic1\", \"Topic1\", \"Topic1\", \"Topic1\", \"Topic1\", \"Topic1\", \"Topic1\", \"Topic1\", \"Topic1\", \"Topic1\", \"Topic1\", \"Topic1\", \"Topic1\", \"Topic1\", \"Topic1\", \"Topic1\", \"Topic1\", \"Topic1\", \"Topic1\", \"Topic1\", \"Topic1\", \"Topic1\", \"Topic1\", \"Topic1\", \"Topic1\", \"Topic1\", \"Topic1\", \"Topic1\", \"Topic1\", \"Topic1\", \"Topic1\", \"Topic1\", \"Topic1\", \"Topic1\", \"Topic1\", \"Topic1\", \"Topic2\", \"Topic2\", \"Topic2\", \"Topic2\", \"Topic2\", \"Topic2\", \"Topic2\", \"Topic2\", \"Topic2\", \"Topic2\", \"Topic2\", \"Topic2\", \"Topic2\", \"Topic2\", \"Topic2\", \"Topic2\", \"Topic2\", \"Topic2\", \"Topic2\", \"Topic2\", \"Topic2\", \"Topic2\", \"Topic2\", \"Topic2\", \"Topic2\", \"Topic2\", \"Topic2\", \"Topic2\", \"Topic2\", \"Topic2\", \"Topic2\", \"Topic2\", \"Topic2\", \"Topic2\", \"Topic2\", \"Topic2\", \"Topic2\", \"Topic2\", \"Topic2\", \"Topic2\", \"Topic2\", \"Topic2\", \"Topic2\", \"Topic2\", \"Topic2\", \"Topic2\", \"Topic2\", \"Topic2\", \"Topic3\", \"Topic3\", \"Topic3\", \"Topic3\", \"Topic3\", \"Topic3\", \"Topic3\", \"Topic3\", \"Topic3\", \"Topic3\", \"Topic3\", \"Topic3\", \"Topic3\", \"Topic3\", \"Topic3\", \"Topic3\", \"Topic3\", \"Topic3\", \"Topic3\", \"Topic3\", \"Topic3\", \"Topic3\", \"Topic3\", \"Topic3\", \"Topic3\", \"Topic3\", \"Topic3\", \"Topic3\", \"Topic3\", \"Topic3\", \"Topic3\", \"Topic3\", \"Topic3\", \"Topic3\", \"Topic3\", \"Topic3\", \"Topic3\", \"Topic3\", \"Topic3\", \"Topic3\", \"Topic3\", \"Topic3\", \"Topic3\", \"Topic3\", \"Topic4\", \"Topic4\", \"Topic4\", \"Topic4\", \"Topic4\", \"Topic4\", \"Topic4\", \"Topic4\", \"Topic4\", \"Topic4\", \"Topic4\", \"Topic4\", \"Topic4\", \"Topic4\", \"Topic4\", \"Topic4\", \"Topic4\", \"Topic4\", \"Topic4\", \"Topic4\", \"Topic4\", \"Topic4\", \"Topic4\", \"Topic4\", \"Topic4\", \"Topic4\", \"Topic4\", \"Topic4\", \"Topic4\", \"Topic4\", \"Topic4\", \"Topic4\", \"Topic4\", \"Topic4\", \"Topic4\", \"Topic4\", \"Topic4\", \"Topic4\", \"Topic4\", \"Topic4\", \"Topic4\", \"Topic4\", \"Topic4\", \"Topic4\", \"Topic4\", \"Topic4\", \"Topic4\", \"Topic4\", \"Topic4\", \"Topic4\", \"Topic4\", \"Topic4\", \"Topic5\", \"Topic5\", \"Topic5\", \"Topic5\", \"Topic5\", \"Topic5\", \"Topic5\", \"Topic5\", \"Topic5\", \"Topic5\", \"Topic5\", \"Topic5\", \"Topic5\", \"Topic5\", \"Topic5\", \"Topic5\", \"Topic5\", \"Topic5\", \"Topic5\", \"Topic5\", \"Topic5\", \"Topic5\", \"Topic5\", \"Topic5\", \"Topic5\", \"Topic5\", \"Topic5\", \"Topic5\", \"Topic5\", \"Topic5\", \"Topic5\", \"Topic5\", \"Topic5\", \"Topic5\", \"Topic5\", \"Topic5\", \"Topic5\", \"Topic5\", \"Topic5\", \"Topic5\", \"Topic6\", \"Topic6\", \"Topic6\", \"Topic6\", \"Topic6\", \"Topic6\", \"Topic6\", \"Topic6\", \"Topic6\", \"Topic6\", \"Topic6\", \"Topic6\", \"Topic6\", \"Topic6\", \"Topic6\", \"Topic6\", \"Topic6\", \"Topic6\", \"Topic6\", \"Topic6\", \"Topic6\", \"Topic6\", \"Topic6\", \"Topic6\", \"Topic6\", \"Topic6\", \"Topic6\", \"Topic6\", \"Topic6\", \"Topic6\", \"Topic6\", \"Topic6\", \"Topic6\", \"Topic6\", \"Topic6\", \"Topic6\", \"Topic6\", \"Topic6\", \"Topic6\", \"Topic6\", \"Topic6\", \"Topic6\", \"Topic6\", \"Topic7\", \"Topic7\", \"Topic7\", \"Topic7\", \"Topic7\", \"Topic7\", \"Topic7\", \"Topic7\", \"Topic7\", \"Topic7\", \"Topic7\", \"Topic7\", \"Topic7\", \"Topic7\", \"Topic7\", \"Topic7\", \"Topic7\", \"Topic7\", \"Topic7\", \"Topic7\", \"Topic7\", \"Topic7\", \"Topic7\", \"Topic7\", \"Topic7\", \"Topic7\", \"Topic7\", \"Topic7\", \"Topic7\", \"Topic7\", \"Topic7\", \"Topic7\", \"Topic7\", \"Topic7\", \"Topic7\", \"Topic7\", \"Topic8\", \"Topic8\", \"Topic8\", \"Topic8\", \"Topic8\", \"Topic8\", \"Topic8\", \"Topic8\", \"Topic8\", \"Topic8\", \"Topic8\", \"Topic8\", \"Topic8\", \"Topic8\", \"Topic8\", \"Topic8\", \"Topic8\", \"Topic8\", \"Topic8\", \"Topic8\", \"Topic8\", \"Topic8\", \"Topic8\", \"Topic8\", \"Topic8\", \"Topic8\", \"Topic8\", \"Topic8\", \"Topic8\", \"Topic8\", \"Topic8\", \"Topic9\", \"Topic9\", \"Topic9\", \"Topic9\", \"Topic9\", \"Topic9\", \"Topic9\", \"Topic9\", \"Topic9\", \"Topic9\", \"Topic9\", \"Topic9\", \"Topic9\", \"Topic9\", \"Topic9\", \"Topic9\", \"Topic9\", \"Topic9\", \"Topic9\", \"Topic9\", \"Topic9\", \"Topic9\", \"Topic9\", \"Topic9\", \"Topic9\", \"Topic9\", \"Topic9\", \"Topic9\", \"Topic9\", \"Topic9\", \"Topic10\", \"Topic10\", \"Topic10\", \"Topic10\", \"Topic10\", \"Topic10\", \"Topic10\", \"Topic10\", \"Topic10\", \"Topic10\", \"Topic10\", \"Topic10\", \"Topic10\", \"Topic10\", \"Topic10\", \"Topic10\", \"Topic10\", \"Topic10\", \"Topic10\", \"Topic10\", \"Topic10\", \"Topic10\", \"Topic10\", \"Topic10\", \"Topic10\", \"Topic10\", \"Topic10\", \"Topic10\", \"Topic10\", \"Topic10\"], \"Freq\": [1319.0, 835.0, 498.0, 477.0, 658.0, 493.0, 283.0, 468.0, 175.0, 167.0, 321.0, 376.0, 326.0, 350.0, 220.0, 343.0, 139.0, 279.0, 250.0, 94.0, 267.0, 312.0, 458.0, 201.0, 242.0, 177.0, 501.0, 80.0, 249.0, 198.0, 834.7463989257812, 266.95721435546875, 219.61512756347656, 193.48519897460938, 170.32049560546875, 241.1421356201172, 166.68638610839844, 164.4061279296875, 133.21646118164062, 127.56266784667969, 129.13343811035156, 171.84454345703125, 110.3667221069336, 109.12548828125, 94.65447235107422, 89.97941589355469, 142.00430297851562, 86.97216033935547, 107.33382415771484, 80.00215148925781, 79.98055267333984, 74.77120971679688, 72.04424285888672, 61.782901763916016, 57.65069580078125, 56.17637252807617, 213.27511596679688, 648.7864990234375, 50.87063980102539, 45.42392349243164, 243.60597229003906, 452.47515869140625, 215.01123046875, 1224.6217041015625, 230.87765502929688, 383.99859619140625, 141.6629180908203, 261.0673522949219, 329.403564453125, 162.8367156982422, 205.50167846679688, 129.504150390625, 286.9725341796875, 134.47976684570312, 123.68572235107422, 476.0596008300781, 176.6284637451172, 162.9098663330078, 147.37545776367188, 128.27561950683594, 119.05244445800781, 116.98619842529297, 110.23673248291016, 100.1137924194336, 153.2865753173828, 97.28526306152344, 75.96066284179688, 68.37413787841797, 105.08792877197266, 49.306148529052734, 47.90932083129883, 47.483299255371094, 45.688838958740234, 45.13249206542969, 42.94365310668945, 42.31736755371094, 41.307579040527344, 38.3951301574707, 197.30245971679688, 35.003883361816406, 34.73601150512695, 34.475502014160156, 33.291229248046875, 32.79799270629883, 32.51667022705078, 479.76409912109375, 59.39710998535156, 331.9475402832031, 284.42291259765625, 168.42230224609375, 285.9002990722656, 247.73001098632812, 117.25022888183594, 54.586177825927734, 189.79534912109375, 107.48828887939453, 65.93104553222656, 106.04377746582031, 53.42211151123047, 111.49568939208984, 78.44710540771484, 89.26167297363281, 77.58824920654297, 142.06167602539062, 124.52863311767578, 115.55854797363281, 94.59992218017578, 91.97087860107422, 82.76570892333984, 80.7611312866211, 79.53588104248047, 78.81526947021484, 78.14893341064453, 69.37979888916016, 122.41569519042969, 66.4780044555664, 60.80951690673828, 60.30751037597656, 55.881919860839844, 53.24565505981445, 53.00789260864258, 52.75537872314453, 43.83000564575195, 44.86138153076172, 42.6711540222168, 41.74502944946289, 42.031463623046875, 38.35894775390625, 36.924461364746094, 36.3173942565918, 91.61729431152344, 39.99068832397461, 33.94214630126953, 213.71372985839844, 155.18380737304688, 283.55938720703125, 74.26497650146484, 213.88409423828125, 84.55351257324219, 105.45822143554688, 76.68506622314453, 131.390869140625, 110.47296905517578, 88.177001953125, 119.9136734008789, 71.53311920166016, 61.398380279541016, 116.56734466552734, 98.53326416015625, 86.86593627929688, 81.65830993652344, 78.45848083496094, 57.78640365600586, 72.17501068115234, 55.269290924072266, 54.387271881103516, 53.531578063964844, 52.69780731201172, 52.40894317626953, 46.95552062988281, 43.986141204833984, 41.15727996826172, 40.09021759033203, 37.37532424926758, 36.580909729003906, 35.658790588378906, 35.669673919677734, 33.96260452270508, 33.07511520385742, 31.897846221923828, 31.07323455810547, 30.22386360168457, 31.556055068969727, 29.672212600708008, 29.04888916015625, 27.511741638183594, 26.52251625061035, 451.067626953125, 62.08727264404297, 150.9488067626953, 52.14043045043945, 79.93380737304688, 157.93553161621094, 193.56741333007812, 137.19613647460938, 47.929595947265625, 120.39315795898438, 78.95677185058594, 81.4488296508789, 64.84034729003906, 94.83821868896484, 73.12494659423828, 50.52353286743164, 90.6623306274414, 61.66836166381836, 71.410888671875, 123.0351791381836, 110.88703918457031, 57.73414993286133, 89.23196411132812, 72.74118041992188, 70.8432846069336, 67.56918334960938, 52.8391227722168, 52.46240997314453, 52.385433197021484, 48.689090728759766, 39.29853820800781, 38.68305206298828, 36.03068542480469, 32.68947219848633, 32.50032424926758, 31.95697784423828, 31.579187393188477, 30.52558708190918, 28.78045082092285, 50.62641143798828, 28.138940811157227, 26.831571578979492, 26.163755416870117, 25.993446350097656, 24.988603591918945, 24.613264083862305, 23.973026275634766, 23.851442337036133, 23.586851119995117, 22.434032440185547, 22.006351470947266, 21.99496078491211, 95.03103637695312, 45.867279052734375, 52.034271240234375, 52.24973678588867, 35.84710693359375, 78.03223419189453, 45.84954071044922, 45.968631744384766, 31.914941787719727, 26.913217544555664, 174.63453674316406, 166.54225158691406, 85.11528015136719, 65.69364166259766, 56.59099197387695, 137.3012237548828, 47.49809646606445, 46.435306549072266, 42.76185989379883, 40.3528938293457, 38.10791015625, 32.63478469848633, 29.74776840209961, 29.066659927368164, 28.772235870361328, 28.212202072143555, 27.093582153320312, 25.359800338745117, 24.967565536499023, 24.355045318603516, 21.982208251953125, 21.97539520263672, 21.42612075805664, 20.746273040771484, 20.264137268066406, 20.149120330810547, 20.014827728271484, 19.478328704833984, 19.20907974243164, 18.77436065673828, 93.9512939453125, 228.20208740234375, 66.90682220458984, 50.624149322509766, 37.418949127197266, 47.86411666870117, 45.514286041259766, 27.02497673034668, 31.500316619873047, 51.47760009765625, 47.28627395629883, 26.721174240112305, 27.907529830932617, 71.00962829589844, 63.318077087402344, 53.43910217285156, 51.2253303527832, 35.586769104003906, 34.34918212890625, 34.10661697387695, 32.45798110961914, 30.752058029174805, 27.25013542175293, 26.39876937866211, 25.121925354003906, 24.66974639892578, 23.328989028930664, 21.684770584106445, 20.7970027923584, 18.775163650512695, 17.461925506591797, 16.38266372680664, 15.923983573913574, 15.621241569519043, 14.5493803024292, 14.256708145141602, 13.382047653198242, 13.372713088989258, 12.55064868927002, 12.03438663482666, 10.060357093811035, 10.005176544189453, 9.921075820922852, 13.449840545654297, 32.41681671142578, 17.345338821411133, 16.515708923339844, 15.36517333984375, 16.782073974609375, 93.83735656738281, 79.73857116699219, 55.360557556152344, 54.86521530151367, 54.29185104370117, 47.934600830078125, 29.2449893951416, 27.623592376708984, 24.88499641418457, 19.97690773010254, 19.803102493286133, 18.039567947387695, 17.574665069580078, 16.15619468688965, 15.795403480529785, 14.927597999572754, 14.572636604309082, 13.610451698303223, 13.60590648651123, 12.699527740478516, 12.667520523071289, 12.207047462463379, 12.0733003616333, 12.021719932556152, 11.860910415649414, 11.606033325195312, 11.533341407775879, 11.396044731140137, 10.314627647399902, 10.011504173278809, 16.961990356445312, 58.829429626464844, 47.80295181274414, 47.12053298950195, 41.925010681152344, 36.87327194213867, 36.83544921875, 33.091732025146484, 32.516963958740234, 31.36952018737793, 29.96961784362793, 24.652626037597656, 23.867717742919922, 22.175155639648438, 19.1837100982666, 17.44979476928711, 17.436195373535156, 16.513532638549805, 15.215213775634766, 15.144097328186035, 13.46315860748291, 12.902547836303711, 12.798348426818848, 12.785318374633789, 12.423983573913574, 12.038697242736816, 11.263544082641602, 11.017099380493164, 10.904797554016113, 10.248174667358398, 9.995539665222168, 13.127997398376465, 10.239189147949219, 6.6854095458984375, 6.2153096199035645, 5.394106388092041, 5.053044319152832, 4.773552894592285, 4.566184997558594, 4.438553333282471, 4.368937015533447, 4.365025520324707, 3.3832874298095703, 3.206275224685669, 3.0458531379699707, 2.9909451007843018, 2.940093755722046, 2.927062749862671, 2.7589943408966064, 2.537278652191162, 1.789862036705017, 1.6935877799987793, 1.6190358400344849, 1.5066113471984863, 1.357608437538147, 1.3551959991455078, 1.1045094728469849, 1.0417004823684692, 0.9820921421051025, 0.9810859560966492, 0.9530012011528015], \"Term\": [\"food\", \"good\", \"restaurant\", \"order\", \"great\", \"table\", \"really\", \"place\", \"excellent\", \"always\", \"menu\", \"would\", \"wait\", \"come\", \"busy\", \"dish\", \"amazing\", \"try\", \"make\", \"dinner\", \"nice\", \"time\", \"staff\", \"take\", \"friendly\", \"arrive\", \"service\", \"chip\", \"meal\", \"experience\", \"good\", \"nice\", \"tasty\", \"price\", \"lunch\", \"friendly\", \"atmosphere\", \"share\", \"evening\", \"cocktail\", \"helpful\", \"lovely\", \"return\", \"night\", \"selection\", \"flavour\", \"recommend\", \"quality\", \"lot\", \"fantastic\", \"portion\", \"disappoint\", \"group\", \"couple\", \"large\", \"happy\", \"love\", \"great\", \"variety\", \"soon\", \"meal\", \"place\", \"wine\", \"food\", \"visit\", \"service\", \"chicken\", \"dish\", \"staff\", \"also\", \"eat\", \"delicious\", \"go\", \"small\", \"enjoy\", \"order\", \"arrive\", \"say\", \"ask\", \"minute\", \"waitress\", \"tell\", \"pay\", \"quickly\", \"leave\", \"book\", \"bill\", \"overall\", \"however\", \"min\", \"rush\", \"app\", \"poor\", \"rude\", \"ok\", \"average\", \"disappointed\", \"fast\", \"take\", \"deal\", \"point\", \"clearly\", \"hope\", \"avoid\", \"empty\", \"table\", \"bring\", \"would\", \"wait\", \"could\", \"come\", \"time\", \"even\", \"ready\", \"drink\", \"waiter\", \"fish\", \"give\", \"customer\", \"get\", \"people\", \"eat\", \"food\", \"bit\", \"bar\", \"mexican\", \"taco\", \"know\", \"decide\", \"guacamole\", \"area\", \"mexican_food\", \"quot\", \"family\", \"choice\", \"glass\", \"long\", \"amp\", \"side\", \"include\", \"far\", \"like\", \"course\", \"available\", \"reasonable\", \"spot\", \"authentic\", \"huge\", \"cheap\", \"breakfast\", \"option\", \"meat\", \"tapa\", \"busy\", \"serve\", \"menu\", \"enough\", \"try\", \"different\", \"want\", \"full\", \"get\", \"friend\", \"wahaca\", \"go\", \"look\", \"come\", \"quick\", \"way\", \"attentive\", \"walk\", \"use\", \"keep\", \"beer\", \"mean\", \"close\", \"would_recommend\", \"pub\", \"year\", \"open\", \"member\", \"sure\", \"home\", \"able\", \"real\", \"worth\", \"churro\", \"treat\", \"idea\", \"wife\", \"surprise\", \"polite\", \"range\", \"truly\", \"together\", \"hand\", \"light\", \"restaurant\", \"first\", \"quite\", \"interesting\", \"day\", \"experience\", \"make\", \"find\", \"welcome\", \"fresh\", \"work\", \"feel\", \"offer\", \"think\", \"seem\", \"new\", \"look\", \"thing\", \"back\", \"go\", \"staff\", \"well\", \"start\", \"finish\", \"expect\", \"pork\", \"steak\", \"rather\", \"review\", \"problem\", \"item\", \"fairly\", \"cold\", \"simple\", \"early\", \"list\", \"salt\", \"bean\", \"better\", \"bottle\", \"cod\", \"pack\", \"somewhere\", \"stair\", \"dry\", \"quiet\", \"hard\", \"perhaps\", \"slow\", \"vibrant\", \"black\", \"roast\", \"see\", \"hour\", \"starter\", \"sauce\", \"maybe\", \"dish\", \"little\", \"think\", \"actually\", \"seem\", \"excellent\", \"always\", \"many\", \"perfect\", \"fun\", \"amazing\", \"brilliant\", \"change\", \"best\", \"less\", \"easy\", \"venue\", \"enjoyable\", \"remember\", \"particularly\", \"corn\", \"impress\", \"name\", \"ambience\", \"cuisine\", \"son\", \"totally\", \"come_back\", \"fault\", \"expectation\", \"honest\", \"favorite\", \"incredibly\", \"life\", \"knowledgeable\", \"definitely\", \"really\", \"thank\", \"can\", \"pretty\", \"ever\", \"especially\", \"husband\", \"wonderful\", \"fresh\", \"service\", \"efficient\", \"make\", \"big\", \"cheese\", \"french\", \"money\", \"old\", \"kid\", \"short\", \"mix\", \"extra\", \"pop\", \"clean\", \"platter\", \"standard\", \"follow\", \"highly_recommend\", \"disappointing\", \"traditional\", \"hit\", \"suggest\", \"varied\", \"base\", \"cover\", \"freshly\", \"happen\", \"consider\", \"version\", \"round\", \"advice\", \"mistake\", \"reduce\", \"spice\", \"plate\", \"decent\", \"put\", \"water\", \"chicken\", \"dinner\", \"chip\", \"cook\", \"server\", \"chain\", \"favourite\", \"vegetarian\", \"prepare\", \"mostly\", \"move\", \"business\", \"type\", \"issue\", \"twice\", \"onion\", \"guy\", \"today\", \"chance\", \"positive\", \"particular\", \"colleague\", \"pass\", \"break\", \"lady\", \"eye\", \"yesterday\", \"vegetable\", \"wash\", \"front\", \"unusual\", \"young\", \"birthday\", \"call\", \"set\", \"free\", \"branch\", \"add\", \"one\", \"several\", \"late\", \"slightly\", \"queue\", \"agree\", \"lively\", \"regular\", \"pound\", \"nicely\", \"weekend\", \"modern\", \"star\", \"game\", \"phone\", \"touch\", \"relax\", \"stuff\", \"mainly\", \"promptly\", \"regard\", \"awesome\", \"elsewhere\", \"conversation\", \"really_enjoye\", \"eaten\", \"chat\", \"park\", \"believe\", \"professional\", \"stock\", \"town\", \"previously\", \"generally\", \"gem\", \"cause\", \"morning\", \"gluten\", \"spacious\", \"nothing_special\", \"leisurely\", \"many_people\", \"genuine\", \"interestingly\", \"situate\", \"doubt\", \"adventure\", \"cherry\", \"entry\", \"intolerant\", \"stroll\", \"sun\", \"wedding\", \"ideally\"], \"Total\": [1319.0, 835.0, 498.0, 477.0, 658.0, 493.0, 283.0, 468.0, 175.0, 167.0, 321.0, 376.0, 326.0, 350.0, 220.0, 343.0, 139.0, 279.0, 250.0, 94.0, 267.0, 312.0, 458.0, 201.0, 242.0, 177.0, 501.0, 80.0, 249.0, 198.0, 835.6292114257812, 267.7774658203125, 220.4354705810547, 194.30551147460938, 171.1407928466797, 242.32151794433594, 167.50668334960938, 165.2264404296875, 134.03677368164062, 128.38304138183594, 130.01344299316406, 173.0194854736328, 111.18706512451172, 109.94583129882812, 95.4747314453125, 90.79976654052734, 143.32061767578125, 87.79242706298828, 108.36404418945312, 80.82242584228516, 80.8083267211914, 75.59160614013672, 72.86461639404297, 62.60322570800781, 58.47100067138672, 56.99668502807617, 216.3997344970703, 658.6175537109375, 51.690982818603516, 46.24424743652344, 249.82632446289062, 468.4013366699219, 222.97666931152344, 1319.370849609375, 267.59600830078125, 501.6386413574219, 159.17526245117188, 343.0149230957031, 458.18414306640625, 207.68820190429688, 295.4787292480469, 155.4057159423828, 562.0433959960938, 186.90821838378906, 161.07000732421875, 477.6369934082031, 177.4486846923828, 163.7332000732422, 148.1953582763672, 129.0955352783203, 119.87262725830078, 117.80607604980469, 111.05665588378906, 100.93382263183594, 154.55758666992188, 98.10518646240234, 76.78056335449219, 69.19420623779297, 106.67515563964844, 50.12607192993164, 48.72932052612305, 48.303531646728516, 46.50878143310547, 45.95238494873047, 43.763607025146484, 43.13728713989258, 42.12754821777344, 39.21511459350586, 201.59725952148438, 35.8237190246582, 35.555885314941406, 35.29546356201172, 34.11119079589844, 33.61814880371094, 33.33659362792969, 493.4855041503906, 62.018592834472656, 376.7889404296875, 326.49713134765625, 191.98431396484375, 350.5053405761719, 312.0110778808594, 141.39813232421875, 58.5071907043457, 280.527587890625, 145.4587860107422, 76.43719482421875, 146.57034301757812, 58.726253509521484, 276.9437561035156, 157.5094451904297, 295.4787292480469, 1319.370849609375, 142.8847198486328, 125.35165405273438, 116.38189697265625, 95.42347717285156, 92.79945373535156, 83.58876037597656, 81.58448028564453, 80.35905456542969, 79.63858795166016, 78.97197723388672, 70.20286560058594, 123.86980438232422, 67.30099487304688, 61.63286209106445, 61.13056182861328, 56.71086883544922, 54.06869125366211, 53.83100509643555, 53.57845687866211, 44.65301513671875, 45.70608901977539, 43.49432373046875, 42.56913375854492, 42.931419372558594, 39.18201446533203, 37.74747848510742, 37.140499114990234, 93.70780181884766, 40.95639419555664, 34.765174865722656, 220.07058715820312, 163.7607421875, 321.9620361328125, 80.70797729492188, 279.9264221191406, 113.23548889160156, 166.04368591308594, 106.54468536376953, 276.9437561035156, 249.94790649414062, 188.4656524658203, 562.0433959960938, 178.11691284179688, 350.5053405761719, 117.38208770751953, 99.34790802001953, 87.68062591552734, 82.4729995727539, 79.27310180664062, 58.60105895996094, 73.20582580566406, 56.08395004272461, 55.201934814453125, 54.346256256103516, 53.51264953613281, 53.224639892578125, 47.77019500732422, 44.80088806152344, 41.97190856933594, 40.904945373535156, 38.189998626708984, 37.395572662353516, 36.473453521728516, 36.48474884033203, 34.777259826660156, 33.88978958129883, 32.71251678466797, 31.887910842895508, 31.03850555419922, 32.413143157958984, 30.486860275268555, 29.86365509033203, 28.32650375366211, 27.33712387084961, 498.73834228515625, 66.14854431152344, 184.65223693847656, 56.97010803222656, 91.8133316040039, 198.30528259277344, 250.20069885253906, 181.2888641357422, 53.786502838134766, 172.58517456054688, 105.99369812011719, 112.50263214111328, 82.72346496582031, 141.5194854736328, 100.75082397460938, 60.65668869018555, 178.11691284179688, 87.88004302978516, 127.09143829345703, 562.0433959960938, 458.18414306640625, 175.9101104736328, 90.05474853515625, 73.56395721435547, 71.66608428955078, 68.39472961425781, 53.661922454833984, 53.28521728515625, 53.20818328857422, 49.51191711425781, 40.121337890625, 39.50595474243164, 36.8534049987793, 33.512577056884766, 33.323143005371094, 32.77973175048828, 32.402095794677734, 31.348533630371094, 29.603271484375, 52.08491897583008, 28.96179962158203, 27.654449462890625, 26.986663818359375, 26.816587448120117, 25.81134605407715, 25.436079025268555, 24.795812606811523, 24.674184799194336, 24.409591674804688, 23.257204055786133, 22.829227447509766, 22.817726135253906, 102.73766326904297, 51.82133483886719, 62.27214813232422, 72.64635467529297, 48.79548263549805, 343.0149230957031, 119.33635711669922, 141.5194854736328, 55.55886459350586, 100.75082397460938, 175.459228515625, 167.36810302734375, 85.93975067138672, 66.51802825927734, 57.41550827026367, 139.48678588867188, 48.32249450683594, 47.259727478027344, 43.586265563964844, 41.177364349365234, 38.93233108520508, 33.45917892456055, 30.57223892211914, 29.891132354736328, 29.596691131591797, 29.03704261779785, 27.918102264404297, 26.184350967407227, 25.79202651977539, 25.17962646484375, 22.80672264099121, 22.7999210357666, 22.250682830810547, 21.570756912231445, 21.088613510131836, 20.973562240600586, 20.839319229125977, 20.30272102355957, 20.033620834350586, 19.5987606048584, 104.07957458496094, 283.8368225097656, 77.28469848632812, 61.526554107666016, 44.070438385009766, 65.65045928955078, 63.008216857910156, 30.92952537536621, 53.15231704711914, 172.58517456054688, 501.6386413574219, 79.95787048339844, 250.20069885253906, 71.84443664550781, 64.15272521972656, 54.29319763183594, 52.06007766723633, 36.42155838012695, 35.18389892578125, 34.9414176940918, 33.292701721191406, 31.5867919921875, 28.084856033325195, 27.23358726501465, 25.956668853759766, 25.504486083984375, 24.16364097595215, 22.51953887939453, 21.631704330444336, 19.609851837158203, 18.296607971191406, 17.217342376708984, 16.758935928344727, 16.45591163635254, 15.384308815002441, 15.091630935668945, 14.216836929321289, 14.207510948181152, 13.38545036315918, 12.869112968444824, 10.89504623413086, 10.839940071105957, 10.755900382995605, 14.867425918579102, 71.40061950683594, 44.31098175048828, 39.68831253051758, 37.28927230834961, 159.17526245117188, 94.6781234741211, 80.61876678466797, 56.2012939453125, 55.70610046386719, 55.132843017578125, 48.7754020690918, 30.085912704467773, 28.464353561401367, 25.72596549987793, 20.817758560180664, 20.64389991760254, 18.8803653717041, 18.41539192199707, 16.99703025817871, 16.636207580566406, 15.768401145935059, 15.413415908813477, 14.451226234436035, 14.446854591369629, 13.540352821350098, 13.50838851928711, 13.047842025756836, 12.914365768432617, 12.862519264221191, 12.701763153076172, 12.447787284851074, 12.37411880493164, 12.236824035644531, 11.15530776977539, 10.852263450622559, 27.624834060668945, 59.668819427490234, 48.6423225402832, 47.96000671386719, 42.764503479003906, 37.712852478027344, 37.67489242553711, 33.931278228759766, 33.35642623901367, 32.20901107788086, 30.80909538269043, 25.492334365844727, 24.70731544494629, 23.014646530151367, 20.023122787475586, 18.289165496826172, 18.275659561157227, 17.353031158447266, 16.054645538330078, 15.98348331451416, 14.302518844604492, 13.741926193237305, 13.637703895568848, 13.624755859375, 13.26339054107666, 12.8781156539917, 12.10328197479248, 11.856643676757812, 11.744316101074219, 11.087636947631836, 10.834981918334961, 14.011767387390137, 11.12304973602295, 7.569249629974365, 7.10003662109375, 6.2779998779296875, 5.936700820922852, 5.657321929931641, 5.449926853179932, 5.32236909866333, 5.25270938873291, 5.248723983764648, 4.267337799072266, 4.090060710906982, 3.929701328277588, 3.875026226043701, 3.8239879608154297, 3.81075382232666, 3.6452579498291016, 3.4210238456726074, 2.6745452880859375, 2.5772547721862793, 2.5026326179504395, 2.3903989791870117, 2.2454822063446045, 2.2418718338012695, 1.9888575077056885, 1.925467610359192, 1.8657197952270508, 1.8647727966308594, 1.8366270065307617], \"loglift\": [30.0, 29.0, 28.0, 27.0, 26.0, 25.0, 24.0, 23.0, 22.0, 21.0, 20.0, 19.0, 18.0, 17.0, 16.0, 15.0, 14.0, 13.0, 12.0, 11.0, 10.0, 9.0, 8.0, 7.0, 6.0, 5.0, 4.0, 3.0, 2.0, 1.0, 1.295300006866455, 1.2933000326156616, 1.2926000356674194, 1.292099952697754, 1.291599988937378, 1.2914999723434448, 1.2913999557495117, 1.2913999557495117, 1.2901999950408936, 1.2898999452590942, 1.2896000146865845, 1.2894999980926514, 1.2890000343322754, 1.2889000177383423, 1.2877000570297241, 1.2872999906539917, 1.2870999574661255, 1.2869999408721924, 1.2868000268936157, 1.2862000465393066, 1.2861000299453735, 1.2854000329971313, 1.284999966621399, 1.2832000255584717, 1.2821999788284302, 1.2819000482559204, 1.2818000316619873, 1.2812999486923218, 1.280400037765503, 1.278499960899353, 1.2711000442504883, 1.2618000507354736, 1.2599999904632568, 1.2217999696731567, 1.148800015449524, 1.029099941253662, 1.179800033569336, 1.0233999490737915, 0.9664000272750854, 1.0530999898910522, 0.9332000017166138, 1.1139999628067017, 0.6241999864578247, 0.967199981212616, 1.0322999954223633, 1.6674000024795532, 1.666100025177002, 1.6656999588012695, 1.6651999950408936, 1.6642999649047852, 1.6639000177383423, 1.663699984550476, 1.6633000373840332, 1.662600040435791, 1.662500023841858, 1.6622999906539917, 1.659999966621399, 1.6588000059127808, 1.6556999683380127, 1.6541999578475952, 1.6536999940872192, 1.6535999774932861, 1.652899980545044, 1.6526999473571777, 1.6518000364303589, 1.6514999866485596, 1.6511000394821167, 1.6496000289916992, 1.6491999626159668, 1.6476000547409058, 1.6474000215530396, 1.6471999883651733, 1.646399974822998, 1.6460000276565552, 1.645799994468689, 1.6425000429153442, 1.627500057220459, 1.5440000295639038, 1.5327999591827393, 1.5398000478744507, 1.4670000076293945, 1.440000057220459, 1.4833999872207642, 1.6013000011444092, 1.2799999713897705, 1.3681999444961548, 1.5228999853134155, 1.347100019454956, 1.5760999917984009, 0.7609000205993652, 0.9736999869346619, 0.47369998693466187, -1.1627999544143677, 1.9092999696731567, 1.9084999561309814, 1.9079999923706055, 1.9063999652862549, 1.9061000347137451, 1.9052000045776367, 1.9048999547958374, 1.9048000574111938, 1.9047000408172607, 1.9046000242233276, 1.9033000469207764, 1.9033000469207764, 1.9027999639511108, 1.9016000032424927, 1.9014999866485596, 1.9004000425338745, 1.8997999429702759, 1.8997000455856323, 1.8996000289916992, 1.8964999914169312, 1.896399974822998, 1.8960000276565552, 1.8954999446868896, 1.8939000368118286, 1.8939000368118286, 1.8930000066757202, 1.892699956893921, 1.8925000429153442, 1.8911999464035034, 1.8911000490188599, 1.8858000040054321, 1.861299991607666, 1.788100004196167, 1.8319000005722046, 1.6460000276565552, 1.6230000257492065, 1.4611999988555908, 1.5861999988555908, 1.1694999933242798, 1.0986000299453735, 1.155500054359436, 0.3702999949455261, 1.0027999877929688, 0.17309999465942383, 1.995300054550171, 1.9940999746322632, 1.9930000305175781, 1.992400050163269, 1.9919999837875366, 1.9882999658584595, 1.9881000518798828, 1.9876999855041504, 1.9874000549316406, 1.9872000217437744, 1.9869999885559082, 1.986899971961975, 1.9851000308990479, 1.9838999509811401, 1.982699990272522, 1.982200026512146, 1.9807000160217285, 1.980299949645996, 1.979699969291687, 1.979699969291687, 1.978600025177002, 1.9780000448226929, 1.9771000146865845, 1.9764000177383423, 1.9757000207901, 1.9754999876022339, 1.9752000570297241, 1.9745999574661255, 1.973099946975708, 1.972000002861023, 1.9018000364303589, 1.9388999938964844, 1.8007999658584595, 1.913699984550476, 1.863700032234192, 1.7747000455856323, 1.7457000017166138, 1.7236000299453735, 1.8869999647140503, 1.642199993133545, 1.707800030708313, 1.6792999505996704, 1.7587000131607056, 1.6019999980926514, 1.6818000078201294, 1.8194999694824219, 1.3270000219345093, 1.6481000185012817, 1.4257999658584595, 0.4832000136375427, 0.5835000276565552, 0.8881999850273132, 2.5025999546051025, 2.500499963760376, 2.500200033187866, 2.4995999336242676, 2.496299982070923, 2.4962000846862793, 2.4962000846862793, 2.494999885559082, 2.4911000728607178, 2.4907000064849854, 2.4892001152038574, 2.4869000911712646, 2.486799955368042, 2.4863998889923096, 2.4860999584198, 2.4851999282836914, 2.483599901199341, 2.4834001064300537, 2.4830000400543213, 2.481600046157837, 2.480799913406372, 2.480600118637085, 2.4793999195098877, 2.4788999557495117, 2.4779999256134033, 2.4779000282287598, 2.4774999618530273, 2.4756999015808105, 2.475100040435791, 2.475100040435791, 2.433799982070923, 2.389699935913086, 2.332200050354004, 2.1821999549865723, 2.203399896621704, 1.0311000347137451, 1.5551999807357788, 1.3873000144958496, 1.9573999643325806, 1.1916999816894531, 2.589099884033203, 2.588900089263916, 2.584199905395508, 2.581399917602539, 2.579400062561035, 2.578000068664551, 2.5766000747680664, 2.576200008392334, 2.574700117111206, 2.5736000537872314, 2.5724000930786133, 2.5689001083374023, 2.566499948501587, 2.5659000873565674, 2.5655999183654785, 2.565000057220459, 2.563800096511841, 2.561800003051758, 2.561300039291382, 2.560499906539917, 2.556999921798706, 2.556999921798706, 2.5560998916625977, 2.5548999309539795, 2.5539000034332275, 2.5536999702453613, 2.553499937057495, 2.5524001121520996, 2.551800012588501, 2.5508999824523926, 2.4914000034332275, 2.375699996948242, 2.4495999813079834, 2.3987998962402344, 2.4302000999450684, 2.2778000831604004, 2.2685999870300293, 2.458899974822998, 2.07069993019104, 1.3840999603271484, 0.2321999967098236, 1.4977999925613403, 0.40049999952316284, 3.325000047683716, 3.3236000537872314, 3.3208000659942627, 3.320499897003174, 3.313499927520752, 3.312700033187866, 3.3125, 3.311300039291382, 3.3099000453948975, 3.30649995803833, 3.3055999279022217, 3.303999900817871, 3.3034000396728516, 3.3015999794006348, 3.2988998889923096, 3.2973999977111816, 3.2932000160217285, 3.2899999618530273, 3.2869999408721924, 3.285599946975708, 3.2846999168395996, 3.280900001525879, 3.2797999382019043, 3.27620005607605, 3.276099920272827, 3.2723000049591064, 3.2695999145507812, 3.256999969482422, 3.2565999031066895, 3.2558999061584473, 3.2365000247955322, 2.547100067138672, 2.3987998962402344, 2.4600000381469727, 2.4500999450683594, 1.0870000123977661, 3.465399980545044, 3.463399887084961, 3.4593000411987305, 3.4591000080108643, 3.4590001106262207, 3.4570000171661377, 3.446000099182129, 3.4444000720977783, 3.4410998821258545, 3.4330999851226807, 3.432800054550171, 3.428800106048584, 3.4275999069213867, 3.4235999584198, 3.422499895095825, 3.419600009918213, 3.418299913406372, 3.414400100708008, 3.414400100708008, 3.4102001190185547, 3.410099983215332, 3.4077000617980957, 3.4070000648498535, 3.4068000316619873, 3.405900001525879, 3.4042999744415283, 3.4040000438690186, 3.4031999111175537, 3.3959999084472656, 3.393699884414673, 2.986599922180176, 3.5822999477386475, 3.5789999961853027, 3.5787999629974365, 3.5766000747680664, 3.573899984359741, 3.573899984359741, 3.5713999271392822, 3.5708999633789062, 3.569999933242798, 3.5687999725341797, 3.5629000663757324, 3.5618999004364014, 3.559299945831299, 3.5536000728607178, 3.5494000911712646, 3.5494000911712646, 3.546799898147583, 3.5427000522613525, 3.5425000190734863, 3.535900115966797, 3.533400058746338, 3.532900094985962, 3.5327999591827393, 3.5309998989105225, 3.5290000438690186, 3.5244998931884766, 3.5230000019073486, 3.5223000049591064, 3.517699956893921, 3.5157999992370605, 5.019100189208984, 5.001399993896484, 4.960000038146973, 4.951099872589111, 4.932499885559082, 4.922999858856201, 4.914400100708008, 4.907299995422363, 4.902599811553955, 4.900000095367432, 4.899899959564209, 4.852099895477295, 4.840799808502197, 4.829400062561035, 4.825200080871582, 4.821400165557861, 4.820400238037109, 4.805699825286865, 4.785399913787842, 4.682600021362305, 4.664299964904785, 4.64870023727417, 4.622600078582764, 4.580999851226807, 4.5808000564575195, 4.496099948883057, 4.469900131225586, 4.442500114440918, 4.441999912261963, 4.428100109100342], \"logprob\": [30.0, 29.0, 28.0, 27.0, 26.0, 25.0, 24.0, 23.0, 22.0, 21.0, 20.0, 19.0, 18.0, 17.0, 16.0, 15.0, 14.0, 13.0, 12.0, 11.0, 10.0, 9.0, 8.0, 7.0, 6.0, 5.0, 4.0, 3.0, 2.0, 1.0, -2.8333001136779785, -3.973299980163574, -4.168499946594238, -4.295199871063232, -4.422699928283691, -4.074999809265137, -4.444300174713135, -4.458099842071533, -4.668399810791016, -4.7118000984191895, -4.6996002197265625, -4.41379976272583, -4.856599807739258, -4.8678998947143555, -5.010200023651123, -5.060800075531006, -4.604599952697754, -5.094799995422363, -4.884500026702881, -5.178400039672852, -5.178599834442139, -5.245999813079834, -5.283100128173828, -5.436800003051758, -5.50600004196167, -5.531899929046631, -4.197800159454346, -3.0852999687194824, -5.631100177764893, -5.7444000244140625, -4.064899921417236, -3.44569993019104, -4.189700126647949, -2.450000047683716, -4.118500232696533, -3.609800100326538, -4.60699987411499, -3.9955999851226807, -3.7630999088287354, -4.467700004577637, -4.235000133514404, -4.696700096130371, -3.9010000228881836, -4.658999919891357, -4.742700099945068, -3.0204999446868896, -4.01200008392334, -4.092899799346924, -4.1930999755859375, -4.331900119781494, -4.406499862670898, -4.423999786376953, -4.483399868011475, -4.579699993133545, -4.15369987487793, -4.608399868011475, -4.855800151824951, -4.961100101470947, -4.531199932098389, -5.288000106811523, -5.316699981689453, -5.325699806213379, -5.364200115203857, -5.376399993896484, -5.426199913024902, -5.440800189971924, -5.465000152587891, -5.538099765777588, -3.9012999534606934, -5.6305999755859375, -5.638299942016602, -5.6458001136779785, -5.680799961090088, -5.695700168609619, -5.7042999267578125, -3.0127999782562256, -5.101799964904785, -3.3810999393463135, -3.535599946975708, -4.059599876403809, -3.530400037765503, -3.6737000942230225, -4.4217000007629395, -5.186299800872803, -3.9400999546051025, -4.508699893951416, -4.997399806976318, -4.522200107574463, -5.207799911499023, -4.472099781036377, -4.823599815368652, -4.694499969482422, -4.83459997177124, -3.9853999614715576, -4.117099761962891, -4.19189977645874, -4.392000198364258, -4.420199871063232, -4.525700092315674, -4.55019998550415, -4.565499782562256, -4.5746002197265625, -4.583099842071533, -4.702099800109863, -4.134300231933594, -4.744800090789795, -4.833899974822998, -4.842199802398682, -4.918399810791016, -4.966800212860107, -4.971199989318848, -4.97599983215332, -5.161399841308594, -5.1381001472473145, -5.188199996948242, -5.210100173950195, -5.2032999992370605, -5.2947001457214355, -5.332799911499023, -5.349400043487549, -4.424099922180176, -5.252999782562256, -5.416999816894531, -3.5769999027252197, -3.8970999717712402, -3.294300079345703, -4.633999824523926, -3.576200008392334, -4.504300117492676, -4.283400058746338, -4.6020002365112305, -4.063499927520752, -4.2368998527526855, -4.462299823760986, -4.154900074005127, -4.671500205993652, -4.8242998123168945, -4.0960001945495605, -4.264100074768066, -4.390100002288818, -4.451900005340576, -4.4918999671936035, -4.797699928283691, -4.575399875640869, -4.842199802398682, -4.85830020904541, -4.874199867248535, -4.889900207519531, -4.895400047302246, -5.005300045013428, -5.0706000328063965, -5.1371002197265625, -5.163300037384033, -5.233500003814697, -5.254899978637695, -5.2804999351501465, -5.280200004577637, -5.32919979095459, -5.3557000160217285, -5.391900062561035, -5.418099880218506, -5.445799827575684, -5.402699947357178, -5.464300155639648, -5.485499858856201, -5.539899826049805, -5.576499938964844, -2.742799997329712, -4.725900173187256, -3.8375000953674316, -4.9004998207092285, -4.473299980163574, -3.79229998588562, -3.5887999534606934, -3.9330999851226807, -4.9847002029418945, -4.063700199127197, -4.485599994659424, -4.454500198364258, -4.682499885559082, -4.302299976348877, -4.562300205230713, -4.932000160217285, -4.347300052642822, -4.732699871063232, -4.585999965667725, -4.041999816894531, -4.145999908447266, -4.798600196838379, -3.853800058364868, -4.05810022354126, -4.084499835968018, -4.131800174713135, -4.377699851989746, -4.384900093078613, -4.38640022277832, -4.459499835968018, -4.673799991607666, -4.689599990844727, -4.7606000900268555, -4.857900142669678, -4.863699913024902, -4.8805999755859375, -4.892499923706055, -4.926400184631348, -4.985300064086914, -4.420499801635742, -5.007800102233887, -5.0553998947143555, -5.080599784851074, -5.087100028991699, -5.1265997886657715, -5.14169979095459, -5.168099880218506, -5.173099994659424, -5.184299945831299, -5.234399795532227, -5.253699779510498, -5.254199981689453, -3.790800094604492, -4.519199848175049, -4.393099784851074, -4.388999938964844, -4.765699863433838, -3.9879000186920166, -4.519599914550781, -4.517000198364258, -4.881899833679199, -5.0524001121521, -3.1001999378204346, -3.147700071334839, -3.8189001083374023, -4.077899932861328, -4.227099895477295, -3.3408000469207764, -4.402299880981445, -4.424900054931641, -4.507299900054932, -4.565299987792969, -4.622499942779541, -4.777599811553955, -4.870200157165527, -4.8933000564575195, -4.903500080108643, -4.9232001304626465, -4.963600158691406, -5.029799938201904, -5.045400142669678, -5.070199966430664, -5.172699928283691, -5.172999858856201, -5.198299884796143, -5.230599880218506, -5.2540998458862305, -5.259799957275391, -5.266499996185303, -5.293600082397461, -5.307600021362305, -5.330399990081787, -3.7202000617980957, -2.83270001411438, -4.059599876403809, -4.338500022888184, -4.6407999992370605, -4.394599914550781, -4.444900035858154, -4.96619987487793, -4.812900066375732, -4.321800231933594, -4.406700134277344, -4.977499961853027, -4.934000015258789, -3.257200002670288, -3.3719000816345215, -3.5415000915527344, -3.5838000774383545, -3.9481000900268555, -3.9835000038146973, -3.990600109100342, -4.04010009765625, -4.094099998474121, -4.215000152587891, -4.246699810028076, -4.296299934387207, -4.314499855041504, -4.3703999519348145, -4.44350004196167, -4.485300064086914, -4.587500095367432, -4.659999847412109, -4.723800182342529, -4.752200126647949, -4.771399974822998, -4.84250020980835, -4.862800121307373, -4.92609977722168, -4.926799774169922, -4.990300178527832, -5.032299995422363, -5.21150016784668, -5.2170000076293945, -5.225399971008301, -4.92110013961792, -4.041399955749512, -4.6666998863220215, -4.715799808502197, -4.788000106811523, -4.69980001449585, -2.8408000469207764, -3.003700017929077, -3.368499994277954, -3.377500057220459, -3.388000011444092, -3.5125999450683594, -4.006700038909912, -4.063700199127197, -4.168099880218506, -4.387800216674805, -4.396599769592285, -4.489799976348877, -4.515999794006348, -4.600100040435791, -4.622700214385986, -4.679200172424316, -4.7032999992370605, -4.771599769592285, -4.771900177001953, -4.840799808502197, -4.843400001525879, -4.88040018081665, -4.89139986038208, -4.895699977874756, -4.909200191497803, -4.9309000968933105, -4.93720006942749, -4.949100017547607, -5.048799991607666, -5.078700065612793, -4.551400184631348, -3.185699939727783, -3.3933000564575195, -3.407599925994873, -3.5244998931884766, -3.652899980545044, -3.653899908065796, -3.7611000537872314, -3.778599977493286, -3.814500093460083, -3.8601999282836914, -4.055500030517578, -4.087800025939941, -4.161399841308594, -4.306300163269043, -4.401000022888184, -4.401800155639648, -4.456200122833252, -4.538000106811523, -4.542699813842773, -4.660399913787842, -4.702899932861328, -4.710999965667725, -4.711999893188477, -4.740699768066406, -4.772200107574463, -4.838799953460693, -4.860899925231934, -4.871099948883057, -4.933199882507324, -4.958199977874756, -3.1977999210357666, -3.4463000297546387, -3.8726000785827637, -3.945499897003174, -4.087200164794922, -4.152599811553955, -4.209499835968018, -4.253900051116943, -4.282199859619141, -4.297999858856201, -4.298900127410889, -4.553699970245361, -4.607399940490723, -4.65880012512207, -4.677000045776367, -4.6940999031066895, -4.698599815368652, -4.757699966430664, -4.8414998054504395, -5.190400123596191, -5.245699882507324, -5.2906999588012695, -5.36269998550415, -5.466800212860107, -5.468599796295166, -5.6732001304626465, -5.7316999435424805, -5.790599822998047, -5.791600227355957, -5.820700168609619]}, \"token.table\": {\"Topic\": [4, 3, 5, 9, 10, 7, 9, 1, 3, 4, 6, 6, 4, 6, 6, 3, 2, 3, 2, 2, 1, 4, 3, 3, 2, 2, 9, 3, 4, 3, 7, 5, 4, 10, 6, 5, 7, 2, 9, 3, 5, 2, 3, 5, 9, 8, 3, 6, 2, 3, 8, 2, 3, 9, 4, 5, 6, 10, 8, 8, 6, 10, 3, 7, 10, 1, 7, 8, 3, 5, 4, 7, 2, 4, 1, 5, 5, 8, 2, 3, 5, 6, 7, 9, 8, 6, 2, 3, 5, 6, 1, 3, 7, 6, 2, 4, 1, 4, 5, 2, 2, 7, 3, 4, 6, 1, 3, 1, 3, 8, 1, 2, 7, 1, 3, 5, 10, 1, 2, 3, 5, 5, 6, 1, 2, 10, 3, 6, 9, 2, 1, 3, 6, 3, 4, 10, 2, 3, 6, 1, 2, 3, 4, 6, 1, 4, 6, 6, 5, 6, 2, 4, 6, 7, 8, 5, 3, 1, 3, 2, 6, 6, 8, 3, 4, 3, 4, 5, 5, 4, 5, 2, 5, 7, 1, 7, 1, 2, 3, 4, 6, 9, 7, 4, 6, 7, 1, 3, 4, 1, 8, 2, 3, 5, 6, 9, 10, 10, 10, 1, 2, 3, 4, 2, 3, 4, 3, 10, 1, 2, 3, 4, 5, 6, 1, 1, 6, 1, 3, 8, 4, 7, 1, 5, 1, 7, 7, 4, 6, 2, 5, 9, 2, 4, 3, 6, 8, 4, 10, 6, 3, 6, 4, 5, 10, 10, 8, 5, 4, 7, 3, 6, 8, 1, 9, 2, 3, 10, 6, 6, 4, 3, 5, 3, 4, 5, 6, 9, 3, 1, 3, 4, 1, 1, 3, 1, 1, 9, 1, 2, 4, 6, 6, 10, 1, 5, 1, 2, 4, 3, 4, 2, 3, 4, 5, 6, 3, 3, 2, 2, 7, 7, 9, 7, 10, 8, 8, 6, 3, 4, 6, 1, 9, 1, 10, 1, 4, 2, 7, 9, 8, 4, 1, 3, 2, 5, 2, 5, 10, 8, 6, 8, 2, 1, 2, 6, 5, 9, 1, 3, 4, 6, 2, 7, 7, 2, 4, 2, 7, 5, 1, 8, 9, 8, 4, 6, 10, 1, 5, 10, 9, 4, 5, 7, 1, 9, 4, 2, 5, 3, 4, 5, 3, 4, 5, 1, 2, 4, 2, 3, 6, 10, 3, 1, 6, 7, 9, 9, 9, 6, 2, 3, 4, 5, 6, 1, 5, 5, 7, 2, 2, 5, 3, 5, 2, 5, 8, 4, 5, 1, 3, 6, 8, 1, 2, 3, 4, 6, 9, 9, 1, 7, 3, 5, 10, 9, 5, 1, 3, 5, 6, 1, 10, 6, 7, 3, 1, 2, 3, 4, 6, 5, 7, 9, 5, 1, 5, 5, 10, 10, 9, 7, 10, 4, 4, 2, 3, 4, 3, 2, 4, 3, 1, 2, 1, 6, 4, 6, 4, 5, 2, 3, 6, 8, 4, 6, 9, 10, 7, 4, 4, 1, 3, 4, 8, 8, 8, 4, 7, 1, 8, 8, 6, 7, 5, 1, 4, 1, 3, 5, 2, 3, 2, 4, 2, 4, 2, 3, 8, 5, 7, 4, 10, 9, 1, 4, 1, 2, 3, 4, 5, 6, 4, 1, 3, 5, 3, 6, 1, 4, 5, 4, 2, 3, 4, 5, 4, 4, 8, 7, 8], \"Freq\": [0.9688400626182556, 0.413975328207016, 0.5759657025337219, 0.9820864200592041, 0.8366804122924805, 0.9178483486175537, 0.9713722467422485, 0.7848303318023682, 0.0048149097710847855, 0.10592801868915558, 0.10111311078071594, 0.9978006482124329, 0.007169137708842754, 0.982171893119812, 0.9692918062210083, 0.981505811214447, 0.9730137586593628, 0.9955318570137024, 0.9974714517593384, 0.9919338822364807, 0.9969751238822937, 0.9922374486923218, 0.9783045053482056, 0.9845515489578247, 0.9736356139183044, 0.9816126227378845, 0.9366232752799988, 0.43275928497314453, 0.5586528778076172, 0.9971946477890015, 0.9722949862480164, 0.9888820052146912, 0.9835282564163208, 0.7964320182800293, 0.9865493178367615, 0.9796214699745178, 0.9882463216781616, 0.9898338317871094, 0.9887911677360535, 0.9938081502914429, 0.963676929473877, 0.9887346625328064, 0.019199416041374207, 0.9791702032089233, 0.9810978770256042, 0.9291977882385254, 0.9692922830581665, 0.9726319313049316, 0.9513276219367981, 0.03224839270114899, 0.968809187412262, 0.027263980358839035, 0.9724152684211731, 0.9867950081825256, 0.09751886874437332, 0.06501258164644241, 0.8289104104042053, 0.7030144333839417, 0.9794524908065796, 0.9687759280204773, 0.9733445644378662, 0.9247944355010986, 0.9801979064941406, 0.982031524181366, 0.445338636636734, 0.8920984268188477, 0.10680051147937775, 0.9923247694969177, 0.9849050641059875, 0.008072992786765099, 0.9867136478424072, 0.9547034502029419, 0.9632965922355652, 0.9782266020774841, 0.997016429901123, 0.9667907357215881, 0.9768432378768921, 0.9623649716377258, 0.8159647583961487, 0.17403443157672882, 0.008559070527553558, 0.9437912702560425, 0.9150089621543884, 0.9229364991188049, 0.9786251783370972, 0.9642855525016785, 0.8750714659690857, 0.07813138514757156, 0.03646131232380867, 0.005208759102970362, 0.9903643131256104, 0.9853757619857788, 0.9750194549560547, 0.953151524066925, 0.9024924635887146, 0.08514079451560974, 0.10891664773225784, 0.8713331818580627, 0.010891664773225784, 0.9770063161849976, 0.586762011051178, 0.38365206122398376, 0.9929564595222473, 0.0864722952246666, 0.9031550884246826, 0.8365200757980347, 0.16086924076080322, 0.2472722977399826, 0.7506480813026428, 0.9928376078605652, 0.9921736717224121, 0.9732348918914795, 0.9707973003387451, 0.7608998417854309, 0.008745974861085415, 0.22739535570144653, 0.7991584539413452, 0.2887416481971741, 0.6772952675819397, 0.03208240494132042, 0.9685662984848022, 0.9903027415275574, 0.9760525226593018, 0.6971737146377563, 0.301206111907959, 0.8990340232849121, 0.6628490686416626, 0.33767783641815186, 0.9019054174423218, 0.9899031519889832, 0.769851565361023, 0.2297137826681137, 0.9812824130058289, 0.9168857932090759, 0.07434209436178207, 0.4460558295249939, 0.2539351284503937, 0.015870945528149605, 0.7300634980201721, 0.042433373630046844, 0.8274508118629456, 0.09901120513677597, 0.007072229404002428, 0.014144458808004856, 0.992264986038208, 0.2589471638202667, 0.731144905090332, 0.9973827004432678, 0.9907057285308838, 0.9483790993690491, 0.16641008853912354, 0.7967513203620911, 0.035299111157655716, 0.9814228415489197, 0.9447507262229919, 0.9871929287910461, 0.9828658699989319, 0.9898242950439453, 0.9845626950263977, 0.9690141081809998, 0.9735402464866638, 0.9597242474555969, 0.9841026067733765, 0.2666604220867157, 0.7199831604957581, 0.1875459998846054, 0.7557000517845154, 0.04964452609419823, 0.9923337697982788, 0.9372844099998474, 0.04535247012972832, 0.8634539842605591, 0.11774372309446335, 0.013082635588943958, 0.9911919832229614, 0.9518433213233948, 0.9284728169441223, 0.0591190867125988, 0.005305558908730745, 0.002273811027407646, 0.005305558908730745, 0.9821229577064514, 0.9761812090873718, 0.6953088641166687, 0.2955062687397003, 0.9276664853096008, 0.42408835887908936, 0.44009169936180115, 0.1320275068283081, 0.9945464134216309, 0.8964342474937439, 0.12201453000307083, 0.7227014899253845, 0.15017172694206238, 0.9927631616592407, 0.908930778503418, 0.7620899677276611, 0.7615117430686951, 0.8769304752349854, 0.10110355913639069, 0.40080341696739197, 0.4730202257633209, 0.021665049716830254, 0.7232022285461426, 0.23879319429397583, 0.034113314002752304, 0.9806690216064453, 0.7634167671203613, 0.5106367468833923, 0.04803899675607681, 0.21350663900375366, 0.21884430944919586, 0.0017792220460250974, 0.0071168881841003895, 0.9992470145225525, 0.9853973388671875, 0.013664986938238144, 0.9881339073181152, 0.9928358793258667, 0.9512695670127869, 0.9884735345840454, 0.9144087433815002, 0.9825133085250854, 0.9679053425788879, 0.9922050833702087, 0.9769294261932373, 0.929133951663971, 0.9778768420219421, 0.9535814523696899, 0.9674244523048401, 0.8876652717590332, 0.09648535400629044, 0.9842966794967651, 0.009374254383146763, 0.969832718372345, 0.8729522824287415, 0.09699469804763794, 0.9737446308135986, 0.5444763898849487, 0.9671144485473633, 0.9802345633506775, 0.9358351230621338, 0.9127593636512756, 0.07021225988864899, 0.7477906942367554, 0.502801239490509, 0.9774432182312012, 0.9720513224601746, 0.9897432327270508, 0.9663510918617249, 0.9913851618766785, 0.9694490432739258, 0.9329432249069214, 0.9919447302818298, 0.9624635577201843, 0.989922285079956, 0.006470080465078354, 0.7872458100318909, 0.9714074730873108, 0.9484056830406189, 0.9876679182052612, 0.9892035722732544, 0.9762129783630371, 0.26814964413642883, 0.20949189364910126, 0.3854650855064392, 0.13407482206821442, 0.9559130072593689, 0.9897317290306091, 0.08421435207128525, 0.4042288661003113, 0.5109003782272339, 0.9874123930931091, 0.9842895865440369, 0.009242155589163303, 0.9941076636314392, 0.993334174156189, 0.9318133592605591, 0.10791336745023727, 0.003996791318058968, 0.7753775119781494, 0.11191015690565109, 0.9890649914741516, 0.8229870200157166, 0.24592439830303192, 0.7377732396125793, 0.9766784906387329, 0.020013904199004173, 0.9806727170944214, 0.9766484498977661, 0.9821233749389648, 0.02484765090048313, 0.8820915818214417, 0.027953606098890305, 0.04969530180096626, 0.015529781579971313, 0.9967185854911804, 0.9919814467430115, 0.9775351881980896, 0.9915137887001038, 0.9225143194198608, 0.9611716270446777, 0.9343090057373047, 0.9796374440193176, 0.7334854602813721, 0.9717808365821838, 0.9607182145118713, 0.9547687768936157, 0.04945868253707886, 0.8407976031303406, 0.11540359258651733, 0.997096598148346, 0.9301989674568176, 0.9913973212242126, 0.7845212817192078, 0.20550397038459778, 0.7857504487037659, 0.9825515747070312, 0.9884255528450012, 0.9725539684295654, 0.9617576599121094, 0.9838770627975464, 0.010671470314264297, 0.9817752242088318, 0.996572732925415, 0.0020936401560902596, 0.9827412366867065, 0.9763347506523132, 0.8450660705566406, 0.9600931406021118, 0.9798392653465271, 0.91969233751297, 0.990485429763794, 0.49520841240882874, 0.49520841240882874, 0.9922122359275818, 0.9726765155792236, 0.9460100531578064, 0.9649844169616699, 0.012809528037905693, 0.004269842524081469, 0.014944449067115784, 0.532208263874054, 0.4481753706932068, 0.9631436467170715, 0.9843658804893494, 0.9665414094924927, 0.9890605211257935, 0.9613721966743469, 0.9942286610603333, 0.9899969696998596, 0.9690690636634827, 0.929512083530426, 0.9836865067481995, 0.136145681142807, 0.8395650386810303, 0.7515450119972229, 0.9932811260223389, 0.9896607398986816, 0.8422186374664307, 0.9088444113731384, 0.9904200434684753, 0.5543193817138672, 0.4283376932144165, 0.9909738302230835, 0.9806869626045227, 0.9967449307441711, 0.9907481670379639, 0.9828559160232544, 0.08664937317371368, 0.8177534341812134, 0.09206495434045792, 0.98769211769104, 0.9872538447380066, 0.9758804440498352, 0.05127574875950813, 0.9400553703308105, 0.9894219636917114, 0.05284726619720459, 0.1409260481595993, 0.8032784461975098, 0.9277915954589844, 0.9886347651481628, 0.9907855987548828, 0.006977363023906946, 0.929722249507904, 0.9277498722076416, 0.94890296459198, 0.9541455507278442, 0.9701874256134033, 0.004010119009763002, 0.07619225978851318, 0.9042817950248718, 0.004010119009763002, 0.010025297291576862, 0.9893237352371216, 0.9772932529449463, 0.9641627073287964, 0.9324651956558228, 0.9792745113372803, 0.9850332140922546, 0.9875904321670532, 0.2753063142299652, 0.7157964110374451, 0.9955219626426697, 0.9246852397918701, 0.06813470274209976, 0.7245598435401917, 0.2679878771305084, 0.9950276613235474, 0.9465028047561646, 0.04885175824165344, 0.9873245358467102, 0.765491247177124, 0.04784320294857025, 0.07575173676013947, 0.0159477349370718, 0.09369294345378876, 0.9799832105636597, 0.989314615726471, 0.9925771951675415, 0.9730572700500488, 0.9874650239944458, 0.9847049117088318, 0.7760195136070251, 0.973738431930542, 0.9832200407981873, 0.7169294357299805, 0.27821141481399536, 0.9634388089179993, 0.9646278619766235, 0.9730939865112305, 0.7741882801055908, 0.06726113706827164, 0.8743948340415955, 0.986630380153656, 0.7180519104003906, 0.02400781400501728, 0.013095171190798283, 0.24226067960262299, 0.0021825286094099283, 0.9695491790771484, 0.9802197217941284, 0.9384687542915344, 0.9882876873016357, 0.1445268988609314, 0.835044264793396, 0.9876649379730225, 0.8838104009628296, 0.5193543434143066, 0.9047460556030273, 0.9292955994606018, 0.5359861850738525, 0.9768438339233398, 0.9721552729606628, 0.9726729393005371, 0.01418481394648552, 0.012158411554992199, 0.9955621361732483, 0.9771957993507385, 0.014881154522299767, 0.9779902100563049, 0.9980245232582092, 0.9931576251983643, 0.12939171493053436, 0.866924524307251, 0.7055071592330933, 0.28447869420051575, 0.6712856292724609, 0.32504358887672424, 0.7948435544967651, 0.18268582224845886, 0.019230086356401443, 0.9731781482696533, 0.9710800647735596, 0.9649156332015991, 0.9532396197319031, 0.9174435138702393, 0.968900740146637, 0.9776503443717957, 0.9840304851531982, 0.15361179411411285, 0.7644866108894348, 0.0821644514799118, 0.9413409233093262, 0.9533714056015015, 0.9214667677879333, 0.9839403033256531, 0.9547145366668701, 0.9866324067115784, 0.9697660207748413, 0.9639062881469727, 0.9862764477729797, 0.9712038040161133, 0.9459434747695923, 0.8632415533065796, 0.1345311552286148, 0.5199886560440063, 0.4669285714626312, 0.010612012818455696, 0.8698391914367676, 0.12557537853717804, 0.7356035709381104, 0.2543675899505615, 0.992720365524292, 0.9942647814750671, 0.3613506853580475, 0.6323636770248413, 0.8989260792732239, 0.5631646513938904, 0.4022604525089264, 0.9964981079101562, 0.536258339881897, 0.979655921459198, 0.09296012669801712, 0.8924171924591064, 0.2785513699054718, 0.005684721749275923, 0.29560551047325134, 0.3297138512134552, 0.03410832956433296, 0.06253194063901901, 0.9782188534736633, 0.9642264246940613, 0.017939096316695213, 0.013454322703182697, 0.3950909674167633, 0.6020433902740479, 0.2264285534620285, 0.745327353477478, 0.028303569182753563, 0.9870192408561707, 0.8811299204826355, 0.026540057733654976, 0.07165815681219101, 0.02123204618692398, 0.9936286807060242, 0.9769911170005798, 0.9640267491340637, 0.36199313402175903, 0.6153883337974548], \"Term\": [\"able\", \"actually\", \"actually\", \"add\", \"adventure\", \"advice\", \"agree\", \"also\", \"also\", \"also\", \"also\", \"always\", \"amazing\", \"amazing\", \"ambience\", \"amp\", \"app\", \"area\", \"arrive\", \"ask\", \"atmosphere\", \"attentive\", \"authentic\", \"available\", \"average\", \"avoid\", \"awesome\", \"back\", \"back\", \"bar\", \"base\", \"bean\", \"beer\", \"believe\", \"best\", \"better\", \"big\", \"bill\", \"birthday\", \"bit\", \"black\", \"book\", \"bottle\", \"bottle\", \"branch\", \"break\", \"breakfast\", \"brilliant\", \"bring\", \"bring\", \"business\", \"busy\", \"busy\", \"call\", \"can\", \"can\", \"can\", \"cause\", \"chain\", \"chance\", \"change\", \"chat\", \"cheap\", \"cheese\", \"cherry\", \"chicken\", \"chicken\", \"chip\", \"choice\", \"choice\", \"churro\", \"clean\", \"clearly\", \"close\", \"cocktail\", \"cod\", \"cold\", \"colleague\", \"come\", \"come\", \"come\", \"come_back\", \"consider\", \"conversation\", \"cook\", \"corn\", \"could\", \"could\", \"could\", \"could\", \"couple\", \"course\", \"cover\", \"cuisine\", \"customer\", \"customer\", \"day\", \"day\", \"day\", \"deal\", \"decent\", \"decent\", \"decide\", \"definitely\", \"definitely\", \"delicious\", \"delicious\", \"different\", \"different\", \"dinner\", \"disappoint\", \"disappointed\", \"disappointing\", \"dish\", \"dish\", \"dish\", \"doubt\", \"drink\", \"drink\", \"drink\", \"dry\", \"early\", \"easy\", \"eat\", \"eat\", \"eaten\", \"efficient\", \"efficient\", \"elsewhere\", \"empty\", \"enjoy\", \"enjoy\", \"enjoyable\", \"enough\", \"enough\", \"entry\", \"especially\", \"especially\", \"especially\", \"even\", \"even\", \"even\", \"even\", \"even\", \"evening\", \"ever\", \"ever\", \"excellent\", \"expect\", \"expectation\", \"experience\", \"experience\", \"experience\", \"extra\", \"eye\", \"fairly\", \"family\", \"fantastic\", \"far\", \"fast\", \"fault\", \"favorite\", \"favourite\", \"feel\", \"feel\", \"find\", \"find\", \"find\", \"finish\", \"first\", \"first\", \"fish\", \"fish\", \"fish\", \"flavour\", \"follow\", \"food\", \"food\", \"food\", \"food\", \"food\", \"free\", \"french\", \"fresh\", \"fresh\", \"freshly\", \"friend\", \"friend\", \"friend\", \"friendly\", \"front\", \"full\", \"full\", \"full\", \"fun\", \"game\", \"gem\", \"generally\", \"genuine\", \"get\", \"get\", \"get\", \"get\", \"give\", \"give\", \"give\", \"glass\", \"gluten\", \"go\", \"go\", \"go\", \"go\", \"go\", \"go\", \"good\", \"great\", \"great\", \"group\", \"guacamole\", \"guy\", \"hand\", \"happen\", \"happy\", \"hard\", \"helpful\", \"highly_recommend\", \"hit\", \"home\", \"honest\", \"hope\", \"hour\", \"hour\", \"however\", \"however\", \"huge\", \"husband\", \"husband\", \"idea\", \"ideally\", \"impress\", \"include\", \"incredibly\", \"interesting\", \"interesting\", \"interestingly\", \"intolerant\", \"issue\", \"item\", \"keep\", \"kid\", \"know\", \"knowledgeable\", \"lady\", \"large\", \"late\", \"leave\", \"leave\", \"leisurely\", \"less\", \"life\", \"light\", \"like\", \"list\", \"little\", \"little\", \"little\", \"little\", \"lively\", \"long\", \"look\", \"look\", \"look\", \"lot\", \"love\", \"love\", \"lovely\", \"lunch\", \"mainly\", \"make\", \"make\", \"make\", \"make\", \"many\", \"many_people\", \"maybe\", \"maybe\", \"meal\", \"meal\", \"mean\", \"meat\", \"member\", \"menu\", \"menu\", \"menu\", \"menu\", \"menu\", \"mexican\", \"mexican_food\", \"min\", \"minute\", \"mistake\", \"mix\", \"modern\", \"money\", \"morning\", \"mostly\", \"move\", \"name\", \"new\", \"new\", \"new\", \"nice\", \"nicely\", \"night\", \"nothing_special\", \"offer\", \"offer\", \"ok\", \"old\", \"one\", \"onion\", \"open\", \"option\", \"option\", \"order\", \"order\", \"overall\", \"pack\", \"park\", \"particular\", \"particularly\", \"pass\", \"pay\", \"people\", \"people\", \"perfect\", \"perhaps\", \"phone\", \"place\", \"place\", \"place\", \"place\", \"plate\", \"plate\", \"platter\", \"point\", \"polite\", \"poor\", \"pop\", \"pork\", \"portion\", \"positive\", \"pound\", \"prepare\", \"pretty\", \"pretty\", \"previously\", \"price\", \"problem\", \"professional\", \"promptly\", \"pub\", \"put\", \"put\", \"quality\", \"queue\", \"quick\", \"quickly\", \"quiet\", \"quite\", \"quite\", \"quite\", \"quot\", \"range\", \"rather\", \"ready\", \"ready\", \"real\", \"really\", \"really\", \"really\", \"really_enjoye\", \"reasonable\", \"recommend\", \"recommend\", \"reduce\", \"regard\", \"regular\", \"relax\", \"remember\", \"restaurant\", \"restaurant\", \"restaurant\", \"restaurant\", \"restaurant\", \"return\", \"review\", \"roast\", \"round\", \"rude\", \"rush\", \"salt\", \"sauce\", \"sauce\", \"say\", \"see\", \"see\", \"seem\", \"seem\", \"selection\", \"serve\", \"serve\", \"server\", \"service\", \"service\", \"service\", \"service\", \"service\", \"set\", \"several\", \"share\", \"short\", \"side\", \"simple\", \"situate\", \"slightly\", \"slow\", \"small\", \"small\", \"somewhere\", \"son\", \"soon\", \"spacious\", \"spice\", \"spice\", \"spot\", \"staff\", \"staff\", \"staff\", \"staff\", \"staff\", \"stair\", \"standard\", \"star\", \"start\", \"starter\", \"starter\", \"steak\", \"stock\", \"stroll\", \"stuff\", \"suggest\", \"sun\", \"sure\", \"surprise\", \"table\", \"table\", \"table\", \"taco\", \"take\", \"take\", \"tapa\", \"tasty\", \"tell\", \"thank\", \"thank\", \"thing\", \"thing\", \"think\", \"think\", \"time\", \"time\", \"time\", \"today\", \"together\", \"totally\", \"touch\", \"town\", \"traditional\", \"treat\", \"truly\", \"try\", \"try\", \"try\", \"twice\", \"type\", \"unusual\", \"use\", \"varied\", \"variety\", \"vegetable\", \"vegetarian\", \"venue\", \"version\", \"vibrant\", \"visit\", \"visit\", \"wahaca\", \"wahaca\", \"wahaca\", \"wait\", \"wait\", \"waiter\", \"waiter\", \"waitress\", \"walk\", \"want\", \"want\", \"wash\", \"water\", \"water\", \"way\", \"wedding\", \"weekend\", \"welcome\", \"welcome\", \"well\", \"well\", \"well\", \"well\", \"well\", \"well\", \"wife\", \"wine\", \"wine\", \"wine\", \"wonderful\", \"wonderful\", \"work\", \"work\", \"work\", \"worth\", \"would\", \"would\", \"would\", \"would\", \"would_recommend\", \"year\", \"yesterday\", \"young\", \"young\"]}, \"R\": 30, \"lambda.step\": 0.01, \"plot.opts\": {\"xlab\": \"PC1\", \"ylab\": \"PC2\"}, \"topic.order\": [6, 3, 1, 4, 7, 8, 2, 5, 10, 9]};\n",
       "\n",
       "function LDAvis_load_lib(url, callback){\n",
       "  var s = document.createElement('script');\n",
       "  s.src = url;\n",
       "  s.async = true;\n",
       "  s.onreadystatechange = s.onload = callback;\n",
       "  s.onerror = function(){console.warn(\"failed to load library \" + url);};\n",
       "  document.getElementsByTagName(\"head\")[0].appendChild(s);\n",
       "}\n",
       "\n",
       "if(typeof(LDAvis) !== \"undefined\"){\n",
       "   // already loaded: just create the visualization\n",
       "   !function(LDAvis){\n",
       "       new LDAvis(\"#\" + \"ldavis_el1983618868169866962418252261\", ldavis_el1983618868169866962418252261_data);\n",
       "   }(LDAvis);\n",
       "}else if(typeof define === \"function\" && define.amd){\n",
       "   // require.js is available: use it to load d3/LDAvis\n",
       "   require.config({paths: {d3: \"https://cdnjs.cloudflare.com/ajax/libs/d3/3.5.5/d3.min\"}});\n",
       "   require([\"d3\"], function(d3){\n",
       "      window.d3 = d3;\n",
       "      LDAvis_load_lib(\"https://cdn.rawgit.com/bmabey/pyLDAvis/files/ldavis.v1.0.0.js\", function(){\n",
       "        new LDAvis(\"#\" + \"ldavis_el1983618868169866962418252261\", ldavis_el1983618868169866962418252261_data);\n",
       "      });\n",
       "    });\n",
       "}else{\n",
       "    // require.js not available: dynamically load d3 & LDAvis\n",
       "    LDAvis_load_lib(\"https://cdnjs.cloudflare.com/ajax/libs/d3/3.5.5/d3.min.js\", function(){\n",
       "         LDAvis_load_lib(\"https://cdn.rawgit.com/bmabey/pyLDAvis/files/ldavis.v1.0.0.js\", function(){\n",
       "                 new LDAvis(\"#\" + \"ldavis_el1983618868169866962418252261\", ldavis_el1983618868169866962418252261_data);\n",
       "            })\n",
       "         });\n",
       "}\n",
       "</script>"
      ],
      "text/plain": [
       "PreparedData(topic_coordinates=              x         y  topics  cluster       Freq\n",
       "topic                                                \n",
       "5     -0.263140  0.121956       1        1  27.352657\n",
       "2     -0.161633 -0.320986       2        1  18.811193\n",
       "0     -0.202926 -0.068122       3        1  14.732854\n",
       "3     -0.128686  0.170061       4        1  13.502413\n",
       "6      0.092106  0.041494       5        1   8.112405\n",
       "7      0.002801  0.151583       6        1   7.473368\n",
       "1      0.167028 -0.041901       7        1   3.555397\n",
       "4      0.175881 -0.018664       8        1   3.098179\n",
       "9      0.170621 -0.020029       9        1   2.742150\n",
       "8      0.147947 -0.015392      10        1   0.619377, topic_info=     Category         Freq        Term        Total  loglift  logprob\n",
       "55    Default  1319.000000        food  1319.000000  30.0000  30.0000\n",
       "56    Default   835.000000        good   835.000000  29.0000  29.0000\n",
       "18    Default   498.000000  restaurant   498.000000  28.0000  28.0000\n",
       "275   Default   477.000000       order   477.000000  27.0000  27.0000\n",
       "27    Default   658.000000       great   658.000000  26.0000  26.0000\n",
       "...       ...          ...         ...          ...      ...      ...\n",
       "4057  Topic10     1.104509  intolerant     1.988858   4.4961  -5.6732\n",
       "204   Topic10     1.041700      stroll     1.925468   4.4699  -5.7317\n",
       "205   Topic10     0.982092         sun     1.865720   4.4425  -5.7906\n",
       "2770  Topic10     0.981086     wedding     1.864773   4.4420  -5.7916\n",
       "1692  Topic10     0.953001     ideally     1.836627   4.4281  -5.8207\n",
       "\n",
       "[429 rows x 6 columns], token_table=      Topic      Freq             Term\n",
       "term                                  \n",
       "1158      4  0.968840             able\n",
       "833       3  0.413975         actually\n",
       "833       5  0.575966         actually\n",
       "482       9  0.982086              add\n",
       "2081     10  0.836680        adventure\n",
       "...     ...       ...              ...\n",
       "228       4  0.993629  would_recommend\n",
       "692       4  0.976991             year\n",
       "1595      8  0.964027        yesterday\n",
       "164       7  0.361993            young\n",
       "164       8  0.615388            young\n",
       "\n",
       "[541 rows x 3 columns], R=30, lambda_step=0.01, plot_opts={'xlab': 'PC1', 'ylab': 'PC2'}, topic_order=[6, 3, 1, 4, 7, 8, 2, 5, 10, 9])"
      ]
     },
     "execution_count": 19,
     "metadata": {},
     "output_type": "execute_result"
    }
   ],
   "source": [
    "# Visualize the topics\n",
    "pyLDAvis.enable_notebook()\n",
    "vis = pyLDAvis.gensim.prepare(lda_model, corpus, id2word)\n",
    "vis"
   ]
  },
  {
   "cell_type": "code",
   "execution_count": null,
   "metadata": {},
   "outputs": [],
   "source": []
  },
  {
   "cell_type": "code",
   "execution_count": null,
   "metadata": {},
   "outputs": [],
   "source": []
  }
 ],
 "metadata": {
  "kernelspec": {
   "display_name": "Python 3",
   "language": "python",
   "name": "python3"
  },
  "language_info": {
   "codemirror_mode": {
    "name": "ipython",
    "version": 3
   },
   "file_extension": ".py",
   "mimetype": "text/x-python",
   "name": "python",
   "nbconvert_exporter": "python",
   "pygments_lexer": "ipython3",
   "version": "3.7.4"
  }
 },
 "nbformat": 4,
 "nbformat_minor": 2
}
