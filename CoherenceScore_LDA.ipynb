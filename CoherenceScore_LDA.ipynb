{
 "cells": [
  {
   "cell_type": "code",
   "execution_count": 1,
   "metadata": {},
   "outputs": [],
   "source": [
    "#Import Packages\n",
    "import os\n",
    "import re\n",
    "import numpy as np\n",
    "import pandas as pd\n",
    "from pprint import pprint\n",
    "\n",
    "#Gensim\n",
    "import gensim\n",
    "import gensim.corpora as corpora\n",
    "from gensim.utils import simple_preprocess\n",
    "from gensim.models import CoherenceModel\n",
    "\n",
    "#spaCy for Lemmatization\n",
    "import spacy\n",
    "\n",
    "#Visualization\n",
    "import pyLDAvis\n",
    "import pyLDAvis.gensim\n",
    "import matplotlib.pyplot as plt\n",
    "%matplotlib inline\n",
    "\n",
    "#Enable logging for gensim\n",
    "import logging\n",
    "logging.basicConfig(format='%(asctime)s: %(levelname)s : %(message)s', level=logging.ERROR)\n",
    "\n",
    "import warnings\n",
    "warnings.filterwarnings(\"ignore\",category=DeprecationWarning)"
   ]
  },
  {
   "cell_type": "code",
   "execution_count": 2,
   "metadata": {},
   "outputs": [],
   "source": [
    "#NLTK Stop words\n",
    "from nltk.corpus import stopwords\n",
    "stop_words = stopwords.words('english')\n"
   ]
  },
  {
   "cell_type": "code",
   "execution_count": 3,
   "metadata": {},
   "outputs": [
    {
     "name": "stdout",
     "output_type": "stream",
     "text": [
      "[\"The staff in this branch of Nando's were friendly and efficient. Despite being a fairly busy Friday night the wood arrived promptly and was up to the usual standard.\"\n",
      " 'The most tasty chicken in town with their famous Piri piri sauce. Great new restaurant, very spacious, clean. Goid service. Avoid on Arsenal match days, too many people.'\n",
      " 'Really surprised and pleased, very friendly and great beer, what more could you ask, plus warm on a wet cold day'\n",
      " ...\n",
      " \"This restaurant has PHENOMENAL taquitos! The rest of the food is good. Our family of four including two young kids ate from their &quot;Street Food&quot; menu - which is smaller plates including tacos, quesadillas, and the aforementioned taquitos. While the other dishes we got (include Ancho chicken tacos, pork pibril tacos, and a coupla quesadillas) was definitely good, their shrimp and crab taquito and sweet potato and feta taquito were just unbelievably good. If I could / were to go back, I think I'd just order those taquitos - about twenty of each. The service was good, the restaurant itself was nice. They're very environmentally conscious. Good music to go with the food. But the taquitos are really what I'm here to write about. I guess you could say that I liked them is one way of putting it if that's not yet quite abundantly clear. Go here. Order taquitos. Repeat. Be happy.\"\n",
      " \"This place was awesome! Excellent food, great prices and ambience. I was rather old as I was seated at the base of the stairs and every time the door opened a rush of cold air came down on me. But this certainly didn't make me leave any sooner. I downloaded their app on their free wifi while I dined. The tortillas and guacamole appetizer was great and I had the black been and cheese quesadilla for my meal. Excellent food. And I paid with the app!\"\n",
      " 'Excelent service, 5 stars, pretty much because of Jose, the bartander, he did our night awesome¡ we will come back surely¡!']\n"
     ]
    },
    {
     "data": {
      "text/html": [
       "<div>\n",
       "<style scoped>\n",
       "    .dataframe tbody tr th:only-of-type {\n",
       "        vertical-align: middle;\n",
       "    }\n",
       "\n",
       "    .dataframe tbody tr th {\n",
       "        vertical-align: top;\n",
       "    }\n",
       "\n",
       "    .dataframe thead th {\n",
       "        text-align: right;\n",
       "    }\n",
       "</style>\n",
       "<table border=\"1\" class=\"dataframe\">\n",
       "  <thead>\n",
       "    <tr style=\"text-align: right;\">\n",
       "      <th></th>\n",
       "      <th>crayon_review_id</th>\n",
       "      <th>crayon_user_id</th>\n",
       "      <th>crayon_product_id</th>\n",
       "      <th>domain</th>\n",
       "      <th>url</th>\n",
       "      <th>type</th>\n",
       "      <th>category</th>\n",
       "      <th>date_created</th>\n",
       "      <th>gid</th>\n",
       "      <th>key</th>\n",
       "      <th>...</th>\n",
       "      <th>user_id</th>\n",
       "      <th>user_name</th>\n",
       "      <th>user_location_text</th>\n",
       "      <th>user_city</th>\n",
       "      <th>user_country</th>\n",
       "      <th>user_total_reviews</th>\n",
       "      <th>user_total_reviews_range</th>\n",
       "      <th>user_helpful_reviews</th>\n",
       "      <th>user_helpful_reviews_range</th>\n",
       "      <th>partition_0</th>\n",
       "    </tr>\n",
       "  </thead>\n",
       "  <tbody>\n",
       "    <tr>\n",
       "      <td>0</td>\n",
       "      <td>RR-202001000-552550429</td>\n",
       "      <td>RU-302001000-806642411</td>\n",
       "      <td>R-102001000-202456154</td>\n",
       "      <td>item_1_saturam_restaurant_review_metadata_info</td>\n",
       "      <td>https://item_1_saturam_restaurant_review_metad...</td>\n",
       "      <td>Reviews</td>\n",
       "      <td>Restaurants</td>\n",
       "      <td>2019-04-11</td>\n",
       "      <td>item_1_saturam_restaurant_review_metadata_info...</td>\n",
       "      <td>ef65c514583b9254dbd8f794c516aaca21c864076d59e3...</td>\n",
       "      <td>...</td>\n",
       "      <td>732393D49A0A1F0B63E5037F07DCDA04</td>\n",
       "      <td>Stevetarn2014</td>\n",
       "      <td>London, United Kingdom</td>\n",
       "      <td>London</td>\n",
       "      <td>United Kingdom</td>\n",
       "      <td>423</td>\n",
       "      <td>101 to 500</td>\n",
       "      <td>1030</td>\n",
       "      <td>1001 to 5000</td>\n",
       "      <td>item_1_restaurant_review_20190609_v10_stage4_c...</td>\n",
       "    </tr>\n",
       "    <tr>\n",
       "      <td>1</td>\n",
       "      <td>RR-202001000-550793573</td>\n",
       "      <td>RU-302001000-802600320</td>\n",
       "      <td>R-102001000-202456154</td>\n",
       "      <td>item_1_saturam_restaurant_review_metadata_info</td>\n",
       "      <td>https://item_1_saturam_restaurant_review_metad...</td>\n",
       "      <td>Reviews</td>\n",
       "      <td>Restaurants</td>\n",
       "      <td>2019-04-11</td>\n",
       "      <td>item_1_saturam_restaurant_review_metadata_info...</td>\n",
       "      <td>e766851ea18b154b154e419691d4ee7eeb4db9d80333f4...</td>\n",
       "      <td>...</td>\n",
       "      <td>2D0CF2077ADEDA59A706B7E1E3DE26E6</td>\n",
       "      <td>T35BZcristinag</td>\n",
       "      <td>NaN</td>\n",
       "      <td>NaN</td>\n",
       "      <td>NaN</td>\n",
       "      <td>141</td>\n",
       "      <td>101 to 500</td>\n",
       "      <td>9</td>\n",
       "      <td>1 to 100</td>\n",
       "      <td>item_1_restaurant_review_20190609_v10_stage4_c...</td>\n",
       "    </tr>\n",
       "  </tbody>\n",
       "</table>\n",
       "<p>2 rows × 49 columns</p>\n",
       "</div>"
      ],
      "text/plain": [
       "         crayon_review_id          crayon_user_id      crayon_product_id  \\\n",
       "0  RR-202001000-552550429  RU-302001000-806642411  R-102001000-202456154   \n",
       "1  RR-202001000-550793573  RU-302001000-802600320  R-102001000-202456154   \n",
       "\n",
       "                                           domain  \\\n",
       "0  item_1_saturam_restaurant_review_metadata_info   \n",
       "1  item_1_saturam_restaurant_review_metadata_info   \n",
       "\n",
       "                                                 url     type     category  \\\n",
       "0  https://item_1_saturam_restaurant_review_metad...  Reviews  Restaurants   \n",
       "1  https://item_1_saturam_restaurant_review_metad...  Reviews  Restaurants   \n",
       "\n",
       "  date_created                                                gid  \\\n",
       "0   2019-04-11  item_1_saturam_restaurant_review_metadata_info...   \n",
       "1   2019-04-11  item_1_saturam_restaurant_review_metadata_info...   \n",
       "\n",
       "                                                 key  ...  \\\n",
       "0  ef65c514583b9254dbd8f794c516aaca21c864076d59e3...  ...   \n",
       "1  e766851ea18b154b154e419691d4ee7eeb4db9d80333f4...  ...   \n",
       "\n",
       "                            user_id       user_name      user_location_text  \\\n",
       "0  732393D49A0A1F0B63E5037F07DCDA04   Stevetarn2014  London, United Kingdom   \n",
       "1  2D0CF2077ADEDA59A706B7E1E3DE26E6  T35BZcristinag                     NaN   \n",
       "\n",
       "  user_city     user_country user_total_reviews  user_total_reviews_range  \\\n",
       "0    London   United Kingdom                423                101 to 500   \n",
       "1       NaN              NaN                141                101 to 500   \n",
       "\n",
       "   user_helpful_reviews  user_helpful_reviews_range  \\\n",
       "0                  1030                1001 to 5000   \n",
       "1                     9                    1 to 100   \n",
       "\n",
       "                                         partition_0  \n",
       "0  item_1_restaurant_review_20190609_v10_stage4_c...  \n",
       "1  item_1_restaurant_review_20190609_v10_stage4_c...  \n",
       "\n",
       "[2 rows x 49 columns]"
      ]
     },
     "execution_count": 3,
     "metadata": {},
     "output_type": "execute_result"
    }
   ],
   "source": [
    "#Import Dataset\n",
    "import os\n",
    "os.chdir(\"D:\\Choogle\\Data\\dataset_review\")\n",
    "df = pd.read_csv(r'dataset2_london.csv')\n",
    "reviews_datasets = df.head(20000)\n",
    "print(reviews_datasets.text.unique())\n",
    "df.head(2)"
   ]
  },
  {
   "cell_type": "code",
   "execution_count": 4,
   "metadata": {},
   "outputs": [
    {
     "name": "stdout",
     "output_type": "stream",
     "text": [
      "0    The staff in this branch of Nando's were frien...\n",
      "1    The most tasty chicken in town with their famo...\n",
      "2    Really surprised and pleased, very friendly an...\n",
      "3    Having interred my late wife’s ashes in Totten...\n",
      "Name: text, dtype: object\n"
     ]
    },
    {
     "data": {
      "text/plain": [
       "\"The staff in this branch of Nando's were friendly and efficient. Despite being a fairly busy Friday night the wood arrived promptly and was up to the usual standard.\""
      ]
     },
     "execution_count": 4,
     "metadata": {},
     "output_type": "execute_result"
    }
   ],
   "source": [
    "#Convert to list\n",
    "data = df.text\n",
    "pprint(data[:4])\n",
    "data[0]"
   ]
  },
  {
   "cell_type": "code",
   "execution_count": 5,
   "metadata": {},
   "outputs": [
    {
     "name": "stdout",
     "output_type": "stream",
     "text": [
      "[['the', 'staff', 'in', 'this', 'branch', 'of', 'nando', 'were', 'friendly', 'and', 'efficient', 'despite', 'being', 'fairly', 'busy', 'friday', 'night', 'the', 'wood', 'arrived', 'promptly', 'and', 'was', 'up', 'to', 'the', 'usual', 'standard']]\n"
     ]
    }
   ],
   "source": [
    "def sent_to_words(sentences):\n",
    "    for sentence in sentences:\n",
    "        yield(gensim.utils.simple_preprocess(str(sentence), deacc=True)) #deacc=True removes punctuations\n",
    "\n",
    "data_words = list(sent_to_words(data))\n",
    "print(data_words[:1])"
   ]
  },
  {
   "cell_type": "code",
   "execution_count": 6,
   "metadata": {},
   "outputs": [
    {
     "data": {
      "text/plain": [
       "\"The staff in this branch of Nando's were friendly and efficient. Despite being a fairly busy Friday night the wood arrived promptly and was up to the usual standard.\""
      ]
     },
     "execution_count": 6,
     "metadata": {},
     "output_type": "execute_result"
    }
   ],
   "source": [
    "reviews_datasets['text'][0]"
   ]
  },
  {
   "cell_type": "code",
   "execution_count": 7,
   "metadata": {},
   "outputs": [
    {
     "name": "stdout",
     "output_type": "stream",
     "text": [
      "['the', 'staff', 'in', 'this', 'branch', 'of', 'nando', 'were', 'friendly_and_efficient', 'despite_being', 'fairly', 'busy', 'friday_night', 'the', 'wood', 'arrived', 'promptly', 'and', 'was', 'up', 'to', 'the', 'usual', 'standard']\n"
     ]
    }
   ],
   "source": [
    "#Building Bigram and Trigram Models\n",
    "bigram = gensim.models.Phrases(data_words, min_count=5, threshold=5) #higher threshold fewer phrases\n",
    "trigram = gensim.models.Phrases((bigram[data_words]), threshold=5)\n",
    "\n",
    "#Faster way to get a sentence clubbed as a trigram/bigram\n",
    "bigram_mod = gensim.models.phrases.Phraser(bigram)\n",
    "trigram_mod = gensim.models.phrases.Phraser(trigram)\n",
    "\n",
    "#Trigram example\n",
    "print(trigram_mod[bigram_mod[data_words[0]]])"
   ]
  },
  {
   "cell_type": "code",
   "execution_count": 8,
   "metadata": {},
   "outputs": [],
   "source": [
    "#Define functions for stopwords, bigrams, trigrams and Lemmatization\n",
    "def remove_stopwords(texts):\n",
    "    return [[word for word in simple_preprocess(str(doc)) if word not in stop_words] for doc in texts]\n",
    "\n",
    "def make_bigrams(texts):\n",
    "    return [bigram_mod[doc] for doc in texts]\n",
    "\n",
    "def make_trigrams(texts):\n",
    "    return [trigram_mod[bigram_mod[doc]] for doc in texts]\n",
    "\n",
    "def lemmatization(texts, allowed_postags=['NOUN', 'ADJ', 'VERB', 'ADV']):\n",
    "    \"\"\"https://spacy.io/api/annotation\"\"\"\n",
    "    texts_out = []\n",
    "    for sent in texts:\n",
    "        doc = nlp(\" \".join(sent))\n",
    "        texts_out.append([token.lemma_ for token in doc if token.pos_ in allowed_postags])\n",
    "    return texts_out    "
   ]
  },
  {
   "cell_type": "code",
   "execution_count": 9,
   "metadata": {},
   "outputs": [
    {
     "name": "stdout",
     "output_type": "stream",
     "text": [
      "[['friendly', 'efficient', 'fairly', 'busy', 'wood', 'arrive', 'promptly', 'usual', 'standard'], ['tasty', 'town', 'famous', 'new', 'restaurant', 'spacious', 'service', 'avoid', 'arsenal', 'match', 'day', 'many_people'], ['really', 'surprise', 'please', 'friendly', 'great', 'beer', 'could', 'ask', 'warm', 'wet', 'cold', 'day'], ['interred', 'late', 'wife', 'ash', 'chef', 'provide', 'family', 'also', 'manage', 'accommodate', 'lone', 'admirably', 'service', 'help', 'relax', 'emotional', 'morning', 'thank', 'make', 'welcome']]\n"
     ]
    }
   ],
   "source": [
    "import en_core_web_sm\n",
    "\n",
    "#Remove Stope Words\n",
    "data_words_nostops = remove_stopwords(data_words)\n",
    "\n",
    "#Form Bigrams\n",
    "data_words_bigrams = make_bigrams(data_words_nostops)\n",
    "\n",
    "#Initialize spaCy 'en' model, keeping only tagger componenet (for efficiency)\n",
    "nlp = en_core_web_sm.load()\n",
    "\n",
    "#Doing lemmatization - keeping only noun, adj, adv, vb\n",
    "data_lemmatized = lemmatization(data_words_bigrams, allowed_postags = ['NOUN', 'ADJ', 'VERB', 'ADV'])\n",
    "\n",
    "print(data_lemmatized[:4])"
   ]
  },
  {
   "cell_type": "code",
   "execution_count": 10,
   "metadata": {},
   "outputs": [
    {
     "name": "stdout",
     "output_type": "stream",
     "text": [
      "[[(0, 1), (1, 1), (2, 1), (3, 1), (4, 1), (5, 1), (6, 1), (7, 1), (8, 1)]]\n"
     ]
    }
   ],
   "source": [
    "#Create Dictionary\n",
    "id2word = corpora.Dictionary(data_lemmatized)\n",
    "\n",
    "#Create Corpus\n",
    "texts = data_lemmatized\n",
    "\n",
    "#Term Document Frequency\n",
    "corpus = [id2word.doc2bow(text) for text in texts]\n",
    "\n",
    "#View\n",
    "print(corpus[:1])"
   ]
  },
  {
   "cell_type": "code",
   "execution_count": 11,
   "metadata": {},
   "outputs": [
    {
     "data": {
      "text/plain": [
       "'fairly'"
      ]
     },
     "execution_count": 11,
     "metadata": {},
     "output_type": "execute_result"
    }
   ],
   "source": [
    "id2word[3]"
   ]
  },
  {
   "cell_type": "code",
   "execution_count": 12,
   "metadata": {},
   "outputs": [
    {
     "data": {
      "text/plain": [
       "[[('arrive', 1),\n",
       "  ('busy', 1),\n",
       "  ('efficient', 1),\n",
       "  ('fairly', 1),\n",
       "  ('friendly', 1),\n",
       "  ('promptly', 1),\n",
       "  ('standard', 1),\n",
       "  ('usual', 1),\n",
       "  ('wood', 1)]]"
      ]
     },
     "execution_count": 12,
     "metadata": {},
     "output_type": "execute_result"
    }
   ],
   "source": [
    "#Human readable format of corpus (term-frequency)\n",
    "[[(id2word[id], freq) for id, freq in cp] for cp in corpus[:1]]"
   ]
  },
  {
   "cell_type": "code",
   "execution_count": 13,
   "metadata": {},
   "outputs": [],
   "source": [
    "#Build LDA Model\n",
    "lda_model = gensim.models.ldamodel.LdaModel(corpus=corpus,\n",
    "                                           id2word=id2word,\n",
    "                                           num_topics=10,\n",
    "                                           random_state=100,\n",
    "                                           update_every=1,\n",
    "                                           chunksize=100,\n",
    "                                           passes=10,\n",
    "                                           alpha='auto',\n",
    "                                           per_word_topics=True)"
   ]
  },
  {
   "cell_type": "code",
   "execution_count": 14,
   "metadata": {},
   "outputs": [
    {
     "name": "stdout",
     "output_type": "stream",
     "text": [
      "[(0,\n",
      "  '0.036*\"many\" + 0.034*\"big\" + 0.030*\"birthday\" + 0.025*\"french\" + '\n",
      "  '0.021*\"enough\" + 0.018*\"course\" + 0.018*\"amount\" + 0.017*\"meat\" + '\n",
      "  '0.017*\"daughter\" + 0.016*\"kid\"'),\n",
      " (1,\n",
      "  '0.047*\"food\" + 0.030*\"good\" + 0.024*\"great\" + 0.019*\"go\" + 0.018*\"service\" '\n",
      "  '+ 0.017*\"place\" + 0.017*\"restaurant\" + 0.015*\"staff\" + 0.011*\"dish\" + '\n",
      "  '0.011*\"menu\"'),\n",
      " (2,\n",
      "  '0.048*\"one\" + 0.042*\"worth\" + 0.033*\"lively\" + 0.033*\"highly_recommende\" + '\n",
      "  '0.026*\"rice\" + 0.018*\"toilet\" + 0.017*\"house\" + 0.017*\"happen\" + '\n",
      "  '0.016*\"professional\" + 0.015*\"conversation\"'),\n",
      " (3,\n",
      "  '0.017*\"behaviour\" + 0.016*\"aware\" + 0.012*\"firstly\" + 0.011*\"description\" + '\n",
      "  '0.006*\"posh\" + 0.003*\"baby\" + 0.000*\"bully\" + 0.000*\"claustrophobic\" + '\n",
      "  '0.000*\"traumatise\" + 0.000*\"criminal\"'),\n",
      " (4,\n",
      "  '0.042*\"quick\" + 0.028*\"fantastic\" + 0.027*\"group\" + 0.026*\"beer\" + '\n",
      "  '0.024*\"especially\" + 0.022*\"money\" + 0.022*\"fun\" + 0.020*\"mean\" + '\n",
      "  '0.019*\"pub\" + 0.019*\"would_recommend\"'),\n",
      " (5,\n",
      "  '0.054*\"value\" + 0.040*\"tequila\" + 0.031*\"ambience\" + 0.024*\"favorite\" + '\n",
      "  '0.017*\"wash\" + 0.016*\"prompt\" + 0.016*\"piece\" + 0.016*\"sausage\" + '\n",
      "  '0.016*\"dine\" + 0.015*\"design\"'),\n",
      " (6,\n",
      "  '0.041*\"order\" + 0.037*\"table\" + 0.021*\"would\" + 0.019*\"take\" + '\n",
      "  '0.016*\"arrive\" + 0.015*\"wait\" + 0.015*\"say\" + 0.014*\"leave\" + 0.014*\"come\" '\n",
      "  '+ 0.014*\"ask\"'),\n",
      " (7,\n",
      "  '0.055*\"small\" + 0.044*\"recommend\" + 0.029*\"selection\" + 0.025*\"portion\" + '\n",
      "  '0.023*\"finish\" + 0.018*\"large\" + 0.017*\"like\" + 0.015*\"maybe\" + '\n",
      "  '0.015*\"wine\" + 0.013*\"less\"'),\n",
      " (8,\n",
      "  '0.029*\"set\" + 0.028*\"include\" + 0.026*\"free\" + 0.022*\"pretty\" + '\n",
      "  '0.022*\"bread\" + 0.020*\"several\" + 0.018*\"slightly\" + 0.017*\"venue\" + '\n",
      "  '0.016*\"half\" + 0.011*\"often\"'),\n",
      " (9,\n",
      "  '0.021*\"short\" + 0.021*\"grill\" + 0.018*\"tapa\" + 0.017*\"prepare\" + '\n",
      "  '0.017*\"bean\" + 0.015*\"stop\" + 0.014*\"cod\" + 0.013*\"cuisine\" + '\n",
      "  '0.013*\"highly_recommend\" + 0.013*\"live\"')]\n"
     ]
    }
   ],
   "source": [
    "#Print the keyword in the 10 topics\n",
    "pprint(lda_model.print_topics())\n",
    "doc_lda = lda_model[corpus]"
   ]
  },
  {
   "cell_type": "code",
   "execution_count": 15,
   "metadata": {},
   "outputs": [
    {
     "name": "stdout",
     "output_type": "stream",
     "text": [
      "\n",
      " Perplexity:  -7.652245286858429\n",
      "\n",
      " Coherence Score:  0.44129730737078593\n"
     ]
    }
   ],
   "source": [
    "#Compute Perplexity\n",
    "print('\\n Perplexity: ', lda_model.log_perplexity(corpus)) # a measure of how good the model is. Lower is better.\n",
    "\n",
    "#Compute Coherence Score\n",
    "coherence_model_lda = CoherenceModel(model=lda_model, texts=data_lemmatized, dictionary=id2word, coherence='c_v')\n",
    "coherence_lda = coherence_model_lda.get_coherence()\n",
    "print('\\n Coherence Score: ', coherence_lda)"
   ]
  },
  {
   "cell_type": "code",
   "execution_count": 17,
   "metadata": {},
   "outputs": [],
   "source": [
    "def compute_coherence_values(dictionary, corpus, texts, limit, start=2, step=3):\n",
    "    \"\"\"\n",
    "    Compute c_v coherence for various number of topics\n",
    "\n",
    "    Parameters:\n",
    "    ----------\n",
    "    dictionary : Gensim dictionary\n",
    "    corpus : Gensim corpus\n",
    "    texts : List of input texts\n",
    "    limit : Max num of topics\n",
    "\n",
    "    Returns:\n",
    "    -------\n",
    "    model_list : List of LDA topic models\n",
    "    coherence_values : Coherence values corresponding to the LDA model with respective number of topics\n",
    "    \"\"\"\n",
    "    coherence_values = []\n",
    "    model_list = []\n",
    "    for num_topics in range(start, limit, step):\n",
    "        #model = gensim.models.ldamodel.LdaModel(lda_model, corpus=corpus, num_topics=num_topics, id2word=id2word)\n",
    "        model = gensim.models.ldamodel.LdaModel(corpus=corpus,\n",
    "                                           id2word=id2word,\n",
    "                                           num_topics=num_topics,\n",
    "                                           random_state=100,\n",
    "                                           update_every=1,\n",
    "                                           chunksize=100,\n",
    "                                           passes=10,\n",
    "                                           alpha='auto',\n",
    "                                           per_word_topics=True)\n",
    "        model_list.append(model)\n",
    "        coherencemodel = CoherenceModel(model=model, texts=texts, dictionary=id2word, coherence='c_v')\n",
    "        coherence_values.append(coherencemodel.get_coherence())\n",
    "    return model_list, coherence_values "
   ]
  },
  {
   "cell_type": "code",
   "execution_count": 18,
   "metadata": {},
   "outputs": [],
   "source": [
    "model_list, coherence_values = compute_coherence_values(dictionary=id2word, corpus=corpus, texts=data_lemmatized, start=2, limit=40, step=6)"
   ]
  },
  {
   "cell_type": "code",
   "execution_count": 19,
   "metadata": {},
   "outputs": [
    {
     "data": {
      "image/png": "[encoded data removed]",
      "text/plain": [
       "<Figure size 432x288 with 1 Axes>"
      ]
     },
     "metadata": {
      "needs_background": "light"
     },
     "output_type": "display_data"
    }
   ],
   "source": [
    "#Graph\n",
    "limit=40; start=2; step=6;\n",
    "x=range(start, limit, step)\n",
    "plt.plot(x, coherence_values)\n",
    "plt.xlabel(\"Num of Topics\")\n",
    "plt.ylabel(\"Coherence Score\")\n",
    "plt.legend((\"coherence_values\"), loc='best')\n",
    "plt.show()"
   ]
  },
  {
   "cell_type": "code",
   "execution_count": 20,
   "metadata": {},
   "outputs": [
    {
     "name": "stdout",
     "output_type": "stream",
     "text": [
      "Num of Topics =  2 has Coherence Value of  0.3405606801\n",
      "Num of Topics =  8 has Coherence Value of  0.4378233733\n",
      "Num of Topics =  14 has Coherence Value of  0.4693364216\n",
      "Num of Topics =  20 has Coherence Value of  0.4023208192\n",
      "Num of Topics =  26 has Coherence Value of  0.4110151669\n",
      "Num of Topics =  32 has Coherence Value of  0.3813779827\n",
      "Num of Topics =  38 has Coherence Value of  0.3658140589\n"
     ]
    }
   ],
   "source": [
    "#Print the coherence scores\n",
    "for m, cv in zip(x, coherence_values):\n",
    "    print(\"Num of Topics = \", m, \"has Coherence Value of \", round(cv,10))"
   ]
  },
  {
   "cell_type": "code",
   "execution_count": 21,
   "metadata": {},
   "outputs": [
    {
     "name": "stdout",
     "output_type": "stream",
     "text": [
      "[(0,\n",
      "  '0.107*\"many\" + 0.068*\"happy\" + 0.049*\"daughter\" + 0.048*\"easy\" + '\n",
      "  '0.047*\"mix\" + 0.038*\"pop\" + 0.036*\"team\" + 0.036*\"wish\" + 0.034*\"owner\" + '\n",
      "  '0.030*\"head\"'),\n",
      " (1,\n",
      "  '0.039*\"table\" + 0.037*\"order\" + 0.028*\"come\" + 0.027*\"dish\" + 0.027*\"wait\" '\n",
      "  '+ 0.024*\"restaurant\" + 0.022*\"drink\" + 0.022*\"get\" + 0.021*\"would\" + '\n",
      "  '0.021*\"eat\"'),\n",
      " (2,\n",
      "  '0.137*\"fun\" + 0.091*\"one\" + 0.063*\"lively\" + 0.038*\"game\" + 0.030*\"sausage\" '\n",
      "  '+ 0.028*\"conversation\" + 0.005*\"mash\" + 0.000*\"night\" + 0.000*\"wahaca\" + '\n",
      "  '0.000*\"mexican\"'),\n",
      " (3,\n",
      "  '0.029*\"next_time\" + 0.010*\"spirit\" + 0.006*\"package\" + 0.000*\"mind\" + '\n",
      "  '0.000*\"soo\" + 0.000*\"seanend\" + 0.000*\"blow\" + 0.000*\"come_back\" + '\n",
      "  '0.000*\"wine\" + 0.000*\"spot\"'),\n",
      " (4,\n",
      "  '0.063*\"small\" + 0.062*\"fresh\" + 0.049*\"helpful\" + 0.047*\"enjoy\" + '\n",
      "  '0.042*\"different\" + 0.041*\"quick\" + 0.030*\"big\" + 0.027*\"walk\" + '\n",
      "  '0.025*\"beer\" + 0.025*\"chain\"'),\n",
      " (5,\n",
      "  '0.108*\"spend\" + 0.068*\"live\" + 0.051*\"modern\" + 0.034*\"elsewhere\" + '\n",
      "  '0.021*\"normal\" + 0.001*\"monthly\" + 0.000*\"know\" + 0.000*\"wahaca\" + '\n",
      "  '0.000*\"wine\" + 0.000*\"chip\"'),\n",
      " (6,\n",
      "  '0.041*\"say\" + 0.035*\"take\" + 0.033*\"minute\" + 0.030*\"tell\" + '\n",
      "  '0.030*\"waitress\" + 0.029*\"need\" + 0.029*\"return\" + 0.028*\"experience\" + '\n",
      "  '0.026*\"quickly\" + 0.025*\"sit\"'),\n",
      " (7,\n",
      "  '0.105*\"start\" + 0.086*\"finish\" + 0.060*\"special\" + 0.058*\"variety\" + '\n",
      "  '0.050*\"authentic\" + 0.033*\"ingredient\" + 0.030*\"smile\" + '\n",
      "  '0.029*\"unfortunately\" + 0.027*\"cafe\" + 0.026*\"black\"'),\n",
      " (8,\n",
      "  '0.077*\"set\" + 0.073*\"include\" + 0.060*\"add\" + 0.059*\"pretty\" + '\n",
      "  '0.053*\"several\" + 0.049*\"slightly\" + 0.039*\"stop\" + 0.027*\"incredibly\" + '\n",
      "  '0.020*\"break\" + 0.020*\"mainly\"'),\n",
      " (9,\n",
      "  '0.214*\"atmosphere\" + 0.045*\"prepare\" + 0.040*\"bean\" + 0.039*\"chef\" + '\n",
      "  '0.032*\"highly_recommend\" + 0.032*\"hard\" + 0.031*\"slow\" + 0.028*\"guess\" + '\n",
      "  '0.026*\"favorite\" + 0.024*\"usual\"'),\n",
      " (10,\n",
      "  '0.175*\"share\" + 0.099*\"choose\" + 0.066*\"couple\" + 0.042*\"certainly\" + '\n",
      "  '0.041*\"top\" + 0.036*\"worth\" + 0.025*\"dessert\" + 0.023*\"nicely\" + '\n",
      "  '0.021*\"cake\" + 0.020*\"job\"'),\n",
      " (11,\n",
      "  '0.000*\"largely\" + 0.000*\"induce\" + 0.000*\"lamb_chop\" + 0.000*\"ingrediant\" + '\n",
      "  '0.000*\"cous\" + 0.000*\"buzzy\" + 0.000*\"wince\" + 0.000*\"lighter\" + '\n",
      "  '0.000*\"soapy\" + 0.000*\"invisible\"'),\n",
      " (12,\n",
      "  '0.109*\"item\" + 0.063*\"unique\" + 0.043*\"none\" + 0.016*\"result\" + '\n",
      "  '0.015*\"every_single\" + 0.015*\"slowly\" + 0.014*\"passion\" + 0.007*\"encounter\" '\n",
      "  '+ 0.002*\"shine\" + 0.002*\"creation\"'),\n",
      " (13,\n",
      "  '0.086*\"hour\" + 0.054*\"last\" + 0.037*\"partner\" + 0.037*\"clear\" + '\n",
      "  '0.033*\"sweet\" + 0.032*\"glad\" + 0.030*\"guy\" + 0.028*\"present\" + '\n",
      "  '0.026*\"deliver\" + 0.025*\"buy\"'),\n",
      " (14,\n",
      "  '0.199*\"chicken\" + 0.113*\"flavour\" + 0.108*\"thing\" + 0.069*\"far\" + '\n",
      "  '0.052*\"salad\" + 0.038*\"agree\" + 0.021*\"become\" + 0.017*\"filling\" + '\n",
      "  '0.013*\"ate\" + 0.009*\"fancy\"'),\n",
      " (15,\n",
      "  '0.156*\"birthday\" + 0.051*\"regular\" + 0.049*\"hear\" + 0.047*\"fault\" + '\n",
      "  '0.037*\"chance\" + 0.035*\"spice\" + 0.025*\"station\" + 0.020*\"celebrate\" + '\n",
      "  '0.014*\"genuine\" + 0.000*\"thing\"'),\n",
      " (16,\n",
      "  '0.054*\"free\" + 0.048*\"course\" + 0.041*\"next\" + 0.033*\"half\" + '\n",
      "  '0.033*\"enjoyable\" + 0.031*\"whole\" + 0.029*\"together\" + 0.029*\"fact\" + '\n",
      "  '0.028*\"fabulous\" + 0.028*\"completely\"'),\n",
      " (17,\n",
      "  '0.106*\"ok\" + 0.077*\"surprise\" + 0.059*\"reason\" + 0.031*\"continue\" + '\n",
      "  '0.024*\"please\" + 0.013*\"creative\" + 0.012*\"wet\" + 0.003*\"dog\" + '\n",
      "  '0.000*\"wahaca\" + 0.000*\"wine\"'),\n",
      " (18,\n",
      "  '0.097*\"breakfast\" + 0.059*\"yet\" + 0.034*\"professional\" + '\n",
      "  '0.030*\"presentation\" + 0.026*\"going_back\" + 0.015*\"visited\" + '\n",
      "  '0.012*\"unbelievably\" + 0.011*\"separately\" + 0.008*\"handle\" + '\n",
      "  '0.007*\"omelette\"'),\n",
      " (19,\n",
      "  '0.091*\"food\" + 0.067*\"good\" + 0.053*\"great\" + 0.040*\"service\" + '\n",
      "  '0.038*\"place\" + 0.032*\"go\" + 0.030*\"staff\" + 0.025*\"menu\" + 0.023*\"try\" + '\n",
      "  '0.023*\"really\"')]\n"
     ]
    }
   ],
   "source": [
    "#Select the Model and print the topics\n",
    "optimal_model = model_list[3]\n",
    "model_topics = optimal_model.show_topics(formatted=False)\n",
    "pprint(optimal_model.print_topics(num_words=10))"
   ]
  },
  {
   "cell_type": "code",
   "execution_count": 22,
   "metadata": {},
   "outputs": [
    {
     "name": "stderr",
     "output_type": "stream",
     "text": [
      "C:\\Conda\\lib\\site-packages\\pyLDAvis\\_prepare.py:257: FutureWarning: Sorting because non-concatenation axis is not aligned. A future version\n",
      "of pandas will change to not sort by default.\n",
      "\n",
      "To accept the future behavior, pass 'sort=False'.\n",
      "\n",
      "To retain the current behavior and silence the warning, pass 'sort=True'.\n",
      "\n",
      "  return pd.concat([default_term_info] + list(topic_dfs))\n"
     ]
    },
    {
     "data": {
      "text/html": [
       "\n",
       "<link rel=\"stylesheet\" type=\"text/css\" href=\"https://cdn.rawgit.com/bmabey/pyLDAvis/files/ldavis.v1.0.0.css\">\n",
       "\n",
       "\n",
       "<div id=\"ldavis_el757624331955176408089545967\"></div>\n",
       "<script type=\"text/javascript\">\n",
       "\n",
       "var ldavis_el757624331955176408089545967_data = {\"mdsDat\": {\"x\": [-0.36802530023822205, -0.28004902043608637, 0.04534874998703871, 0.08931815582076491, 0.08461345161024901, 0.09939036506510124, 0.09800539844002516, 0.08138641016159602, 0.080445703099922, 0.06956608648961085], \"y\": [0.1562299850051618, -0.2213258265964028, 0.24765240864728552, -0.004580965136084727, -0.1011538403793598, -0.022472405322752128, -0.01428601176383465, -0.01453434843949074, -0.014300540047925622, -0.011228455966596874], \"topics\": [1, 2, 3, 4, 5, 6, 7, 8, 9, 10], \"cluster\": [1, 1, 1, 1, 1, 1, 1, 1, 1, 1], \"Freq\": [54.9429817199707, 21.8985652923584, 6.0583882331848145, 4.7551960945129395, 4.220084190368652, 3.3691658973693848, 3.2693982124328613, 0.698445737361908, 0.6767225861549377, 0.11104779690504074]}, \"tinfo\": {\"Category\": [\"Default\", \"Default\", \"Default\", \"Default\", \"Default\", \"Default\", \"Default\", \"Default\", \"Default\", \"Default\", \"Default\", \"Default\", \"Default\", \"Default\", \"Default\", \"Default\", \"Default\", \"Default\", \"Default\", \"Default\", \"Default\", \"Default\", \"Default\", \"Default\", \"Default\", \"Default\", \"Default\", \"Default\", \"Default\", \"Default\", \"Topic1\", \"Topic1\", \"Topic1\", \"Topic1\", \"Topic1\", \"Topic1\", \"Topic1\", \"Topic1\", \"Topic1\", \"Topic1\", \"Topic1\", \"Topic1\", \"Topic1\", \"Topic1\", \"Topic1\", \"Topic1\", \"Topic1\", \"Topic1\", \"Topic1\", \"Topic1\", \"Topic1\", \"Topic1\", \"Topic1\", \"Topic1\", \"Topic1\", \"Topic1\", \"Topic1\", \"Topic1\", \"Topic1\", \"Topic1\", \"Topic1\", \"Topic1\", \"Topic1\", \"Topic1\", \"Topic1\", \"Topic1\", \"Topic1\", \"Topic1\", \"Topic1\", \"Topic1\", \"Topic1\", \"Topic1\", \"Topic2\", \"Topic2\", \"Topic2\", \"Topic2\", \"Topic2\", \"Topic2\", \"Topic2\", \"Topic2\", \"Topic2\", \"Topic2\", \"Topic2\", \"Topic2\", \"Topic2\", \"Topic2\", \"Topic2\", \"Topic2\", \"Topic2\", \"Topic2\", \"Topic2\", \"Topic2\", \"Topic2\", \"Topic2\", \"Topic2\", \"Topic2\", \"Topic2\", \"Topic2\", \"Topic2\", \"Topic2\", \"Topic2\", \"Topic2\", \"Topic2\", \"Topic2\", \"Topic2\", \"Topic2\", \"Topic2\", \"Topic2\", \"Topic2\", \"Topic2\", \"Topic2\", \"Topic2\", \"Topic2\", \"Topic2\", \"Topic2\", \"Topic2\", \"Topic2\", \"Topic2\", \"Topic2\", \"Topic2\", \"Topic2\", \"Topic2\", \"Topic3\", \"Topic3\", \"Topic3\", \"Topic3\", \"Topic3\", \"Topic3\", \"Topic3\", \"Topic3\", \"Topic3\", \"Topic3\", \"Topic3\", \"Topic3\", \"Topic3\", \"Topic3\", \"Topic3\", \"Topic3\", \"Topic3\", \"Topic3\", \"Topic3\", \"Topic3\", \"Topic3\", \"Topic3\", \"Topic3\", \"Topic3\", \"Topic3\", \"Topic3\", \"Topic3\", \"Topic3\", \"Topic3\", \"Topic3\", \"Topic3\", \"Topic3\", \"Topic3\", \"Topic3\", \"Topic3\", \"Topic3\", \"Topic4\", \"Topic4\", \"Topic4\", \"Topic4\", \"Topic4\", \"Topic4\", \"Topic4\", \"Topic4\", \"Topic4\", \"Topic4\", \"Topic4\", \"Topic4\", \"Topic4\", \"Topic4\", \"Topic4\", \"Topic4\", \"Topic4\", \"Topic4\", \"Topic4\", \"Topic4\", \"Topic4\", \"Topic4\", \"Topic4\", \"Topic4\", \"Topic4\", \"Topic4\", \"Topic4\", \"Topic4\", \"Topic4\", \"Topic4\", \"Topic4\", \"Topic4\", \"Topic4\", \"Topic5\", \"Topic5\", \"Topic5\", \"Topic5\", \"Topic5\", \"Topic5\", \"Topic5\", \"Topic5\", \"Topic5\", \"Topic5\", \"Topic5\", \"Topic5\", \"Topic5\", \"Topic5\", \"Topic5\", \"Topic5\", \"Topic5\", \"Topic5\", \"Topic5\", \"Topic5\", \"Topic5\", \"Topic5\", \"Topic5\", \"Topic5\", \"Topic5\", \"Topic5\", \"Topic5\", \"Topic5\", \"Topic5\", \"Topic5\", \"Topic5\", \"Topic6\", \"Topic6\", \"Topic6\", \"Topic6\", \"Topic6\", \"Topic6\", \"Topic6\", \"Topic6\", \"Topic6\", \"Topic6\", \"Topic6\", \"Topic6\", \"Topic6\", \"Topic6\", \"Topic6\", \"Topic6\", \"Topic6\", \"Topic6\", \"Topic6\", \"Topic6\", \"Topic6\", \"Topic6\", \"Topic6\", \"Topic6\", \"Topic6\", \"Topic6\", \"Topic6\", \"Topic6\", \"Topic6\", \"Topic6\", \"Topic6\", \"Topic7\", \"Topic7\", \"Topic7\", \"Topic7\", \"Topic7\", \"Topic7\", \"Topic7\", \"Topic7\", \"Topic7\", \"Topic7\", \"Topic7\", \"Topic7\", \"Topic7\", \"Topic7\", \"Topic7\", \"Topic7\", \"Topic7\", \"Topic7\", \"Topic7\", \"Topic7\", \"Topic7\", \"Topic7\", \"Topic7\", \"Topic7\", \"Topic7\", \"Topic7\", \"Topic7\", \"Topic7\", \"Topic7\", \"Topic7\", \"Topic7\", \"Topic7\", \"Topic8\", \"Topic8\", \"Topic8\", \"Topic8\", \"Topic8\", \"Topic8\", \"Topic8\", \"Topic8\", \"Topic8\", \"Topic8\", \"Topic8\", \"Topic8\", \"Topic8\", \"Topic8\", \"Topic8\", \"Topic8\", \"Topic8\", \"Topic8\", \"Topic8\", \"Topic8\", \"Topic8\", \"Topic8\", \"Topic8\", \"Topic8\", \"Topic8\", \"Topic8\", \"Topic8\", \"Topic8\", \"Topic8\", \"Topic8\", \"Topic9\", \"Topic9\", \"Topic9\", \"Topic9\", \"Topic9\", \"Topic9\", \"Topic9\", \"Topic9\", \"Topic9\", \"Topic9\", \"Topic9\", \"Topic9\", \"Topic9\", \"Topic9\", \"Topic9\", \"Topic9\", \"Topic9\", \"Topic9\", \"Topic9\", \"Topic9\", \"Topic9\", \"Topic9\", \"Topic9\", \"Topic9\", \"Topic9\", \"Topic9\", \"Topic9\", \"Topic9\", \"Topic9\", \"Topic9\", \"Topic10\", \"Topic10\", \"Topic10\", \"Topic10\", \"Topic10\", \"Topic10\", \"Topic10\", \"Topic10\", \"Topic10\", \"Topic10\", \"Topic10\", \"Topic10\", \"Topic10\", \"Topic10\", \"Topic10\", \"Topic10\", \"Topic10\", \"Topic10\", \"Topic10\", \"Topic10\", \"Topic10\", \"Topic10\", \"Topic10\", \"Topic10\", \"Topic10\", \"Topic10\", \"Topic10\", \"Topic10\", \"Topic10\", \"Topic10\", \"Topic10\"], \"Freq\": [1329.0, 501.0, 515.0, 182.0, 841.0, 139.0, 667.0, 223.0, 306.0, 102.0, 212.0, 507.0, 345.0, 473.0, 92.0, 173.0, 183.0, 79.0, 162.0, 73.0, 156.0, 78.0, 348.0, 74.0, 64.0, 73.0, 67.0, 78.0, 120.0, 136.0, 1328.9642333984375, 840.3380126953125, 666.514404296875, 506.7933044433594, 472.3386535644531, 297.1492614746094, 295.38934326171875, 268.3601989746094, 253.66163635253906, 243.56167602539062, 227.8911895751953, 222.45620727539062, 216.87857055664062, 275.5724792480469, 209.2873077392578, 195.98797607421875, 188.0453338623047, 184.11924743652344, 175.5884552001953, 174.232666015625, 176.81666564941406, 172.52383422851562, 169.86036682128906, 168.8423309326172, 168.51182556152344, 179.1695098876953, 166.53297424316406, 163.3201141357422, 160.38279724121094, 147.7734832763672, 250.11795043945312, 470.3375549316406, 543.2310791015625, 281.3411560058594, 434.69989013671875, 319.5173645019531, 322.5294189453125, 226.3516845703125, 248.90081787109375, 221.17648315429688, 197.5802459716797, 203.84130859375, 173.07943725585938, 162.2796630859375, 156.26388549804688, 135.39125061035156, 211.30313110351562, 124.05335235595703, 121.41026306152344, 110.0536117553711, 105.66671752929688, 102.58425903320312, 88.31954956054688, 72.2696304321289, 61.94737243652344, 60.8931770324707, 67.01522827148438, 61.61399841308594, 52.822811126708984, 51.51842498779297, 50.56781768798828, 48.88792037963867, 47.63662338256836, 46.727237701416016, 46.57637405395508, 46.256935119628906, 44.66465759277344, 56.22442626953125, 44.212181091308594, 43.714107513427734, 43.505859375, 43.01438522338867, 176.8974609375, 76.39556121826172, 456.6879577636719, 64.70348358154297, 115.54866790771484, 108.36592102050781, 141.07830810546875, 415.3814392089844, 232.97344970703125, 63.524906158447266, 62.00118637084961, 121.63909149169922, 174.30850219726562, 117.77941131591797, 158.77786254882812, 91.91411590576172, 84.06681823730469, 98.56866455078125, 88.57258605957031, 73.56764221191406, 138.18881225585938, 77.70230865478516, 72.883056640625, 56.00206756591797, 52.1490478515625, 47.420711517333984, 40.80119705200195, 40.2272834777832, 37.061973571777344, 34.72605514526367, 31.408859252929688, 30.477041244506836, 30.078096389770508, 29.092119216918945, 28.106840133666992, 28.055458068847656, 90.50759887695312, 26.976362228393555, 22.690710067749023, 21.978851318359375, 21.88665008544922, 21.913103103637695, 21.500017166137695, 20.48630714416504, 19.62099266052246, 18.506383895874023, 17.85038185119629, 17.743083953857422, 17.608800888061523, 16.183961868286133, 172.33262634277344, 39.54265213012695, 47.358829498291016, 30.511356353759766, 19.63150405883789, 22.783998489379883, 101.8958969116211, 66.38420104980469, 63.29731750488281, 58.98640823364258, 54.72881317138672, 54.27565002441406, 48.31083297729492, 47.294010162353516, 46.79464340209961, 41.43455505371094, 32.10295867919922, 29.848752975463867, 29.595029830932617, 28.205814361572266, 27.296520233154297, 26.449304580688477, 26.419795989990234, 26.230934143066406, 22.947265625, 21.28648567199707, 20.24730682373047, 19.578861236572266, 19.080930709838867, 17.98466682434082, 17.31232261657715, 17.06884765625, 15.681066513061523, 15.320085525512695, 15.176980018615723, 15.04096508026123, 68.99908447265625, 37.40343475341797, 16.047340393066406, 73.21359252929688, 63.99564743041992, 55.11341094970703, 40.024906158447266, 38.10407638549805, 36.645748138427734, 35.86497497558594, 35.41379165649414, 35.02897262573242, 34.411441802978516, 33.634944915771484, 28.09531593322754, 26.368806838989258, 26.285242080688477, 26.57151985168457, 24.211162567138672, 77.26055908203125, 23.115013122558594, 22.63213539123535, 22.259740829467773, 20.86836051940918, 20.602020263671875, 19.356266021728516, 19.18402671813965, 18.96729278564453, 17.525634765625, 16.890544891357422, 16.417627334594727, 16.0009708404541, 15.134925842285156, 46.1946907043457, 35.85923385620117, 36.261905670166016, 31.9727840423584, 28.67281723022461, 26.66027069091797, 24.524290084838867, 23.25192642211914, 23.067174911499023, 23.025264739990234, 22.7854061126709, 22.519062042236328, 22.15672492980957, 20.257213592529297, 20.043630599975586, 19.54338264465332, 20.62125587463379, 19.239885330200195, 18.59905433654785, 18.5960636138916, 18.425167083740234, 17.206430435180664, 15.521320343017578, 15.168578147888184, 15.07672119140625, 14.312519073486328, 13.964756965637207, 13.922689437866211, 13.503399848937988, 13.350274085998535, 13.31005573272705, 29.886638641357422, 48.73998260498047, 46.23225784301758, 43.362789154052734, 37.605594635009766, 36.81256103515625, 33.63444519042969, 30.998699188232422, 28.719995498657227, 26.406269073486328, 19.058612823486328, 16.38206672668457, 16.331823348999023, 15.736583709716797, 13.224352836608887, 13.160970687866211, 12.853235244750977, 12.699450492858887, 12.402693748474121, 11.734407424926758, 11.653148651123047, 11.32962703704834, 11.209848403930664, 10.976032257080078, 10.886880874633789, 10.595398902893066, 10.565561294555664, 10.200434684753418, 10.03711223602295, 9.897703170776367, 9.88996410369873, 17.229482650756836, 10.332574844360352, 19.498523712158203, 14.512269020080566, 11.242403984069824, 8.777036666870117, 6.13008451461792, 5.855323314666748, 5.710529327392578, 5.584547996520996, 5.575726509094238, 5.240418910980225, 4.800577640533447, 4.62666130065918, 4.529962539672852, 4.279257297515869, 3.565587282180786, 2.3469862937927246, 2.318711280822754, 2.1583404541015625, 1.905028223991394, 1.5763355493545532, 1.3666439056396484, 1.2631083726882935, 1.2354881763458252, 0.9902088046073914, 0.979321300983429, 0.9571539163589478, 0.9559187293052673, 0.790742039680481, 0.7769575715065002, 0.7753099799156189, 16.808923721313477, 14.52513313293457, 11.647896766662598, 11.590314865112305, 9.065932273864746, 6.1151957511901855, 6.023517608642578, 5.947261810302734, 5.5122880935668945, 5.2499847412109375, 5.144539833068848, 4.508124351501465, 3.0787880420684814, 2.976109504699707, 2.8890559673309326, 2.4806008338928223, 1.990583062171936, 1.3351128101348877, 1.159957766532898, 1.1092525720596313, 0.9599423408508301, 0.767368733882904, 0.29192617535591125, 0.26901060342788696, 0.2539781332015991, 0.1821511685848236, 0.18113958835601807, 0.10228331387042999, 0.10228254646062851, 0.10228253901004791, 0.9483433961868286, 0.8954641222953796, 0.681765615940094, 0.6221764087677002, 0.3278205394744873, 0.17959265410900116, 0.015585941262543201, 0.012515544891357422, 0.012515544891357422, 0.012515544891357422, 0.012515544891357422, 0.012515544891357422, 0.012515544891357422, 0.012515544891357422, 0.012515544891357422, 0.012515544891357422, 0.012515544891357422, 0.012515544891357422, 0.012515544891357422, 0.012515544891357422, 0.012515544891357422, 0.012515544891357422, 0.01269205566495657, 0.011342455632984638, 0.011846689507365227, 0.011846689507365227, 0.011846689507365227, 0.011846689507365227, 0.011846689507365227, 0.011846689507365227, 0.011846689507365227], \"Term\": [\"food\", \"order\", \"table\", \"small\", \"good\", \"recommend\", \"great\", \"wine\", \"would\", \"quick\", \"take\", \"service\", \"dish\", \"place\", \"selection\", \"say\", \"arrive\", \"many\", \"leave\", \"big\", \"ask\", \"portion\", \"wait\", \"fantastic\", \"birthday\", \"finish\", \"group\", \"enough\", \"little\", \"minute\", \"food\", \"good\", \"great\", \"service\", \"place\", \"really\", \"eat\", \"visit\", \"friend\", \"friendly\", \"busy\", \"tasty\", \"love\", \"nice\", \"also\", \"price\", \"wahaca\", \"excellent\", \"always\", \"lovely\", \"find\", \"lunch\", \"fresh\", \"atmosphere\", \"serve\", \"quite\", \"share\", \"enjoy\", \"delicious\", \"bit\", \"meal\", \"restaurant\", \"go\", \"try\", \"staff\", \"menu\", \"dish\", \"make\", \"get\", \"time\", \"drink\", \"come\", \"say\", \"leave\", \"ask\", \"minute\", \"take\", \"tell\", \"need\", \"sit\", \"quickly\", \"seem\", \"quot\", \"server\", \"call\", \"customer\", \"bad\", \"right\", \"problem\", \"style\", \"rush\", \"decent\", \"rude\", \"put\", \"best\", \"child\", \"average\", \"hour\", \"member\", \"old\", \"extremely\", \"manager\", \"arrive\", \"walk\", \"order\", \"long\", \"waitress\", \"pay\", \"think\", \"table\", \"would\", \"explain\", \"first\", \"want\", \"wait\", \"experience\", \"come\", \"people\", \"waiter\", \"time\", \"drink\", \"even\", \"recommend\", \"portion\", \"finish\", \"large\", \"like\", \"maybe\", \"less\", \"ok\", \"location\", \"part\", \"salt\", \"bite\", \"enjoyable\", \"particularly\", \"ingredient\", \"week\", \"selection\", \"relaxed\", \"cafe\", \"hear\", \"black\", \"hungry\", \"finally\", \"expectation\", \"weekend\", \"potato\", \"corner\", \"opt\", \"generous\", \"dip\", \"small\", \"authentic\", \"wine\", \"little\", \"breakfast\", \"dish\", \"quick\", \"group\", \"beer\", \"especially\", \"money\", \"fun\", \"mean\", \"pub\", \"would_recommend\", \"branch\", \"deal\", \"empty\", \"level\", \"clean\", \"pm\", \"mind\", \"polite\", \"kind\", \"unfortunately\", \"suggestion\", \"yet\", \"trip\", \"do\", \"casual\", \"cool\", \"star\", \"kitchen\", \"though\", \"game\", \"vibe\", \"fantastic\", \"close\", \"local\", \"big\", \"birthday\", \"french\", \"course\", \"amount\", \"meat\", \"daughter\", \"kid\", \"huge\", \"mix\", \"cheap\", \"pop\", \"wish\", \"whole\", \"surprise\", \"fact\", \"many\", \"completely\", \"music\", \"various\", \"regular\", \"unique\", \"traditional\", \"dining\", \"nicely\", \"perfectly\", \"suggest\", \"varied\", \"boyfriend\", \"write\", \"enough\", \"grill\", \"short\", \"tapa\", \"bean\", \"stop\", \"cod\", \"cuisine\", \"highly_recommend\", \"live\", \"move\", \"hard\", \"slow\", \"space\", \"issue\", \"onion\", \"roast\", \"honest\", \"sharing\", \"incredibly\", \"twice\", \"consider\", \"chance\", \"freshly\", \"become\", \"buy\", \"pre\", \"pass\", \"portuguese\", \"version\", \"lady\", \"prepare\", \"set\", \"include\", \"free\", \"pretty\", \"bread\", \"several\", \"slightly\", \"venue\", \"half\", \"often\", \"limited\", \"charge\", \"modern\", \"relax\", \"floor\", \"cut\", \"break\", \"seating\", \"replace\", \"promptly\", \"literally\", \"suit\", \"superb\", \"case\", \"elsewhere\", \"central\", \"bresse\", \"extensive\", \"bowl\", \"breast\", \"reasonable\", \"standard\", \"value\", \"tequila\", \"ambience\", \"favorite\", \"wash\", \"prompt\", \"piece\", \"sausage\", \"dine\", \"design\", \"would_highly\", \"cream\", \"interior\", \"heavy\", \"bunch\", \"cooked\", \"mint\", \"biodynamic\", \"carry\", \"enthusiastic\", \"bargain\", \"knowledgable\", \"charing_cross\", \"post\", \"concentrate\", \"mediocre\", \"mash\", \"melon\", \"vintage\", \"careful\", \"one\", \"worth\", \"lively\", \"highly_recommende\", \"rice\", \"toilet\", \"house\", \"happen\", \"professional\", \"conversation\", \"anyway\", \"keen\", \"offering\", \"highly\", \"good_value\", \"hotel\", \"frequently\", \"ample\", \"revisit\", \"elegant\", \"fashion\", \"divine\", \"soooo\", \"beg\", \"tidy\", \"royal\", \"depth\", \"luxury\", \"lobby\", \"assorted\", \"behaviour\", \"aware\", \"firstly\", \"description\", \"posh\", \"baby\", \"bully\", \"insulting\", \"shocked\", \"protect\", \"criminal\", \"gender\", \"gang\", \"tche\", \"appalling\", \"aggressive\", \"sudden\", \"discrimination\", \"theft\", \"traumatise\", \"thief\", \"verbally\", \"claustrophobic\", \"military\", \"manic\", \"perversely\", \"latino\", \"adequately\", \"speaker\", \"shrimp\", \"tempo\"], \"Total\": [1329.0, 501.0, 515.0, 182.0, 841.0, 139.0, 667.0, 223.0, 306.0, 102.0, 212.0, 507.0, 345.0, 473.0, 92.0, 173.0, 183.0, 79.0, 162.0, 73.0, 156.0, 78.0, 348.0, 74.0, 64.0, 73.0, 67.0, 78.0, 120.0, 136.0, 1329.6556396484375, 841.0245971679688, 667.2009887695312, 507.47991943359375, 473.0252380371094, 297.8359069824219, 296.0759582519531, 269.0467834472656, 254.3494110107422, 244.24827575683594, 228.57781982421875, 223.14283752441406, 217.565185546875, 276.4884338378906, 209.98391723632812, 196.67459106445312, 188.73207092285156, 184.8058319091797, 176.27503967285156, 174.91925048828125, 177.5155487060547, 173.21044921875, 170.5469970703125, 169.52891540527344, 169.19847106933594, 179.90283203125, 167.2196044921875, 164.0067138671875, 161.06942749023438, 148.4600830078125, 251.34312438964844, 483.0336608886719, 567.1248168945312, 288.34100341796875, 459.4194030761719, 333.4134216308594, 345.8984375, 246.0806427001953, 297.8363037109375, 320.3210144042969, 286.72869873046875, 363.19500732421875, 173.76116943359375, 162.9630126953125, 156.94578552246094, 136.07301330566406, 212.41233825683594, 124.73506927490234, 122.09215545654297, 110.73592376708984, 106.34854125976562, 103.26599884033203, 89.00138854980469, 72.95142364501953, 62.636695861816406, 61.57487869262695, 67.7687759399414, 62.32368469238281, 53.504539489746094, 52.20027160644531, 51.24958038330078, 49.569705963134766, 48.31834030151367, 47.40895462036133, 47.25814437866211, 46.9387092590332, 45.34642028808594, 57.08470153808594, 44.893943786621094, 44.39591598510742, 44.187591552734375, 43.69607162475586, 183.94801330566406, 78.51634979248047, 501.9258728027344, 66.72052001953125, 123.26009368896484, 116.68265533447266, 155.08079528808594, 515.9194946289062, 306.5901794433594, 67.81819152832031, 66.43438720703125, 194.2943115234375, 348.1578369140625, 197.41749572753906, 363.19500732421875, 163.13584899902344, 148.54225158691406, 320.3210144042969, 286.72869873046875, 146.3203125, 139.08995056152344, 78.39324188232422, 73.57402801513672, 56.693031311035156, 52.84002685546875, 48.12839126586914, 41.49217987060547, 40.91828918457031, 37.75289535522461, 35.417022705078125, 32.09996032714844, 31.168046951293945, 30.769065856933594, 29.783069610595703, 28.7978458404541, 28.74640655517578, 92.76883697509766, 27.667295455932617, 23.381635665893555, 22.669801712036133, 22.577747344970703, 22.608572006225586, 22.19099235534668, 21.177366256713867, 20.312091827392578, 19.197322845458984, 18.541414260864258, 18.434181213378906, 18.29976463317871, 16.87502098083496, 182.6446990966797, 42.559226989746094, 223.88262939453125, 120.78523254394531, 36.765480041503906, 345.8984375, 102.59217071533203, 67.08042907714844, 63.99351501464844, 59.68258285522461, 55.42498779296875, 54.971805572509766, 49.007080078125, 47.99027633666992, 47.490814208984375, 42.13080596923828, 32.82577896118164, 30.544950485229492, 30.291242599487305, 28.902008056640625, 27.992738723754883, 27.14560890197754, 27.115966796875, 26.927108764648438, 23.64344596862793, 21.98279571533203, 20.94363021850586, 20.275110244750977, 19.777095794677734, 18.680906295776367, 18.008529663085938, 17.76505470275879, 16.377180099487305, 16.016319274902344, 15.873092651367188, 15.737201690673828, 74.39128112792969, 48.788177490234375, 28.22162628173828, 73.91317749023438, 64.69518280029297, 55.81297302246094, 40.72440719604492, 38.80375289916992, 37.34525680541992, 36.564613342285156, 36.113372802734375, 35.728515625, 35.11101150512695, 34.42048263549805, 28.794889450073242, 27.06841278076172, 26.984764099121094, 27.30276107788086, 24.910795211791992, 79.52507781982422, 23.814722061157227, 23.33173942565918, 22.95938491821289, 21.56791877746582, 21.301546096801758, 20.055837631225586, 19.883573532104492, 19.666872024536133, 18.225204467773438, 17.590091705322266, 17.117345809936523, 16.70068359375, 15.834580421447754, 78.30319213867188, 36.55585861206055, 36.97300720214844, 32.6694450378418, 29.36958122253418, 27.356887817382812, 25.220945358276367, 23.94874382019043, 23.763765335083008, 23.721908569335938, 23.4820499420166, 23.215688705444336, 22.85329818725586, 20.953840255737305, 20.74021339416504, 20.23996925354004, 21.360321044921875, 19.936492919921875, 19.29572296142578, 19.292715072631836, 19.1218318939209, 17.903120040893555, 16.21796989440918, 15.865234375, 15.773331642150879, 15.009095191955566, 14.661462783813477, 14.619308471679688, 14.19990062713623, 14.046932220458984, 14.006707191467285, 33.17428207397461, 49.444122314453125, 46.93638229370117, 44.067039489746094, 38.309715270996094, 37.51662063598633, 34.33857727050781, 31.702877044677734, 29.424114227294922, 27.110397338867188, 19.762712478637695, 17.086185455322266, 17.035919189453125, 16.440753936767578, 13.928489685058594, 13.86508846282959, 13.557342529296875, 13.40355110168457, 13.106834411621094, 12.438511848449707, 12.357410430908203, 12.033757209777832, 11.914031982421875, 11.680126190185547, 11.59099006652832, 11.299722671508789, 11.269832611083984, 10.904895782470703, 10.741192817687988, 10.602189064025879, 10.594170570373535, 42.76566696166992, 26.952241897583008, 20.245851516723633, 15.259653091430664, 11.989755630493164, 9.52437686920166, 6.877357482910156, 6.602602958679199, 6.457830429077148, 6.331782341003418, 6.323033332824707, 5.987657070159912, 5.547821998596191, 5.374034881591797, 5.277227878570557, 5.026613235473633, 4.313350677490234, 3.0943503379821777, 3.066066265106201, 2.9058849811553955, 2.6524477005004883, 2.3235726356506348, 2.1138546466827393, 2.0103373527526855, 1.9828044176101685, 1.737513542175293, 1.7265957593917847, 1.7043524980545044, 1.703221082687378, 1.5383198261260986, 1.5243810415267944, 1.5224783420562744, 17.55670166015625, 15.272736549377441, 12.39554214477539, 12.337976455688477, 9.813706398010254, 6.86297082901001, 6.771156311035156, 6.694944381713867, 6.259861469268799, 5.997640132904053, 5.892320156097412, 5.256536960601807, 3.8264153003692627, 3.723710298538208, 3.6366868019104004, 3.228229522705078, 2.738271713256836, 2.0831522941589355, 1.9077885150909424, 1.8568265438079834, 1.7075542211532593, 1.5149753093719482, 1.039455771446228, 1.016637921333313, 1.0015801191329956, 0.9296514987945557, 0.9286879301071167, 0.8499043583869934, 0.8499035835266113, 0.8499035835266113, 1.7302839756011963, 1.6776094436645508, 1.4637033939361572, 1.4042036533355713, 1.1098495721817017, 0.9614658951759338, 0.8914082050323486, 0.8340494632720947, 0.8340494632720947, 0.8340494632720947, 0.8340494632720947, 0.8340494632720947, 0.8340494632720947, 0.8340494632720947, 0.8340494632720947, 0.8340494632720947, 0.8340494632720947, 0.8340494632720947, 0.8340494632720947, 0.8340494632720947, 0.8340494632720947, 0.8340494632720947, 0.8869414925575256, 0.8110368251800537, 0.852258563041687, 0.852258563041687, 0.852258563041687, 0.852258563041687, 0.852258563041687, 0.852258563041687, 0.852258563041687], \"loglift\": [30.0, 29.0, 28.0, 27.0, 26.0, 25.0, 24.0, 23.0, 22.0, 21.0, 20.0, 19.0, 18.0, 17.0, 16.0, 15.0, 14.0, 13.0, 12.0, 11.0, 10.0, 9.0, 8.0, 7.0, 6.0, 5.0, 4.0, 3.0, 2.0, 1.0, 0.5983999967575073, 0.5981000065803528, 0.5978000164031982, 0.5975000262260437, 0.5974000096321106, 0.5965999960899353, 0.5965999960899353, 0.5963000059127808, 0.5961999893188477, 0.5960999727249146, 0.5958999991416931, 0.59579998254776, 0.5957000255584717, 0.5956000089645386, 0.5956000089645386, 0.5953999757766724, 0.5952000021934509, 0.5952000021934509, 0.5950000286102295, 0.5949000120162964, 0.5949000120162964, 0.5949000120162964, 0.5947999954223633, 0.5947999954223633, 0.5947999954223633, 0.5947999954223633, 0.5947999954223633, 0.5946999788284302, 0.5946000218391418, 0.5942000150680542, 0.593999981880188, 0.5722000002861023, 0.5558000206947327, 0.5742999911308289, 0.5436000227928162, 0.5562999844551086, 0.5289000272750854, 0.5152999758720398, 0.41940000653266907, 0.22849999368190765, 0.226500004529953, 0.021299999207258224, 1.514799952507019, 1.5145000219345093, 1.5144000053405762, 1.513700008392334, 1.5134999752044678, 1.5132999420166016, 1.513100028038025, 1.5125999450683594, 1.5123000144958496, 1.5120999813079834, 1.5111000537872314, 1.5094000101089478, 1.507699966430664, 1.507599949836731, 1.507599949836731, 1.5073000192642212, 1.5059000253677368, 1.5055999755859375, 1.5053999423980713, 1.5048999786376953, 1.5045000314712524, 1.5042999982833862, 1.5041999816894531, 1.50409996509552, 1.503600001335144, 1.503600001335144, 1.5033999681472778, 1.5032999515533447, 1.5032000541687012, 1.503000020980835, 1.479699969291687, 1.4914000034332275, 1.424299955368042, 1.4881000518798828, 1.4541000127792358, 1.4448000192642212, 1.4241000413894653, 1.3020000457763672, 1.2441999912261963, 1.4534000158309937, 1.4496999979019165, 1.0504000186920166, 0.8269000053405762, 1.0022000074386597, 0.6912999749183655, 0.9449999928474426, 0.9495000243186951, 0.3402000069618225, 0.3440000116825104, 0.8312000036239624, 2.7971999645233154, 2.7948999404907227, 2.794300079345703, 2.7915000915527344, 2.790600061416626, 2.7888998985290527, 2.786900043487549, 2.7867000102996826, 2.7853000164031982, 2.7839999198913574, 2.7820000648498535, 2.7813000679016113, 2.7809998989105225, 2.7802999019622803, 2.779400110244751, 2.779400110244751, 2.7790000438690186, 2.77839994430542, 2.773699998855591, 2.7727999687194824, 2.772599935531616, 2.7725000381469727, 2.7720999717712402, 2.7706000804901123, 2.7690999507904053, 2.7671000957489014, 2.765700101852417, 2.765500068664551, 2.765199899673462, 2.761899948120117, 2.7455999851226807, 2.7302000522613525, 1.2503999471664429, 1.4278000593185425, 2.176300048828125, 0.0835999995470047, 3.039099931716919, 3.0355000495910645, 3.0350000858306885, 3.0341999530792236, 3.0332999229431152, 3.0332000255584717, 3.031599998474121, 3.0313000679016113, 3.0311999320983887, 3.0292999744415283, 3.023699998855591, 3.022900104522705, 3.022700071334839, 3.0215001106262207, 3.020699977874756, 3.01990008354187, 3.01990008354187, 3.019700050354004, 3.0160000324249268, 3.013700008392334, 3.0120999813079834, 3.010999917984009, 3.0100998878479004, 3.0078999996185303, 3.006500005722046, 3.00600004196167, 3.002500057220459, 3.001499891281128, 3.0011000633239746, 3.000699996948242, 2.9707000255584717, 2.7802000045776367, 2.4814000129699707, 3.1558001041412354, 3.154400110244751, 3.1526999473571777, 3.1480000019073486, 3.1470999717712402, 3.146399974822998, 3.1459999084472656, 3.1458001136779785, 3.1454999446868896, 3.14520001411438, 3.142199993133545, 3.140700101852417, 3.1391000747680664, 3.1391000747680664, 3.138200044631958, 3.1368000507354736, 3.136399984359741, 3.135499954223633, 3.1349000930786133, 3.134399890899658, 3.1322999000549316, 3.1319000720977783, 3.1298000812530518, 3.129499912261963, 3.1291000843048096, 3.126199960708618, 3.1247000694274902, 3.1236000061035156, 3.122499942779541, 3.1201000213623047, 2.6375999450683594, 3.371299982070923, 3.3710999488830566, 3.36899995803833, 3.366499900817871, 3.3647000789642334, 3.362499952316284, 3.3610000610351562, 3.36080002784729, 3.3606998920440674, 3.3603999614715576, 3.359999895095825, 3.359600067138672, 3.3566999435424805, 3.356300115585327, 3.3554999828338623, 3.355299949645996, 3.3548998832702637, 3.3536999225616455, 3.3536999225616455, 3.3533999919891357, 3.350800037384033, 3.34660005569458, 3.345599889755249, 3.3452999591827393, 3.3429999351501465, 3.3417999744415283, 3.3417000770568848, 3.3401999473571777, 3.339600086212158, 3.3394999504089355, 3.286099910736084, 3.4061999320983887, 3.405400037765503, 3.4045000076293945, 3.4019999504089355, 3.401599884033203, 3.3998000621795654, 3.398099899291992, 3.3963000774383545, 3.394200086593628, 3.3842999935150146, 3.378499984741211, 3.3784000873565674, 3.376800060272217, 3.3687000274658203, 3.3684000968933105, 3.3671998977661133, 3.3666000366210938, 3.365299940109253, 3.362299919128418, 3.3619000911712646, 3.360300064086914, 3.359600067138672, 3.3584001064300537, 3.3578999042510986, 3.3561999797821045, 3.3559999465942383, 3.353800058364868, 3.352799892425537, 3.351799964904785, 3.351799964904785, 2.5114998817443848, 2.4618000984191895, 4.926499843597412, 4.913899898529053, 4.899700164794922, 4.882400035858154, 4.848999977111816, 4.843999862670898, 4.841100215911865, 4.838500022888184, 4.8383002281188965, 4.8308000564575195, 4.819399833679199, 4.814300060272217, 4.811399936676025, 4.803100109100342, 4.77370023727417, 4.687600135803223, 4.684700012207031, 4.6666998863220215, 4.6331000328063965, 4.576099872589111, 4.527900218963623, 4.499300003051758, 4.491000175476074, 4.401800155639648, 4.396999835968018, 4.3871002197265625, 4.386499881744385, 4.298600196838379, 4.29010009765625, 4.2891998291015625, 4.952099800109863, 4.945499897003174, 4.933499813079834, 4.933199882507324, 4.916399955749512, 4.880300045013428, 4.878699779510498, 4.877200126647949, 4.868500232696533, 4.862500190734863, 4.860000133514404, 4.842100143432617, 4.778299808502197, 4.771599769592285, 4.765500068664551, 4.7322001457214355, 4.676799774169922, 4.55079984664917, 4.4980998039245605, 4.480500221252441, 4.4197001457214355, 4.315499782562256, 3.7256999015808105, 3.6661999225616455, 3.6236000061035156, 3.3657000064849854, 3.3612000942230225, 2.8782999515533447, 2.8782999515533447, 2.8782999515533447, 6.201600074768066, 6.17519998550415, 6.038899898529053, 5.988999843597412, 5.583499908447266, 5.125199794769287, 2.756500005722046, 2.603600025177002, 2.603600025177002, 2.603600025177002, 2.603600025177002, 2.603600025177002, 2.603600025177002, 2.603600025177002, 2.603600025177002, 2.603600025177002, 2.603600025177002, 2.603600025177002, 2.603600025177002, 2.603600025177002, 2.603600025177002, 2.603600025177002, 2.5562000274658203, 2.5332000255584717, 2.527100086212158, 2.527100086212158, 2.527100086212158, 2.527100086212158, 2.527100086212158, 2.527100086212158, 2.527100086212158], \"logprob\": [30.0, 29.0, 28.0, 27.0, 26.0, 25.0, 24.0, 23.0, 22.0, 21.0, 20.0, 19.0, 18.0, 17.0, 16.0, 15.0, 14.0, 13.0, 12.0, 11.0, 10.0, 9.0, 8.0, 7.0, 6.0, 5.0, 4.0, 3.0, 2.0, 1.0, -3.0560998916625977, -3.514400005340576, -3.7460999488830566, -4.020100116729736, -4.0904998779296875, -4.553999900817871, -4.559899806976318, -4.655900001525879, -4.712200164794922, -4.752799987792969, -4.819300174713135, -4.843500137329102, -4.868899822235107, -4.62939977645874, -4.9045000076293945, -4.970200061798096, -5.011499881744385, -5.032599925994873, -5.080100059509277, -5.087800025939941, -5.0731000900268555, -5.097700119018555, -5.1132001876831055, -5.119200229644775, -5.121200084686279, -5.059899806976318, -5.132999897003174, -5.152500152587891, -5.170599937438965, -5.252500057220459, -4.72629976272583, -4.094799995422363, -3.950700044631958, -4.60860013961792, -4.173600196838379, -4.481400012969971, -4.4720001220703125, -4.826099872589111, -4.731200218200684, -4.8491997718811035, -4.962100028991699, -4.9309000968933105, -4.174600124359131, -4.238999843597412, -4.276800155639648, -4.420199871063232, -3.9749999046325684, -4.507599830627441, -4.529200077056885, -4.627399921417236, -4.668000221252441, -4.6975998878479, -4.847400188446045, -5.047900199890137, -5.202000141143799, -5.219200134277344, -5.1234002113342285, -5.207399845123291, -5.361400127410889, -5.38640022277832, -5.40500020980835, -5.438799858093262, -5.464700222015381, -5.484000205993652, -5.487199783325195, -5.494100093841553, -5.529200077056885, -5.298999786376953, -5.539299964904785, -5.5507001876831055, -5.5553998947143555, -5.566800117492676, -4.1528000831604, -4.992400169372559, -3.2042999267578125, -5.1585001945495605, -4.57859992980957, -4.6427998542785645, -4.379000186920166, -3.299099922180176, -3.8773999214172363, -5.1768999099731445, -5.201200008392334, -4.527299880981445, -4.167500019073486, -4.559500217437744, -4.260799884796143, -4.807499885559082, -4.896699905395508, -4.737599849700928, -4.8445000648498535, -5.030099868774414, -3.1147000789642334, -3.690500020980835, -3.754499912261963, -4.01800012588501, -4.089200019836426, -4.184299945831299, -4.33459997177124, -4.348800182342529, -4.430799961090088, -4.4959001541137695, -4.59630012512207, -4.626399993896484, -4.639599800109863, -4.672900199890137, -4.707300186157227, -4.709199905395508, -3.537899971008301, -4.7484002113342285, -4.92140007019043, -4.9532999992370605, -4.957499980926514, -4.956299781799316, -4.975299835205078, -5.023600101470947, -5.066800117492676, -5.125199794769287, -5.161300182342529, -5.167399883270264, -5.175000190734863, -5.259300231933594, -2.893899917602539, -4.366000175476074, -4.1855998039245605, -4.62529993057251, -5.066199779510498, -4.917300224304199, -3.1772000789642334, -3.6057000160217285, -3.6533000469207764, -3.72379994392395, -3.798799991607666, -3.8071000576019287, -3.9235000610351562, -3.9447999000549316, -3.955399990081787, -4.077000141143799, -4.332200050354004, -4.40500020980835, -4.41349983215332, -4.461599826812744, -4.4944000244140625, -4.525899887084961, -4.5269999504089355, -4.534200191497803, -4.668000221252441, -4.743100166320801, -4.793099880218506, -4.826700210571289, -4.852499961853027, -4.911600112915039, -4.949699878692627, -4.963900089263916, -5.048699855804443, -5.072000026702881, -5.081399917602539, -5.090400218963623, -3.5671000480651855, -4.1793999671936035, -5.025599956512451, -3.388400077819824, -3.5230000019073486, -3.6723999977111816, -3.992300033569336, -4.041399955749512, -4.08050012588501, -4.1020002365112305, -4.114699840545654, -4.1255998611450195, -4.143400192260742, -4.166200160980225, -4.346199989318848, -4.409599781036377, -4.412799835205078, -4.401899814605713, -4.494999885559082, -3.3345999717712402, -4.541299819946289, -4.562399864196777, -4.578999996185303, -4.643499851226807, -4.656400203704834, -4.718800067901611, -4.727700233459473, -4.739099979400635, -4.8180999755859375, -4.855000019073486, -4.883399963378906, -4.90910005569458, -4.964799880981445, -3.848900079727173, -3.877000093460083, -3.865799903869629, -3.9916999340057373, -4.100599765777588, -4.173399925231934, -4.256899833679199, -4.310200214385986, -4.31820011138916, -4.320000171661377, -4.33050012588501, -4.342199802398682, -4.358399868011475, -4.4481000900268555, -4.458700180053711, -4.48390007019043, -4.430300235748291, -4.499599933624268, -4.5335001945495605, -4.533599853515625, -4.542900085449219, -4.611299991607666, -4.714399814605713, -4.737400054931641, -4.7434000968933105, -4.795400142669678, -4.820000171661377, -4.8231000900268555, -4.853600025177002, -4.864999771118164, -4.868100166320801, -4.059199810028076, -3.5399999618530273, -3.5927999019622803, -3.656899929046631, -3.7994000911712646, -3.82069993019104, -3.9110000133514404, -3.9925999641418457, -4.068900108337402, -4.152900218963623, -4.479000091552734, -4.630300045013428, -4.633399963378906, -4.670499801635742, -4.8445000648498535, -4.849299907684326, -4.872900009155273, -4.885000228881836, -4.908599853515625, -4.964000225067139, -4.970900058746338, -4.999100208282471, -5.009699821472168, -5.030799865722656, -5.039000034332275, -5.066100120544434, -5.068900108337402, -5.104100227355957, -5.120200157165527, -5.134200096130371, -5.135000228881836, -4.579899787902832, -5.09119987487793, -2.9126999378204346, -3.2079999446868896, -3.4632999897003174, -3.710900068283081, -4.069799900054932, -4.115699768066406, -4.140699863433838, -4.163000106811523, -4.164599895477295, -4.226600170135498, -4.314300060272217, -4.351200103759766, -4.372300148010254, -4.429200172424316, -4.611700057983398, -5.029900074005127, -5.041999816894531, -5.113699913024902, -5.238500118255615, -5.4278998374938965, -5.570700168609619, -5.649400234222412, -5.671500205993652, -5.892899990081787, -5.903900146484375, -5.926799774169922, -5.928100109100342, -6.117800235748291, -6.13539981842041, -6.137499809265137, -3.0295000076293945, -3.17549991607666, -3.3963000774383545, -3.40120005607605, -3.646899938583374, -4.040599822998047, -4.055699825286865, -4.06850004196167, -4.144400119781494, -4.19320011138916, -4.213500022888184, -4.3454999923706055, -4.726900100708008, -4.760799884796143, -4.790500164031982, -4.94290018081665, -5.163000106811523, -5.562399864196777, -5.703000068664551, -5.747700214385986, -5.892300128936768, -6.116199970245361, -7.082699775695801, -7.164400100708008, -7.22189998626709, -7.554299831390381, -7.559899806976318, -8.131400108337402, -8.131400108337402, -8.131400108337402, -4.0971999168396, -4.1545000076293945, -4.427199840545654, -4.518599987030029, -5.15939998626709, -5.761199951171875, -8.205499649047852, -8.42490005493164, -8.42490005493164, -8.42490005493164, -8.42490005493164, -8.42490005493164, -8.42490005493164, -8.42490005493164, -8.42490005493164, -8.42490005493164, -8.42490005493164, -8.42490005493164, -8.42490005493164, -8.42490005493164, -8.42490005493164, -8.42490005493164, -8.410900115966797, -8.523300170898438, -8.4798002243042, -8.4798002243042, -8.4798002243042, -8.4798002243042, -8.4798002243042, -8.4798002243042, -8.4798002243042]}, \"token.table\": {\"Topic\": [1, 1, 8, 5, 9, 9, 1, 2, 2, 1, 3, 6, 2, 10, 2, 8, 6, 6, 4, 10, 2, 5, 8, 5, 1, 3, 3, 7, 5, 4, 7, 7, 1, 3, 7, 7, 8, 1, 6, 3, 2, 8, 8, 7, 4, 7, 6, 7, 8, 5, 2, 4, 3, 4, 6, 1, 2, 5, 8, 6, 9, 8, 4, 3, 5, 8, 6, 2, 7, 5, 4, 2, 1, 10, 8, 8, 5, 3, 1, 3, 9, 4, 1, 2, 1, 9, 7, 4, 1, 3, 2, 5, 8, 4, 1, 2, 1, 3, 1, 2, 1, 2, 7, 2, 5, 4, 6, 9, 8, 3, 1, 3, 1, 2, 10, 7, 1, 7, 5, 9, 1, 6, 1, 1, 4, 4, 3, 1, 2, 1, 2, 1, 9, 1, 6, 4, 7, 9, 6, 3, 8, 9, 6, 9, 6, 9, 2, 9, 5, 3, 7, 6, 3, 8, 6, 9, 5, 4, 4, 8, 6, 3, 2, 3, 4, 3, 7, 7, 1, 3, 6, 9, 1, 3, 4, 3, 2, 3, 1, 1, 1, 1, 2, 2, 5, 6, 8, 3, 1, 2, 4, 5, 8, 8, 2, 1, 2, 4, 8, 2, 5, 7, 4, 6, 5, 2, 1, 5, 9, 7, 3, 2, 9, 6, 3, 1, 2, 3, 3, 6, 1, 2, 1, 2, 5, 8, 1, 4, 4, 5, 3, 6, 8, 3, 6, 2, 6, 7, 1, 2, 9, 8, 7, 4, 2, 4, 2, 1, 2, 1, 2, 7, 3, 5, 7, 3, 7, 1, 2, 9, 9, 2, 6, 2, 2, 3, 8, 2, 7, 2, 2, 3, 1, 2, 1, 7, 7, 1, 6, 6, 2, 7, 6, 2, 3, 7, 6, 1, 2, 3, 7, 4, 6, 2, 5, 4, 7, 7, 5, 1, 2, 4, 1, 2, 6, 1, 2, 8, 2, 3, 4, 1, 2, 9, 5, 4, 1, 2, 6, 4, 5, 8, 5, 5, 7, 6, 4, 8, 1, 1, 1, 2, 1, 2, 1, 2, 2, 4, 1, 2, 8, 3, 3, 5, 1, 3, 5, 9, 1, 2, 8, 4, 5, 4], \"Freq\": [0.9953143000602722, 0.9984397292137146, 0.9174498915672302, 0.9792867302894592, 0.4800417125225067, 0.8485621809959412, 0.03261791169643402, 0.9622283577919006, 0.9939737915992737, 0.9968801140785217, 0.9398667216300964, 0.04699333384633064, 0.9923605918884277, 0.596086323261261, 0.9886559247970581, 0.473069429397583, 0.9874162077903748, 0.9509721994400024, 0.984474778175354, 0.5779398083686829, 0.9945375919342041, 0.9876452684402466, 0.6882584691047668, 0.9892544746398926, 0.9969009757041931, 0.9625242352485657, 0.9744107723236084, 0.9432014226913452, 0.9580445885658264, 0.9731596112251282, 0.9862295389175415, 0.9698922038078308, 0.462390273809433, 0.5439885258674622, 0.9439153075218201, 0.9170193076133728, 0.9273533225059509, 0.9974721074104309, 0.9327677488327026, 0.9836779832839966, 0.9898350834846497, 0.6568238139152527, 0.7540205121040344, 0.9490129947662354, 0.9635506868362427, 0.9760571122169495, 0.9865599870681763, 0.9391920566558838, 0.5043361783027649, 0.9877839684486389, 0.9800013899803162, 0.9687908291816711, 0.22546446323394775, 0.7583804726600647, 0.991239607334137, 0.5616817474365234, 0.43778133392333984, 0.9657891392707825, 0.5791743397712708, 0.9495551586151123, 0.8336611986160278, 0.6463392376899719, 0.9439970850944519, 0.9707997441291809, 0.9822119474411011, 0.9303995966911316, 0.9603844285011292, 0.9906637668609619, 0.9588899612426758, 0.9845584630966187, 0.9748435616493225, 0.9885069727897644, 0.9933604598045349, 0.7121474146842957, 0.8350511789321899, 0.9489116668701172, 0.9555626511573792, 0.9481469988822937, 0.9338001012802124, 0.06649350374937057, 0.6600767374038696, 0.9607073068618774, 0.6905482411384583, 0.3103979527950287, 0.9963659644126892, 0.5385532379150391, 0.9734752178192139, 0.9821590781211853, 0.993861734867096, 0.9750052094459534, 0.4086678922176361, 0.5874601006507874, 0.8607434630393982, 0.9885631203651428, 0.49207112193107605, 0.5057397484779358, 0.9956395626068115, 0.9444044828414917, 0.40016716718673706, 0.5977180600166321, 0.05898122489452362, 0.9436995983123779, 0.9309952855110168, 0.9957546591758728, 0.9634377360343933, 0.9275280237197876, 0.06721217930316925, 0.5856329202651978, 0.9449437260627747, 0.9913932681083679, 0.9970957636833191, 0.9921979308128357, 0.06020978093147278, 0.9332516193389893, 0.6831985116004944, 0.937606692314148, 0.9995068907737732, 0.9757859706878662, 0.9854339957237244, 0.7303876876831055, 0.9967926740646362, 0.9454634785652161, 0.9986262321472168, 0.9989835023880005, 0.9823217391967773, 0.9449954032897949, 0.983619213104248, 0.8360297083854675, 0.1611623615026474, 0.9574611783027649, 0.0405554473400116, 0.9987817406654358, 0.8249266743659973, 0.9996987581253052, 0.9847942590713501, 0.9838935136795044, 0.9590416550636292, 0.8961986303329468, 0.9907093644142151, 0.9704540371894836, 0.7957644462585449, 0.8056480884552002, 0.9678601026535034, 0.9726068377494812, 0.9530261754989624, 0.6195346117019653, 0.9809983968734741, 0.8861115574836731, 0.9796096682548523, 0.9730822443962097, 0.9800499677658081, 0.9848276972770691, 0.9722949266433716, 0.9474671483039856, 0.9643102288246155, 0.9511966109275818, 0.969170093536377, 0.9655696749687195, 0.9769691824913025, 0.4974289536476135, 0.9281267523765564, 0.9877757430076599, 0.9940906167030334, 0.9881380200386047, 0.9903852343559265, 0.9841024279594421, 0.9364290237426758, 0.9140952229499817, 0.7451242208480835, 0.25665390491485596, 0.9695678353309631, 0.9680899977684021, 0.2126029133796692, 0.2126029133796692, 0.5669410824775696, 0.9800572991371155, 0.9742130041122437, 0.014987892471253872, 0.9974022507667542, 0.9947447180747986, 0.9987850189208984, 0.9183981418609619, 0.07721046358346939, 0.9840701818466187, 0.9682480096817017, 0.025149298831820488, 0.5871228575706482, 0.9765545725822449, 0.9946562051773071, 0.003978624939918518, 0.9794502854347229, 0.990755021572113, 0.5867331027984619, 0.6500598788261414, 0.9800876379013062, 0.9597694277763367, 0.03899063169956207, 0.957797646522522, 0.6523016095161438, 0.9921144247055054, 0.9683572053909302, 0.9731913805007935, 0.9923322200775146, 0.9794715642929077, 0.9857816100120544, 0.9910546541213989, 0.998233437538147, 0.9660916328430176, 0.784023642539978, 0.9614064693450928, 0.9775579571723938, 0.9910821318626404, 0.9682912230491638, 0.988143801689148, 0.9764469265937805, 0.08965467661619186, 0.910493016242981, 0.9882253408432007, 0.9737075567245483, 0.9576376080513, 0.06856203079223633, 0.9255874156951904, 0.4352200925350189, 0.5639471411705017, 0.9876432418823242, 0.9291046261787415, 0.9978325963020325, 0.9645358324050903, 0.9588446617126465, 0.9723947644233704, 0.9949837327003479, 0.9859223961830139, 0.5755350589752197, 0.9897213578224182, 0.9548842310905457, 0.09043149650096893, 0.9043149948120117, 0.9919154644012451, 0.9965699911117554, 0.9905701279640198, 0.9584876894950867, 0.908732533454895, 0.9710772633552551, 0.9793650507926941, 0.9913738965988159, 0.9942278861999512, 0.9967226386070251, 0.994981586933136, 0.9887486100196838, 0.9971933960914612, 0.5845810770988464, 0.3975151479244232, 0.9921637177467346, 0.9736683368682861, 0.9333388209342957, 0.9758814573287964, 0.9647456407546997, 0.9730170965194702, 0.024842988699674606, 0.5241671204566956, 0.9170846939086914, 0.9948064088821411, 0.9831312894821167, 0.9934116005897522, 0.9951301217079163, 0.9657332897186279, 0.9476004838943481, 0.9956194758415222, 0.9155528545379639, 0.9974241256713867, 0.021558964625000954, 0.9809328317642212, 0.9988269805908203, 0.9869581460952759, 0.9990543127059937, 0.9910176992416382, 0.9901400208473206, 0.9986867308616638, 0.9846741557121277, 0.9736832976341248, 0.9933542609214783, 0.9778292179107666, 0.9626619219779968, 0.03285066410899162, 0.941719114780426, 0.021900443360209465, 0.9544789791107178, 0.9468472599983215, 0.05223985016345978, 0.5936426520347595, 0.3710266351699829, 0.9569348692893982, 0.986954391002655, 0.9961634278297424, 0.9664531946182251, 0.9552925229072571, 0.9232810735702515, 0.9417706727981567, 0.988910973072052, 0.1918904036283493, 0.8043890595436096, 0.0019382869359105825, 0.0047078244388103485, 0.9933509826660156, 0.9795085191726685, 0.9948784708976746, 0.9941069483757019, 0.9829843640327454, 0.9092034697532654, 0.08382727205753326, 0.9365447759628296, 0.6899328827857971, 0.30906495451927185, 0.87425696849823, 0.9473550915718079, 0.9864311218261719, 0.9745405316352844, 0.020808694884181023, 0.9413323998451233, 0.9727854132652283, 0.9858439564704895, 0.9384638667106628, 0.9347243309020996, 0.9582138061523438, 0.9855861663818359, 0.9254689812660217, 0.9531554579734802, 0.6560039520263672, 0.9961093068122864, 0.9961211085319519, 0.4969010651111603, 0.4997733235359192, 0.43085384368896484, 0.5654956698417664, 0.05679048225283623, 0.9410994052886963, 0.967951238155365, 0.025472402572631836, 0.3705718517303467, 0.6279134154319763, 0.8724281191825867, 0.9740347862243652, 0.9846351742744446, 0.9635066390037537, 0.7861261963844299, 0.20993143320083618, 0.9605291485786438, 0.9821422696113586, 0.23810286819934845, 0.7599721550941467, 0.9012545943260193, 0.9896650910377502, 0.9472938179969788, 0.9549443125724792], \"Term\": [\"also\", \"always\", \"ambience\", \"amount\", \"ample\", \"anyway\", \"arrive\", \"arrive\", \"ask\", \"atmosphere\", \"authentic\", \"authentic\", \"average\", \"aware\", \"bad\", \"bargain\", \"bean\", \"become\", \"beer\", \"behaviour\", \"best\", \"big\", \"biodynamic\", \"birthday\", \"bit\", \"bite\", \"black\", \"bowl\", \"boyfriend\", \"branch\", \"bread\", \"break\", \"breakfast\", \"breakfast\", \"breast\", \"bresse\", \"bunch\", \"busy\", \"buy\", \"cafe\", \"call\", \"careful\", \"carry\", \"case\", \"casual\", \"central\", \"chance\", \"charge\", \"charing_cross\", \"cheap\", \"child\", \"clean\", \"close\", \"close\", \"cod\", \"come\", \"come\", \"completely\", \"concentrate\", \"consider\", \"conversation\", \"cooked\", \"cool\", \"corner\", \"course\", \"cream\", \"cuisine\", \"customer\", \"cut\", \"daughter\", \"deal\", \"decent\", \"delicious\", \"description\", \"design\", \"dine\", \"dining\", \"dip\", \"dish\", \"dish\", \"divine\", \"do\", \"drink\", \"drink\", \"eat\", \"elegant\", \"elsewhere\", \"empty\", \"enjoy\", \"enjoyable\", \"enough\", \"enough\", \"enthusiastic\", \"especially\", \"even\", \"even\", \"excellent\", \"expectation\", \"experience\", \"experience\", \"explain\", \"explain\", \"extensive\", \"extremely\", \"fact\", \"fantastic\", \"fantastic\", \"fashion\", \"favorite\", \"finally\", \"find\", \"finish\", \"first\", \"first\", \"firstly\", \"floor\", \"food\", \"free\", \"french\", \"frequently\", \"fresh\", \"freshly\", \"friend\", \"friendly\", \"fun\", \"game\", \"generous\", \"get\", \"get\", \"go\", \"go\", \"good\", \"good_value\", \"great\", \"grill\", \"group\", \"half\", \"happen\", \"hard\", \"hear\", \"heavy\", \"highly\", \"highly_recommend\", \"highly_recommende\", \"honest\", \"hotel\", \"hour\", \"house\", \"huge\", \"hungry\", \"include\", \"incredibly\", \"ingredient\", \"interior\", \"issue\", \"keen\", \"kid\", \"kind\", \"kitchen\", \"knowledgable\", \"lady\", \"large\", \"leave\", \"less\", \"level\", \"like\", \"limited\", \"literally\", \"little\", \"little\", \"live\", \"lively\", \"local\", \"local\", \"local\", \"location\", \"long\", \"long\", \"love\", \"lovely\", \"lunch\", \"make\", \"make\", \"manager\", \"many\", \"many\", \"mash\", \"maybe\", \"meal\", \"meal\", \"mean\", \"meat\", \"mediocre\", \"melon\", \"member\", \"menu\", \"menu\", \"mind\", \"mint\", \"minute\", \"mix\", \"modern\", \"money\", \"move\", \"music\", \"need\", \"nice\", \"nicely\", \"offering\", \"often\", \"ok\", \"old\", \"one\", \"onion\", \"opt\", \"order\", \"order\", \"part\", \"particularly\", \"pass\", \"pay\", \"pay\", \"people\", \"people\", \"perfectly\", \"piece\", \"place\", \"pm\", \"polite\", \"pop\", \"portion\", \"portuguese\", \"post\", \"potato\", \"pre\", \"prepare\", \"prepare\", \"pretty\", \"price\", \"problem\", \"professional\", \"prompt\", \"promptly\", \"pub\", \"put\", \"quick\", \"quickly\", \"quite\", \"quot\", \"really\", \"reasonable\", \"reasonable\", \"recommend\", \"regular\", \"relax\", \"relaxed\", \"replace\", \"restaurant\", \"restaurant\", \"revisit\", \"rice\", \"right\", \"roast\", \"rude\", \"rush\", \"salt\", \"sausage\", \"say\", \"seating\", \"seem\", \"selection\", \"selection\", \"serve\", \"server\", \"service\", \"set\", \"several\", \"share\", \"sharing\", \"short\", \"sit\", \"slightly\", \"slow\", \"small\", \"small\", \"small\", \"space\", \"staff\", \"staff\", \"standard\", \"standard\", \"star\", \"stop\", \"style\", \"suggest\", \"suggestion\", \"suit\", \"superb\", \"surprise\", \"table\", \"table\", \"table\", \"take\", \"take\", \"tapa\", \"tasty\", \"tell\", \"tequila\", \"think\", \"think\", \"though\", \"time\", \"time\", \"toilet\", \"traditional\", \"trip\", \"try\", \"try\", \"twice\", \"unfortunately\", \"unique\", \"value\", \"varied\", \"various\", \"venue\", \"version\", \"vibe\", \"vintage\", \"visit\", \"wahaca\", \"wait\", \"wait\", \"waiter\", \"waiter\", \"waitress\", \"waitress\", \"walk\", \"walk\", \"want\", \"want\", \"wash\", \"week\", \"weekend\", \"whole\", \"wine\", \"wine\", \"wish\", \"worth\", \"would\", \"would\", \"would_highly\", \"would_recommend\", \"write\", \"yet\"]}, \"R\": 30, \"lambda.step\": 0.01, \"plot.opts\": {\"xlab\": \"PC1\", \"ylab\": \"PC2\"}, \"topic.order\": [2, 7, 8, 5, 1, 10, 9, 6, 3, 4]};\n",
       "\n",
       "function LDAvis_load_lib(url, callback){\n",
       "  var s = document.createElement('script');\n",
       "  s.src = url;\n",
       "  s.async = true;\n",
       "  s.onreadystatechange = s.onload = callback;\n",
       "  s.onerror = function(){console.warn(\"failed to load library \" + url);};\n",
       "  document.getElementsByTagName(\"head\")[0].appendChild(s);\n",
       "}\n",
       "\n",
       "if(typeof(LDAvis) !== \"undefined\"){\n",
       "   // already loaded: just create the visualization\n",
       "   !function(LDAvis){\n",
       "       new LDAvis(\"#\" + \"ldavis_el757624331955176408089545967\", ldavis_el757624331955176408089545967_data);\n",
       "   }(LDAvis);\n",
       "}else if(typeof define === \"function\" && define.amd){\n",
       "   // require.js is available: use it to load d3/LDAvis\n",
       "   require.config({paths: {d3: \"https://cdnjs.cloudflare.com/ajax/libs/d3/3.5.5/d3.min\"}});\n",
       "   require([\"d3\"], function(d3){\n",
       "      window.d3 = d3;\n",
       "      LDAvis_load_lib(\"https://cdn.rawgit.com/bmabey/pyLDAvis/files/ldavis.v1.0.0.js\", function(){\n",
       "        new LDAvis(\"#\" + \"ldavis_el757624331955176408089545967\", ldavis_el757624331955176408089545967_data);\n",
       "      });\n",
       "    });\n",
       "}else{\n",
       "    // require.js not available: dynamically load d3 & LDAvis\n",
       "    LDAvis_load_lib(\"https://cdnjs.cloudflare.com/ajax/libs/d3/3.5.5/d3.min.js\", function(){\n",
       "         LDAvis_load_lib(\"https://cdn.rawgit.com/bmabey/pyLDAvis/files/ldavis.v1.0.0.js\", function(){\n",
       "                 new LDAvis(\"#\" + \"ldavis_el757624331955176408089545967\", ldavis_el757624331955176408089545967_data);\n",
       "            })\n",
       "         });\n",
       "}\n",
       "</script>"
      ],
      "text/plain": [
       "PreparedData(topic_coordinates=              x         y  topics  cluster       Freq\n",
       "topic                                                \n",
       "1     -0.368025  0.156230       1        1  54.942982\n",
       "6     -0.280049 -0.221326       2        1  21.898565\n",
       "7      0.045349  0.247652       3        1   6.058388\n",
       "4      0.089318 -0.004581       4        1   4.755196\n",
       "0      0.084613 -0.101154       5        1   4.220084\n",
       "9      0.099390 -0.022472       6        1   3.369166\n",
       "8      0.098005 -0.014286       7        1   3.269398\n",
       "5      0.081386 -0.014534       8        1   0.698446\n",
       "2      0.080446 -0.014301       9        1   0.676723\n",
       "3      0.069566 -0.011228      10        1   0.111048, topic_info=     Category         Freq        Term        Total  loglift  logprob\n",
       "53    Default  1329.000000        food  1329.000000  30.0000  30.0000\n",
       "271   Default   501.000000       order   501.000000  29.0000  29.0000\n",
       "136   Default   515.000000       table   515.000000  28.0000  28.0000\n",
       "134   Default   182.000000       small   182.000000  27.0000  27.0000\n",
       "54    Default   841.000000        good   841.000000  26.0000  26.0000\n",
       "...       ...          ...         ...          ...      ...      ...\n",
       "4728  Topic10     0.011847      latino     0.852259   2.5271  -8.4798\n",
       "4727  Topic10     0.011847  adequately     0.852259   2.5271  -8.4798\n",
       "4732  Topic10     0.011847     speaker     0.852259   2.5271  -8.4798\n",
       "4731  Topic10     0.011847      shrimp     0.852259   2.5271  -8.4798\n",
       "4733  Topic10     0.011847       tempo     0.852259   2.5271  -8.4798\n",
       "\n",
       "[376 rows x 6 columns], token_table=      Topic      Freq             Term\n",
       "term                                  \n",
       "33        1  0.995314             also\n",
       "66        1  0.998440           always\n",
       "1050      8  0.917450         ambience\n",
       "625       5  0.979287           amount\n",
       "3579      9  0.480042            ample\n",
       "...     ...       ...              ...\n",
       "142       2  0.759972            would\n",
       "160       8  0.901255     would_highly\n",
       "225       4  0.989665  would_recommend\n",
       "1104      5  0.947294            write\n",
       "170       4  0.954944              yet\n",
       "\n",
       "[354 rows x 3 columns], R=30, lambda_step=0.01, plot_opts={'xlab': 'PC1', 'ylab': 'PC2'}, topic_order=[2, 7, 8, 5, 1, 10, 9, 6, 3, 4])"
      ]
     },
     "execution_count": 22,
     "metadata": {},
     "output_type": "execute_result"
    }
   ],
   "source": [
    "#Visualize the topics\n",
    "pyLDAvis.enable_notebook()\n",
    "vis = pyLDAvis.gensim.prepare(lda_model, corpus, id2word)\n",
    "vis"
   ]
  },
  {
   "cell_type": "code",
   "execution_count": null,
   "metadata": {},
   "outputs": [],
   "source": []
  }
 ],
 "metadata": {
  "kernelspec": {
   "display_name": "Python 3",
   "language": "python",
   "name": "python3"
  },
  "language_info": {
   "codemirror_mode": {
    "name": "ipython",
    "version": 3
   },
   "file_extension": ".py",
   "mimetype": "text/x-python",
   "name": "python",
   "nbconvert_exporter": "python",
   "pygments_lexer": "ipython3",
   "version": "3.7.4"
  }
 },
 "nbformat": 4,
 "nbformat_minor": 4
}
